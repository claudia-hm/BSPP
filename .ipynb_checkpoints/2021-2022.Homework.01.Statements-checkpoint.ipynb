{
 "cells": [
  {
   "cell_type": "markdown",
   "id": "indoor-catalyst",
   "metadata": {
    "tags": []
   },
   "source": [
    "<h1 style=\"color:blue\"> Bayesian Statistics and Probabilistic Programming</h1>\n",
    "\n",
    "<h1 style=\"color:blue\"> Spring 2022 - Homework 01</h1>\n",
    "\n",
    "<h3 style=\"color:blue\">2022-04-04</h3>"
   ]
  },
  {
   "cell_type": "markdown",
   "id": "occasional-trigger",
   "metadata": {
    "tags": []
   },
   "source": [
    "***\n",
    "###### LaTeX macros\n",
    "$\\def\\prob{P}$\n",
    "$\\def\\argmax{\\operatorname{arg\\,max}}$\n",
    "$\\def\\argmin{\\operatorname{arg\\,min}}$\n",
    "$\\def\\borel{\\operatorname{Borel}}$\n",
    "$\\def\\cE{\\cal E}$\n",
    "$\\def\\cP{\\cal P}$\n",
    "$\\def\\R{\\mathbb{R}}$ \n",
    "$\\def\\N{\\mathbb{N}}$\n",
    "$\\def\\Z{\\mathbb{Z}}$\n",
    "$\\def\\Ee{\\operatorname{E}}$\n",
    "$\\def\\va{\\text{v.a.}}$\n",
    "$\\def\\var{\\operatorname{var}}$\n",
    "$\\def\\cov{\\operatorname{cov}}$\n",
    "$\\def\\cor{\\operatorname{cor}}$\n",
    "$\\def\\binomdist{\\operatorname{Binom}}$\n",
    "$\\def\\berndist{\\operatorname{Ber}}$\n",
    "$\\def\\betabinomdist{\\operatorname{Beta-Binom}}$\n",
    "$\\def\\betadist{\\operatorname{Beta}}$\n",
    "$\\def\\expdist{\\operatorname{Exponential}}$\n",
    "$\\def\\gammadist{\\operatorname{Gamma}}$\n",
    "$\\def\\hyperdist{\\operatorname{Hypergeom}}$\n",
    "$\\def\\hypergeomdist{\\operatorname{Hypergeom}}$\n",
    "$\\DeclareMathOperator{\\multinomialdist}{Multinomial}$\n",
    "$\\DeclareMathOperator{\\multinomdist}{Multinom}$\n",
    "$\\def\\poissondist{\\operatorname{Poisson}}$\n",
    "$\\def\\geomdist{\\operatorname{Geom}}$\n",
    "$\\def\\normaldist{\\operatorname{N}}$\n",
    "$\\def\\unifdist{\\operatorname{Unif}}$\n",
    "$\\DeclareMathOperator{\\indica}{\\mathbb{1}}$\n",
    "$\\def\\CondTo{\\mathbin{|\\mskip0.5mu}}$\n",
    "***"
   ]
  },
  {
   "cell_type": "markdown",
   "id": "floppy-carbon",
   "metadata": {},
   "source": [
    "<h1 style=\"color:blue\">Instructions</h1>"
   ]
  },
  {
   "cell_type": "markdown",
   "id": "70c9392f-68be-443f-869f-3d11500d23d8",
   "metadata": {},
   "source": [
    "### Submissions: \n",
    "\n",
    "By **groups** of _about_ three students (meaning: two is OK, four is not advisable but possible. Individual homeworks \n",
    "will also be accepted but collaborative work is preferable). \n",
    "\n",
    "Please send me an **email** with the team members names as soon as you have formed it.\n",
    "\n",
    "Only **one copy** of each group's work must be uploaded (by any member)"
   ]
  },
  {
   "cell_type": "markdown",
   "id": "205b1149-7745-4070-af12-b16374a0b741",
   "metadata": {},
   "source": [
    "### Format: \n",
    "\n",
    "A Jupyter or R Markdown **notebook,** with a **header** clearly stating the names of all contributors. "
   ]
  },
  {
   "cell_type": "markdown",
   "id": "c7ffc8d7-72ad-4915-a21b-863c669d439d",
   "metadata": {
    "tags": []
   },
   "source": [
    "### Documentation: \n",
    "\n",
    "Comments **in code cells** (e.g., meaning of variables, parameters, purpose of functions) are necessary but not sufficient.\n",
    "\n",
    "You are expected to give full explanations of steps taken in your solution (in **Markdown cells**), as well as discussion of results and their meaning.\n",
    "\n",
    "Do not drear being too verbose or too elementary."
   ]
  },
  {
   "cell_type": "markdown",
   "id": "de26c667-4256-4b2a-bfb8-cc11bc9a10bb",
   "metadata": {},
   "source": [
    "### External sources\n",
    "\n",
    "Getting inspiration from any book, document, blog, wep page, even mimicking solutions given in there, is **allowed and encouraged,** provided you give a **proper reference,**\n",
    "understand every such material, and explain it in you own words, even more exhaustively.\n",
    "\n",
    "Dare not **copy/paste literally.** I do detect it, believe me, even with a missing source reference. Bleak consequences."
   ]
  },
  {
   "cell_type": "markdown",
   "id": "52ca45a3-4eab-4ff4-94d1-0fac33d6e15a",
   "metadata": {},
   "source": [
    "### Deadline:\n",
    "\n",
    "Completed assignments are due on Tuesday, April 19. They are to be uploaded to the Virtual Campus."
   ]
  },
  {
   "cell_type": "markdown",
   "id": "acceptable-lender",
   "metadata": {},
   "source": [
    "<h1 style=\"color:blue\">01 - Stan version of a conjugate prior problem</h1>\n",
    "\n",
    "<h2 style=\"color:blue\">Modelling Earthquake Waiting Times</h2>"
   ]
  },
  {
   "cell_type": "markdown",
   "id": "exceptional-marina",
   "metadata": {},
   "source": [
    "Consider the problem in `Exponential.02.Earthquake` (notebook in 2022-03-28 folder), where the goal is to study earthquake waiting times.\n",
    "\n",
    "Likelihood is modelled as an $\\expdist(\\lambda)$ and $\\lambda$ is given a conjugate prior, $\\lambda\\sim\\gammadist(\\alpha,\\beta)$.\n",
    "\n",
    "In this notebook some simulations are performed for:\n",
    "\n",
    "01. Prior pdf for $\\lambda$.\n",
    "02. Prior predictive pdf for the waiting time.\n",
    "03. Posterior pdf for $\\lambda$.\n",
    "04. Posterior predictive for new waiting time.\n",
    "\n",
    "In `Exponential.02.Earthquake` we use known theoretical (analytical) descriptions of these distributions.\n",
    "\n",
    "Your task is to redo these simulations using Stan, disregarding analytical conjugate prior formulas, and then comparing your results to the analytical ones. Use this comparison to tune up adjustable parameters in Stan sampling, such as chain length. "
   ]
  },
  {
   "cell_type": "markdown",
   "id": "4c6ae263",
   "metadata": {},
   "source": [
    "## Solution:"
   ]
  },
  {
   "cell_type": "markdown",
   "id": "2dfdc70d",
   "metadata": {},
   "source": [
    "### 1. Prior pdf for $\\lambda$."
   ]
  },
  {
   "cell_type": "markdown",
   "id": "1f7c1eea",
   "metadata": {},
   "source": [
    "First, we load rstan and set the recommended options."
   ]
  },
  {
   "cell_type": "code",
   "execution_count": 1,
   "id": "2b3e52c0",
   "metadata": {},
   "outputs": [
    {
     "name": "stderr",
     "output_type": "stream",
     "text": [
      "Loading required package: rstan\n",
      "\n",
      "Loading required package: StanHeaders\n",
      "\n",
      "Loading required package: ggplot2\n",
      "\n",
      "rstan (Version 2.21.5, GitRev: 2e1f913d3ca3)\n",
      "\n",
      "For execution on a local, multicore CPU with excess RAM we recommend calling\n",
      "options(mc.cores = parallel::detectCores()).\n",
      "To avoid recompilation of unchanged Stan programs, we recommend calling\n",
      "rstan_options(auto_write = TRUE)\n",
      "\n",
      "Do not specify '-march=native' in 'LOCAL_CPPFLAGS' or a Makevars file\n",
      "\n"
     ]
    },
    {
     "data": {
      "text/html": [
       "8"
      ],
      "text/latex": [
       "8"
      ],
      "text/markdown": [
       "8"
      ],
      "text/plain": [
       "[1] 8"
      ]
     },
     "metadata": {},
     "output_type": "display_data"
    }
   ],
   "source": [
    "require(rstan)\n",
    "parallel::detectCores()\n",
    "options(mc.cores = parallel::detectCores())\n",
    "rstan_options(auto_write = TRUE)"
   ]
  },
  {
   "cell_type": "markdown",
   "id": "f3bd6bb1",
   "metadata": {},
   "source": [
    "Secondly, we write the stan code to generate samples from the prior. \n",
    "\n",
    "We know from the statement that $\\lambda$ is given a conjugate prior, $\\lambda\\sim\\gammadist(\\alpha,\\beta)$, where $\\alpha > 0$ and $\\beta > 0$ are unknown shape and scale parameters, respectively. Following the guidelines in ```S7.3.03.Exponential.02.Earthquake```, we see that $\\alpha=1$ and $\\beta=30$, as a consecuence of setting the effective sample size to 1 and applying the formula for the expectation of a gamma distribution, given that E($\\lambda$) is 1/30.\n",
    "\n",
    "The Stan code simply draws samples from a gamma distribution, and we specify the parameters at runtime."
   ]
  },
  {
   "cell_type": "code",
   "execution_count": 2,
   "id": "e60a73be",
   "metadata": {},
   "outputs": [
    {
     "ename": "ERROR",
     "evalue": "Error in compileCode(f, code, language = language, verbose = verbose): C:/rtools40/ucrt64/bin/../lib/gcc/x86_64-w64-mingw32/10.3.0/../../../../x86_64-w64-mingw32/bin/ld.exe: file33f834495a75.o:file33f834495a75.cpp:(.text$_ZN3tbb8internal26task_scheduler_observer_v3D0Ev[_ZN3tbb8internal26task_scheduler_observer_v3D0Ev]+0x1d): undefined reference to `tbb::internal::task_scheduler_observer_v3::observe(bool)'C:/rtools40/ucrt64/bin/../lib/gcc/x86_64-w64-mingw32/10.3.0/../../../../x86_64-w64-mingw32/bin/ld.exe: file33f834495a75.o:file33f834495a75.cpp:(.text$_ZN3tbb10interface623task_scheduler_observerD1Ev[_ZN3tbb10interface623task_scheduler_observerD1Ev]+0x1d): undefined reference to `tbb::internal::task_scheduler_observer_v3::observe(bool)'C:/rtools40/ucrt64/bin/../lib/gcc/x86_64-w64-mingw32/10.3.0/../../../../x86_64-w64-mingw32/bin/ld.exe: file33f834495a75.o:file33f834495a75.cpp:(.text$_ZN3tbb10interface623task_scheduler_observerD1Ev[_ZN3tbb10interface623task_scheduler_observerD1Ev]+0x3a): undefined reference to `tbb::internal::task_scheduler_observer_v3::observe(bool)'C:/rtools40/ucrt64/bin/../lib/gcc/x86_64-w64-mingw32/10.3.0/../../../../x86_64-w64-mingw32/bin/ld.exe: file33f834495a75.o:file33f834495a75.cpp:(.text$_ZN3tbb10interface623task_scheduler_observerD0Ev[_ZN3tbb10interface623task_scheduler_observerD0Ev]+0x1d): undefined reference to `tbb::internal::task_scheduler_observer_v3::observe(bool)'C:/rtools40/ucrt64/bin/../lib/gcc/x86_64-w64-mingw32/10.3.0/../../../../x86_64-w64-mingw32/bin/ld.exe: file33f834495a75.o:file33f834495a75.cpp:(.text$_ZN3tbb10interface623task_scheduler_observerD0Ev[_ZN3tbb10interface623task_scheduler_observerD0Ev]+0x3a): more undefined references to `tbb::internal::task_scheduler_observer_v3::observe(bool)' followcollect2.exe: error: ld returned 1 exit status\n",
     "output_type": "error",
     "traceback": [
      "Error in compileCode(f, code, language = language, verbose = verbose): C:/rtools40/ucrt64/bin/../lib/gcc/x86_64-w64-mingw32/10.3.0/../../../../x86_64-w64-mingw32/bin/ld.exe: file33f834495a75.o:file33f834495a75.cpp:(.text$_ZN3tbb8internal26task_scheduler_observer_v3D0Ev[_ZN3tbb8internal26task_scheduler_observer_v3D0Ev]+0x1d): undefined reference to `tbb::internal::task_scheduler_observer_v3::observe(bool)'C:/rtools40/ucrt64/bin/../lib/gcc/x86_64-w64-mingw32/10.3.0/../../../../x86_64-w64-mingw32/bin/ld.exe: file33f834495a75.o:file33f834495a75.cpp:(.text$_ZN3tbb10interface623task_scheduler_observerD1Ev[_ZN3tbb10interface623task_scheduler_observerD1Ev]+0x1d): undefined reference to `tbb::internal::task_scheduler_observer_v3::observe(bool)'C:/rtools40/ucrt64/bin/../lib/gcc/x86_64-w64-mingw32/10.3.0/../../../../x86_64-w64-mingw32/bin/ld.exe: file33f834495a75.o:file33f834495a75.cpp:(.text$_ZN3tbb10interface623task_scheduler_observerD1Ev[_ZN3tbb10interface623task_scheduler_observerD1Ev]+0x3a): undefined reference to `tbb::internal::task_scheduler_observer_v3::observe(bool)'C:/rtools40/ucrt64/bin/../lib/gcc/x86_64-w64-mingw32/10.3.0/../../../../x86_64-w64-mingw32/bin/ld.exe: file33f834495a75.o:file33f834495a75.cpp:(.text$_ZN3tbb10interface623task_scheduler_observerD0Ev[_ZN3tbb10interface623task_scheduler_observerD0Ev]+0x1d): undefined reference to `tbb::internal::task_scheduler_observer_v3::observe(bool)'C:/rtools40/ucrt64/bin/../lib/gcc/x86_64-w64-mingw32/10.3.0/../../../../x86_64-w64-mingw32/bin/ld.exe: file33f834495a75.o:file33f834495a75.cpp:(.text$_ZN3tbb10interface623task_scheduler_observerD0Ev[_ZN3tbb10interface623task_scheduler_observerD0Ev]+0x3a): more undefined references to `tbb::internal::task_scheduler_observer_v3::observe(bool)' followcollect2.exe: error: ld returned 1 exit status\nTraceback:\n",
      "1. stan_model(model_code = GammaPrior_String)",
      "2. cxxfunctionplus(signature(), body = paste(\" return Rcpp::wrap(\\\"\", \n .     model_name, \"\\\");\", sep = \"\"), includes = inc, plugin = \"rstan\", \n .     save_dso = save_dso | auto_write, module_name = paste(\"stan_fit4\", \n .         model_cppname, \"_mod\", sep = \"\"), verbose = verbose)",
      "3. pkgbuild::with_build_tools(cxxfunction(sig = sig, body = body, \n .     plugin = plugin, includes = includes, settings = settings, \n .     ..., verbose = verbose), required = rstan_options(\"required\") && \n .     !identical(Sys.getenv(\"WINDOWS\"), \"TRUE\") && !identical(Sys.getenv(\"R_PACKAGE_SOURCE\"), \n .     \"\"))",
      "4. withr::with_path(rtools_path(), code)",
      "5. force(code)",
      "6. cxxfunction(sig = sig, body = body, plugin = plugin, includes = includes, \n .     settings = settings, ..., verbose = verbose)",
      "7. compileCode(f, code, language = language, verbose = verbose)",
      "8. stop(tail(errmsg))"
     ]
    },
    {
     "ename": "ERROR",
     "evalue": "Error in sink(type = \"output\"): conexión inválida\n",
     "output_type": "error",
     "traceback": [
      "Error in sink(type = \"output\"): conexión inválida\nTraceback:\n",
      "1. stan_model(model_code = GammaPrior_String)",
      "2. cxxfunctionplus(signature(), body = paste(\" return Rcpp::wrap(\\\"\", \n .     model_name, \"\\\");\", sep = \"\"), includes = inc, plugin = \"rstan\", \n .     save_dso = save_dso | auto_write, module_name = paste(\"stan_fit4\", \n .         model_cppname, \"_mod\", sep = \"\"), verbose = verbose)",
      "3. sink(type = \"output\")"
     ]
    }
   ],
   "source": [
    "#Stan code to generate samples from the prior, \n",
    "#a gamma distribution of given alpha and beta\n",
    "GammaPrior_String <- \"\n",
    "    //functions {}\n",
    "    data{\n",
    "        real<lower=0> alpha;\n",
    "        real<lower=0> beta;\n",
    "        }\n",
    "    transformed data {}\n",
    "    parameters{}\n",
    "    transformed parameters {}\n",
    "    model{ }\n",
    "    generated quantities{\n",
    "        real y=gamma_rng(alpha,beta);\n",
    "        }\n",
    "\"\n",
    "GammaPrior_stanDso <- stan_model( model_code=GammaPrior_String ) # Compile to DSO"
   ]
  },
  {
   "cell_type": "markdown",
   "id": "e0314d3b",
   "metadata": {},
   "source": [
    "Once that we have the DSO we input the selected distribution parameters and stan configuration to perform the simulation.\n",
    "\n",
    "Configuration:\n",
    "* chains\t: A positive integer specifying the number of Markov chains. The default is 4.\n",
    "* algorithm\t: One of sampling algorithms that are implemented in Stan. No parameters in this scenario so we use \"Fixed_param\".\n",
    "* seed\t: The seed for random number generation.\n",
    "* iter: A positive integer specifying the number of iterations for each chain (including warmup)\n",
    "* warmup: A positive integer specifying the number of warmup (aka burnin) iterations per chain.\n",
    "* thin: A positive integer specifying the period for saving samples. The default is 1, which is usually the recommended value."
   ]
  },
  {
   "cell_type": "code",
   "execution_count": null,
   "id": "055c0803",
   "metadata": {},
   "outputs": [],
   "source": [
    "#Specify runtime quantities and execute the code\n",
    "prior.a<-1\n",
    "prior.b<-30\n",
    "Gamma_dataList <- list(\"alpha\" = prior.a, \"beta\" = prior.b)\n",
    "\n",
    "# Generate prior sample:\n",
    "Gamma_stanFit <- sampling( object=GammaPrior_stanDso, \n",
    "                     data = Gamma_dataList, algorithm=\"Fixed_param\",\n",
    "                     chains = 4, seed = 24056, iter = 10000, warmup = 0, thin = 1)"
   ]
  },
  {
   "cell_type": "markdown",
   "id": "a9848c5f",
   "metadata": {},
   "source": [
    "Finally,  we extract the prior sample and plot its histogram together with the theoretical gamma distribution."
   ]
  },
  {
   "cell_type": "code",
   "execution_count": null,
   "id": "cd7d3605",
   "metadata": {},
   "outputs": [],
   "source": [
    "# extract sample and visualize it \n",
    "y<-extract(Gamma_stanFit,par=\"y\")$y\n",
    "y.max<-max(y)\n",
    "u<-seq(0,y.max,length=1000)\n",
    "\n",
    "#theoretical prior\n",
    "df.theor<-dgamma(u,shape=prior.a,rate=prior.b)\n",
    "f.max<-max(df.theor)\n",
    "hist(y,freq=FALSE,col=\"LightSkyBlue\",ylim=c(0,f.max*1.1),\n",
    "     main=sprintf(\"Histogram of Gamma(%2.1f,%2.1f) random numbers\n",
    "    \\n with the superimposed theoretical pdf\",prior.a,prior.b),nclass=60,cex.main=1.6)\n",
    "lines(u,df.theor,lwd=2.5,col=\"blue\")"
   ]
  },
  {
   "cell_type": "markdown",
   "id": "ad477dd1",
   "metadata": {},
   "source": [
    "### 2. Prior predictive pdf for the waiting time."
   ]
  },
  {
   "cell_type": "markdown",
   "id": "a69a58b9",
   "metadata": {},
   "source": [
    "The random variable that measures the waiting time (in days) between the 𝑖-th earthquake and the following one follows an Exponential distribution. That is:\n",
    "\n",
    "$$\n",
    "    Y_{i}\\mskip8mu\\text{i.i.d.}\\sim\\mskip8mu\\operatorname{Exponential}(\\lambda),\n",
    "$$\n",
    "\n",
    "where $\\lambda$ is the conjugate prior described in the previous section. We also now that the expected waiting time between earthquakes will be $\\operatorname{E}(Y)=1/\\lambda$ days.  "
   ]
  },
  {
   "cell_type": "code",
   "execution_count": null,
   "id": "7fe2b347",
   "metadata": {},
   "outputs": [],
   "source": [
    "#Stan code to generate samples from the prior, \n",
    "# an exponential distribution of given lambda\n",
    "Exp_Stancode <- \"\n",
    "    //functions {}\n",
    "    data{\n",
    "        real<lower=0> lambda;\n",
    "        }\n",
    "    //transformed data {}\n",
    "    //parameters{}\n",
    "    //transformed parameters {}\n",
    "    //model{ }\n",
    "    generated quantities{\n",
    "        real y;\n",
    "        y=exponential_rng(lambda);\n",
    "        }\n",
    "\"\n",
    "\n",
    "Exp_stanDso <- stan_model( model_code=Exp_Stancode ) # Compile to DSO"
   ]
  },
  {
   "cell_type": "code",
   "execution_count": null,
   "id": "b5e938c3",
   "metadata": {},
   "outputs": [],
   "source": [
    "# Specify data:\n",
    "prior.lambda<-df.theor #### no sé\n",
    "dataList <- list(\"lambda\" = prior.lambda)\n",
    "\n",
    "# Generate posterior sample:\n",
    "Exp_stanFit <- sampling( object=Exp_stanDso, \n",
    "                     data = dataList, algorithm=\"Fixed_param\",\n",
    "                     chains = 1, seed = 24025, iter = 10000, warmup = 0, thin = 1)"
   ]
  },
  {
   "cell_type": "code",
   "execution_count": null,
   "id": "0fd3c0d1",
   "metadata": {},
   "outputs": [],
   "source": [
    "# extract sample and visualize it \n",
    "y<-extract(Exp_stanFit,par=\"y\")$y\n",
    "\n",
    "hist(y,freq=FALSE,col=\"LightSkyBlue\",xlim=c(-0.05,3.5), ylim=c(0,2.2),nclass=60,\n",
    "     main=sprintf(\"Histogram of Exp(%2.1f) random numbers\",lambda),cex.main=1.5)\n",
    "u<-seq(0,3.5,length=1000)\n",
    "lines(u,dexp(u,rate=lambda),lwd=3.5,col=\"blue\")"
   ]
  },
  {
   "cell_type": "markdown",
   "id": "124fe60a",
   "metadata": {},
   "source": [
    "### 3. Posterior pdf for $\\lambda$."
   ]
  },
  {
   "cell_type": "markdown",
   "id": "4138267c",
   "metadata": {},
   "source": [
    "### 4. Posterior predictive pdf for the waiting time."
   ]
  },
  {
   "cell_type": "markdown",
   "id": "upper-radio",
   "metadata": {},
   "source": [
    "<h1 style=\"color:blue\">02 - A more elaborate mixture prior for the spinning coin</h1>"
   ]
  },
  {
   "cell_type": "markdown",
   "id": "disturbed-friendship",
   "metadata": {},
   "source": [
    "(continued from Diaconis experiment)"
   ]
  },
  {
   "cell_type": "markdown",
   "id": "operational-roommate",
   "metadata": {},
   "source": [
    "On reflection, it was decided that tails had come up more often than heads in the past; further some coins seemed likely to be symmetric. \n",
    "\n",
    "Thus, a final approximation to the prior was taken as:\n",
    "\n",
    "$$\n",
    "   0.50\\cdot\\betadist(10,20) + 0.20\\cdot\\betadist(15,15) + 0.30\\cdot\\betadist(20,10).\n",
    "$$\n",
    "\n",
    "Same observed data as in the previous model."
   ]
  },
  {
   "cell_type": "code",
   "execution_count": null,
   "id": "continental-diesel",
   "metadata": {},
   "outputs": [],
   "source": [
    "# Number of trials\n",
    "n<-10\n",
    "# Observed x\n",
    "x.obs<-3"
   ]
  },
  {
   "cell_type": "markdown",
   "id": "fluid-moderator",
   "metadata": {},
   "source": [
    "Perform a complete Bayesian analysis of this model, in close parallel to the first example.\n",
    "\n",
    "(1) Using the theoretical formulas (prior predictive pmf, posterior pdf, posterior predictive pmf)\n",
    "\n",
    "(2) Using independent random numbers (`rbeta()` functions, etc.)\n",
    "\n",
    "(3) JAGS version\n",
    "\n",
    "(4)$ {}^{\\star}$ Stan version. "
   ]
  },
  {
   "cell_type": "markdown",
   "id": "pursuant-martin",
   "metadata": {},
   "source": [
    ">$ (\\star)$ Hint: this one **is difficult** due to intrinsic limitations in Stan. There are several known workarounds; you can try to find one but do not despair if you fail to develop a workable version.\n",
    "\n",
    ">As a matter of fact even a Stan version of the two-components prior mixture in `Mixture.priors.02.ipynb` \n",
    "is rather tricky: Stan does not allow integer parameters thus the JAGS code cannot be translated literally."
   ]
  },
  {
   "cell_type": "markdown",
   "id": "intelligent-triangle",
   "metadata": {},
   "source": [
    "Diaconis and Ylvisaker (1985) compare both mixture conjugate priors with a $ \\operatorname{Unif}(0,1)$ prior with the data above. \n",
    "\n",
    "Comparing the MAP estimators, they observe that in a first approximation, they coincide, but spreads do depend on the prior."
   ]
  },
  {
   "cell_type": "markdown",
   "id": "d1614226-83b4-4724-a7bb-dc324d8365b1",
   "metadata": {},
   "source": [
    "They repeat the computations above with a larger sample. "
   ]
  },
  {
   "cell_type": "code",
   "execution_count": null,
   "id": "closing-vancouver",
   "metadata": {},
   "outputs": [],
   "source": [
    "n1<-50\n",
    "x1.obs<-14"
   ]
  },
  {
   "cell_type": "markdown",
   "id": "9de8949b-1cdd-4ac7-8a8c-8a1c1da310de",
   "metadata": {},
   "source": [
    "Their conclusion is that with small data, prior matters, but with larger samples, a finely tuned choice of prior is less important."
   ]
  },
  {
   "cell_type": "markdown",
   "id": "cc29e3ee",
   "metadata": {},
   "source": [
    "## Solution"
   ]
  },
  {
   "cell_type": "markdown",
   "id": "27e07882",
   "metadata": {},
   "source": [
    "The number of heads that we get in $n$ tosses of a spinning coin (likelihood function) behaves like a Binomial distribution:\n",
    "\n",
    "$$\n",
    "    x\\mskip8mu\\sim\\mskip8mu\\operatorname{B}(n,\\theta),\n",
    "$$\n",
    "\n",
    "where $\\theta$ is given a conjugate prior consisting of a mixture of three Beta distributions:\n",
    "\n",
    "$$\n",
    "   \\theta\\mskip8mu\\sim0.50\\cdot\\betadist(10,20) + 0.20\\cdot\\betadist(15,15) + 0.30\\cdot\\betadist(20,10).\n",
    "$$\n",
    "\n",
    "Note that since the conjugate prior of $\\theta$ is in itself a bimodal function, it exhibits two local maxima. Recap that Beta distribution has two positive parameters $\\alpha$ and $\\beta$ that appear as exponents of the random variable and control the shape of the distribution."
   ]
  },
  {
   "cell_type": "markdown",
   "id": "98acad74",
   "metadata": {},
   "source": [
    "First, let's see how this three Beta distributions look separately."
   ]
  },
  {
   "cell_type": "code",
   "execution_count": null,
   "id": "ab32b6b2",
   "metadata": {},
   "outputs": [],
   "source": [
    "prior.a1<-10\n",
    "prior.b1<-20\n",
    "prior.a2<-15\n",
    "prior.b2<-15\n",
    "prior.a3<-20\n",
    "prior.b3<-10\n",
    "prior.gamma1<-0.5\n",
    "prior.gamma2<-0.2"
   ]
  },
  {
   "cell_type": "code",
   "execution_count": null,
   "id": "e574fc68",
   "metadata": {},
   "outputs": [],
   "source": [
    "options(repr.plot.width=15,repr.plot.height=5)\n",
    "v<-seq(0,1,length=500)\n",
    "old.par<-par(mfrow=c(1,3))\n",
    "plot(v,dbeta(v,prior.a1,prior.b1),type=\"l\",lwd=3.5,col=\"cyan4\",xlab=\"x\",ylab=\"Density\",main=\"First pdf\")\n",
    "plot(v,dbeta(v,prior.a2,prior.b2),type=\"l\",lwd=3.5,col=\"cyan4\",xlab=\"x\",ylab=\"Density\",main=\"Second pdf\")\n",
    "plot(v,dbeta(v,prior.a3,prior.b3),type=\"l\",lwd=3.5,col=\"cyan4\",xlab=\"x\",ylab=\"Density\",main=\"Third pdf\")\n",
    "par(old.par)"
   ]
  },
  {
   "cell_type": "markdown",
   "id": "a0bb71ea",
   "metadata": {},
   "source": [
    "And the mixture prior:"
   ]
  },
  {
   "cell_type": "code",
   "execution_count": null,
   "id": "0a95e5b3",
   "metadata": {},
   "outputs": [],
   "source": [
    "mixture.prior.pdf<-function(theta){\n",
    "    return(prior.gamma1*dbeta(theta,prior.a1,prior.b1)+prior.gamma2*dbeta(theta,prior.a2,prior.b2)+(1-(prior.gamma1 + prior.gamma2))*dbeta(theta,prior.a3,prior.b3))\n",
    "    }\n",
    "\n",
    "options(repr.plot.width=7,repr.plot.height=7)\n",
    "v<-seq(0,1,length=500)\n",
    "plot(v,mixture.prior.pdf(v),type=\"l\",lwd=3.5,col=\"cyan4\",xlab=\"x\",ylab=\"Density\",main=\"Mixture prior\")"
   ]
  },
  {
   "cell_type": "markdown",
   "id": "31315467",
   "metadata": {},
   "source": [
    "We'll begin considering the same data as in the previous approach seen in class:"
   ]
  },
  {
   "cell_type": "code",
   "execution_count": null,
   "id": "599c092a",
   "metadata": {},
   "outputs": [],
   "source": [
    "# Number of trials\n",
    "n<-10\n",
    "# Observed x\n",
    "x.obs<-3"
   ]
  },
  {
   "cell_type": "markdown",
   "id": "087da657",
   "metadata": {},
   "source": [
    "### 1. Using the theoretical formulas (prior predictive pmf, posterior pdf, posterior predictive pmf)"
   ]
  },
  {
   "cell_type": "markdown",
   "id": "85e72719",
   "metadata": {},
   "source": [
    "### 2. Using independent random numbers (rbeta() functions, etc.)"
   ]
  },
  {
   "cell_type": "markdown",
   "id": "a6168b0e",
   "metadata": {},
   "source": [
    "### 3. JAGS version"
   ]
  },
  {
   "cell_type": "markdown",
   "id": "ad60469e",
   "metadata": {},
   "source": [
    "First we load JAGS"
   ]
  },
  {
   "cell_type": "code",
   "execution_count": null,
   "id": "eef03035",
   "metadata": {},
   "outputs": [],
   "source": [
    "require(R2jags)"
   ]
  },
  {
   "cell_type": "markdown",
   "id": "e1f43b9a",
   "metadata": {},
   "source": [
    "Define parameters of the model"
   ]
  },
  {
   "cell_type": "code",
   "execution_count": null,
   "id": "5fc9423a",
   "metadata": {},
   "outputs": [],
   "source": [
    "Mix.01.dat<-list(a1=prior.a1,b1=prior.b1,\n",
    "                 a2=prior.a2,b2=prior.b2,\n",
    "                 a3=prior.a3,b3=prior.b3,\n",
    "                 gamma1=prior.gamma1,\n",
    "                 gamma2=prior.gamma2,\n",
    "                 n=n,x=x.obs)"
   ]
  },
  {
   "cell_type": "markdown",
   "id": "157af1a7",
   "metadata": {},
   "source": [
    "Build the model"
   ]
  },
  {
   "cell_type": "code",
   "execution_count": null,
   "id": "6ca85c23",
   "metadata": {},
   "outputs": [],
   "source": [
    "cat(\n",
    "\"model\n",
    "    {\n",
    "    x~dbin(p,n)             # Binomial likelihood. See arguments order!\n",
    "    \n",
    "    p<-theta[r]             # Prior is a mixture of three beta r.v \n",
    "                            # Notice the syntax: this statement says that p is\n",
    "                            # *equal to* the trio of theta variates defined below\n",
    "\n",
    "    r~dcat(g[])             # Categorical distribution:\n",
    "                            # g[] is a 3-vector containing the mixing probabilities (gamma1, gamma2, 1-(gamma1 + gamma2))\n",
    "\n",
    "    theta[1]~dbeta(a1,b1)   # The three beta r.v to enter the mixture\n",
    "    theta[2]~dbeta(a2,b2)\n",
    "    theta[3]~dbeta(a3,b3)\n",
    "\n",
    "    g[1]<-gamma1             # Just as in p. g is equal to (gamma1, gamma2, 1-(gamma1 + gamma2))\n",
    "    g[2]<-gamma2\n",
    "    g[3]<-1-(gamma1 + gamma2)\n",
    "    }\"\n",
    "    ,file=\"Mix.01.jag\")"
   ]
  },
  {
   "cell_type": "markdown",
   "id": "ea5b4a84",
   "metadata": {},
   "source": [
    "Now let's run JAGS"
   ]
  },
  {
   "cell_type": "code",
   "execution_count": null,
   "id": "510fd0ba",
   "metadata": {},
   "outputs": [],
   "source": [
    "#### set the parameters n.chains,n.iter,n.burnin as we wish"
   ]
  },
  {
   "cell_type": "code",
   "execution_count": null,
   "id": "ee9ad279",
   "metadata": {},
   "outputs": [],
   "source": [
    "Mix.01.m1<-jags(data=Mix.01.dat, n.chains=3,n.iter=5000,n.burnin=500, \n",
    "        parameters.to.save=c(\"theta\",\"p\"), model.file=\"Mix.01.jag\")"
   ]
  },
  {
   "cell_type": "code",
   "execution_count": null,
   "id": "3b01d298",
   "metadata": {},
   "outputs": [],
   "source": [
    "print(Mix.01.m1)"
   ]
  },
  {
   "cell_type": "markdown",
   "id": "6241681d",
   "metadata": {},
   "source": [
    "Posterior pdf of p"
   ]
  },
  {
   "cell_type": "code",
   "execution_count": null,
   "id": "55277c87",
   "metadata": {},
   "outputs": [],
   "source": [
    "p.sample<-Mix.01.m1$BUGSoutput$sims.list$p"
   ]
  },
  {
   "cell_type": "code",
   "execution_count": null,
   "id": "6c9e4209",
   "metadata": {},
   "outputs": [],
   "source": [
    "p.sample.density<-density(p.sample)\n",
    "plot(p.sample.density,lwd=2.5,col=\"blue\",main=expression(paste(\"Estimated posterior pdf of \",p)),cex.main=1.6)"
   ]
  },
  {
   "cell_type": "markdown",
   "id": "4e94c515",
   "metadata": {},
   "source": [
    "### 4. Stan version"
   ]
  },
  {
   "cell_type": "markdown",
   "id": "de836700",
   "metadata": {},
   "source": [
    "### Bibliography"
   ]
  },
  {
   "cell_type": "markdown",
   "id": "a47d160d",
   "metadata": {},
   "source": [
    "http://www.scielo.org.co/pdf/rce/v36n2/v36n2a09.pdf\n",
    "\n",
    "https://news.stanford.edu/pr/2004/diaconis-69.html\n",
    "\n",
    "\"Dynamical Bias in the Coin Toss\"\n",
    "\n",
    "https://chrispiech.github.io/probabilityForComputerScientists/en/part4/beta/"
   ]
  }
 ],
 "metadata": {
  "kernelspec": {
   "display_name": "R",
   "language": "R",
   "name": "ir"
  },
  "language_info": {
   "codemirror_mode": "r",
   "file_extension": ".r",
   "mimetype": "text/x-r-source",
   "name": "R",
   "pygments_lexer": "r",
   "version": "4.2.0"
  }
 },
 "nbformat": 4,
 "nbformat_minor": 5
}
