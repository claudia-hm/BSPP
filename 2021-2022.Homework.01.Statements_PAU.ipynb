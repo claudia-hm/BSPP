{
 "cells": [
  {
   "cell_type": "markdown",
   "id": "indoor-catalyst",
   "metadata": {
    "tags": []
   },
   "source": [
    "<h1 style=\"color:blue\"> Bayesian Statistics and Probabilistic Programming</h1>\n",
    "\n",
    "<h1 style=\"color:blue\"> Spring 2022 - Homework 01</h1>\n",
    "\n",
    "<h3 style=\"color:blue\">2022-04-04</h3>"
   ]
  },
  {
   "cell_type": "markdown",
   "id": "fcbfd985",
   "metadata": {},
   "source": [
    "## Iker Honorato, David Catalan, Pau Satorra"
   ]
  },
  {
   "cell_type": "markdown",
   "id": "occasional-trigger",
   "metadata": {
    "tags": []
   },
   "source": [
    "***\n",
    "###### LaTeX macros\n",
    "$\\def\\prob{P}$\n",
    "$\\def\\argmax{\\operatorname{arg\\,max}}$\n",
    "$\\def\\argmin{\\operatorname{arg\\,min}}$\n",
    "$\\def\\borel{\\operatorname{Borel}}$\n",
    "$\\def\\cE{\\cal E}$\n",
    "$\\def\\cP{\\cal P}$\n",
    "$\\def\\R{\\mathbb{R}}$ \n",
    "$\\def\\N{\\mathbb{N}}$\n",
    "$\\def\\Z{\\mathbb{Z}}$\n",
    "$\\def\\Ee{\\operatorname{E}}$\n",
    "$\\def\\va{\\text{v.a.}}$\n",
    "$\\def\\var{\\operatorname{var}}$\n",
    "$\\def\\cov{\\operatorname{cov}}$\n",
    "$\\def\\cor{\\operatorname{cor}}$\n",
    "$\\def\\binomdist{\\operatorname{Binom}}$\n",
    "$\\def\\berndist{\\operatorname{Ber}}$\n",
    "$\\def\\betabinomdist{\\operatorname{Beta-Binom}}$\n",
    "$\\def\\betadist{\\operatorname{Beta}}$\n",
    "$\\def\\expdist{\\operatorname{Exponential}}$\n",
    "$\\def\\gammadist{\\operatorname{Gamma}}$\n",
    "$\\def\\hyperdist{\\operatorname{Hypergeom}}$\n",
    "$\\def\\hypergeomdist{\\operatorname{Hypergeom}}$\n",
    "$\\DeclareMathOperator{\\multinomialdist}{Multinomial}$\n",
    "$\\DeclareMathOperator{\\multinomdist}{Multinom}$\n",
    "$\\def\\poissondist{\\operatorname{Poisson}}$\n",
    "$\\def\\geomdist{\\operatorname{Geom}}$\n",
    "$\\def\\normaldist{\\operatorname{N}}$\n",
    "$\\def\\unifdist{\\operatorname{Unif}}$\n",
    "$\\DeclareMathOperator{\\indica}{\\mathbb{1}}$\n",
    "$\\def\\CondTo{\\mathbin{|\\mskip0.5mu}}$\n",
    "***"
   ]
  },
  {
   "cell_type": "markdown",
   "id": "floppy-carbon",
   "metadata": {},
   "source": [
    "<h1 style=\"color:blue\">Instructions</h1>"
   ]
  },
  {
   "cell_type": "markdown",
   "id": "70c9392f-68be-443f-869f-3d11500d23d8",
   "metadata": {},
   "source": [
    "### Submissions: \n",
    "\n",
    "By **groups** of _about_ three students (meaning: two is OK, four is not advisable but possible. Individual homeworks \n",
    "will also be accepted but collaborative work is preferable). \n",
    "\n",
    "Please send me an **email** with the team members names as soon as you have formed it.\n",
    "\n",
    "Only **one copy** of each group's work must be uploaded (by any member)"
   ]
  },
  {
   "cell_type": "markdown",
   "id": "205b1149-7745-4070-af12-b16374a0b741",
   "metadata": {},
   "source": [
    "### Format: \n",
    "\n",
    "A Jupyter or R Markdown **notebook,** with a **header** clearly stating the names of all contributors. "
   ]
  },
  {
   "cell_type": "markdown",
   "id": "c7ffc8d7-72ad-4915-a21b-863c669d439d",
   "metadata": {
    "tags": []
   },
   "source": [
    "### Documentation: \n",
    "\n",
    "Comments **in code cells** (e.g., meaning of variables, parameters, purpose of functions) are necessary but not sufficient.\n",
    "\n",
    "You are expected to give full explanations of steps taken in your solution (in **Markdown cells**), as well as discussion of results and their meaning.\n",
    "\n",
    "Do not drear being too verbose or too elementary."
   ]
  },
  {
   "cell_type": "markdown",
   "id": "de26c667-4256-4b2a-bfb8-cc11bc9a10bb",
   "metadata": {},
   "source": [
    "### External sources\n",
    "\n",
    "Getting inspiration from any book, document, blog, wep page, even mimicking solutions given in there, is **allowed and encouraged,** provided you give a **proper reference,**\n",
    "understand every such material, and explain it in you own words, even more exhaustively.\n",
    "\n",
    "Dare not **copy/paste literally.** I do detect it, believe me, even with a missing source reference. Bleak consequences."
   ]
  },
  {
   "cell_type": "markdown",
   "id": "52ca45a3-4eab-4ff4-94d1-0fac33d6e15a",
   "metadata": {},
   "source": [
    "### Deadline:\n",
    "\n",
    "Completed assignments are due on Tuesday, April 19. They are to be uploaded to the Virtual Campus."
   ]
  },
  {
   "cell_type": "markdown",
   "id": "acceptable-lender",
   "metadata": {},
   "source": [
    "<h1 style=\"color:blue\">01 - Stan version of a conjugate prior problem</h1>\n",
    "\n",
    "<h2 style=\"color:blue\">Modelling Earthquake Waiting Times</h2>"
   ]
  },
  {
   "cell_type": "markdown",
   "id": "exceptional-marina",
   "metadata": {},
   "source": [
    "Consider the problem in `Exponential.02.Earthquake` (notebook in 2022-03-28 folder), where the goal is to study earthquake waiting times.\n",
    "\n",
    "Likelihood is modelled as an $\\expdist(\\lambda)$ and $\\lambda$ is given a conjugate prior, $\\lambda\\sim\\gammadist(\\alpha,\\beta)$.\n",
    "\n",
    "In this notebook some simulations are performed for:\n",
    "\n",
    "01. Prior pdf for $\\lambda$.\n",
    "02. Prior predictive pdf for the waiting time.\n",
    "03. Posterior pdf for $\\lambda$.\n",
    "04. Posterior predictive for new waiting time.\n",
    "\n",
    "In `Exponential.02.Earthquake` we use known theoretical (analytical) descriptions of these distributions.\n",
    "\n",
    "Your task is to redo these simulations using Stan, disregarding analytical conjugate prior formulas, and then comparing your results to the analytical ones. Use this comparison to tune up adjustable parameters in Stan sampling, such as chain length. "
   ]
  },
  {
   "cell_type": "markdown",
   "id": "88a1e9e2",
   "metadata": {},
   "source": [
    "### Resolution:"
   ]
  },
  {
   "cell_type": "markdown",
   "id": "e7c79437",
   "metadata": {},
   "source": [
    "We'll redo each simulation stated above using Stan. We first load the needed library. Recall that for Stan to work Rtools has to be upgraded to 4.0 version above (https://cran.r-project.org/bin/windows/Rtools/)."
   ]
  },
  {
   "cell_type": "code",
   "execution_count": 1,
   "id": "3053eb9c",
   "metadata": {
    "scrolled": true
   },
   "outputs": [
    {
     "name": "stderr",
     "output_type": "stream",
     "text": [
      "Warning message:\n",
      "\"package 'rstan' was built under R version 4.1.3\"\n",
      "Loading required package: StanHeaders\n",
      "\n",
      "Warning message:\n",
      "\"package 'StanHeaders' was built under R version 4.1.3\"\n",
      "Loading required package: ggplot2\n",
      "\n",
      "rstan (Version 2.21.5, GitRev: 2e1f913d3ca3)\n",
      "\n",
      "For execution on a local, multicore CPU with excess RAM we recommend calling\n",
      "options(mc.cores = parallel::detectCores()).\n",
      "To avoid recompilation of unchanged Stan programs, we recommend calling\n",
      "rstan_options(auto_write = TRUE)\n",
      "\n",
      "Do not specify '-march=native' in 'LOCAL_CPPFLAGS' or a Makevars file\n",
      "\n"
     ]
    }
   ],
   "source": [
    "#Let's load the library stan needed for the resolution of this exercise:\n",
    "library(rstan)\n",
    "\n",
    "#Let's set the default parameters to the recommended ones:\n",
    "options(mc.cores = parallel::detectCores()) #execution on a local, multicore CPU with excess RAM\n",
    "rstan_options(auto_write = TRUE) #avoid recompilation of unchanged Stan programs"
   ]
  },
  {
   "cell_type": "markdown",
   "id": "ee8d59d8",
   "metadata": {},
   "source": [
    "#### Simulate priors"
   ]
  },
  {
   "cell_type": "markdown",
   "id": "0b70aa0e",
   "metadata": {},
   "source": [
    "First, we will simulate prior pdf for $\\lambda$ and prior pdf for $Y$. "
   ]
  },
  {
   "cell_type": "markdown",
   "id": "fa85fe7f",
   "metadata": {},
   "source": [
    "We need to specify the model that we'll compile with Stan knowing that:\n",
    "- $Y \\sim \\expdist(\\lambda)$. As $Y$ follows a exponential distribution it must also be a positive real number.\n",
    "- $\\lambda\\sim\\gammadist(\\alpha,\\beta)$. As $\\lambda$ follows a gamma distribution it must also be a positive real number. Finally, $\\alpha$ and $\\beta$ parameters of a gamma must be positive real numbers\n",
    "\n",
    "Because we are know simulating prior pdf, we have to comment the part where we specify the data and add the generated quantities part:"
   ]
  },
  {
   "cell_type": "code",
   "execution_count": 2,
   "id": "c3b547b5",
   "metadata": {},
   "outputs": [],
   "source": [
    "modelString_Prior <- \"\n",
    "data {\n",
    "    int<lower=0> n;\n",
    "    real<lower=0> a; \n",
    "    real<lower=0> b;\n",
    "    // real<lower=0> y[n]; //no data needed\n",
    "    }\n",
    "parameters {\n",
    "    real<lower=0.00001> lambda;\n",
    "    }\n",
    "model {\n",
    "    lambda ~ gamma(a,b);\n",
    "    //y~exponential(lambda); //no data needed\n",
    "    }\n",
    "generated quantities{                // Sampling from the lambda prior\n",
    "    real<lower=0> y_pred;\n",
    "    y_pred = exponential_rng(lambda);\n",
    "    }\n",
    "    \""
   ]
  },
  {
   "cell_type": "markdown",
   "id": "69919b0a",
   "metadata": {},
   "source": [
    "As stated in the notebook, the prior belief for this problem is that the time between earthquakes might be around 30 days. For this, because the expectation of $Y$ is $E(Y)=1/\\lambda$, we set the prior parameter to $\\lambda = 1/30$ days. So, because we assume the conjugate prior $\\lambda\\sim\\operatorname{Gamma}(\\alpha,\\beta)$, then the values for the parameters $\\alpha = 1$ and $\\beta = 30$ will make the trick. Let's set them:"
   ]
  },
  {
   "cell_type": "code",
   "execution_count": 3,
   "id": "8df09c1f",
   "metadata": {},
   "outputs": [],
   "source": [
    "a <- 1\n",
    "b <- 30"
   ]
  },
  {
   "cell_type": "markdown",
   "id": "07d7204c",
   "metadata": {},
   "source": [
    "Also, in order to compare the simulated predictive prior to the theorical one, we will use n=1 because the theorical pdf turns out to be a Lomax distribution:"
   ]
  },
  {
   "cell_type": "code",
   "execution_count": 4,
   "id": "82162e9e",
   "metadata": {},
   "outputs": [],
   "source": [
    "n <- 1"
   ]
  },
  {
   "cell_type": "markdown",
   "id": "76a430ba",
   "metadata": {},
   "source": [
    "Now we can do the simulation of prior pdf's. We'll do the simulation with the default parameters of the function sampling (iter=2000, warmup=1000, thin=1, chain=1000). Later on, we will change the parameters to adjust the simulation to the theorical one:"
   ]
  },
  {
   "cell_type": "code",
   "execution_count": 5,
   "id": "f2bde785",
   "metadata": {},
   "outputs": [
    {
     "data": {
      "text/plain": [
       "Inference for Stan model: 4fa8a2dc8631e6ebc1d00d4858004400.\n",
       "4 chains, each with iter=2000; warmup=1000; thin=1; \n",
       "post-warmup draws per chain=1000, total post-warmup draws=4000.\n",
       "\n",
       "         mean se_mean      sd  2.5%   25%   50%   75%  97.5% n_eff Rhat\n",
       "lambda   0.03    0.00    0.03  0.00  0.01  0.02  0.05   0.12  1410    1\n",
       "y_pred 143.39   28.51 1733.10  0.79 10.16 30.20 82.21 759.30  3696    1\n",
       "lp__    -4.92    0.02    0.67 -6.72 -5.12 -4.67 -4.46  -4.40  1223    1\n",
       "\n",
       "Samples were drawn using NUTS(diag_e) at Tue Apr 26 20:52:46 2022.\n",
       "For each parameter, n_eff is a crude measure of effective sample size,\n",
       "and Rhat is the potential scale reduction factor on split chains (at \n",
       "convergence, Rhat=1)."
      ]
     },
     "metadata": {},
     "output_type": "display_data"
    }
   ],
   "source": [
    "# Translate model to C++ and compile to DSO:\n",
    "stanDso <- stan_model(model_code = modelString_Prior) \n",
    "\n",
    "#Initializate data with the defined above parameters:\n",
    "dataList <- list(n = n, a = a, b = b)\n",
    "\n",
    "# Generate simulated sample (default parameters):\n",
    "set.seed(212312) #for reproductibillity reasons we set a fixed random seed\n",
    "stanFit_Prior <- sampling(object = stanDso, data = dataList)\n",
    "stanFit_Prior"
   ]
  },
  {
   "cell_type": "markdown",
   "id": "40cc58f9",
   "metadata": {},
   "source": [
    "Compare first the simulated prior $\\lambda$ to the theorical one given by the gamma distribution defined above:"
   ]
  },
  {
   "cell_type": "code",
   "execution_count": 6,
   "id": "a447ab8a",
   "metadata": {},
   "outputs": [
    {
     "data": {
      "image/png": "[encoded data removed]",
      "text/plain": [
       "Plot with title \"Histogram of lambda_Prior\""
      ]
     },
     "metadata": {
      "image/png": {
       "height": 420,
       "width": 420
      }
     },
     "output_type": "display_data"
    }
   ],
   "source": [
    "#Extract lambda:\n",
    "lambda_Prior <- extract(stanFit_Prior, 'lambda')\n",
    "lambda_Prior <- unlist(lambda_Prior, use.names=FALSE)\n",
    "\n",
    "options(repr.plot.width=7,repr.plot.height=7)\n",
    "#Histogram of the simulated distribution via Stan:\n",
    "hist(lambda_Prior,freq=FALSE,col=\"LightGreen\",xlab=expression(lambda),ylim=c(0,30),breaks=25)\n",
    "v<-seq(0,max(lambda_Prior),length=1000)\n",
    "#Line with the theorical distribution:\n",
    "lines(v,dgamma(v,shape=a,rate=b),lwd=2.5,col=\"blue\")"
   ]
  },
  {
   "cell_type": "markdown",
   "id": "6c00a8b6",
   "metadata": {},
   "source": [
    "The histogram adjusts pretty good the theorical pdf. Let's do the same but now comparing the simulated predictive prior pdf:"
   ]
  },
  {
   "cell_type": "code",
   "execution_count": 7,
   "id": "94b42727",
   "metadata": {},
   "outputs": [
    {
     "data": {
      "image/png": "[encoded data removed]",
      "text/plain": [
       "Plot with title \"Histogram of y_pred_Prior\""
      ]
     },
     "metadata": {
      "image/png": {
       "height": 420,
       "width": 420
      }
     },
     "output_type": "display_data"
    }
   ],
   "source": [
    "#Theorical Lomax pdf function:\n",
    "Theor.pred.pdf<-function(y,a,b){return(ifelse(y>0,a*b^{a}/(y+b)^(a+1),0))}\n",
    "\n",
    "#Extract y_pred:\n",
    "y_pred_Prior <- extract(stanFit_Prior, 'y_pred')\n",
    "y_pred_Prior <- unlist(y_pred_Prior, use.names=FALSE)\n",
    "\n",
    "#Truncate it to the 90% quantile for visualization purposes:\n",
    "y_pred_Prior <- y_pred_Prior[y_pred_Prior < quantile(y_pred_Prior, probs = 0.9)]\n",
    "\n",
    "options(repr.plot.width=7,repr.plot.height=7)\n",
    "#Histogram of the simulated prior via stan:\n",
    "hist(y_pred_Prior,freq=FALSE,col=\"LightGreen\", xlab = \"y_pred\", ylim = c(0,0.035))\n",
    "v<-seq(0,max(y_pred_Prior),length=1000)\n",
    "#Line with the theorical distribution:\n",
    "lines(v,Theor.pred.pdf(v, a, b),lwd=2.5,col=\"blue\")"
   ]
  },
  {
   "cell_type": "markdown",
   "id": "98fae547",
   "metadata": {},
   "source": [
    "#### Simulate posteriors"
   ]
  },
  {
   "cell_type": "markdown",
   "id": "310fd8ae",
   "metadata": {},
   "source": [
    "We define the same model string as before but without commenting the specification of the data in order to compute the posterior pdfs: "
   ]
  },
  {
   "cell_type": "code",
   "execution_count": 8,
   "id": "5edb7b4d",
   "metadata": {},
   "outputs": [],
   "source": [
    "modelString <- \"\n",
    "data {\n",
    "    int<lower=0> n;\n",
    "    real<lower=0> a; \n",
    "    real<lower=0> b;\n",
    "    real<lower=0> y[n];\n",
    "    }\n",
    "parameters {\n",
    "    real<lower=0.00001> lambda;\n",
    "    }\n",
    "model {\n",
    "    lambda ~ gamma(a,b);\n",
    "    y~exponential(lambda);\n",
    "    }\n",
    "generated quantities{                // Sampling from the lambda posterior\n",
    "    real<lower=0> y_pred;\n",
    "    y_pred = exponential_rng(lambda);\n",
    "    }\n",
    "    \""
   ]
  },
  {
   "cell_type": "markdown",
   "id": "73656caf",
   "metadata": {},
   "source": [
    "Recall that our data vector is $Y = (16, 8, 114, 60, 4, 23, 30, 105)$ and $n=8$. Let's set them:"
   ]
  },
  {
   "cell_type": "code",
   "execution_count": 9,
   "id": "05ff3661",
   "metadata": {},
   "outputs": [],
   "source": [
    "y <- c(16, 8, 114, 60, 4, 23, 30, 105)\n",
    "n <- length(y)"
   ]
  },
  {
   "cell_type": "markdown",
   "id": "a7d7daf1",
   "metadata": {},
   "source": [
    "Now, we can compile the model and sample from the posterior pdf, with the same default parameters:"
   ]
  },
  {
   "cell_type": "code",
   "execution_count": 10,
   "id": "2a92dea3",
   "metadata": {},
   "outputs": [
    {
     "data": {
      "text/plain": [
       "Inference for Stan model: 4480d0ee243bf48fe4eb5378dfc9c442.\n",
       "4 chains, each with iter=2000; warmup=1000; thin=1; \n",
       "post-warmup draws per chain=1000, total post-warmup draws=4000.\n",
       "\n",
       "         mean se_mean    sd   2.5%    25%    50%    75%  97.5% n_eff Rhat\n",
       "lambda   0.02    0.00  0.01   0.01   0.02   0.02   0.03   0.04  1391    1\n",
       "y_pred  48.05    0.93 55.55   1.02  12.66  31.09  61.86 202.28  3561    1\n",
       "lp__   -43.42    0.02  0.72 -45.33 -43.55 -43.14 -42.97 -42.92  1243    1\n",
       "\n",
       "Samples were drawn using NUTS(diag_e) at Tue Apr 26 20:53:12 2022.\n",
       "For each parameter, n_eff is a crude measure of effective sample size,\n",
       "and Rhat is the potential scale reduction factor on split chains (at \n",
       "convergence, Rhat=1)."
      ]
     },
     "metadata": {},
     "output_type": "display_data"
    }
   ],
   "source": [
    "# Translate model to C++ and compile to DSO:\n",
    "stanDso <- stan_model(model_code = modelString) \n",
    "\n",
    "#Initializate data with the defined above parameters:\n",
    "dataList <- list(y = y, n = n, a = a, b = b)\n",
    "\n",
    "# Generate simulated sample (default parameters):\n",
    "set.seed(212312) #for reproductibillity reasons we set a fixed random seed\n",
    "stanFit <- sampling(object = stanDso, data = dataList)\n",
    "stanFit"
   ]
  },
  {
   "cell_type": "markdown",
   "id": "f7afe907",
   "metadata": {},
   "source": [
    "Let's compare now the simulated posterior pdf of $\\lambda$ with the theorical one. We will calculate the theorical posterior a and b from the theory of conjugated pairs that says that  $\\lambda\\sim\\operatorname{Gamma}(\\alpha',\\beta')$:\n",
    "\n",
    "$$\n",
    "    \\left\\{\n",
    "    \\begin{array}{lcl}\n",
    "    \\alpha'&=&\\alpha+n,\\\\[0.2cm]\n",
    "    \\beta'&=&\\beta+n\\,\\overline{y}.\n",
    "    \\end{array}\\right.\n",
    "$$"
   ]
  },
  {
   "cell_type": "code",
   "execution_count": 11,
   "id": "fcb0539e",
   "metadata": {},
   "outputs": [
    {
     "data": {
      "image/png": "[encoded data removed]",
      "text/plain": [
       "Plot with title \"Histogram of lambda\""
      ]
     },
     "metadata": {
      "image/png": {
       "height": 420,
       "width": 420
      }
     },
     "output_type": "display_data"
    }
   ],
   "source": [
    "#Calculate theorical posterior a and b:\n",
    "nybar <- sum(y)\n",
    "\n",
    "post.a <- a + n\n",
    "post.b <- b + nybar\n",
    "\n",
    "#Extract lambda:\n",
    "lambda <- extract(stanFit, 'lambda')\n",
    "lambda <- unlist(lambda, use.names=FALSE)\n",
    "\n",
    "options(repr.plot.width=7,repr.plot.height=7)\n",
    "#Histogram of the simulated distribution via Stan:\n",
    "hist(lambda,freq=FALSE,col=\"LightGreen\",xlab=expression(lambda),breaks=25, ylim=c(0,53))\n",
    "v<-seq(0,max(lambda),length=1000)\n",
    "#Line with the theorical distribution:\n",
    "lines(v,dgamma(v,shape=post.a,rate=post.b),lwd=2.5,col=\"blue\")"
   ]
  },
  {
   "cell_type": "markdown",
   "id": "c2f039d1",
   "metadata": {},
   "source": [
    "Finally, we compare the simulated predictive posterior pdf with the theorical one.  We'll use also the posterior parameters a and b calculated before:"
   ]
  },
  {
   "cell_type": "code",
   "execution_count": 12,
   "id": "721e4cdd",
   "metadata": {},
   "outputs": [
    {
     "data": {
      "image/png": "[encoded data removed]",
      "text/plain": [
       "Plot with title \"Histogram of y_pred\""
      ]
     },
     "metadata": {
      "image/png": {
       "height": 420,
       "width": 420
      }
     },
     "output_type": "display_data"
    }
   ],
   "source": [
    "#Extract y_pred:\n",
    "y_pred <- extract(stanFit, 'y_pred')\n",
    "y_pred <- unlist(y_pred, use.names=FALSE)\n",
    "\n",
    "#Truncate it to the 90% quantile for visualization purposes:\n",
    "y_pred <- y_pred[y_pred < quantile(y_pred, probs = 0.9)]\n",
    "\n",
    "options(repr.plot.width=7,repr.plot.height=7)\n",
    "#Histogram of the simulated prior via stan:\n",
    "hist(y_pred,freq=FALSE,col=\"LightGreen\", xlab = \"y_pred\")\n",
    "v<-seq(0,max(y_pred),length=1000)\n",
    "#Line with the theorical distribution:\n",
    "lines(v,Theor.pred.pdf(v, post.a, post.b),lwd=2.5,col=\"blue\")"
   ]
  },
  {
   "cell_type": "markdown",
   "id": "00e584e8",
   "metadata": {},
   "source": [
    "The adjusted posteriors function are very close to the theorical ones, so the adjustement with the default parameters is pretty good. Nevertheless, we define a function that given the parameters of the sampling function it plots all the histograms comparing prior and posterior pdfs to the teorical ones with the same code that we have done:"
   ]
  },
  {
   "cell_type": "code",
   "execution_count": 13,
   "id": "e8a53893",
   "metadata": {},
   "outputs": [],
   "source": [
    "library(stringr) #for str_glue() function\n",
    "\n",
    "#we put the same default parameters as the ones for the function:\n",
    "compare_theorical <- function(iter = 2000, warmup = 1000, thin = 1, chains = 4){\n",
    "    \n",
    "    print(str_glue(\"Iterations: {iter} \\n Warmup: {warmup} \\n Thin: {thin} \\n Chains: {chains}\"))\n",
    "    \n",
    "    # Translate model to C++ and compile to DSO:\n",
    "    stanDso <- stan_model(model_code = modelString_Prior) \n",
    "\n",
    "    #Initializate data with the defined above parameters:\n",
    "    dataList <- list(n = n, a = a, b = b)\n",
    "\n",
    "    # Generate simulated sample (default parameters):\n",
    "    set.seed(212312)\n",
    "    stanFit_Prior <- sampling(object = stanDso, data = dataList, iter = iter, warmup = warmup, thin = thin, chains = chains)\n",
    "    \n",
    "    #Extract lambda:\n",
    "    lambda_Prior <- extract(stanFit_Prior, 'lambda')\n",
    "    lambda_Prior <- unlist(lambda_Prior, use.names=FALSE)\n",
    "\n",
    "    options(repr.plot.width=7,repr.plot.height=7)\n",
    "    #Simulated distribution via Stan:\n",
    "    hist(lambda_Prior,freq=FALSE,col=\"LightGreen\",xlab=expression(lambda),ylim=c(0,30),breaks=25)\n",
    "    v<-seq(0,max(lambda_Prior),length=1000)\n",
    "    #Theorical distribution:\n",
    "    lines(v,dgamma(v,shape=a,rate=b),lwd=2.5,col=\"blue\")\n",
    "    \n",
    "    #Extract y_pred:\n",
    "    y_pred_Prior <- extract(stanFit_Prior, 'y_pred')\n",
    "    y_pred_Prior <- unlist(y_pred_Prior, use.names=FALSE)\n",
    "    \n",
    "    #Truncate it to the 90% quantile for visualization purposes:\n",
    "    y_pred_Prior <- y_pred_Prior[y_pred_Prior < quantile(y_pred_Prior, probs = 0.9)]\n",
    "    \n",
    "    options(repr.plot.width=7,repr.plot.height=7)\n",
    "    #Histogram of the simulated prior via stan:\n",
    "    hist(y_pred_Prior,freq=FALSE,col=\"LightGreen\", xlab = \"y_pred\", ylim = c(0,0.035))\n",
    "    v<-seq(0,max(y_pred_Prior),length=1000)\n",
    "    #Line with the theorical distribution:\n",
    "    lines(v,Theor.pred.pdf(v, a, b),lwd=2.5,col=\"blue\")\n",
    "    \n",
    "    #Posteriors:\n",
    "    \n",
    "    # Translate model to C++ and compile to DSO:\n",
    "    stanDso <- stan_model(model_code = modelString) \n",
    "\n",
    "    #Initializate data with the defined above parameters:\n",
    "    dataList <- list(y = y, n = n, a = a, b = b)\n",
    "\n",
    "    # Generate simulated sample (default parameters):\n",
    "    set.seed(212312)\n",
    "    stanFit <- sampling(object = stanDso, data = dataList, chains = chains, iter = iter, warmup = warmup, thin = thin)\n",
    "    #Extract lambda:\n",
    "    lambda <- extract(stanFit, 'lambda')\n",
    "    lambda <- unlist(lambda, use.names=FALSE)\n",
    "    \n",
    "    options(repr.plot.width=7,repr.plot.height=7)\n",
    "    #Histogram of the simulated distribution via Stan:\n",
    "    hist(lambda,freq=FALSE,col=\"LightGreen\",xlab=expression(lambda),breaks=25, ylim=c(0,53))\n",
    "    v<-seq(0,max(lambda),length=1000)\n",
    "    #Line with the theorical distribution:\n",
    "    lines(v,dgamma(v,shape=post.a,rate=post.b),lwd=2.5,col=\"blue\")\n",
    "    \n",
    "    #Extract y_pred:\n",
    "    y_pred <- extract(stanFit, 'y_pred')\n",
    "    y_pred <- unlist(y_pred, use.names=FALSE)\n",
    "    \n",
    "    #Truncate it to the 90% quantile for visualization purposes:\n",
    "    y_pred <- y_pred[y_pred < quantile(y_pred, probs = 0.9)]\n",
    "    \n",
    "    options(repr.plot.width=7,repr.plot.height=7)\n",
    "    #Histogram of the simulated prior via stan:\n",
    "    hist(y_pred,freq=FALSE,col=\"LightGreen\", xlab = \"y_pred\")\n",
    "    v<-seq(0,max(y_pred),length=1000)\n",
    "    #Line with the theorical distribution:\n",
    "    lines(v,Theor.pred.pdf(v, post.a, post.b),lwd=2.5,col=\"blue\")\n",
    "    \n",
    "}"
   ]
  },
  {
   "cell_type": "markdown",
   "id": "e0d02d03",
   "metadata": {},
   "source": [
    "We can increase the chains and the iterations, taking in account that high numbers might kill the kernel. Let's see for example the results with chains up to 100 and 4000 iterations:"
   ]
  },
  {
   "cell_type": "code",
   "execution_count": 14,
   "id": "cf6e19c7",
   "metadata": {
    "scrolled": false
   },
   "outputs": [
    {
     "name": "stdout",
     "output_type": "stream",
     "text": [
      "Iterations: 4000 \n",
      "Warmup: 1000 \n",
      "Thin: 1 \n",
      "Chains: 100\n"
     ]
    },
    {
     "name": "stderr",
     "output_type": "stream",
     "text": [
      "Warning message:\n",
      "\"There were 26 divergent transitions after warmup. See\n",
      "https://mc-stan.org/misc/warnings.html#divergent-transitions-after-warmup\n",
      "to find out why this is a problem and how to eliminate them.\"\n",
      "Warning message:\n",
      "\"Examine the pairs() plot to diagnose sampling problems\n",
      "\"\n"
     ]
    },
    {
     "data": {
      "image/png": "[encoded data removed]",
      "text/plain": [
       "Plot with title \"Histogram of lambda_Prior\""
      ]
     },
     "metadata": {
      "image/png": {
       "height": 420,
       "width": 420
      }
     },
     "output_type": "display_data"
    },
    {
     "data": {
      "image/png": "[encoded data removed]",
      "text/plain": [
       "Plot with title \"Histogram of y_pred_Prior\""
      ]
     },
     "metadata": {
      "image/png": {
       "height": 420,
       "width": 420
      }
     },
     "output_type": "display_data"
    },
    {
     "data": {
      "image/png": "[encoded data removed]",
      "text/plain": [
       "Plot with title \"Histogram of lambda\""
      ]
     },
     "metadata": {
      "image/png": {
       "height": 420,
       "width": 420
      }
     },
     "output_type": "display_data"
    },
    {
     "data": {
      "image/png": "[encoded data removed]",
      "text/plain": [
       "Plot with title \"Histogram of y_pred\""
      ]
     },
     "metadata": {
      "image/png": {
       "height": 420,
       "width": 420
      }
     },
     "output_type": "display_data"
    }
   ],
   "source": [
    "compare_theorical(iter = 4000, chains = 100)"
   ]
  },
  {
   "cell_type": "markdown",
   "id": "59a740d7",
   "metadata": {},
   "source": [
    "We see that the results improve a little, having a best approximation of y_pred both in prior and posterior pdfs."
   ]
  },
  {
   "cell_type": "markdown",
   "id": "upper-radio",
   "metadata": {},
   "source": [
    "<h1 style=\"color:blue\">02 - A more elaborate mixture prior for the spinning coin</h1>"
   ]
  },
  {
   "cell_type": "markdown",
   "id": "disturbed-friendship",
   "metadata": {},
   "source": [
    "(continued from Diaconis experiment)"
   ]
  },
  {
   "cell_type": "markdown",
   "id": "operational-roommate",
   "metadata": {},
   "source": [
    "On reflection, it was decided that tails had come up more often than heads in the past; further some coins seemed likely to be symmetric. \n",
    "\n",
    "Thus, a final approximation to the prior was taken as:\n",
    "\n",
    "$$\n",
    "    0.50\\cdot\\betadist(10,20) + 0.20\\cdot\\betadist(15,15) + 0.30\\cdot\\betadist(20,10).\n",
    "$$\n",
    "\n",
    "Same observed data as in the previous model."
   ]
  },
  {
   "cell_type": "code",
   "execution_count": 15,
   "id": "continental-diesel",
   "metadata": {},
   "outputs": [],
   "source": [
    "# Number of trials\n",
    "n<-10\n",
    "# Observed x\n",
    "x.obs<-3"
   ]
  },
  {
   "cell_type": "markdown",
   "id": "fluid-moderator",
   "metadata": {},
   "source": [
    "Perform a complete Bayesian analysis of this model, in close parallel to the first example.\n",
    "\n",
    "(1) Using the theoretical formulas (prior predictive pmf, posterior pdf, posterior predictive pmf)\n",
    "\n",
    "(2) Using independent random numbers (`rbeta()` functions, etc.)\n",
    "\n",
    "(3) JAGS version\n",
    "\n",
    "(4)$ {}^{\\star}$ Stan version. "
   ]
  },
  {
   "cell_type": "markdown",
   "id": "pursuant-martin",
   "metadata": {},
   "source": [
    ">$ (\\star)$ Hint: this one **is difficult** due to intrinsic limitations in Stan. There are several known workarounds; you can try to find one but do not despair if you fail to develop a workable version.\n",
    "\n",
    ">As a matter of fact even a Stan version of the two-components prior mixture in `Mixture.priors.02.ipynb` \n",
    "is rather tricky: Stan does not allow integer parameters thus the JAGS code cannot be translated literally."
   ]
  },
  {
   "cell_type": "markdown",
   "id": "intelligent-triangle",
   "metadata": {},
   "source": [
    "Diaconis and Ylvisaker (1985) compare both mixture conjugate priors with a $ \\operatorname{Unif}(0,1)$ prior with the data above. \n",
    "\n",
    "Comparing the MAP estimators, they observe that in a first approximation, they coincide, but spreads do depend on the prior."
   ]
  },
  {
   "cell_type": "markdown",
   "id": "d1614226-83b4-4724-a7bb-dc324d8365b1",
   "metadata": {},
   "source": [
    "They repeat the computations above with a larger sample. "
   ]
  },
  {
   "cell_type": "code",
   "execution_count": 16,
   "id": "closing-vancouver",
   "metadata": {},
   "outputs": [],
   "source": [
    "n1<-50\n",
    "x1.obs<-14"
   ]
  },
  {
   "cell_type": "markdown",
   "id": "9de8949b-1cdd-4ac7-8a8c-8a1c1da310de",
   "metadata": {},
   "source": [
    "Their conclusion is that with small data, prior matters, but with larger samples, a finely tuned choice of prior is less important."
   ]
  },
  {
   "cell_type": "markdown",
   "id": "6ae435db",
   "metadata": {},
   "source": [
    "### Resolution"
   ]
  },
  {
   "cell_type": "code",
   "execution_count": 17,
   "id": "93995c6f",
   "metadata": {},
   "outputs": [
    {
     "name": "stderr",
     "output_type": "stream",
     "text": [
      "Loading required package: MASS\n",
      "\n",
      "Loading required package: extraDistr\n",
      "\n",
      "Warning message:\n",
      "\"package 'extraDistr' was built under R version 4.1.2\"\n"
     ]
    }
   ],
   "source": [
    "require(MASS) # for truehist\n",
    "#install.packages(\"extraDistr\", dependencies=TRUE, repos= \"https://cloud.r-project.org\")\n",
    "require(extraDistr) # needed for the Beta-binomial predictive prior"
   ]
  },
  {
   "cell_type": "markdown",
   "id": "88d54ca0",
   "metadata": {},
   "source": [
    "### 2.1 Using theorical formulas"
   ]
  },
  {
   "cell_type": "markdown",
   "id": "e6176c36",
   "metadata": {},
   "source": [
    "##### Prior $\\theta$ pdf "
   ]
  },
  {
   "cell_type": "markdown",
   "id": "f43025c5",
   "metadata": {},
   "source": [
    "As stated above, the parameter $\\theta$ follows a prior distribution $\\theta \\sim 0.50\\cdot\\betadist(10,20) + 0.20\\cdot\\betadist(15,15) + 0.30\\cdot\\betadist(20,10).\n",
    "$ Let's initialize the prior parameters given this approximation:"
   ]
  },
  {
   "cell_type": "code",
   "execution_count": 18,
   "id": "efa3b778",
   "metadata": {},
   "outputs": [],
   "source": [
    "prior.a1 <- 10\n",
    "prior.b1 <- 20\n",
    "prior.a2 <- 15\n",
    "prior.b2 <- 15\n",
    "prior.a3 <- 20\n",
    "prior.b3 <- 10\n",
    "prior.gamma1 <- 0.5\n",
    "prior.gamma2 <- 0.2\n",
    "prior.gamma3 <- 1 - (prior.gamma1 + prior.gamma2)"
   ]
  },
  {
   "cell_type": "markdown",
   "id": "43258a7b",
   "metadata": {},
   "source": [
    "So, the prior parameter follows a mixture of three beta distributions that we can represent:"
   ]
  },
  {
   "cell_type": "code",
   "execution_count": 19,
   "id": "26a420ef",
   "metadata": {},
   "outputs": [
    {
     "data": {
      "image/png": "[encoded data removed]",
      "text/plain": [
       "Plot with title \"Second pdf\""
      ]
     },
     "metadata": {
      "image/png": {
       "height": 300,
       "width": 600
      }
     },
     "output_type": "display_data"
    },
    {
     "data": {
      "image/png": "[encoded data removed]",
      "text/plain": [
       "Plot with title \"Third pdf\""
      ]
     },
     "metadata": {
      "image/png": {
       "height": 300,
       "width": 600
      }
     },
     "output_type": "display_data"
    }
   ],
   "source": [
    "options(repr.plot.width=10,repr.plot.height=5)\n",
    "v<-seq(0,1,length=500)\n",
    "old.par<-par(mfrow=c(1,2))\n",
    "plot(v,dbeta(v,prior.a1,prior.b1),type=\"l\",lwd=3.5,col=\"DarkGreen\",xlab=\"x\",ylab=\"Density\",main=\"First pdf\")\n",
    "plot(v,dbeta(v,prior.a2,prior.b2),type=\"l\",lwd=3.5,col=\"DarkGreen\",xlab=\"x\",ylab=\"Density\",main=\"Second pdf\")\n",
    "plot(v,dbeta(v,prior.a3,prior.b3),type=\"l\",lwd=3.5,col=\"DarkGreen\",xlab=\"x\",ylab=\"Density\",main=\"Third pdf\")\n",
    "par(old.par)"
   ]
  },
  {
   "cell_type": "markdown",
   "id": "01c80750",
   "metadata": {},
   "source": [
    "Let's define the prior pdf function for $\\theta$ based on the parameters and the expression defined above and let's plot it:"
   ]
  },
  {
   "cell_type": "code",
   "execution_count": 20,
   "id": "65b6b914",
   "metadata": {},
   "outputs": [
    {
     "data": {
      "image/png": "[encoded data removed]",
      "text/plain": [
       "Plot with title \"Mixture prior\""
      ]
     },
     "metadata": {
      "image/png": {
       "height": 330,
       "width": 330
      }
     },
     "output_type": "display_data"
    }
   ],
   "source": [
    "#x will be a vector of possible values that can take the beta distribution (thus between 0 and 1)\n",
    "mixture.prior.pdf<-function(x){\n",
    "    return(prior.gamma1*dbeta(x,prior.a1,prior.b1)+prior.gamma2*dbeta(x,prior.a2,prior.b2)+prior.gamma3*dbeta(x,prior.a3,prior.b3))\n",
    "    }\n",
    "\n",
    "options(repr.plot.width=5.5,repr.plot.height=5.5)\n",
    "v<-seq(0,1,length=500)\n",
    "plot(v,mixture.prior.pdf(v),type=\"l\",lwd=3.5,col=\"DarkGreen\",xlab=\"x\",ylab=\"Density\",main=\"Mixture prior\")"
   ]
  },
  {
   "cell_type": "markdown",
   "id": "5f17465f",
   "metadata": {},
   "source": [
    "##### Prior predictive pmf"
   ]
  },
  {
   "cell_type": "markdown",
   "id": "778ad7c4",
   "metadata": {},
   "source": [
    "As stated in the notebook's example the likelihood follows $\\sim \\binomdist(n,\\theta)$ so it can be deduced that the joint pdf would be \n",
    "\n",
    "$$\n",
    "\tf(x,\\theta)=\\gamma_1\\cdot f_{1}(x,\\theta)+\\gamma_2\\cdot  f_{2}(x,\\theta)+\\gamma_3\\cdot f_3(x,\\theta).\n",
    "$$ \n",
    "\n",
    "where\n",
    "\n",
    "$$\n",
    "\\begin{align*}\n",
    "\tf_{1}\\sim\\operatorname{Beta-Binom}(n,\\alpha_{1},\\beta_{1})&=\\operatorname{Beta-Binom}(10,10,20),\\\\\n",
    "\tf_{2}\\sim\\operatorname{Beta-Binom}(n,\\alpha_{2},\\beta_{2})&=\\operatorname{Beta-Binom}(10,15,15),\\\\\n",
    "    f_{3}\\sim\\operatorname{Beta-Binom}(n,\\alpha_{3},\\beta_{3})&=\\operatorname{Beta-Binom}(10,20,10)\n",
    "\\end{align*}\n",
    "$$\n",
    "\n",
    "and $\\gamma_1=0.5$, $\\gamma_2=0.2$, $\\gamma_3=0.3$ for the prior and being $n = 10$ the number of trials of this example.\n",
    "\n",
    "Let's define the functions defined above and the predictive prior pdf and plot it. Because Beta-Binom only can take integer values from 0 to n we will plot the pmf and not the pdf:"
   ]
  },
  {
   "cell_type": "code",
   "execution_count": 21,
   "id": "9dea3298",
   "metadata": {},
   "outputs": [
    {
     "data": {
      "image/png": "[encoded data removed]",
      "text/plain": [
       "Plot with title \"Theoretical prior predictive pmf\""
      ]
     },
     "metadata": {
      "image/png": {
       "height": 330,
       "width": 330
      }
     },
     "output_type": "display_data"
    }
   ],
   "source": [
    "f1<-function(x){dbbinom(x,size=n,alpha=prior.a1,beta=prior.b1)}\n",
    "f2<-function(x){dbbinom(x,size=n,alpha=prior.a2,beta=prior.b2)}\n",
    "f3<-function(x){dbbinom(x,size=n,alpha=prior.a3,beta=prior.b3)}\n",
    "\n",
    "n <- 10 #number of trials \n",
    "\n",
    "#x will be the support of the beta-binom pdf (between 0 and n):\n",
    "Theor.prior.predictive.pmf<-function(x){\n",
    "    return(prior.gamma1*f1(x)+prior.gamma2*f2(x)+prior.gamma3*f3(x))\n",
    "}\n",
    "\n",
    "options(repr.plot.width=5.5,repr.plot.height=5.5)\n",
    "v<-0:n\n",
    "matplot(x=v,y=Theor.prior.predictive.pmf(v),type=\"h\",lwd=7, lty=1,col=c(\"LightGreen\",\"DarkGreen\"),xlab=\"x\",ylab=\"Rel. Freqs./Probs.\",\n",
    "        main=\"Theoretical prior predictive pmf\")"
   ]
  },
  {
   "cell_type": "markdown",
   "id": "16aaac0e",
   "metadata": {},
   "source": [
    "##### Posterior $\\theta$ pdf"
   ]
  },
  {
   "cell_type": "markdown",
   "id": "d104c47e",
   "metadata": {},
   "source": [
    "From the conjugated property of the $\\theta$ prior distribution we know that the posterior distribution of $\\theta$ will belong to the same family but with updated posterior parameters, so: \n",
    "\n",
    "$$ \n",
    "\th(\\theta\\,|\\,x)=\\widehat{\\gamma}_1(x)\\cdot h_{1}(\\theta\\,|\\,x)\n",
    "\t\t+\\widehat{\\gamma}_2(x)\\cdot h_{2}(\\theta\\,|\\,x) +\\widehat{\\gamma}_3(x)\\cdot h_{3}(\\theta\\,|\\,x),\n",
    "$$\n",
    "\n",
    "From Bayes' formula we can express the posterior $\\theta$ pdf as a function of the prior joint pdf and the marginal pdf of the observed data:\n",
    "\n",
    "$$\n",
    "    h(\\theta\\,|\\,x)=\\dfrac{f(x,\\theta)}{f(x)}\n",
    "        =\\dfrac{\\gamma_1\\cdot f_{1}(x,\\theta)+\\gamma_2\\cdot  f_{2}(x,\\theta) + \\gamma_3\\cdot  f_{3}(x,\\theta)}\n",
    "            {\\gamma_1\\cdot f_{1}(x)+\\gamma_2\\cdot f_{2}(x)+\\gamma_3\\cdot f_{3}(x)}.\n",
    "$$\n",
    "\n",
    "Then, taking the first formula we can replace $h_i(x)$ by the following Bayes' expression:\n",
    "\n",
    "$$h_{i}(\\theta\\,|\\,x)=\\dfrac{f_{i}(x,\\theta)}{f_{i}(x)}\t\\quad i=1,2, 3$$\n",
    "\n",
    "So combining the two first formulas and equaling each sumand we can deduce:\n",
    "\n",
    "$$\n",
    "\t\\widehat{\\gamma}_i(x)=\\dfrac{\\gamma_i\\cdot f_{i}(x)}{\\gamma_1\\cdot f_{1}(x)+\\gamma_2\\cdot f_{2}(x)+\\gamma_3\\cdot f_{3}(x)} \\quad i=1,2,3.\n",
    "$$\n",
    "\n",
    "\n",
    "Let's calculate them using $f_i(x)$ we have defined above and the observed data x=3:"
   ]
  },
  {
   "cell_type": "code",
   "execution_count": 22,
   "id": "7b54e4d6",
   "metadata": {},
   "outputs": [
    {
     "name": "stdout",
     "output_type": "stream",
     "text": [
      "[1] 1\n"
     ]
    }
   ],
   "source": [
    "# Observed x\n",
    "x.obs<-3\n",
    "\n",
    "posterior.gamma1<-prior.gamma1*f1(x.obs)/(prior.gamma1*f1(x.obs)+prior.gamma2*f2(x.obs)+prior.gamma3*f3(x.obs))\n",
    "posterior.gamma2<-prior.gamma2*f2(x.obs)/(prior.gamma1*f1(x.obs)+prior.gamma2*f2(x.obs)+prior.gamma3*f3(x.obs))\n",
    "posterior.gamma3<-prior.gamma3*f3(x.obs)/(prior.gamma1*f1(x.obs)+prior.gamma2*f2(x.obs)+prior.gamma3*f3(x.obs))\n",
    "\n",
    "#If we have done it correctly the sum of all of them would have to be 1:\n",
    "print(posterior.gamma1 + posterior.gamma2 + posterior.gamma3)"
   ]
  },
  {
   "cell_type": "markdown",
   "id": "7ac6746a",
   "metadata": {},
   "source": [
    "Now let's compute the partial posterior $\\theta$ pdf's from the conjugate pair formulas:\n",
    "\n",
    "$$\n",
    "\\begin{array}{l}\n",
    "\th_{1}\\sim\\operatorname{Beta}(\\alpha_{1}+x,\\beta_{1}+n-x)=\\operatorname{Beta}(10+3,20+10-3)\n",
    "        =\\operatorname{Beta}(13,27),\\\\\n",
    "\th_{2}\\sim\\operatorname{Beta}(\\alpha_{2}+x,\\beta_{2}+n-x)=\\operatorname{Beta}(15+3,15+10-3)\n",
    "        =\\operatorname{Beta}(18,22),\\\\\n",
    "    h_{3}\\sim\\operatorname{Beta}(\\alpha_{3}+x,\\beta_{3}+n-x)=\\operatorname{Beta}(20+3,10+10-3)\n",
    "        =\\operatorname{Beta}(23,17).    \n",
    "\\end{array}\n",
    "$$"
   ]
  },
  {
   "cell_type": "code",
   "execution_count": 23,
   "id": "3c33b490",
   "metadata": {},
   "outputs": [],
   "source": [
    "posterior.a1 <- prior.a1 + x.obs\n",
    "posterior.b1 <- prior.b1 + n - x.obs\n",
    "posterior.a2 <- prior.a2 + x.obs\n",
    "posterior.b2 <- prior.b2 + n - x.obs\n",
    "posterior.a3 <- prior.a3 + x.obs\n",
    "posterior.b3 <- prior.b3 + n - x.obs"
   ]
  },
  {
   "cell_type": "markdown",
   "id": "f59277a5",
   "metadata": {},
   "source": [
    "Now we can plot the $\\theta$ posterior pdf:"
   ]
  },
  {
   "cell_type": "code",
   "execution_count": 24,
   "id": "358ca95b",
   "metadata": {},
   "outputs": [
    {
     "data": {
      "image/png": "[encoded data removed]",
      "text/plain": [
       "Plot with title \"Mixture posterior\""
      ]
     },
     "metadata": {
      "image/png": {
       "height": 360,
       "width": 360
      }
     },
     "output_type": "display_data"
    }
   ],
   "source": [
    "mixture.posterior.pdf<-function(x){\n",
    "    return(posterior.gamma1*dbeta(x,posterior.a1,posterior.b1)+posterior.gamma2*dbeta(x,posterior.a2,posterior.b2)+posterior.gamma3*dbeta(x,posterior.a3,posterior.b3))\n",
    "}\n",
    "\n",
    "# Plot the posterior pdf\n",
    "options(repr.plot.width=6,repr.plot.height=6)\n",
    "v<-seq(0,1,length=500)\n",
    "plot(v,mixture.posterior.pdf(v),\"l\",lwd=2.5,col=\"DarkGreen\",xlab=\"\",ylab=\"\",main=\"Mixture posterior\")"
   ]
  },
  {
   "cell_type": "markdown",
   "id": "4cc3dbd8",
   "metadata": {},
   "source": [
    "##### Posterior predictive pmf"
   ]
  },
  {
   "cell_type": "markdown",
   "id": "f027c487",
   "metadata": {},
   "source": [
    "We know the expression of the predictive pmf so we have only to calculate it with the updated parameters:"
   ]
  },
  {
   "cell_type": "code",
   "execution_count": 25,
   "id": "f47574bf",
   "metadata": {
    "scrolled": true
   },
   "outputs": [
    {
     "data": {
      "image/png": "[encoded data removed]",
      "text/plain": [
       "Plot with title \"Theoretical posterior predictive pmf\""
      ]
     },
     "metadata": {
      "image/png": {
       "height": 330,
       "width": 330
      }
     },
     "output_type": "display_data"
    }
   ],
   "source": [
    "posterior.f1<-function(x){dbbinom(x,size=n,alpha=posterior.a1,beta=posterior.b1)}\n",
    "posterior.f2<-function(x){dbbinom(x,size=n,alpha=posterior.a2,beta=posterior.b2)}\n",
    "posterior.f3<-function(x){dbbinom(x,size=n,alpha=posterior.a3,beta=posterior.b3)}\n",
    "\n",
    "#x will be again the support of the beta-binom pdf (between 0 and n):\n",
    "Theor.posterior.predictive.pmf<-function(x){\n",
    "    return(posterior.gamma1*posterior.f1(x)+posterior.gamma2*posterior.f2(x)+posterior.gamma3*posterior.f3(x))\n",
    "}\n",
    "\n",
    "options(repr.plot.width=5.5,repr.plot.height=5.5)\n",
    "v<-0:n\n",
    "matplot(x=v,y=Theor.posterior.predictive.pmf(v),type=\"h\",lwd=7, lty=1,col=\"LightGreen\",xlab=\"x\",ylab=\"Rel. Freqs./Probs.\",\n",
    "        main=\"Theoretical posterior predictive pmf\")"
   ]
  },
  {
   "cell_type": "markdown",
   "id": "057c98d3",
   "metadata": {},
   "source": [
    "Podem comparar-ho amb la prior per veure com ha canviat la informació i afegir l'anàlisis de les posteriors quantities!!"
   ]
  },
  {
   "cell_type": "markdown",
   "id": "dd982f7f",
   "metadata": {},
   "source": [
    "### 2.2. Using independent random numbers"
   ]
  },
  {
   "cell_type": "markdown",
   "id": "a31b44d2",
   "metadata": {},
   "source": [
    "#### $\\theta$ prior"
   ]
  },
  {
   "cell_type": "markdown",
   "id": "163734f7",
   "metadata": {},
   "source": [
    "Let's generate 20000 samples of the $\\theta$ following the prior distribution defined above, mixture of the three different beta distributions and binomial weights with prior probabilities of 0.5, 0.2 and 0.3.\n",
    "\n",
    "For that we have to assign a probability to each distribution, in order to know to which of the three distributions it will be the theta sampled from. As we know:\n",
    "\n",
    "$$\n",
    "   0.50\\cdot\\betadist(10,20) + 0.20\\cdot\\betadist(15,15) + 0.30\\cdot\\betadist(20,10).\n",
    "$$\n",
    "\n",
    "So we will give the first, second and third distribution a probability of 0.5,0.2 and 0.3, respectively:"
   ]
  },
  {
   "cell_type": "code",
   "execution_count": 26,
   "id": "26541f8d",
   "metadata": {
    "scrolled": true
   },
   "outputs": [],
   "source": [
    "N <- 20000 #Number of simulated samples\n",
    "\n",
    "set.seed(1231) #Random seed number\n",
    "\n",
    "# Defining the probabilities of the three distributions\n",
    "beta_dist <- sample(c(1,2,3), replace = TRUE, size = N, prob=c(0.5, 0.2, 0.3))\n",
    "\n",
    "# pick coins from the distributions (with replacement) in order to generate thetas\n",
    "Sim.prior.theta <- ifelse(beta_dist == 1, rbeta(N, 10, 20), ifelse(beta_dist == 2, rbeta(N, 15, 15), rbeta(N, 20, 10)))"
   ]
  },
  {
   "cell_type": "markdown",
   "id": "ef8a1bae",
   "metadata": {},
   "source": [
    "Let's plot the generated simulated distribution:"
   ]
  },
  {
   "cell_type": "code",
   "execution_count": 27,
   "id": "6b48b128",
   "metadata": {},
   "outputs": [
    {
     "data": {
      "image/png": "[encoded data removed]",
      "text/plain": [
       "Plot with title \"Simulated mixture prior\""
      ]
     },
     "metadata": {
      "image/png": {
       "height": 330,
       "width": 330
      }
     },
     "output_type": "display_data"
    }
   ],
   "source": [
    "options(repr.plot.width=5.5,repr.plot.height=5.5)\n",
    "truehist(Sim.prior.theta,ylim=c(0,2.5),nbins=30,col=\"LightGreen\",xlab=\"\",ylab=\"\",main=\"Simulated mixture prior\")"
   ]
  },
  {
   "cell_type": "markdown",
   "id": "ac189d30",
   "metadata": {},
   "source": [
    "#### Predictive prior"
   ]
  },
  {
   "cell_type": "markdown",
   "id": "01261934",
   "metadata": {},
   "source": [
    "From the generated $\\theta$ samples before, simulate samples from the predictive prior distribution knowing that it follows a binomial distribution of parameter $\\theta$:"
   ]
  },
  {
   "cell_type": "code",
   "execution_count": 28,
   "id": "b527a41e",
   "metadata": {},
   "outputs": [],
   "source": [
    "#Generate samples of the predictive:\n",
    "Sim.x.prior.pred <- rbinom(N, size=n, prob=Sim.prior.theta)"
   ]
  },
  {
   "cell_type": "markdown",
   "id": "6b412e16",
   "metadata": {},
   "source": [
    "Calculate the obtained simulated frequencies and plot them in a histogram:"
   ]
  },
  {
   "cell_type": "code",
   "execution_count": 29,
   "id": "53d1f5f7",
   "metadata": {},
   "outputs": [
    {
     "data": {
      "image/png": "[encoded data removed]",
      "text/plain": [
       "Plot with title \"Simulated prior predictive pmf\""
      ]
     },
     "metadata": {
      "image/png": {
       "height": 420,
       "width": 360
      }
     },
     "output_type": "display_data"
    }
   ],
   "source": [
    "T.Sim.x.prior.pred <- table(Sim.x.prior.pred)\n",
    "f.Sim.x.prior.pred <- T.Sim.x.prior.pred/N\n",
    "options(repr.plot.width=6,repr.plot.height=7)\n",
    "v <- names(T.Sim.x.prior.pred)\n",
    "matplot(x=v,y=f.Sim.x.prior.pred,type=\"h\",lwd=7, lty=1,col=\"LightGreen\",xlab=\"x\",ylab=\"Rel. Freqs./Probs.\",\n",
    "        main=\"Simulated prior predictive pmf\")"
   ]
  },
  {
   "cell_type": "markdown",
   "id": "bfdf2384",
   "metadata": {},
   "source": [
    "#### Posterior $\\theta$"
   ]
  },
  {
   "cell_type": "markdown",
   "id": "e6d76bf8",
   "metadata": {},
   "source": [
    "To calculate the posterior probability of having m=3 heads given prior $\\theta$, we pick all cases resulting in m=3 heads and update the posterior. Calculate the posterior $\\theta$ given that the observed x is 3:"
   ]
  },
  {
   "cell_type": "code",
   "execution_count": 30,
   "id": "f60d171b",
   "metadata": {
    "scrolled": true
   },
   "outputs": [
    {
     "name": "stdout",
     "output_type": "stream",
     "text": [
      "2946 (14.73%) of times the simulated prior predicted is the true one\n"
     ]
    }
   ],
   "source": [
    "x.obs.indexes <- (Sim.x.prior.pred==x.obs)\n",
    "N.post <- sum(x.obs.indexes)     # Posterior sample size\n",
    "Prop.N.post <- N.post/N  \n",
    "\n",
    "print(str_glue(\"{N.post} ({round(Prop.N.post*100,2)}%) of times the simulated prior predicted is the true one\"))\n",
    "\n",
    "Sim.post.theta <- Sim.prior.theta[x.obs.indexes]"
   ]
  },
  {
   "cell_type": "markdown",
   "id": "7511b64c",
   "metadata": {},
   "source": [
    "Plot the posterior $\\theta$ distribution:"
   ]
  },
  {
   "cell_type": "code",
   "execution_count": 31,
   "id": "da17411f",
   "metadata": {},
   "outputs": [
    {
     "data": {
      "image/png": "[encoded data removed]",
      "text/plain": [
       "plot without title"
      ]
     },
     "metadata": {
      "image/png": {
       "height": 360,
       "width": 360
      }
     },
     "output_type": "display_data"
    }
   ],
   "source": [
    "options(repr.plot.width=6, repr.plot.height=6)\n",
    "truehist(Sim.post.theta, col=\"LightGreen\")"
   ]
  },
  {
   "cell_type": "markdown",
   "id": "c0b24079",
   "metadata": {},
   "source": [
    "#### Posterior predicitve pmf"
   ]
  },
  {
   "cell_type": "markdown",
   "id": "bb6e4ebf",
   "metadata": {},
   "source": [
    "From the samples of the simulated posterior $\\theta$ let's calculate the posterior predictive pmf:"
   ]
  },
  {
   "cell_type": "code",
   "execution_count": 32,
   "id": "9b98bd4e",
   "metadata": {
    "scrolled": true
   },
   "outputs": [
    {
     "data": {
      "image/png": "[encoded data removed]",
      "text/plain": [
       "Plot with title \"Simulated posterior predictive pmf\""
      ]
     },
     "metadata": {
      "image/png": {
       "height": 420,
       "width": 360
      }
     },
     "output_type": "display_data"
    }
   ],
   "source": [
    "#Generate samples of the predictive:\n",
    "Sim.x.post.pred <- rbinom(N, size=n, prob=Sim.post.theta)\n",
    "\n",
    "#Calculate as before counts and frequencies of the simulated distribution:\n",
    "T.Sim.x.post.pred <- table(Sim.x.post.pred)\n",
    "f.Sim.x.post.pred <- T.Sim.x.post.pred/N\n",
    "options(repr.plot.width=6,repr.plot.height=7)\n",
    "v <- names(T.Sim.x.prior.pred)\n",
    "matplot(x=v,y=f.Sim.x.post.pred,type=\"h\",lwd=7, lty=1,col=\"LightGreen\",xlab=\"x\",ylab=\"Rel. Freqs./Probs.\",\n",
    "        main=\"Simulated posterior predictive pmf\")"
   ]
  },
  {
   "cell_type": "markdown",
   "id": "58eda621",
   "metadata": {},
   "source": [
    "#### Analysis of posterior quantities"
   ]
  },
  {
   "cell_type": "markdown",
   "id": "f3350411",
   "metadata": {},
   "source": [
    "Now we show the expected value, variance and sd of the posterior $\\theta$ distribution:"
   ]
  },
  {
   "cell_type": "code",
   "execution_count": 33,
   "id": "0953b2b1",
   "metadata": {},
   "outputs": [
    {
     "name": "stdout",
     "output_type": "stream",
     "text": [
      "[1] \"The expected value is: 0.361\"\n",
      "[1] \"The variance is: 0.011\"\n",
      "[1] \"The sd value is: 0.103\"\n"
     ]
    }
   ],
   "source": [
    "expected.post.theta<-mean(Sim.post.theta)\n",
    "var.post.theta<-var(Sim.post.theta)\n",
    "sd.post.theta<-sd(Sim.post.theta)\n",
    "\n",
    "print(paste0(\"The expected value is: \", round(expected.post.theta,3)))\n",
    "print(paste0(\"The variance is: \", round(var.post.theta,3)))\n",
    "print(paste0(\"The sd value is: \", round(sd.post.theta,3)))"
   ]
  },
  {
   "cell_type": "markdown",
   "id": "716856ce",
   "metadata": {},
   "source": [
    "Finally find the maximum a posteriori"
   ]
  },
  {
   "cell_type": "code",
   "execution_count": 34,
   "id": "07555a5b",
   "metadata": {},
   "outputs": [
    {
     "name": "stdout",
     "output_type": "stream",
     "text": [
      "[1] \"The maximum a posteriori is: 0.315\"\n"
     ]
    }
   ],
   "source": [
    "MAP <- density(Sim.post.theta)$x[which.max(density(Sim.post.theta)$y)]\n",
    "print(paste0(\"The maximum a posteriori is: \", round(MAP,3)))"
   ]
  },
  {
   "cell_type": "code",
   "execution_count": 35,
   "id": "24672f89",
   "metadata": {
    "ExecuteTime": {
     "end_time": "2021-04-06T17:26:43.810692Z",
     "start_time": "2021-04-06T17:26:43.675Z"
    }
   },
   "outputs": [
    {
     "data": {
      "image/png": "[encoded data removed]",
      "text/plain": [
       "Plot with title \"Histogram of thetas, heads 3\""
      ]
     },
     "metadata": {
      "image/png": {
       "height": 420,
       "width": 360
      }
     },
     "output_type": "display_data"
    }
   ],
   "source": [
    "# Plot over histogram\n",
    "hist(Sim.post.theta, breaks=50, freq=FALSE,xlim = c(0.1,0.7), ylim = c(0,5), main=\"Histogram of thetas, heads 3\")\n",
    "abline(v=MAP,col=\"DarkRed\",lwd=4)\n",
    "\n",
    "lines(density(Sim.post.theta)$x,density(Sim.post.theta)$y,lwd=2.5,col=\"DarkGreen\")\n",
    "text(0.337, 0.5, \"MAP\", col=\"DarkRed\")"
   ]
  },
  {
   "cell_type": "markdown",
   "id": "2c436b45",
   "metadata": {},
   "source": [
    "#### Credible interval"
   ]
  },
  {
   "cell_type": "markdown",
   "id": "f389fa51",
   "metadata": {},
   "source": [
    "### 2.3 JAGS"
   ]
  },
  {
   "cell_type": "markdown",
   "id": "df7802cc",
   "metadata": {},
   "source": [
    "For installing the package we have to install also the dependencies it has. 'rjags' package can't be installed automatically from CRAN because it gives an error, we have to manually install the zip file from the cran repository (commented code):"
   ]
  },
  {
   "cell_type": "code",
   "execution_count": 36,
   "id": "9c385146",
   "metadata": {
    "scrolled": true
   },
   "outputs": [
    {
     "name": "stderr",
     "output_type": "stream",
     "text": [
      "Loading required package: R2jags\n",
      "\n",
      "Warning message:\n",
      "\"package 'R2jags' was built under R version 4.1.3\"\n",
      "Loading required package: rjags\n",
      "\n",
      "Warning message:\n",
      "\"package 'rjags' was built under R version 4.1.3\"\n",
      "Loading required package: coda\n",
      "\n",
      "\n",
      "Attaching package: 'coda'\n",
      "\n",
      "\n",
      "The following object is masked from 'package:rstan':\n",
      "\n",
      "    traceplot\n",
      "\n",
      "\n",
      "Linked to JAGS 4.3.0\n",
      "\n",
      "Loaded modules: basemod,bugs\n",
      "\n",
      "\n",
      "Attaching package: 'R2jags'\n",
      "\n",
      "\n",
      "The following object is masked from 'package:coda':\n",
      "\n",
      "    traceplot\n",
      "\n",
      "\n",
      "The following object is masked from 'package:rstan':\n",
      "\n",
      "    traceplot\n",
      "\n",
      "\n"
     ]
    }
   ],
   "source": [
    "#Link to find the zip file: https://cran.r-project.org/web/packages/rjags/index.html\n",
    "# install.packages('C:/Users/psatorra/Downloads/rjags_4-13.zip', repos = NULL, type = \"win.binary\")\n",
    "# install.packages(\"R2jags\",dependencies=TRUE,repos= \"https://cloud.r-project.org\")\n",
    "#Load library\n",
    "require(R2jags)"
   ]
  },
  {
   "cell_type": "markdown",
   "id": "506558fb",
   "metadata": {},
   "source": [
    "With JAGS we will only compute the distribution of the posterior parameters:"
   ]
  },
  {
   "cell_type": "markdown",
   "id": "edcb4114",
   "metadata": {},
   "source": [
    "Declare the parameters defined above that will be used by the model:"
   ]
  },
  {
   "cell_type": "code",
   "execution_count": 37,
   "id": "28cf3987",
   "metadata": {},
   "outputs": [],
   "source": [
    "Mix.01.dat<-list(a1=prior.a1,b1=prior.b1,\n",
    "                 a2=prior.a2,b2=prior.b2,\n",
    "                 a3=prior.a3,b3=prior.b3,\n",
    "                 gamma1=prior.gamma1,gamma2=prior.gamma2,\n",
    "                 n=n,x=x.obs)"
   ]
  },
  {
   "cell_type": "markdown",
   "id": "8eb58c02",
   "metadata": {},
   "source": [
    "Specify the model and save it in a jag file. We have adapted the base notebook code to our example with three distributions instead of two. We have to add also a line in order to estimate the predictive posterior:"
   ]
  },
  {
   "cell_type": "code",
   "execution_count": 38,
   "id": "b4f3c1f1",
   "metadata": {},
   "outputs": [],
   "source": [
    "cat(\n",
    "\"model\n",
    "    {\n",
    "    x~dbin(p,n)             # Binomial likelihood\n",
    "    \n",
    "    p<-theta[r]             # Prior is a mixture of two beta r.v \n",
    "                            # Notice the syntax: this statement says that p is\n",
    "                            # *equal to* the pair of theta variates defined below\n",
    "\n",
    "    r~dcat(g[])             # Categorical distribution:\n",
    "                            # g[] is a 3-vector containing the mixing probabilities (gamma1, gamma2, gamma3)\n",
    "\n",
    "    theta[1]~dbeta(a1,b1)   # The three beta r.v to enter the mixture\n",
    "    theta[2]~dbeta(a2,b2)\n",
    "    theta[3]~dbeta(a3,b3)\n",
    "\n",
    "    g[1]<-gamma1             # Just as in p. g is equal to (gamma1, gamma2, gamma3)\n",
    "    g[2]<-gamma2\n",
    "    g[3]<-1-(gamma1+gamma2)\n",
    "\n",
    "    x_PostPred~dbin(p, n) #Posterior predictive\n",
    "\n",
    "    }\"\n",
    "    ,file=\"Mix.01.jag\")"
   ]
  },
  {
   "cell_type": "markdown",
   "id": "5acf2f6d",
   "metadata": {},
   "source": [
    "Let's run it:"
   ]
  },
  {
   "cell_type": "code",
   "execution_count": 39,
   "id": "942ca9b9",
   "metadata": {},
   "outputs": [
    {
     "name": "stderr",
     "output_type": "stream",
     "text": [
      "module glm loaded\n",
      "\n"
     ]
    },
    {
     "name": "stdout",
     "output_type": "stream",
     "text": [
      "Compiling model graph\n",
      "   Resolving undeclared variables\n",
      "   Allocating nodes\n",
      "Graph information:\n",
      "   Observed stochastic nodes: 1\n",
      "   Unobserved stochastic nodes: 5\n",
      "   Total graph size: 20\n",
      "\n",
      "Initializing model\n",
      "\n"
     ]
    }
   ],
   "source": [
    "Mix.01.m1<-jags(data=Mix.01.dat, n.chains=3,n.iter=5000,n.burnin=500, \n",
    "        parameters.to.save=c(\"theta\",\"p\", \"x_PostPred\"), model.file=\"Mix.01.jag\")"
   ]
  },
  {
   "cell_type": "code",
   "execution_count": 40,
   "id": "66d7e048",
   "metadata": {},
   "outputs": [
    {
     "name": "stdout",
     "output_type": "stream",
     "text": [
      "Inference for Bugs model at \"Mix.01.jag\", fit using jags,\n",
      " 3 chains, each with 5000 iterations (first 500 discarded), n.thin = 4\n",
      " n.sims = 3375 iterations saved\n",
      "           mu.vect sd.vect  2.5%   25%   50%   75% 97.5%  Rhat n.eff\n",
      "p            0.363   0.102 0.200 0.290 0.349 0.422 0.601 1.001  2400\n",
      "theta[1]     0.329   0.077 0.191 0.274 0.328 0.381 0.489 1.002  1600\n",
      "theta[2]     0.491   0.090 0.320 0.427 0.490 0.552 0.666 1.001  3400\n",
      "theta[3]     0.664   0.088 0.487 0.606 0.668 0.725 0.823 1.001  2500\n",
      "x_PostPred   3.646   1.809 1.000 2.000 4.000 5.000 8.000 1.001  3400\n",
      "deviance     3.259   1.033 2.643 2.693 2.858 3.327 6.353 1.001  3400\n",
      "\n",
      "For each parameter, n.eff is a crude measure of effective sample size,\n",
      "and Rhat is the potential scale reduction factor (at convergence, Rhat=1).\n",
      "\n",
      "DIC info (using the rule, pD = var(deviance)/2)\n",
      "pD = 0.5 and DIC = 3.8\n",
      "DIC is an estimate of expected predictive error (lower deviance is better).\n"
     ]
    }
   ],
   "source": [
    "print(Mix.01.m1)"
   ]
  },
  {
   "cell_type": "markdown",
   "id": "6a6405dc",
   "metadata": {},
   "source": [
    "#### Posterior $\\theta$ distribution"
   ]
  },
  {
   "cell_type": "markdown",
   "id": "c93de7d7",
   "metadata": {},
   "source": [
    "As we have saved $\\theta$ parameter, we can access to the values sampled directly and plot its distribution:"
   ]
  },
  {
   "cell_type": "code",
   "execution_count": 41,
   "id": "8480c5c1",
   "metadata": {},
   "outputs": [
    {
     "data": {
      "image/png": "[encoded data removed]",
      "text/plain": [
       "plot without title"
      ]
     },
     "metadata": {
      "image/png": {
       "height": 360,
       "width": 360
      }
     },
     "output_type": "display_data"
    }
   ],
   "source": [
    "options(repr.plot.width=12,repr.plot.height=6)\n",
    "theta.sample <- Mix.01.m1$BUGSoutput$sims.list$p\n",
    "\n",
    "options(repr.plot.width=6, repr.plot.height=6)\n",
    "truehist(theta.sample, col=\"LightGreen\")"
   ]
  },
  {
   "cell_type": "markdown",
   "id": "9ececb3d",
   "metadata": {},
   "source": [
    "#### Posterior predictive distribution"
   ]
  },
  {
   "cell_type": "markdown",
   "id": "56610553",
   "metadata": {},
   "source": [
    "We can also access to the posterior predictive sample directly and plot it's distribution:"
   ]
  },
  {
   "cell_type": "code",
   "execution_count": 42,
   "id": "f65870ff",
   "metadata": {},
   "outputs": [
    {
     "data": {
      "image/png": "[encoded data removed]",
      "text/plain": [
       "Plot with title \"Simulated posterior predictive pmf\""
      ]
     },
     "metadata": {
      "image/png": {
       "height": 420,
       "width": 360
      }
     },
     "output_type": "display_data"
    }
   ],
   "source": [
    "options(repr.plot.width=12,repr.plot.height=6)\n",
    "x_PostPred.sample <- Mix.01.m1$BUGSoutput$sims.list$x_PostPred\n",
    "#Calculate as before counts and frequencies of the simulated distribution:\n",
    "T.x_PostPred.sample <- table(x_PostPred.sample)\n",
    "f.x_PostPred.sample <- T.x_PostPred.sample/N\n",
    "options(repr.plot.width=6,repr.plot.height=7)\n",
    "v <- names(T.x_PostPred.sample)\n",
    "matplot(x=v,y=f.x_PostPred.sample,type=\"h\",lwd=7, lty=1,col=\"LightGreen\",xlab=\"x\",ylab=\"Rel. Freqs./Probs.\",\n",
    "        main=\"Simulated posterior predictive pmf\")"
   ]
  },
  {
   "cell_type": "markdown",
   "id": "2c3c23f4",
   "metadata": {},
   "source": [
    "### 2.4 Stan"
   ]
  },
  {
   "cell_type": "markdown",
   "id": "8225ed12",
   "metadata": {},
   "source": [
    "As in JAGS we will only calculate the posterior samples of $\\theta$ and the predicted distribution."
   ]
  },
  {
   "cell_type": "markdown",
   "id": "e8f736ac",
   "metadata": {},
   "source": [
    "Stan is unable to simulate discrete parameters as we have in our example. So, a workaround is to simulate a random uniform $u\\sim\\unifdist(0,1)$. Then, given $\\gamma_1$, $\\gamma_2$, $\\gamma_3$ the weights of the mixture, we will divide the interval $(0,1)$ on three parts the length of each given by the value of each $\\gamma_i$ so the part of the interval where $u$ falls will be the distribution selected for $\\theta$. In this way, the probability that a distribution is chosen is equal to the weights of the gamma parameters, because $u$ is uniform.\n",
    "\n",
    "To implement it in Stan we have to evaluate the part of the interval where $u$ falls using two concatenated max functions and logic operators. Basically, we evaluate if it falls in the $i$-th interval giving a $i$ (if true) or a 0 (if false) and then we do the maximum that will give the $i$-th number where it falls."
   ]
  },
  {
   "cell_type": "code",
   "execution_count": 43,
   "id": "924fbc15",
   "metadata": {},
   "outputs": [],
   "source": [
    "modelString = \"\n",
    "    data{\n",
    "        int<lower=0> n ;\n",
    "        int<lower=0> x ; \n",
    "        real<lower=0> a1 ;\n",
    "        real<lower=0> b1 ;\n",
    "        real<lower=0> a2 ;\n",
    "        real<lower=0> b2 ;\n",
    "        real<lower=0> a3 ;\n",
    "        real<lower=0> b3 ;\n",
    "        real<lower=0,upper=1>  gamma1 ;\n",
    "        real<lower=0,upper=1-gamma1>  gamma2 ;\n",
    "        }\n",
    "    parameters{\n",
    "        real<lower=0,upper=1>  u ;\n",
    "        vector<lower=0,upper=1>[3] theta ;\n",
    "        }\n",
    "    transformed parameters{                         \n",
    "        real<lower=0,upper=1> p ;                   \n",
    "                                                    // Here the trick:\n",
    "                                                    // Generate on the spot the unnamed index selecting \n",
    "                                                    // which of both components in the mixture is chosen\n",
    "\n",
    "        p=theta[max(max(u<gamma1?1:0, u<(gamma1+gamma2) && u>gamma1?2:0), u>(gamma1+gamma2)?3:0)] ;\n",
    "        }\n",
    "    model{\n",
    "        x ~ binomial(n,p) ;\n",
    "        theta[1]~beta(a1,b1) ;\n",
    "        theta[2]~beta(a2,b2) ;\n",
    "        theta[3]~beta(a3,b3) ;\n",
    "        u ~ uniform(0,1) ; \n",
    "        }\n",
    "    generated quantities{                           // Sampling from the posterior theta\n",
    "        int<lower=0, upper=10> x_pred ;\n",
    "        x_pred = binomial_rng(n, p) ;\n",
    "}\n",
    "\""
   ]
  },
  {
   "cell_type": "markdown",
   "id": "13099eed",
   "metadata": {},
   "source": [
    "Let's compile and run the model with our data:"
   ]
  },
  {
   "cell_type": "code",
   "execution_count": 44,
   "id": "6809662e",
   "metadata": {
    "scrolled": true
   },
   "outputs": [
    {
     "name": "stderr",
     "output_type": "stream",
     "text": [
      "Warning message:\n",
      "\"There were 3511 transitions after warmup that exceeded the maximum treedepth. Increase max_treedepth above 10. See\n",
      "https://mc-stan.org/misc/warnings.html#maximum-treedepth-exceeded\"\n",
      "Warning message:\n",
      "\"Examine the pairs() plot to diagnose sampling problems\n",
      "\"\n"
     ]
    }
   ],
   "source": [
    "# Translate model to C++ and compile to DSO:\n",
    "stanDso <- stan_model( model_code=modelString ) \n",
    "Mix.01.Standat<-list(a1=prior.a1,b1=prior.b1,a2=prior.a2,b2=prior.b2,a3=prior.a3,b3=prior.b3,gamma1=prior.gamma1, gamma2=prior.gamma2,n=n,x=x.obs)\n",
    "# Generate posterior sample:\n",
    "stanFit <- sampling( object=stanDso, \n",
    "                     data = Mix.01.Standat, \n",
    "                     chains = 3,\n",
    "                     iter = 4000, \n",
    "                     warmup = 200, \n",
    "                     thin = 1)"
   ]
  },
  {
   "cell_type": "markdown",
   "id": "560bb290",
   "metadata": {},
   "source": [
    "Let's see a quick overview of the results obtained:"
   ]
  },
  {
   "cell_type": "code",
   "execution_count": 45,
   "id": "9f01a38c",
   "metadata": {
    "scrolled": false
   },
   "outputs": [
    {
     "data": {
      "text/html": [
       "<table class=\"dataframe\">\n",
       "<caption>A matrix: 7 × 10 of type dbl</caption>\n",
       "<thead>\n",
       "\t<tr><th></th><th scope=col>mean</th><th scope=col>se_mean</th><th scope=col>sd</th><th scope=col>2.5%</th><th scope=col>25%</th><th scope=col>50%</th><th scope=col>75%</th><th scope=col>97.5%</th><th scope=col>n_eff</th><th scope=col>Rhat</th></tr>\n",
       "</thead>\n",
       "<tbody>\n",
       "\t<tr><th scope=row>u</th><td>  0.34407</td><td>0.00310</td><td>0.22271</td><td>  0.01743</td><td>  0.16247</td><td>  0.32366</td><td>  0.48543</td><td>  0.86169</td><td>5168.299</td><td>1.00001</td></tr>\n",
       "\t<tr><th scope=row>theta[1]</th><td>  0.32615</td><td>0.00098</td><td>0.07594</td><td>  0.18841</td><td>  0.27271</td><td>  0.32279</td><td>  0.37536</td><td>  0.48539</td><td>5961.573</td><td>1.00033</td></tr>\n",
       "\t<tr><th scope=row>theta[2]</th><td>  0.49370</td><td>0.00128</td><td>0.08978</td><td>  0.31960</td><td>  0.43133</td><td>  0.49280</td><td>  0.55547</td><td>  0.66788</td><td>4916.782</td><td>1.00030</td></tr>\n",
       "\t<tr><th scope=row>theta[3]</th><td>  0.66269</td><td>0.00124</td><td>0.08668</td><td>  0.48780</td><td>  0.60430</td><td>  0.66669</td><td>  0.72477</td><td>  0.82167</td><td>4859.971</td><td>0.99997</td></tr>\n",
       "\t<tr><th scope=row>p</th><td>  0.36019</td><td>0.00129</td><td>0.10296</td><td>  0.19734</td><td>  0.28600</td><td>  0.34484</td><td>  0.41867</td><td>  0.60279</td><td>6328.001</td><td>0.99981</td></tr>\n",
       "\t<tr><th scope=row>x_pred</th><td>  3.59053</td><td>0.01949</td><td>1.81156</td><td>  0.00000</td><td>  2.00000</td><td>  3.00000</td><td>  5.00000</td><td>  7.00000</td><td>8640.108</td><td>0.99997</td></tr>\n",
       "\t<tr><th scope=row>lp__</th><td>-68.77532</td><td>0.02620</td><td>1.54234</td><td>-72.66079</td><td>-69.56523</td><td>-68.42637</td><td>-67.62471</td><td>-66.80456</td><td>3465.659</td><td>1.00085</td></tr>\n",
       "</tbody>\n",
       "</table>\n"
      ],
      "text/latex": [
       "A matrix: 7 × 10 of type dbl\n",
       "\\begin{tabular}{r|llllllllll}\n",
       "  & mean & se\\_mean & sd & 2.5\\% & 25\\% & 50\\% & 75\\% & 97.5\\% & n\\_eff & Rhat\\\\\n",
       "\\hline\n",
       "\tu &   0.34407 & 0.00310 & 0.22271 &   0.01743 &   0.16247 &   0.32366 &   0.48543 &   0.86169 & 5168.299 & 1.00001\\\\\n",
       "\ttheta{[}1{]} &   0.32615 & 0.00098 & 0.07594 &   0.18841 &   0.27271 &   0.32279 &   0.37536 &   0.48539 & 5961.573 & 1.00033\\\\\n",
       "\ttheta{[}2{]} &   0.49370 & 0.00128 & 0.08978 &   0.31960 &   0.43133 &   0.49280 &   0.55547 &   0.66788 & 4916.782 & 1.00030\\\\\n",
       "\ttheta{[}3{]} &   0.66269 & 0.00124 & 0.08668 &   0.48780 &   0.60430 &   0.66669 &   0.72477 &   0.82167 & 4859.971 & 0.99997\\\\\n",
       "\tp &   0.36019 & 0.00129 & 0.10296 &   0.19734 &   0.28600 &   0.34484 &   0.41867 &   0.60279 & 6328.001 & 0.99981\\\\\n",
       "\tx\\_pred &   3.59053 & 0.01949 & 1.81156 &   0.00000 &   2.00000 &   3.00000 &   5.00000 &   7.00000 & 8640.108 & 0.99997\\\\\n",
       "\tlp\\_\\_ & -68.77532 & 0.02620 & 1.54234 & -72.66079 & -69.56523 & -68.42637 & -67.62471 & -66.80456 & 3465.659 & 1.00085\\\\\n",
       "\\end{tabular}\n"
      ],
      "text/markdown": [
       "\n",
       "A matrix: 7 × 10 of type dbl\n",
       "\n",
       "| <!--/--> | mean | se_mean | sd | 2.5% | 25% | 50% | 75% | 97.5% | n_eff | Rhat |\n",
       "|---|---|---|---|---|---|---|---|---|---|---|\n",
       "| u |   0.34407 | 0.00310 | 0.22271 |   0.01743 |   0.16247 |   0.32366 |   0.48543 |   0.86169 | 5168.299 | 1.00001 |\n",
       "| theta[1] |   0.32615 | 0.00098 | 0.07594 |   0.18841 |   0.27271 |   0.32279 |   0.37536 |   0.48539 | 5961.573 | 1.00033 |\n",
       "| theta[2] |   0.49370 | 0.00128 | 0.08978 |   0.31960 |   0.43133 |   0.49280 |   0.55547 |   0.66788 | 4916.782 | 1.00030 |\n",
       "| theta[3] |   0.66269 | 0.00124 | 0.08668 |   0.48780 |   0.60430 |   0.66669 |   0.72477 |   0.82167 | 4859.971 | 0.99997 |\n",
       "| p |   0.36019 | 0.00129 | 0.10296 |   0.19734 |   0.28600 |   0.34484 |   0.41867 |   0.60279 | 6328.001 | 0.99981 |\n",
       "| x_pred |   3.59053 | 0.01949 | 1.81156 |   0.00000 |   2.00000 |   3.00000 |   5.00000 |   7.00000 | 8640.108 | 0.99997 |\n",
       "| lp__ | -68.77532 | 0.02620 | 1.54234 | -72.66079 | -69.56523 | -68.42637 | -67.62471 | -66.80456 | 3465.659 | 1.00085 |\n",
       "\n"
      ],
      "text/plain": [
       "         mean      se_mean sd      2.5%      25%       50%       75%      \n",
       "u          0.34407 0.00310 0.22271   0.01743   0.16247   0.32366   0.48543\n",
       "theta[1]   0.32615 0.00098 0.07594   0.18841   0.27271   0.32279   0.37536\n",
       "theta[2]   0.49370 0.00128 0.08978   0.31960   0.43133   0.49280   0.55547\n",
       "theta[3]   0.66269 0.00124 0.08668   0.48780   0.60430   0.66669   0.72477\n",
       "p          0.36019 0.00129 0.10296   0.19734   0.28600   0.34484   0.41867\n",
       "x_pred     3.59053 0.01949 1.81156   0.00000   2.00000   3.00000   5.00000\n",
       "lp__     -68.77532 0.02620 1.54234 -72.66079 -69.56523 -68.42637 -67.62471\n",
       "         97.5%     n_eff    Rhat   \n",
       "u          0.86169 5168.299 1.00001\n",
       "theta[1]   0.48539 5961.573 1.00033\n",
       "theta[2]   0.66788 4916.782 1.00030\n",
       "theta[3]   0.82167 4859.971 0.99997\n",
       "p          0.60279 6328.001 0.99981\n",
       "x_pred     7.00000 8640.108 0.99997\n",
       "lp__     -66.80456 3465.659 1.00085"
      ]
     },
     "metadata": {},
     "output_type": "display_data"
    }
   ],
   "source": [
    "S<-summary(stanFit)\n",
    "round(S$summary,5)"
   ]
  },
  {
   "cell_type": "markdown",
   "id": "f437620a",
   "metadata": {},
   "source": [
    "#### $\\theta$ posterior pdf"
   ]
  },
  {
   "cell_type": "code",
   "execution_count": 46,
   "id": "9edac1f1",
   "metadata": {},
   "outputs": [
    {
     "data": {
      "image/png": "[encoded data removed]",
      "text/plain": [
       "Plot with title \"Histogram of p\""
      ]
     },
     "metadata": {
      "image/png": {
       "height": 420,
       "width": 420
      }
     },
     "output_type": "display_data"
    }
   ],
   "source": [
    "#Extract p:\n",
    "p <- extract(stanFit, 'p')\n",
    "p <- unlist(p, use.names=FALSE)\n",
    "\n",
    "options(repr.plot.width=7,repr.plot.height=7)\n",
    "#Histogram of the simulated distribution via Stan:\n",
    "hist(p, freq=FALSE,col=\"LightGreen\",xlab=expression(theta))"
   ]
  },
  {
   "cell_type": "markdown",
   "id": "c891e6a4",
   "metadata": {},
   "source": [
    "#### predictive posterior pmf"
   ]
  },
  {
   "cell_type": "code",
   "execution_count": 47,
   "id": "acf5a56a",
   "metadata": {},
   "outputs": [
    {
     "data": {
      "image/png": "[encoded data removed]",
      "text/plain": [
       "Plot with title \"Simulated posterior predictive pmf\""
      ]
     },
     "metadata": {
      "image/png": {
       "height": 420,
       "width": 360
      }
     },
     "output_type": "display_data"
    }
   ],
   "source": [
    "#Extract p:\n",
    "x_pred <- extract(stanFit, 'x_pred')\n",
    "x_pred <- unlist(x_pred, use.names=FALSE)\n",
    "\n",
    "#Calculate as before counts and frequencies of the simulated distribution:\n",
    "T.x_pred <- table(x_pred)\n",
    "f.x_pred <- T.x_pred/N\n",
    "options(repr.plot.width=6,repr.plot.height=7)\n",
    "v <- names(T.x_pred)\n",
    "matplot(x=v,y=f.x_pred,type=\"h\",lwd=7, lty=1,col=\"LightGreen\",xlab=\"x\",ylab=\"Rel. Freqs./Probs.\",\n",
    "        main=\"Simulated posterior predictive pmf\")"
   ]
  },
  {
   "cell_type": "code",
   "execution_count": 48,
   "id": "4c67f759",
   "metadata": {},
   "outputs": [
    {
     "ename": "ERROR",
     "evalue": "Error in color_scheme_set(\"green\"): no se pudo encontrar la función \"color_scheme_set\"\n",
     "output_type": "error",
     "traceback": [
      "Error in color_scheme_set(\"green\"): no se pudo encontrar la función \"color_scheme_set\"\nTraceback:\n"
     ]
    }
   ],
   "source": [
    "color_scheme_set(\"green\")\n",
    "options(repr.plot.width=15,repr.plot.height=5)\n",
    "mcmc_hist(stanFit, pars = c(\"p\",\"theta[1]\",\"theta[2]\", \"theta[3]\"),binwidth=0.05)"
   ]
  }
 ],
 "metadata": {
  "kernelspec": {
   "display_name": "R",
   "language": "R",
   "name": "ir"
  },
  "language_info": {
   "codemirror_mode": "r",
   "file_extension": ".r",
   "mimetype": "text/x-r-source",
   "name": "R",
   "pygments_lexer": "r",
   "version": "4.1.0"
  }
 },
 "nbformat": 4,
 "nbformat_minor": 5
}
