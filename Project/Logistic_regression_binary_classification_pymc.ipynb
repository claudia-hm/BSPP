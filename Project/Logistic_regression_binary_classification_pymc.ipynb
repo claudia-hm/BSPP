{
 "cells": [
  {
   "cell_type": "markdown",
   "metadata": {},
   "source": [
    "# Logistic Regression"
   ]
  },
  {
   "cell_type": "code",
   "execution_count": 1,
   "metadata": {},
   "outputs": [],
   "source": [
    "%matplotlib inline\n",
    "import pymc3 as pm\n",
    "import numpy as np\n",
    "import pandas as pd\n",
    "import scipy.stats as stats\n",
    "import matplotlib.pyplot as plt\n",
    "import seaborn as sns\n",
    "import theano.tensor as tt\n",
    "palette = 'muted'\n",
    "sns.set_palette(palette); sns.set_color_codes(palette)\n",
    "np.set_printoptions(precision=2)\n",
    "pd.set_option('display.precision', 2)"
   ]
  },
  {
   "cell_type": "code",
   "execution_count": 4,
   "metadata": {},
   "outputs": [],
   "source": [
    "data_1 = np.random.normal([2.5,2.5],[1,1], [50,2])\n",
    "data1_x = data_1[:,0]\n",
    "data1_y = data_1[:,1]\n",
    "\n",
    "data_2 = np.random.normal([4,4],[1,1], [50,2])\n",
    "data2_x = data_2[:,0]\n",
    "data2_y = data_2[:,1]"
   ]
  },
  {
   "cell_type": "code",
   "execution_count": 5,
   "metadata": {},
   "outputs": [
    {
     "data": {
      "text/plain": [
       "<matplotlib.collections.PathCollection at 0x122044370>"
      ]
     },
     "execution_count": 5,
     "metadata": {},
     "output_type": "execute_result"
    },
    {
     "data": {
      "image/png": "[encoded data removed]",
      "text/plain": [
       "<Figure size 432x288 with 1 Axes>"
      ]
     },
     "metadata": {
      "needs_background": "light"
     },
     "output_type": "display_data"
    }
   ],
   "source": [
    "plt.scatter(data1_x, data1_y)\n",
    "plt.scatter(data2_x, data2_y)"
   ]
  },
  {
   "cell_type": "code",
   "execution_count": 6,
   "metadata": {},
   "outputs": [],
   "source": [
    "x_0 = np.concatenate([data1_x, data2_x])"
   ]
  },
  {
   "cell_type": "code",
   "execution_count": 7,
   "metadata": {},
   "outputs": [
    {
     "data": {
      "text/plain": [
       "array([0., 0., 0., 0., 0., 0., 0., 0., 0., 0., 0., 0., 0., 0., 0., 0., 0.,\n",
       "       0., 0., 0., 0., 0., 0., 0., 0., 0., 0., 0., 0., 0., 0., 0., 0., 0.,\n",
       "       0., 0., 0., 0., 0., 0., 0., 0., 0., 0., 0., 0., 0., 0., 0., 0., 1.,\n",
       "       1., 1., 1., 1., 1., 1., 1., 1., 1., 1., 1., 1., 1., 1., 1., 1., 1.,\n",
       "       1., 1., 1., 1., 1., 1., 1., 1., 1., 1., 1., 1., 1., 1., 1., 1., 1.,\n",
       "       1., 1., 1., 1., 1., 1., 1., 1., 1., 1., 1., 1., 1., 1., 1.])"
      ]
     },
     "execution_count": 7,
     "metadata": {},
     "output_type": "execute_result"
    }
   ],
   "source": [
    "y_0 = np.concatenate([np.zeros(50), np.ones(50)])\n",
    "y_0"
   ]
  },
  {
   "cell_type": "code",
   "execution_count": null,
   "metadata": {},
   "outputs": [
    {
     "data": {
      "text/html": [
       "\n",
       "<style>\n",
       "    /* Turns off some styling */\n",
       "    progress {\n",
       "        /* gets rid of default border in Firefox and Opera. */\n",
       "        border: none;\n",
       "        /* Needs to be in here for Safari polyfill so background images work as expected. */\n",
       "        background-size: auto;\n",
       "    }\n",
       "    .progress-bar-interrupted, .progress-bar-interrupted::-webkit-progress-bar {\n",
       "        background: #F44336;\n",
       "    }\n",
       "</style>\n"
      ],
      "text/plain": [
       "<IPython.core.display.HTML object>"
      ]
     },
     "metadata": {},
     "output_type": "display_data"
    },
    {
     "data": {
      "text/html": [
       "\n",
       "    <div>\n",
       "      <progress value='14' class='' max='14' style='width:300px; height:20px; vertical-align: middle;'></progress>\n",
       "      100.00% [14/14 00:00<00:00 logp = -57.997, ||grad|| = 0.043714]\n",
       "    </div>\n",
       "    "
      ],
      "text/plain": [
       "<IPython.core.display.HTML object>"
      ]
     },
     "metadata": {},
     "output_type": "display_data"
    },
    {
     "name": "stdout",
     "output_type": "stream",
     "text": [
      "\n"
     ]
    },
    {
     "name": "stderr",
     "output_type": "stream",
     "text": [
      "/usr/local/lib/python3.9/site-packages/deprecat/classic.py:215: FutureWarning: In v4.0, pm.sample will return an `arviz.InferenceData` object instead of a `MultiTrace` by default. You can pass return_inferencedata=True or return_inferencedata=False to be safe and silence this warning.\n",
      "  return wrapped_(*args_, **kwargs_)\n",
      "Multiprocess sampling (2 chains in 2 jobs)\n",
      "NUTS: [beta, alpha]\n"
     ]
    },
    {
     "data": {
      "text/html": [
       "\n",
       "<style>\n",
       "    /* Turns off some styling */\n",
       "    progress {\n",
       "        /* gets rid of default border in Firefox and Opera. */\n",
       "        border: none;\n",
       "        /* Needs to be in here for Safari polyfill so background images work as expected. */\n",
       "        background-size: auto;\n",
       "    }\n",
       "    .progress-bar-interrupted, .progress-bar-interrupted::-webkit-progress-bar {\n",
       "        background: #F44336;\n",
       "    }\n",
       "</style>\n"
      ],
      "text/plain": [
       "<IPython.core.display.HTML object>"
      ]
     },
     "metadata": {},
     "output_type": "display_data"
    },
    {
     "data": {
      "text/html": [
       "\n",
       "    <div>\n",
       "      <progress value='6606' class='' max='12000' style='width:300px; height:20px; vertical-align: middle;'></progress>\n",
       "      55.05% [6606/12000 00:17<00:14 Sampling 2 chains, 0 divergences]\n",
       "    </div>\n",
       "    "
      ],
      "text/plain": [
       "<IPython.core.display.HTML object>"
      ]
     },
     "metadata": {},
     "output_type": "display_data"
    }
   ],
   "source": [
    "with pm.Model() as model_0:\n",
    "    alpha = pm.Normal('alpha', mu=0, sd=10)\n",
    "    beta = pm.Normal('beta', mu=0, sd=10)\n",
    "    \n",
    "    mu = alpha + pm.math.dot(x_0, beta)\n",
    "    #theta = pm.Deterministic('theta', tt.nnet.sigmoid(mu))\n",
    "    theta = pm.Deterministic('theta', 1 / (1 + pm.math.exp(-mu)))\n",
    "    \n",
    "    bd = pm.Deterministic('bd', -alpha/beta)\n",
    "    \n",
    "    yl = pm.Bernoulli('yl', p=theta, observed=y_0)\n",
    "\n",
    "    start = pm.find_MAP()\n",
    "    step = pm.NUTS()\n",
    "    trace_0 = pm.sample(5000, step, start)"
   ]
  },
  {
   "cell_type": "code",
   "execution_count": null,
   "metadata": {},
   "outputs": [],
   "source": [
    "varnames = ['alpha', 'beta', 'bd']\n",
    "pm.plot_trace(trace_0, varnames)\n",
    "plt.savefig('binary_class_distribution_sampling.png', dpi=300, figsize=(5.5, 5.5))"
   ]
  },
  {
   "cell_type": "code",
   "execution_count": null,
   "metadata": {},
   "outputs": [],
   "source": [
    "#pm.autocorrplot(trace_0, varnames);"
   ]
  },
  {
   "cell_type": "code",
   "execution_count": null,
   "metadata": {},
   "outputs": [],
   "source": [
    "#sns.kdeplot(trace_0['alpha'], cadena_0['beta']);"
   ]
  },
  {
   "cell_type": "code",
   "execution_count": null,
   "metadata": {},
   "outputs": [],
   "source": [
    "pm.summary(trace_0, varnames)"
   ]
  },
  {
   "cell_type": "code",
   "execution_count": null,
   "metadata": {},
   "outputs": [],
   "source": [
    "theta = trace_0['theta'].mean(axis=0)\n",
    "idx = np.argsort(x_0)\n",
    "plt.plot(x_0[idx], theta[idx], color='b', lw=3);\n",
    "plt.axvline(trace_0['bd'].mean(), ymax=1, color='r')\n",
    "bd_hpd = pm.stats.hdi(trace_0['bd'])\n",
    "plt.fill_betweenx([0, 1], bd_hpd[0], bd_hpd[1], color='r', alpha=0.5)\n",
    "\n",
    "plt.plot(x_0, y_0, 'o', color='k')\n",
    "theta_hpd = pm.stats.hdi(trace_0['theta'])[idx]\n",
    "plt.fill_between(x_0[idx], theta_hpd[:,0], theta_hpd[:,1], color='b', alpha=0.5)\n",
    "\n",
    "plt.xlabel('x_n', fontsize=16)\n",
    "plt.ylabel(r'$\\theta$', rotation=0, fontsize=16)\n",
    "plt.savefig('B04958_05_06.png', dpi=300, figsize=(5.5, 5.5))"
   ]
  },
  {
   "cell_type": "code",
   "execution_count": null,
   "metadata": {},
   "outputs": [],
   "source": [
    "def classify(n, threshold):\n",
    "    \"\"\"\n",
    "    A simple classifying function\n",
    "    \"\"\"\n",
    "    n = np.array(n)\n",
    "    mu = trace_0['alpha'].mean() + trace_0['beta'].mean() * n\n",
    "    prob = 1 / (1 + np.exp(-mu))\n",
    "    return prob, prob >= threshold\n",
    "\n",
    "classify([5, 5.5, 6], 0.5)"
   ]
  },
  {
   "cell_type": "markdown",
   "metadata": {
    "collapsed": true
   },
   "source": [
    "## Multiple logistic regression"
   ]
  },
  {
   "cell_type": "code",
   "execution_count": null,
   "metadata": {},
   "outputs": [],
   "source": [
    "df = iris.query(\"species == ('setosa', 'versicolor')\")\n",
    "y_1 = pd.Categorical(df['species']).codes\n",
    "x_n = ['sepal_length', 'sepal_width'] #['petal_length', 'petal_width'] \n",
    "x_1 = df[x_n].values\n",
    "\n",
    "#x_1 = (x_1 - x_1.mean(axis=0))/x_1.std(axis=0) #\n",
    "#x_1 = (x_1 - x_1.mean(axis=0))"
   ]
  },
  {
   "cell_type": "code",
   "execution_count": null,
   "metadata": {},
   "outputs": [],
   "source": [
    "with pm.Model() as model_1:\n",
    "    # We define the prioris\n",
    "    alpha = pm.Normal('alpha', mu=0, sd=10)\n",
    "    beta = pm.Normal('beta', mu=0, sd=2, shape=len(x_n))\n",
    "    \n",
    "    mu = alpha + pm.math.dot(x_1, beta)\n",
    "    # Aplly the logistic linking function\n",
    "    theta = 1 / (1 + pm.math.exp(-mu))\n",
    "    # Compute the boundary decision\n",
    "    bd = pm.Deterministic('bd', -alpha/beta[1] - beta[0]/beta[1] * x_1[:,0])\n",
    "    \n",
    "    # Define the likelihood\n",
    "    yl = pm.Bernoulli('yl', p=theta, observed=y_1)\n",
    "    # Sampling\n",
    "    #start = pm.find_MAP()\n",
    "    #step = pm.NUTS()\n",
    "    #trace_1 = pm.sample(5000, step, start)\n",
    "    trace_1 = pm.sample(5000)"
   ]
  },
  {
   "cell_type": "code",
   "execution_count": null,
   "metadata": {},
   "outputs": [],
   "source": [
    "chain_1 = trace_1[100:]\n",
    "pm.plot_trace(chain_1)\n",
    "plt.savefig('B04958_05_07.png', dpi=300, figsize=(5.5, 5.5))"
   ]
  },
  {
   "cell_type": "code",
   "execution_count": null,
   "metadata": {},
   "outputs": [],
   "source": [
    "#pm.df_summary(chain_1, ['alpha', 'beta'])"
   ]
  },
  {
   "cell_type": "code",
   "execution_count": null,
   "metadata": {},
   "outputs": [],
   "source": [
    "idx = np.argsort(x_1[:,0])\n",
    "ld = chain_1['bd'].mean(0)[idx]\n",
    "plt.scatter(x_1[:,0], x_1[:,1], c=y_0)\n",
    "plt.plot(x_1[:,0][idx], ld, color='r');\n",
    "\n",
    "ld_hpd = pm.stats.hdi(chain_1['bd'])[idx]\n",
    "plt.fill_between(x_1[:,0][idx], ld_hpd[:,0], ld_hpd[:,1], color='r', alpha=0.5);\n",
    "\n",
    "plt.xlabel(x_n[0], fontsize=16)\n",
    "plt.ylabel(x_n[1], fontsize=16)\n",
    "plt.savefig('B04958_05_08.png', dpi=300, figsize=(5.5, 5.5))"
   ]
  },
  {
   "cell_type": "markdown",
   "metadata": {},
   "source": [
    "## Correlated variables"
   ]
  },
  {
   "cell_type": "code",
   "execution_count": null,
   "metadata": {},
   "outputs": [],
   "source": [
    "corr = iris[iris['species'] != 'virginica'].corr()\n",
    "mask = np.tri(*corr.shape).T\n",
    "sns.heatmap(corr.abs(), mask=mask, annot=True)\n",
    "plt.savefig('B04958_05_09.png', dpi=300, figsize=(5.5, 5.5))"
   ]
  },
  {
   "cell_type": "markdown",
   "metadata": {},
   "source": [
    "## Unbalanced Classes"
   ]
  },
  {
   "cell_type": "code",
   "execution_count": null,
   "metadata": {},
   "outputs": [],
   "source": [
    "df = iris.query(\"species == ('setosa', 'versicolor')\")\n",
    "df = df[45:] #df[22:78]\n",
    "y_3 = pd.Categorical(df['species']).codes\n",
    "x_n = ['sepal_length', 'sepal_width'] \n",
    "x_3 = df[x_n].values\n",
    "#plt.scatter(x_3[:,0], x_3[:,1], c=y_3)"
   ]
  },
  {
   "cell_type": "code",
   "execution_count": null,
   "metadata": {},
   "outputs": [],
   "source": [
    "with pm.Model() as model_3:\n",
    "    # We define the a prioris\n",
    "    alpha = pm.Normal('alpha', mu=0, sd=10)\n",
    "    beta = pm.Normal('beta', mu=0, sd=2, shape=len(x_n))\n",
    "    \n",
    "    mu = alpha + pm.math.dot(x_3, beta)\n",
    "    # Aplly the logistic linking function\n",
    "    p = 1 / (1 + pm.math.exp(-mu))\n",
    "    # Compute the boundary decision\n",
    "    ld = pm.Deterministic('ld', -alpha/beta[1] - beta[0]/beta[1] * x_3[:,0])\n",
    "    \n",
    "    # Define the likelihood\n",
    "    yl = pm.Bernoulli('yl', p=p, observed=y_3)\n",
    "    trace_3 = pm.sample(5000)"
   ]
  },
  {
   "cell_type": "code",
   "execution_count": null,
   "metadata": {},
   "outputs": [],
   "source": [
    "cadena_3 = trace_3[:]\n",
    "varnames = ['alpha', 'beta']\n",
    "pm.traceplot(cadena_3, varnames);"
   ]
  },
  {
   "cell_type": "code",
   "execution_count": null,
   "metadata": {},
   "outputs": [],
   "source": [
    "pm.summary(cadena_3, varnames)"
   ]
  },
  {
   "cell_type": "code",
   "execution_count": null,
   "metadata": {},
   "outputs": [],
   "source": [
    "idx = np.argsort(x_3[:,0])\n",
    "ld = trace_3['ld'].mean(0)[idx]\n",
    "plt.scatter(x_3[:,0], x_3[:,1], c=y_3)\n",
    "plt.plot(x_3[:,0][idx], ld, color='r');\n",
    "\n",
    "ld_hpd = pm.stats.hdi(trace_3['ld'])[idx]\n",
    "plt.fill_between(x_3[:,0][idx], ld_hpd[:,0], ld_hpd[:,1], color='r', alpha=0.5);\n",
    "\n",
    "plt.xlabel(x_n[0], fontsize=16)\n",
    "plt.ylabel(x_n[1], fontsize=16)\n",
    "plt.savefig('B04958_05_10.png', dpi=300, figsize=(5.5, 5.5))"
   ]
  },
  {
   "cell_type": "markdown",
   "metadata": {},
   "source": [
    "## Softmax logistic regression (AKA multinomial regression)"
   ]
  },
  {
   "cell_type": "code",
   "execution_count": null,
   "metadata": {},
   "outputs": [],
   "source": [
    "iris = sns.load_dataset(\"iris\")\n",
    "y_s = pd.Categorical(iris['species']).codes\n",
    "x_n = iris.columns[:-1]\n",
    "x_s = iris[x_n].values\n",
    "x_s = (x_s - x_s.mean(axis=0))/x_s.std(axis=0)\n",
    "#x_s = (x_s - x_s.mean(axis=0))"
   ]
  },
  {
   "cell_type": "code",
   "execution_count": 3,
   "metadata": {},
   "outputs": [
    {
     "ename": "NameError",
     "evalue": "name 'x_s' is not defined",
     "output_type": "error",
     "traceback": [
      "\u001b[0;31m---------------------------------------------------------------------------\u001b[0m",
      "\u001b[0;31mNameError\u001b[0m                                 Traceback (most recent call last)",
      "\u001b[0;32m/var/folders/79/lndg0b5n2q3b40m_ty2kxlm40000gn/T/ipykernel_1408/3104976385.py\u001b[0m in \u001b[0;36m<module>\u001b[0;34m\u001b[0m\n\u001b[1;32m      3\u001b[0m     \u001b[0mbeta\u001b[0m \u001b[0;34m=\u001b[0m \u001b[0mpm\u001b[0m\u001b[0;34m.\u001b[0m\u001b[0mNormal\u001b[0m\u001b[0;34m(\u001b[0m\u001b[0;34m'beta'\u001b[0m\u001b[0;34m,\u001b[0m \u001b[0mmu\u001b[0m\u001b[0;34m=\u001b[0m\u001b[0;36m0\u001b[0m\u001b[0;34m,\u001b[0m \u001b[0msd\u001b[0m\u001b[0;34m=\u001b[0m\u001b[0;36m2\u001b[0m\u001b[0;34m,\u001b[0m \u001b[0mshape\u001b[0m\u001b[0;34m=\u001b[0m\u001b[0;34m(\u001b[0m\u001b[0;36m4\u001b[0m\u001b[0;34m,\u001b[0m\u001b[0;36m3\u001b[0m\u001b[0;34m)\u001b[0m\u001b[0;34m)\u001b[0m\u001b[0;34m\u001b[0m\u001b[0;34m\u001b[0m\u001b[0m\n\u001b[1;32m      4\u001b[0m \u001b[0;34m\u001b[0m\u001b[0m\n\u001b[0;32m----> 5\u001b[0;31m     \u001b[0mmu\u001b[0m \u001b[0;34m=\u001b[0m \u001b[0malpha\u001b[0m \u001b[0;34m+\u001b[0m \u001b[0mpm\u001b[0m\u001b[0;34m.\u001b[0m\u001b[0mmath\u001b[0m\u001b[0;34m.\u001b[0m\u001b[0mdot\u001b[0m\u001b[0;34m(\u001b[0m\u001b[0mx_s\u001b[0m\u001b[0;34m,\u001b[0m \u001b[0mbeta\u001b[0m\u001b[0;34m)\u001b[0m\u001b[0;34m\u001b[0m\u001b[0;34m\u001b[0m\u001b[0m\n\u001b[0m\u001b[1;32m      6\u001b[0m     \u001b[0mtheta\u001b[0m \u001b[0;34m=\u001b[0m \u001b[0mtt\u001b[0m\u001b[0;34m.\u001b[0m\u001b[0mnnet\u001b[0m\u001b[0;34m.\u001b[0m\u001b[0msoftmax\u001b[0m\u001b[0;34m(\u001b[0m\u001b[0mmu\u001b[0m\u001b[0;34m)\u001b[0m\u001b[0;34m\u001b[0m\u001b[0;34m\u001b[0m\u001b[0m\n\u001b[1;32m      7\u001b[0m \u001b[0;34m\u001b[0m\u001b[0m\n",
      "\u001b[0;31mNameError\u001b[0m: name 'x_s' is not defined"
     ]
    }
   ],
   "source": [
    "with pm.Model() as model_s:\n",
    "    alpha = pm.Normal('alpha', mu=0, sd=2, shape=3)\n",
    "    beta = pm.Normal('beta', mu=0, sd=2, shape=(4,3))\n",
    "\n",
    "    mu = alpha + pm.math.dot(x_s, beta)\n",
    "    theta = tt.nnet.softmax(mu)\n",
    "\n",
    "    yl = pm.Categorical('yl', p=theta, observed=y_s)\n",
    "    start = pm.find_MAP()\n",
    "    step = pm.NUTS()\n",
    "    trace_s = pm.sample(2000, step, start)"
   ]
  },
  {
   "cell_type": "code",
   "execution_count": null,
   "metadata": {},
   "outputs": [],
   "source": [
    "pm.plot_trace(trace_s)\n",
    "plt.savefig('B04958_05_12.png', dpi=300, figsize=(5.5, 5.5))"
   ]
  },
  {
   "cell_type": "code",
   "execution_count": null,
   "metadata": {},
   "outputs": [],
   "source": [
    "pm.summary(trace_s)"
   ]
  },
  {
   "cell_type": "code",
   "execution_count": null,
   "metadata": {},
   "outputs": [],
   "source": [
    "#pm.autocorrplot(trace_s, varnames=['alpha']);"
   ]
  },
  {
   "cell_type": "code",
   "execution_count": null,
   "metadata": {},
   "outputs": [],
   "source": [
    "probs = trace_s['alpha'].mean(axis=0) + np.dot(x_s, trace_s['beta'].mean(axis=0))\n",
    "y_pred = []\n",
    "for point in probs:\n",
    "    y_pred.append(np.exp(point)/np.sum(np.exp(point), axis=0))\n",
    "np.sum(y_s == np.argmax(y_pred, axis=1))/len(y_s)"
   ]
  },
  {
   "cell_type": "code",
   "execution_count": null,
   "metadata": {},
   "outputs": [],
   "source": [
    "with pm.Model() as model_sf:\n",
    "    alpha = pm.Normal('alpha', mu=0, sd=2, shape=2)\n",
    "    beta = pm.Normal('beta', mu=0, sd=2, shape=(4,2))\n",
    "    \n",
    "    alpha_f = tt.concatenate([[0] , alpha])\n",
    "    beta_f = tt.concatenate([np.zeros((4,1)) , beta], axis=1)\n",
    "\n",
    "    mu = alpha_f + pm.math.dot(x_s, beta_f)\n",
    "    theta = tt.nnet.softmax(mu)\n",
    "\n",
    "    yl = pm.Categorical('yl', p=theta, observed=y_s)\n",
    "    start = pm.find_MAP()\n",
    "    step = pm.NUTS()\n",
    "    trace_sf = pm.sample(2000, step, start)"
   ]
  },
  {
   "cell_type": "code",
   "execution_count": null,
   "metadata": {},
   "outputs": [],
   "source": [
    "pm.plot_trace(trace_sf)\n",
    "plt.savefig('B04958_05_13.png', dpi=300, figsize=(5.5, 5.5))"
   ]
  },
  {
   "cell_type": "code",
   "execution_count": null,
   "metadata": {},
   "outputs": [],
   "source": [
    "pm.summary(trace_sf)"
   ]
  },
  {
   "cell_type": "markdown",
   "metadata": {
    "collapsed": true
   },
   "source": [
    "## Linear discriminat Analysis"
   ]
  },
  {
   "cell_type": "code",
   "execution_count": null,
   "metadata": {},
   "outputs": [],
   "source": [
    "iris = sns.load_dataset(\"iris\")\n",
    "df = iris.query(\"species == ('setosa', 'versicolor')\")\n",
    "y_0 = pd.Categorical(df['species']).codes\n",
    "x_n = 'sepal_length' \n",
    "x_0 = df[x_n].values"
   ]
  },
  {
   "cell_type": "code",
   "execution_count": null,
   "metadata": {},
   "outputs": [],
   "source": [
    "with pm.Model() as model_lda:\n",
    "\n",
    "    mus = pm.Normal('mus', mu=0, sd=10, shape=2)\n",
    "    sigma = pm.HalfCauchy('sigma', 5)\n",
    "    \n",
    "    setosa = pm.Normal('setosa', mu=mus[0], sd=sigma, observed=x_0[:50])\n",
    "    versicolor = pm.Normal('versicolor', mu=mus[1], sd=sigma, observed=x_0[50:])\n",
    "    \n",
    "    bd = pm.Deterministic('bd', (mus[0]+mus[1])/2)\n",
    "    \n",
    "    start = pm.find_MAP()\n",
    "    step = pm.NUTS()\n",
    "    trace_lda = pm.sample(5000, step, start)"
   ]
  },
  {
   "cell_type": "code",
   "execution_count": null,
   "metadata": {},
   "outputs": [],
   "source": [
    "pm.traceplot(trace_lda)\n",
    "plt.savefig('B04958_05_14.png', dpi=300, figsize=(5.5, 5.5))"
   ]
  },
  {
   "cell_type": "code",
   "execution_count": null,
   "metadata": {},
   "outputs": [],
   "source": [
    "pm.df_summary(trace_lda)"
   ]
  },
  {
   "cell_type": "code",
   "execution_count": null,
   "metadata": {},
   "outputs": [],
   "source": [
    "plt.axvline(trace_lda['bd'].mean(), ymax=1, color='r')\n",
    "bd_hpd = pm.hpd(trace_lda['bd'])\n",
    "plt.fill_betweenx([0, 1], bd_hpd[0], bd_hpd[1], color='r', alpha=0.5)\n",
    "\n",
    "plt.plot(x_0, y_0, 'o', color='k')\n",
    "\n",
    "plt.xlabel(x_n, fontsize=16)\n",
    "plt.savefig('B04958_05_15.png', dpi=300, figsize=(5.5, 5.5))"
   ]
  },
  {
   "cell_type": "code",
   "execution_count": null,
   "metadata": {},
   "outputs": [],
   "source": [
    "import sys, IPython, scipy, matplotlib, platform\n",
    "print(\"This notebook was created on a %s computer running %s and using:\\nPython %s\\nIPython %s\\nPyMC3 %s\\nNumPy %s\\nSciPy %s\\nMatplotlib %s\\nSeaborn %s\\nPandas %s\" % (platform.machine(), ' '.join(platform.linux_distribution()[:2]), sys.version[:5], IPython.__version__, pm.__version__, np.__version__, scipy.__version__, matplotlib.__version__, sns.__version__, pd.__version__))"
   ]
  },
  {
   "cell_type": "code",
   "execution_count": null,
   "metadata": {},
   "outputs": [],
   "source": []
  },
  {
   "cell_type": "code",
   "execution_count": null,
   "metadata": {},
   "outputs": [],
   "source": []
  },
  {
   "cell_type": "code",
   "execution_count": null,
   "metadata": {},
   "outputs": [],
   "source": []
  }
 ],
 "metadata": {
  "kernelspec": {
   "display_name": "Python 3 (ipykernel)",
   "language": "python",
   "name": "python3"
  },
  "language_info": {
   "codemirror_mode": {
    "name": "ipython",
    "version": 3
   },
   "file_extension": ".py",
   "mimetype": "text/x-python",
   "name": "python",
   "nbconvert_exporter": "python",
   "pygments_lexer": "ipython3",
   "version": "3.9.6"
  },
  "vscode": {
   "interpreter": {
    "hash": "01428c4e9d496beebc636a576f3cfaafb56d57f74525664b6c6d6e6fd387bc43"
   }
  }
 },
 "nbformat": 4,
 "nbformat_minor": 1
}
