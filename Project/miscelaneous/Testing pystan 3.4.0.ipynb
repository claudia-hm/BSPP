{
 "cells": [
  {
   "cell_type": "code",
   "execution_count": 1,
   "id": "09840181",
   "metadata": {},
   "outputs": [],
   "source": [
    "import nest_asyncio\n",
    "nest_asyncio.apply()\n",
    "del nest_asyncio"
   ]
  },
  {
   "cell_type": "code",
   "execution_count": 2,
   "id": "41483936",
   "metadata": {},
   "outputs": [
    {
     "name": "stderr",
     "output_type": "stream",
     "text": [
      "\u001b[32mBuilding:\u001b[0m found in cache, done.\n",
      "\u001b[36mMessages from \u001b[0m\u001b[36;1mstanc\u001b[0m\u001b[36m:\u001b[0m\n",
      "Warning in '/var/folders/79/lndg0b5n2q3b40m_ty2kxlm40000gn/T/httpstan_f6j1s3o1/model_qv763guo.stan', line 4, column 2: Declaration\n",
      "    of arrays by placing brackets after a variable name is deprecated and\n",
      "    will be removed in Stan 2.32.0. Instead use the array keyword before the\n",
      "    type. This can be changed automatically using the auto-format flag to\n",
      "    stanc\n",
      "Warning in '/var/folders/79/lndg0b5n2q3b40m_ty2kxlm40000gn/T/httpstan_f6j1s3o1/model_qv763guo.stan', line 5, column 2: Declaration\n",
      "    of arrays by placing brackets after a variable name is deprecated and\n",
      "    will be removed in Stan 2.32.0. Instead use the array keyword before the\n",
      "    type. This can be changed automatically using the auto-format flag to\n",
      "    stanc\n",
      "Warning: The parameter tau has no priors.\n",
      "Warning: The parameter mu has no priors.\n"
     ]
    }
   ],
   "source": [
    "import stan\n",
    "\n",
    "schools_code = \"\"\"\n",
    "data {\n",
    "  int<lower=0> J;         // number of schools\n",
    "  real y[J];              // estimated treatment effects\n",
    "  real<lower=0> sigma[J]; // standard error of effect estimates\n",
    "}\n",
    "parameters {\n",
    "  real mu;                // population treatment effect\n",
    "  real<lower=0> tau;      // standard deviation in treatment effects\n",
    "  vector[J] eta;          // unscaled deviation from mu by school\n",
    "}\n",
    "transformed parameters {\n",
    "  vector[J] theta = mu + tau * eta;        // school treatment effects\n",
    "}\n",
    "model {\n",
    "  target += normal_lpdf(eta | 0, 1);       // prior log-density\n",
    "  target += normal_lpdf(y | theta, sigma); // log-likelihood\n",
    "}\n",
    "\"\"\"\n",
    "\n",
    "schools_data = {\"J\": 8,\n",
    "                \"y\": [28,  8, -3,  7, -1,  1, 18, 12],\n",
    "                \"sigma\": [15, 10, 16, 11,  9, 11, 10, 18]}\n",
    "\n",
    "posterior = stan.build(schools_code, data=schools_data)"
   ]
  },
  {
   "cell_type": "code",
   "execution_count": 3,
   "id": "30d9855c",
   "metadata": {},
   "outputs": [
    {
     "name": "stderr",
     "output_type": "stream",
     "text": [
      "\u001b[36mSampling:\u001b[0m   0%\n",
      "\u001b[1A\u001b[0J\u001b[36mSampling:\u001b[0m  25% (2000/8000)\n",
      "\u001b[1A\u001b[0J\u001b[36mSampling:\u001b[0m  50% (4000/8000)\n",
      "\u001b[1A\u001b[0J\u001b[36mSampling:\u001b[0m  75% (6000/8000)\n",
      "\u001b[1A\u001b[0J\u001b[36mSampling:\u001b[0m 100% (8000/8000)\n",
      "\u001b[1A\u001b[0J\u001b[32mSampling:\u001b[0m 100% (8000/8000), done.\n",
      "\u001b[36mMessages received during sampling:\u001b[0m\n",
      "  Gradient evaluation took 6e-05 seconds\n",
      "  1000 transitions using 10 leapfrog steps per transition would take 0.6 seconds.\n",
      "  Adjust your expectations accordingly!\n",
      "  Gradient evaluation took 1e-05 seconds\n",
      "  1000 transitions using 10 leapfrog steps per transition would take 0.1 seconds.\n",
      "  Adjust your expectations accordingly!\n",
      "  Gradient evaluation took 1.3e-05 seconds\n",
      "  1000 transitions using 10 leapfrog steps per transition would take 0.13 seconds.\n",
      "  Adjust your expectations accordingly!\n",
      "  Gradient evaluation took 1.2e-05 seconds\n",
      "  1000 transitions using 10 leapfrog steps per transition would take 0.12 seconds.\n",
      "  Adjust your expectations accordingly!\n"
     ]
    },
    {
     "name": "stdout",
     "output_type": "stream",
     "text": [
      "                count       mean       std            min        25%  \\\n",
      "parameters                                                             \n",
      "lp__           4000.0 -39.605211  2.654314  -5.349273e+01 -41.272702   \n",
      "accept_stat__  4000.0   0.839263  0.224099  9.679479e-166   0.800849   \n",
      "stepsize__     4000.0   0.379592  0.045424   3.304945e-01   0.339072   \n",
      "treedepth__    4000.0   3.252250  0.508119   1.000000e+00   3.000000   \n",
      "n_leapfrog__   4000.0  10.439750  4.155922   1.000000e+00   7.000000   \n",
      "divergent__    4000.0   0.000250  0.015811   0.000000e+00   0.000000   \n",
      "energy__       4000.0  44.639227  3.514038   3.520681e+01  42.104190   \n",
      "mu             4000.0   7.874447  4.898953  -1.224239e+01   4.585197   \n",
      "tau            4000.0   6.387244  5.362492   5.709867e-03   2.420966   \n",
      "eta.1          4000.0   0.385289  0.939104  -3.234108e+00  -0.218306   \n",
      "eta.2          4000.0  -0.006333  0.875417  -3.028142e+00  -0.581792   \n",
      "eta.3          4000.0  -0.204522  0.949303  -3.352831e+00  -0.850863   \n",
      "eta.4          4000.0  -0.032058  0.890601  -3.224751e+00  -0.629598   \n",
      "eta.5          4000.0  -0.341199  0.886430  -3.221574e+00  -0.914910   \n",
      "eta.6          4000.0  -0.210011  0.896381  -3.388943e+00  -0.781527   \n",
      "eta.7          4000.0   0.355286  0.866766  -3.201037e+00  -0.205247   \n",
      "eta.8          4000.0   0.055343  0.956197  -3.486394e+00  -0.590067   \n",
      "theta.1        4000.0  11.166679  8.204405  -1.649938e+01   5.899987   \n",
      "theta.2        4000.0   7.751160  6.051536  -1.744954e+01   3.998203   \n",
      "theta.3        4000.0   6.000528  7.708501  -3.709430e+01   2.202646   \n",
      "theta.4        4000.0   7.636645  6.414086  -2.606769e+01   3.747643   \n",
      "theta.5        4000.0   5.211083  6.389020  -2.323615e+01   1.459452   \n",
      "theta.6        4000.0   6.068451  6.768555  -2.435627e+01   2.026282   \n",
      "theta.7        4000.0  10.625030  6.863562  -1.320636e+01   5.966456   \n",
      "theta.8        4000.0   8.530935  7.750205  -3.148265e+01   4.003857   \n",
      "\n",
      "                     50%        75%        max  \n",
      "parameters                                      \n",
      "lp__          -39.367375 -37.723969 -33.359952  \n",
      "accept_stat__   0.937505   0.982198   1.000000  \n",
      "stepsize__      0.373375   0.413894   0.441123  \n",
      "treedepth__     3.000000   4.000000   5.000000  \n",
      "n_leapfrog__    7.000000  15.000000  47.000000  \n",
      "divergent__     0.000000   0.000000   1.000000  \n",
      "energy__       44.349952  46.895418  63.882168  \n",
      "mu              7.738962  11.032437  28.142436  \n",
      "tau             5.209482   8.967625  56.100952  \n",
      "eta.1           0.413278   1.015133   3.546590  \n",
      "eta.2          -0.015911   0.568991   3.283026  \n",
      "eta.3          -0.212372   0.416580   3.451896  \n",
      "eta.4          -0.026701   0.559463   3.509292  \n",
      "eta.5          -0.373581   0.238115   2.766908  \n",
      "eta.6          -0.219025   0.364010   3.692011  \n",
      "eta.7           0.388965   0.905904   3.470554  \n",
      "eta.8           0.061702   0.720813   3.413856  \n",
      "theta.1        10.187941  15.396119  57.497377  \n",
      "theta.2         7.714791  11.524709  33.282835  \n",
      "theta.3         6.397433  10.548423  36.537914  \n",
      "theta.4         7.696513  11.475011  35.713173  \n",
      "theta.5         5.567902   9.443178  28.032378  \n",
      "theta.6         6.516621  10.418297  31.820619  \n",
      "theta.7        10.053398  14.532562  47.039432  \n",
      "theta.8         8.141914  12.732128  41.385337  \n"
     ]
    }
   ],
   "source": [
    "fit = posterior.sample(num_chains=4, num_samples=1000)\n",
    "eta = fit[\"eta\"]  # array with shape (8, 4000)\n",
    "df = fit.to_frame()  # pandas `DataFrame, requires pandas\n",
    "print(df.describe().T)"
   ]
  },
  {
   "cell_type": "code",
   "execution_count": null,
   "id": "6146b4fe",
   "metadata": {},
   "outputs": [],
   "source": []
  }
 ],
 "metadata": {
  "kernelspec": {
   "display_name": "venv",
   "language": "python",
   "name": "venv"
  },
  "language_info": {
   "codemirror_mode": {
    "name": "ipython",
    "version": 3
   },
   "file_extension": ".py",
   "mimetype": "text/x-python",
   "name": "python",
   "nbconvert_exporter": "python",
   "pygments_lexer": "ipython3",
   "version": "3.9.6"
  }
 },
 "nbformat": 4,
 "nbformat_minor": 5
}
