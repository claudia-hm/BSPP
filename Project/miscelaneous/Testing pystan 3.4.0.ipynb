{
 "cells": [
  {
   "cell_type": "code",
   "execution_count": 1,
   "id": "09840181",
   "metadata": {},
   "outputs": [],
   "source": [
    "import nest_asyncio\n",
    "nest_asyncio.apply()\n",
    "del nest_asyncio"
   ]
  },
  {
   "cell_type": "code",
   "execution_count": 2,
   "id": "41483936",
   "metadata": {},
   "outputs": [
    {
     "name": "stderr",
     "output_type": "stream",
     "text": [
      "\u001b[32mBuilding:\u001b[0m found in cache, done.\n",
      "\u001b[36mMessages from \u001b[0m\u001b[36;1mstanc\u001b[0m\u001b[36m:\u001b[0m\n",
      "Warning in '/var/folders/79/lndg0b5n2q3b40m_ty2kxlm40000gn/T/httpstan_f6j1s3o1/model_qv763guo.stan', line 4, column 2: Declaration\n",
      "    of arrays by placing brackets after a variable name is deprecated and\n",
      "    will be removed in Stan 2.32.0. Instead use the array keyword before the\n",
      "    type. This can be changed automatically using the auto-format flag to\n",
      "    stanc\n",
      "Warning in '/var/folders/79/lndg0b5n2q3b40m_ty2kxlm40000gn/T/httpstan_f6j1s3o1/model_qv763guo.stan', line 5, column 2: Declaration\n",
      "    of arrays by placing brackets after a variable name is deprecated and\n",
      "    will be removed in Stan 2.32.0. Instead use the array keyword before the\n",
      "    type. This can be changed automatically using the auto-format flag to\n",
      "    stanc\n",
      "Warning: The parameter tau has no priors.\n",
      "Warning: The parameter mu has no priors.\n"
     ]
    }
   ],
   "source": [
    "import stan\n",
    "\n",
    "schools_code = \"\"\"\n",
    "data {\n",
    "  int<lower=0> J;         // number of schools\n",
    "  real y[J];              // estimated treatment effects\n",
    "  real<lower=0> sigma[J]; // standard error of effect estimates\n",
    "}\n",
    "parameters {\n",
    "  real mu;                // population treatment effect\n",
    "  real<lower=0> tau;      // standard deviation in treatment effects\n",
    "  vector[J] eta;          // unscaled deviation from mu by school\n",
    "}\n",
    "transformed parameters {\n",
    "  vector[J] theta = mu + tau * eta;        // school treatment effects\n",
    "}\n",
    "model {\n",
    "  target += normal_lpdf(eta | 0, 1);       // prior log-density\n",
    "  target += normal_lpdf(y | theta, sigma); // log-likelihood\n",
    "}\n",
    "\"\"\"\n",
    "\n",
    "schools_data = {\"J\": 8,\n",
    "                \"y\": [28,  8, -3,  7, -1,  1, 18, 12],\n",
    "                \"sigma\": [15, 10, 16, 11,  9, 11, 10, 18]}\n",
    "\n",
    "posterior = stan.build(schools_code, data=schools_data)"
   ]
  },
  {
   "cell_type": "code",
   "execution_count": 3,
   "id": "30d9855c",
   "metadata": {},
   "outputs": [
    {
     "name": "stderr",
     "output_type": "stream",
     "text": [
      "\u001b[36mSampling:\u001b[0m   0%\n",
      "\u001b[1A\u001b[0J\u001b[36mSampling:\u001b[0m  25% (2000/8000)\n",
      "\u001b[1A\u001b[0J\u001b[36mSampling:\u001b[0m  50% (4000/8000)\n",
      "\u001b[1A\u001b[0J\u001b[36mSampling:\u001b[0m  75% (6000/8000)\n",
      "\u001b[1A\u001b[0J\u001b[36mSampling:\u001b[0m 100% (8000/8000)\n",
      "\u001b[1A\u001b[0J\u001b[32mSampling:\u001b[0m 100% (8000/8000), done.\n",
      "\u001b[36mMessages received during sampling:\u001b[0m\n",
      "  Gradient evaluation took 5.4e-05 seconds\n",
      "  1000 transitions using 10 leapfrog steps per transition would take 0.54 seconds.\n",
      "  Adjust your expectations accordingly!\n",
      "  Gradient evaluation took 8e-06 seconds\n",
      "  1000 transitions using 10 leapfrog steps per transition would take 0.08 seconds.\n",
      "  Adjust your expectations accordingly!\n",
      "  Gradient evaluation took 1e-05 seconds\n",
      "  1000 transitions using 10 leapfrog steps per transition would take 0.1 seconds.\n",
      "  Adjust your expectations accordingly!\n",
      "  Gradient evaluation took 8e-06 seconds\n",
      "  1000 transitions using 10 leapfrog steps per transition would take 0.08 seconds.\n",
      "  Adjust your expectations accordingly!\n"
     ]
    },
    {
     "name": "stdout",
     "output_type": "stream",
     "text": [
      "                count       mean       std           min        25%  \\\n",
      "parameters                                                            \n",
      "lp__           4000.0 -39.534598  2.614211 -5.284539e+01 -41.072309   \n",
      "accept_stat__  4000.0   0.883403  0.188645  1.471249e-89   0.875860   \n",
      "stepsize__     4000.0   0.314505  0.030040  2.643172e-01   0.308836   \n",
      "treedepth__    4000.0   3.615000  0.520906  1.000000e+00   3.000000   \n",
      "n_leapfrog__   4000.0  13.201500  3.633414  1.000000e+00  15.000000   \n",
      "divergent__    4000.0   0.000000  0.000000  0.000000e+00   0.000000   \n",
      "energy__       4000.0  44.570153  3.433271  3.552232e+01  42.106609   \n",
      "mu             4000.0   8.084615  5.153346 -1.475586e+01   4.737535   \n",
      "tau            4000.0   6.696274  5.846215  1.064820e-02   2.592279   \n",
      "eta.1          4000.0   0.369960  0.930824 -3.578056e+00  -0.223366   \n",
      "eta.2          4000.0   0.007623  0.862447 -2.918535e+00  -0.555868   \n",
      "eta.3          4000.0  -0.199224  0.940796 -4.105981e+00  -0.833550   \n",
      "eta.4          4000.0  -0.036561  0.896574 -3.589731e+00  -0.614672   \n",
      "eta.5          4000.0  -0.372453  0.871341 -3.372983e+00  -0.936334   \n",
      "eta.6          4000.0  -0.214010  0.917792 -3.765843e+00  -0.821279   \n",
      "eta.7          4000.0   0.322449  0.873249 -3.106807e+00  -0.210614   \n",
      "eta.8          4000.0   0.065885  0.944981 -3.444776e+00  -0.558118   \n",
      "theta.1        4000.0  11.552304  8.263800 -1.651531e+01   6.168904   \n",
      "theta.2        4000.0   8.064081  6.268363 -2.021750e+01   4.239957   \n",
      "theta.3        4000.0   6.193880  7.972869 -3.806528e+01   2.048856   \n",
      "theta.4        4000.0   7.816381  6.469535 -2.030157e+01   3.841512   \n",
      "theta.5        4000.0   5.271917  6.385248 -2.381218e+01   1.523354   \n",
      "theta.6        4000.0   6.261409  6.890058 -2.609157e+01   2.192515   \n",
      "theta.7        4000.0  10.681600  6.718449 -1.916445e+01   6.125493   \n",
      "theta.8        4000.0   8.841520  7.830544 -2.252269e+01   4.082400   \n",
      "\n",
      "                     50%        75%        max  \n",
      "parameters                                      \n",
      "lp__          -39.281861 -37.660310 -32.841632  \n",
      "accept_stat__   0.963424   0.988928   1.000000  \n",
      "stepsize__      0.324809   0.330478   0.344083  \n",
      "treedepth__     4.000000   4.000000   4.000000  \n",
      "n_leapfrog__   15.000000  15.000000  31.000000  \n",
      "divergent__     0.000000   0.000000   0.000000  \n",
      "energy__       44.318650  46.733020  58.095267  \n",
      "mu              8.080200  11.399999  26.777983  \n",
      "tau             5.298894   9.252894  59.843748  \n",
      "eta.1           0.393233   1.013138   3.917607  \n",
      "eta.2           0.000095   0.567976   3.785608  \n",
      "eta.3          -0.228291   0.432315   3.832737  \n",
      "eta.4          -0.031452   0.531183   3.486466  \n",
      "eta.5          -0.373849   0.189016   2.731761  \n",
      "eta.6          -0.230269   0.368218   3.292148  \n",
      "eta.7           0.328802   0.897559   3.470115  \n",
      "eta.8           0.065642   0.692629   3.905045  \n",
      "theta.1        10.324993  15.617917  52.408164  \n",
      "theta.2         8.038366  11.830640  38.922028  \n",
      "theta.3         6.929357  11.022310  38.574759  \n",
      "theta.4         7.917350  11.764484  34.318660  \n",
      "theta.5         5.741813   9.586407  27.727855  \n",
      "theta.6         6.814765  10.777648  34.097833  \n",
      "theta.7        10.168344  14.555196  44.947000  \n",
      "theta.8         8.579731  13.194674  50.461678  \n"
     ]
    }
   ],
   "source": [
    "fit = posterior.sample(num_chains=4, num_samples=1000)\n",
    "eta = fit[\"eta\"]  # array with shape (8, 4000)\n",
    "df = fit.to_frame()  # pandas `DataFrame, requires pandas\n",
    "print(df.describe().T)"
   ]
  },
  {
   "cell_type": "code",
   "execution_count": null,
   "id": "6146b4fe",
   "metadata": {},
   "outputs": [],
   "source": []
  }
 ],
 "metadata": {
  "kernelspec": {
   "display_name": "venv",
   "language": "python",
   "name": "venv"
  },
  "language_info": {
   "codemirror_mode": {
    "name": "ipython",
    "version": 3
   },
   "file_extension": ".py",
   "mimetype": "text/x-python",
   "name": "python",
   "nbconvert_exporter": "python",
   "pygments_lexer": "ipython3",
   "version": "3.9.6"
  }
 },
 "nbformat": 4,
 "nbformat_minor": 5
}
