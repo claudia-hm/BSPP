{
 "cells": [
  {
   "cell_type": "code",
   "execution_count": 1,
   "id": "09840181",
   "metadata": {},
   "outputs": [],
   "source": [
    "import nest_asyncio\n",
    "nest_asyncio.apply()\n",
    "del nest_asyncio"
   ]
  },
  {
   "cell_type": "code",
   "execution_count": 2,
   "id": "41483936",
   "metadata": {},
   "outputs": [
    {
     "name": "stderr",
     "output_type": "stream",
     "text": [
      "\u001b[32mBuilding:\u001b[0m found in cache, done.\n",
      "\u001b[36mMessages from \u001b[0m\u001b[36;1mstanc\u001b[0m\u001b[36m:\u001b[0m\n",
      "Warning in '/var/folders/79/lndg0b5n2q3b40m_ty2kxlm40000gn/T/httpstan_f6j1s3o1/model_qv763guo.stan', line 4, column 2: Declaration\n",
      "    of arrays by placing brackets after a variable name is deprecated and\n",
      "    will be removed in Stan 2.32.0. Instead use the array keyword before the\n",
      "    type. This can be changed automatically using the auto-format flag to\n",
      "    stanc\n",
      "Warning in '/var/folders/79/lndg0b5n2q3b40m_ty2kxlm40000gn/T/httpstan_f6j1s3o1/model_qv763guo.stan', line 5, column 2: Declaration\n",
      "    of arrays by placing brackets after a variable name is deprecated and\n",
      "    will be removed in Stan 2.32.0. Instead use the array keyword before the\n",
      "    type. This can be changed automatically using the auto-format flag to\n",
      "    stanc\n",
      "Warning: The parameter tau has no priors.\n",
      "Warning: The parameter mu has no priors.\n"
     ]
    }
   ],
   "source": [
    "import stan\n",
    "\n",
    "schools_code = \"\"\"\n",
    "data {\n",
    "  int<lower=0> J;         // number of schools\n",
    "  real y[J];              // estimated treatment effects\n",
    "  real<lower=0> sigma[J]; // standard error of effect estimates\n",
    "}\n",
    "parameters {\n",
    "  real mu;                // population treatment effect\n",
    "  real<lower=0> tau;      // standard deviation in treatment effects\n",
    "  vector[J] eta;          // unscaled deviation from mu by school\n",
    "}\n",
    "transformed parameters {\n",
    "  vector[J] theta = mu + tau * eta;        // school treatment effects\n",
    "}\n",
    "model {\n",
    "  target += normal_lpdf(eta | 0, 1);       // prior log-density\n",
    "  target += normal_lpdf(y | theta, sigma); // log-likelihood\n",
    "}\n",
    "\"\"\"\n",
    "\n",
    "schools_data = {\"J\": 8,\n",
    "                \"y\": [28,  8, -3,  7, -1,  1, 18, 12],\n",
    "                \"sigma\": [15, 10, 16, 11,  9, 11, 10, 18]}\n",
    "\n",
    "posterior = stan.build(schools_code, data=schools_data)"
   ]
  },
  {
   "cell_type": "code",
   "execution_count": 3,
   "id": "30d9855c",
   "metadata": {},
   "outputs": [
    {
     "name": "stderr",
     "output_type": "stream",
     "text": [
      "\u001b[36mSampling:\u001b[0m   0%\n",
      "\u001b[1A\u001b[0J\u001b[36mSampling:\u001b[0m  25% (2000/8000)\n",
      "\u001b[1A\u001b[0J\u001b[36mSampling:\u001b[0m  50% (4000/8000)\n",
      "\u001b[1A\u001b[0J\u001b[36mSampling:\u001b[0m  75% (6000/8000)\n",
      "\u001b[1A\u001b[0J\u001b[36mSampling:\u001b[0m 100% (8000/8000)\n",
      "\u001b[1A\u001b[0J\u001b[32mSampling:\u001b[0m 100% (8000/8000), done.\n",
      "\u001b[36mMessages received during sampling:\u001b[0m\n",
      "  Gradient evaluation took 0.000496 seconds\n",
      "  1000 transitions using 10 leapfrog steps per transition would take 4.96 seconds.\n",
      "  Adjust your expectations accordingly!\n",
      "  Gradient evaluation took 1.4e-05 seconds\n",
      "  1000 transitions using 10 leapfrog steps per transition would take 0.14 seconds.\n",
      "  Adjust your expectations accordingly!\n",
      "  Gradient evaluation took 1.2e-05 seconds\n",
      "  1000 transitions using 10 leapfrog steps per transition would take 0.12 seconds.\n",
      "  Adjust your expectations accordingly!\n",
      "  Gradient evaluation took 8e-06 seconds\n",
      "  1000 transitions using 10 leapfrog steps per transition would take 0.08 seconds.\n",
      "  Adjust your expectations accordingly!\n"
     ]
    },
    {
     "name": "stdout",
     "output_type": "stream",
     "text": [
      "                count       mean       std           min        25%  \\\n",
      "parameters                                                            \n",
      "lp__           4000.0 -39.509640  2.646235 -5.072949e+01 -41.117389   \n",
      "accept_stat__  4000.0   0.868156  0.205266  9.810667e-27   0.854323   \n",
      "stepsize__     4000.0   0.309425  0.018318  2.827443e-01   0.299285   \n",
      "treedepth__    4000.0   3.618250  0.516317  1.000000e+00   3.000000   \n",
      "n_leapfrog__   4000.0  13.200000  3.656685  1.000000e+00  15.000000   \n",
      "divergent__    4000.0   0.000250  0.015811  0.000000e+00   0.000000   \n",
      "energy__       4000.0  44.485173  3.489856  3.558989e+01  42.081159   \n",
      "mu             4000.0   7.924777  5.177116 -8.647502e+00   4.543346   \n",
      "tau            4000.0   6.809661  5.785845  2.994943e-03   2.574551   \n",
      "eta.1          4000.0   0.394421  0.910154 -3.125239e+00  -0.186816   \n",
      "eta.2          4000.0   0.029205  0.840400 -2.714981e+00  -0.527592   \n",
      "eta.3          4000.0  -0.221261  0.941423 -3.608201e+00  -0.845483   \n",
      "eta.4          4000.0  -0.041109  0.894182 -3.149392e+00  -0.609923   \n",
      "eta.5          4000.0  -0.340363  0.877423 -3.075247e+00  -0.911705   \n",
      "eta.6          4000.0  -0.200914  0.889715 -3.467895e+00  -0.791041   \n",
      "eta.7          4000.0   0.335317  0.887201 -3.685782e+00  -0.227353   \n",
      "eta.8          4000.0   0.040157  0.936635 -3.610373e+00  -0.583789   \n",
      "theta.1        4000.0  11.490151  8.107266 -2.443265e+01   6.291985   \n",
      "theta.2        4000.0   8.070304  6.420564 -1.866414e+01   4.003782   \n",
      "theta.3        4000.0   5.810086  8.150123 -3.300764e+01   1.340910   \n",
      "theta.4        4000.0   7.525916  6.593555 -2.167522e+01   3.423697   \n",
      "theta.5        4000.0   5.083864  6.629736 -3.008239e+01   1.155282   \n",
      "theta.6        4000.0   6.137408  6.723205 -2.415792e+01   2.275982   \n",
      "theta.7        4000.0  10.750236  6.915296 -1.708086e+01   6.162580   \n",
      "theta.8        4000.0   8.410327  8.175342 -3.042044e+01   3.703524   \n",
      "\n",
      "                     50%        75%        max  \n",
      "parameters                                      \n",
      "lp__          -39.314720 -37.659223 -33.078979  \n",
      "accept_stat__   0.958539   0.988178   1.000000  \n",
      "stepsize__      0.311089   0.321229   0.332779  \n",
      "treedepth__     4.000000   4.000000   5.000000  \n",
      "n_leapfrog__   15.000000  15.000000  39.000000  \n",
      "divergent__     0.000000   0.000000   1.000000  \n",
      "energy__       44.246235  46.627960  61.453460  \n",
      "mu              7.881849  11.043435  29.911789  \n",
      "tau             5.352717   9.328792  40.867950  \n",
      "eta.1           0.400574   1.000293   4.101476  \n",
      "eta.2           0.037569   0.569771   3.143262  \n",
      "eta.3          -0.230950   0.383468   3.107539  \n",
      "eta.4          -0.040316   0.542742   3.940601  \n",
      "eta.5          -0.350866   0.222265   2.699946  \n",
      "eta.6          -0.213035   0.388880   3.165306  \n",
      "eta.7           0.351514   0.926274   4.195603  \n",
      "eta.8           0.027516   0.701830   3.513828  \n",
      "theta.1        10.357179  15.359884  56.806611  \n",
      "theta.2         8.008471  11.978721  38.581318  \n",
      "theta.3         6.374176  10.737778  33.846232  \n",
      "theta.4         7.674783  11.686188  36.594478  \n",
      "theta.5         5.666039   9.538165  28.088564  \n",
      "theta.6         6.485935  10.396836  36.111412  \n",
      "theta.7        10.061154  14.692712  42.243383  \n",
      "theta.8         8.181774  12.680843  48.203710  \n"
     ]
    }
   ],
   "source": [
    "fit = posterior.sample(num_chains=4, num_samples=1000)\n",
    "eta = fit[\"eta\"]  # array with shape (8, 4000)\n",
    "df = fit.to_frame()  # pandas `DataFrame, requires pandas\n",
    "print(df.describe().T)"
   ]
  },
  {
   "cell_type": "code",
   "execution_count": null,
   "id": "6146b4fe",
   "metadata": {},
   "outputs": [],
   "source": []
  }
 ],
 "metadata": {
  "kernelspec": {
   "display_name": "venv",
   "language": "python",
   "name": "venv"
  },
  "language_info": {
   "codemirror_mode": {
    "name": "ipython",
    "version": 3
   },
   "file_extension": ".py",
   "mimetype": "text/x-python",
   "name": "python",
   "nbconvert_exporter": "python",
   "pygments_lexer": "ipython3",
   "version": "3.9.6"
  }
 },
 "nbformat": 4,
 "nbformat_minor": 5
}
