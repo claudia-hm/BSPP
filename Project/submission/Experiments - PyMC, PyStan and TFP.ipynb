{
 "cells": [
  {
   "cell_type": "markdown",
   "id": "033bdcae",
   "metadata": {},
   "source": [
    "# Experiments - PyMC, PyStan and TFP"
   ]
  },
  {
   "cell_type": "markdown",
   "id": "739c5018",
   "metadata": {},
   "source": [
    "In this notebook we compare three probabilistic programming libraries (PyStan, PyMC and TFP) over the Palmer Penguins dataset."
   ]
  },
  {
   "cell_type": "markdown",
   "id": "9527661a",
   "metadata": {},
   "source": [
    "## 0. Set-up"
   ]
  },
  {
   "cell_type": "code",
   "execution_count": 1,
   "id": "35e774c0",
   "metadata": {},
   "outputs": [],
   "source": [
    "import pandas as pd\n",
    "import matplotlib.pyplot as plt\n",
    "import numpy as np\n",
    "import seaborn as sns\n",
    "import pymc as pm\n",
    "import arviz as az\n",
    "import stan \n",
    "import time\n",
    "from sklearn.model_selection import train_test_split\n",
    "from sklearn.metrics import accuracy_score\n",
    "\n",
    "import nest_asyncio\n",
    "nest_asyncio.apply()\n",
    "del nest_asyncio"
   ]
  },
  {
   "cell_type": "code",
   "execution_count": 2,
   "id": "f2be7c14",
   "metadata": {},
   "outputs": [
    {
     "data": {
      "text/html": [
       "<div>\n",
       "<style scoped>\n",
       "    .dataframe tbody tr th:only-of-type {\n",
       "        vertical-align: middle;\n",
       "    }\n",
       "\n",
       "    .dataframe tbody tr th {\n",
       "        vertical-align: top;\n",
       "    }\n",
       "\n",
       "    .dataframe thead th {\n",
       "        text-align: right;\n",
       "    }\n",
       "</style>\n",
       "<table border=\"1\" class=\"dataframe\">\n",
       "  <thead>\n",
       "    <tr style=\"text-align: right;\">\n",
       "      <th></th>\n",
       "      <th>rowid</th>\n",
       "      <th>species</th>\n",
       "      <th>island</th>\n",
       "      <th>bill_length_mm</th>\n",
       "      <th>bill_depth_mm</th>\n",
       "      <th>flipper_length_mm</th>\n",
       "      <th>body_mass_g</th>\n",
       "      <th>sex</th>\n",
       "      <th>year</th>\n",
       "    </tr>\n",
       "  </thead>\n",
       "  <tbody>\n",
       "    <tr>\n",
       "      <th>0</th>\n",
       "      <td>1</td>\n",
       "      <td>Adelie</td>\n",
       "      <td>Torgersen</td>\n",
       "      <td>39.1</td>\n",
       "      <td>18.7</td>\n",
       "      <td>181.0</td>\n",
       "      <td>3750.0</td>\n",
       "      <td>male</td>\n",
       "      <td>2007</td>\n",
       "    </tr>\n",
       "    <tr>\n",
       "      <th>1</th>\n",
       "      <td>2</td>\n",
       "      <td>Adelie</td>\n",
       "      <td>Torgersen</td>\n",
       "      <td>39.5</td>\n",
       "      <td>17.4</td>\n",
       "      <td>186.0</td>\n",
       "      <td>3800.0</td>\n",
       "      <td>female</td>\n",
       "      <td>2007</td>\n",
       "    </tr>\n",
       "    <tr>\n",
       "      <th>2</th>\n",
       "      <td>3</td>\n",
       "      <td>Adelie</td>\n",
       "      <td>Torgersen</td>\n",
       "      <td>40.3</td>\n",
       "      <td>18.0</td>\n",
       "      <td>195.0</td>\n",
       "      <td>3250.0</td>\n",
       "      <td>female</td>\n",
       "      <td>2007</td>\n",
       "    </tr>\n",
       "    <tr>\n",
       "      <th>3</th>\n",
       "      <td>4</td>\n",
       "      <td>Adelie</td>\n",
       "      <td>Torgersen</td>\n",
       "      <td>NaN</td>\n",
       "      <td>NaN</td>\n",
       "      <td>NaN</td>\n",
       "      <td>NaN</td>\n",
       "      <td>NaN</td>\n",
       "      <td>2007</td>\n",
       "    </tr>\n",
       "    <tr>\n",
       "      <th>4</th>\n",
       "      <td>5</td>\n",
       "      <td>Adelie</td>\n",
       "      <td>Torgersen</td>\n",
       "      <td>36.7</td>\n",
       "      <td>19.3</td>\n",
       "      <td>193.0</td>\n",
       "      <td>3450.0</td>\n",
       "      <td>female</td>\n",
       "      <td>2007</td>\n",
       "    </tr>\n",
       "  </tbody>\n",
       "</table>\n",
       "</div>"
      ],
      "text/plain": [
       "   rowid species     island  bill_length_mm  bill_depth_mm  flipper_length_mm  \\\n",
       "0      1  Adelie  Torgersen            39.1           18.7              181.0   \n",
       "1      2  Adelie  Torgersen            39.5           17.4              186.0   \n",
       "2      3  Adelie  Torgersen            40.3           18.0              195.0   \n",
       "3      4  Adelie  Torgersen             NaN            NaN                NaN   \n",
       "4      5  Adelie  Torgersen            36.7           19.3              193.0   \n",
       "\n",
       "   body_mass_g     sex  year  \n",
       "0       3750.0    male  2007  \n",
       "1       3800.0  female  2007  \n",
       "2       3250.0  female  2007  \n",
       "3          NaN     NaN  2007  \n",
       "4       3450.0  female  2007  "
      ]
     },
     "execution_count": 2,
     "metadata": {},
     "output_type": "execute_result"
    }
   ],
   "source": [
    "penguins = pd.read_csv(\"penguins.csv\")\n",
    "penguins.head()"
   ]
  },
  {
   "cell_type": "code",
   "execution_count": 3,
   "id": "d4d0e798",
   "metadata": {},
   "outputs": [
    {
     "data": {
      "text/html": [
       "<div>\n",
       "<style scoped>\n",
       "    .dataframe tbody tr th:only-of-type {\n",
       "        vertical-align: middle;\n",
       "    }\n",
       "\n",
       "    .dataframe tbody tr th {\n",
       "        vertical-align: top;\n",
       "    }\n",
       "\n",
       "    .dataframe thead th {\n",
       "        text-align: right;\n",
       "    }\n",
       "</style>\n",
       "<table border=\"1\" class=\"dataframe\">\n",
       "  <thead>\n",
       "    <tr style=\"text-align: right;\">\n",
       "      <th></th>\n",
       "      <th>species</th>\n",
       "      <th>bill_length_mm</th>\n",
       "      <th>bill_depth_mm</th>\n",
       "      <th>flipper_length_mm</th>\n",
       "      <th>body_mass_g</th>\n",
       "    </tr>\n",
       "  </thead>\n",
       "  <tbody>\n",
       "    <tr>\n",
       "      <th>0</th>\n",
       "      <td>Adelie</td>\n",
       "      <td>39.1</td>\n",
       "      <td>18.7</td>\n",
       "      <td>181.0</td>\n",
       "      <td>3750.0</td>\n",
       "    </tr>\n",
       "    <tr>\n",
       "      <th>1</th>\n",
       "      <td>Adelie</td>\n",
       "      <td>39.5</td>\n",
       "      <td>17.4</td>\n",
       "      <td>186.0</td>\n",
       "      <td>3800.0</td>\n",
       "    </tr>\n",
       "    <tr>\n",
       "      <th>2</th>\n",
       "      <td>Adelie</td>\n",
       "      <td>40.3</td>\n",
       "      <td>18.0</td>\n",
       "      <td>195.0</td>\n",
       "      <td>3250.0</td>\n",
       "    </tr>\n",
       "    <tr>\n",
       "      <th>4</th>\n",
       "      <td>Adelie</td>\n",
       "      <td>36.7</td>\n",
       "      <td>19.3</td>\n",
       "      <td>193.0</td>\n",
       "      <td>3450.0</td>\n",
       "    </tr>\n",
       "    <tr>\n",
       "      <th>5</th>\n",
       "      <td>Adelie</td>\n",
       "      <td>39.3</td>\n",
       "      <td>20.6</td>\n",
       "      <td>190.0</td>\n",
       "      <td>3650.0</td>\n",
       "    </tr>\n",
       "  </tbody>\n",
       "</table>\n",
       "</div>"
      ],
      "text/plain": [
       "  species  bill_length_mm  bill_depth_mm  flipper_length_mm  body_mass_g\n",
       "0  Adelie            39.1           18.7              181.0       3750.0\n",
       "1  Adelie            39.5           17.4              186.0       3800.0\n",
       "2  Adelie            40.3           18.0              195.0       3250.0\n",
       "4  Adelie            36.7           19.3              193.0       3450.0\n",
       "5  Adelie            39.3           20.6              190.0       3650.0"
      ]
     },
     "execution_count": 3,
     "metadata": {},
     "output_type": "execute_result"
    }
   ],
   "source": [
    "penguins = penguins.copy()[['species',\n",
    "                        'bill_length_mm',\n",
    "                        'bill_depth_mm',\n",
    "                        'flipper_length_mm',\n",
    "                        'body_mass_g']]\n",
    "                        \n",
    "penguins.dropna(inplace=True)\n",
    "penguins.head()"
   ]
  },
  {
   "cell_type": "code",
   "execution_count": 4,
   "id": "c8f8bffe",
   "metadata": {},
   "outputs": [
    {
     "name": "stdout",
     "output_type": "stream",
     "text": [
      "Train shape: (239, 5)\n",
      "Test shape: (103, 5)\n"
     ]
    }
   ],
   "source": [
    "train, test = train_test_split(penguins, test_size=0.3, random_state=2)\n",
    "\n",
    "print('Train shape:', train.shape)\n",
    "print('Test shape:', test.shape)"
   ]
  },
  {
   "cell_type": "code",
   "execution_count": 5,
   "id": "19b4c912",
   "metadata": {},
   "outputs": [],
   "source": [
    "species = ['Adelie', 'Chinstrap']\n",
    "\n",
    "p1 = train[train['species'].isin(species)]\n",
    "y_train = ((p1['species'] == species[0])*1).values\n",
    "N1=len(y_train)\n",
    "ind_vars = 'flipper_length_mm'\n",
    "x_train = p1[ind_vars].values.reshape((N1, 1))"
   ]
  },
  {
   "cell_type": "code",
   "execution_count": 6,
   "id": "2ecc3551",
   "metadata": {},
   "outputs": [],
   "source": [
    "p1 = test[test['species'].isin(species)]\n",
    "y_test = ((p1['species'] == species[0])*1).values\n",
    "N2=len(y_test)\n",
    "ind_vars = 'flipper_length_mm'\n",
    "x_test = p1[ind_vars].values.reshape((N2, 1))"
   ]
  },
  {
   "cell_type": "code",
   "execution_count": 7,
   "id": "1eec8fec",
   "metadata": {},
   "outputs": [
    {
     "data": {
      "text/plain": [
       "((160, 1), (160,), (59, 1), (59,), 160, 59)"
      ]
     },
     "execution_count": 7,
     "metadata": {},
     "output_type": "execute_result"
    }
   ],
   "source": [
    "x_train.shape, y_train.shape, x_test.shape, y_test.shape, N1, N2"
   ]
  },
  {
   "cell_type": "code",
   "execution_count": 8,
   "id": "1e85d99d",
   "metadata": {},
   "outputs": [],
   "source": [
    "K = 1"
   ]
  },
  {
   "cell_type": "code",
   "execution_count": 9,
   "id": "f802cbbd",
   "metadata": {},
   "outputs": [],
   "source": [
    "def classify(x, alpha, beta, threshold):\n",
    "    \"\"\"\n",
    "    A simple classifying function\n",
    "    \"\"\"\n",
    "    mu = alpha + beta * x\n",
    "    prob = 1 / (1 + np.exp(-mu))\n",
    "    return prob, (prob > threshold).flatten()"
   ]
  },
  {
   "cell_type": "markdown",
   "id": "61c3afe6",
   "metadata": {},
   "source": [
    "### sklearn"
   ]
  },
  {
   "cell_type": "code",
   "execution_count": 10,
   "id": "ed79ac06",
   "metadata": {},
   "outputs": [
    {
     "name": "stdout",
     "output_type": "stream",
     "text": [
      "Accuracy in train set: 0.75625\n",
      "Accuracy in test set: 0.6610169491525424\n"
     ]
    }
   ],
   "source": [
    "from sklearn.linear_model import LogisticRegression\n",
    "clf = LogisticRegression(random_state=0).fit(x_train, y_train)\n",
    "print(\"Accuracy in train set: {}\".format(clf.score(x_train, y_train)))\n",
    "print(\"Accuracy in test set: {}\".format(clf.score(x_test, y_test)))"
   ]
  },
  {
   "cell_type": "code",
   "execution_count": 11,
   "id": "efd1f49b",
   "metadata": {},
   "outputs": [
    {
     "name": "stdout",
     "output_type": "stream",
     "text": [
      "Estimated parameters: alpha = [31.01558028], beta=[[-0.15696072]]\n"
     ]
    }
   ],
   "source": [
    "alpha_sklearn = clf.intercept_\n",
    "beta_sklearn = clf.coef_\n",
    "print(\"Estimated parameters: alpha = {}, beta={}\".format(alpha_sklearn, beta_sklearn))"
   ]
  },
  {
   "cell_type": "code",
   "execution_count": 13,
   "id": "49e202ea",
   "metadata": {},
   "outputs": [],
   "source": [
    "probs, y_hat_sklearn = classify(x_test, alpha_sklearn, beta_sklearn, 0.5)"
   ]
  },
  {
   "cell_type": "markdown",
   "id": "de55a1f9",
   "metadata": {},
   "source": [
    "### Pymc"
   ]
  },
  {
   "cell_type": "code",
   "execution_count": 14,
   "id": "69dfe22d",
   "metadata": {},
   "outputs": [
    {
     "data": {
      "text/html": [
       "\n",
       "<style>\n",
       "    /* Turns off some styling */\n",
       "    progress {\n",
       "        /* gets rid of default border in Firefox and Opera. */\n",
       "        border: none;\n",
       "        /* Needs to be in here for Safari polyfill so background images work as expected. */\n",
       "        background-size: auto;\n",
       "    }\n",
       "    .progress-bar-interrupted, .progress-bar-interrupted::-webkit-progress-bar {\n",
       "        background: #F44336;\n",
       "    }\n",
       "</style>\n"
      ],
      "text/plain": [
       "<IPython.core.display.HTML object>"
      ]
     },
     "metadata": {},
     "output_type": "display_data"
    },
    {
     "data": {
      "text/html": [
       "\n",
       "    <div>\n",
       "      <progress value='85' class='' max='85' style='width:300px; height:20px; vertical-align: middle;'></progress>\n",
       "      100.00% [85/85 00:00<00:00 logp = -105.52, ||grad|| = 179.56]\n",
       "    </div>\n",
       "    "
      ],
      "text/plain": [
       "<IPython.core.display.HTML object>"
      ]
     },
     "metadata": {},
     "output_type": "display_data"
    },
    {
     "name": "stdout",
     "output_type": "stream",
     "text": [
      "\n"
     ]
    },
    {
     "name": "stderr",
     "output_type": "stream",
     "text": [
      "Multiprocess sampling (2 chains in 2 jobs)\n",
      "NUTS: [alpha, beta]\n"
     ]
    },
    {
     "data": {
      "text/html": [
       "\n",
       "<style>\n",
       "    /* Turns off some styling */\n",
       "    progress {\n",
       "        /* gets rid of default border in Firefox and Opera. */\n",
       "        border: none;\n",
       "        /* Needs to be in here for Safari polyfill so background images work as expected. */\n",
       "        background-size: auto;\n",
       "    }\n",
       "    .progress-bar-interrupted, .progress-bar-interrupted::-webkit-progress-bar {\n",
       "        background: #F44336;\n",
       "    }\n",
       "</style>\n"
      ],
      "text/plain": [
       "<IPython.core.display.HTML object>"
      ]
     },
     "metadata": {},
     "output_type": "display_data"
    },
    {
     "data": {
      "text/html": [
       "\n",
       "    <div>\n",
       "      <progress value='14000' class='' max='14000' style='width:300px; height:20px; vertical-align: middle;'></progress>\n",
       "      100.00% [14000/14000 01:08<00:00 Sampling 2 chains, 0 divergences]\n",
       "    </div>\n",
       "    "
      ],
      "text/plain": [
       "<IPython.core.display.HTML object>"
      ]
     },
     "metadata": {},
     "output_type": "display_data"
    },
    {
     "name": "stderr",
     "output_type": "stream",
     "text": [
      "Sampling 2 chains for 2_000 tune and 5_000 draw iterations (4_000 + 10_000 draws total) took 91 seconds.\n",
      "The acceptance probability does not match the target. It is 0.8859, but should be close to 0.8. Try to increase the number of tuning steps.\n"
     ]
    },
    {
     "name": "stdout",
     "output_type": "stream",
     "text": [
      "PyMC execution time: 107.32956433296204\n"
     ]
    }
   ],
   "source": [
    "start_time = time.time()\n",
    "with pm.Model() as model_train:\n",
    "    alpha = pm.Normal('alpha', mu=0, sigma=10)\n",
    "    beta = pm.Normal('beta', mu=0, sigma=1, shape=K)\n",
    "    mu = alpha + pm.math.dot(x_train, beta)\n",
    "    theta = pm.Deterministic('theta', 1 / (1 + pm.math.exp(-mu)))\n",
    "    bd = pm.Deterministic('bd', -alpha/beta)\n",
    "    yl = pm.Bernoulli('yl', p=theta, observed=y_train)\n",
    "    start = pm.find_MAP()\n",
    "    step = pm.NUTS()\n",
    "    trace_train = pm.sample(5000, step, start, tune=2000)\n",
    "tot_time = time.time() - start_time\n",
    "print(\"PyMC execution time: {}\".format(tot_time))"
   ]
  },
  {
   "cell_type": "code",
   "execution_count": 15,
   "id": "4383175f",
   "metadata": {},
   "outputs": [
    {
     "data": {
      "image/png": "[encoded data removed]",
      "text/plain": [
       "<Figure size 864x288 with 4 Axes>"
      ]
     },
     "metadata": {
      "needs_background": "light"
     },
     "output_type": "display_data"
    }
   ],
   "source": [
    "plots = az.plot_trace(trace_train, ['alpha','beta'])\n",
    "plt.tight_layout()\n",
    "plt.show()"
   ]
  },
  {
   "cell_type": "code",
   "execution_count": 16,
   "id": "984750f8",
   "metadata": {},
   "outputs": [],
   "source": [
    "trace_pymc_train = {}\n",
    "\n",
    "theta_mc = np.array(trace_train.posterior['theta'])\n",
    "trace_pymc_train['theta'] = theta_mc.reshape(theta_mc.shape[0]*theta_mc.shape[1], theta_mc.shape[2])\n",
    "trace_pymc_train['bd'] = np.array(trace_train.posterior['bd']).flatten()"
   ]
  },
  {
   "cell_type": "code",
   "execution_count": 17,
   "id": "45c29fef",
   "metadata": {},
   "outputs": [],
   "source": [
    "alpha_pymc = np.mean(np.array(trace_train.posterior['alpha']).flatten())"
   ]
  },
  {
   "cell_type": "code",
   "execution_count": 18,
   "id": "2a73515c",
   "metadata": {},
   "outputs": [],
   "source": [
    "beta_pymc = np.mean(np.array(trace_train.posterior['beta']).flatten())"
   ]
  },
  {
   "cell_type": "code",
   "execution_count": 19,
   "id": "4dfcbabf",
   "metadata": {},
   "outputs": [
    {
     "data": {
      "text/plain": [
       "(-0.11938912639725498, 23.742622744637558)"
      ]
     },
     "execution_count": 19,
     "metadata": {},
     "output_type": "execute_result"
    }
   ],
   "source": [
    "beta_pymc, alpha_pymc"
   ]
  },
  {
   "cell_type": "code",
   "execution_count": 20,
   "id": "50cfd840",
   "metadata": {},
   "outputs": [],
   "source": [
    "probs, y_hat_pymc = classify(x_test, alpha_pymc, beta_pymc, 0.5)\n",
    "probs, y_hat_pymc_out = classify(x_train, alpha_pymc, beta_pymc, 0.5)"
   ]
  },
  {
   "cell_type": "code",
   "execution_count": 21,
   "id": "5e467160",
   "metadata": {},
   "outputs": [
    {
     "name": "stdout",
     "output_type": "stream",
     "text": [
      "Accuracy in train set: 0.7375\n",
      "Accuracy in test set: 0.711864406779661\n"
     ]
    }
   ],
   "source": [
    "print(\"Accuracy in train set: {}\".format(accuracy_score(y_hat_pymc_out, y_train)))\n",
    "print(\"Accuracy in test set: {}\".format(accuracy_score(y_hat_pymc, y_test)))"
   ]
  },
  {
   "cell_type": "markdown",
   "id": "0f3f322c",
   "metadata": {},
   "source": [
    "### PyStan"
   ]
  },
  {
   "cell_type": "code",
   "execution_count": 51,
   "id": "30509bf6",
   "metadata": {},
   "outputs": [],
   "source": [
    "code = \"\"\"                                                                                         \n",
    "data {                                                                                               \n",
    "  int N; //the number observations  \n",
    "  int K; //the number of features                                                                    \n",
    "  int y[N]; //the response                                                                           \n",
    "  matrix[N,K] X; //the model matrix \n",
    "}                                                                                                    \n",
    "parameters {                                                                                         \n",
    "  real alpha;                                                                                        \n",
    "  vector[K] beta; //the regression parameters                                                        \n",
    "}                                                                                                    \n",
    "transformed parameters {                                                                             \n",
    "  vector[N] linpred;                                                                                 \n",
    "  linpred = alpha+X*beta; \n",
    "  #vector[N] bd;\n",
    "  #bd = -alpha/beta;\n",
    "}                                                                                                    \n",
    "model {                                                                                              \n",
    "  alpha ~ normal(0,10); //prior for the intercept following Gelman 2008                              \n",
    "                                                                                                   \n",
    "  for(i in 1:K)                                                                                      \n",
    "    beta[i] ~ normal(0,10);                                                                 \n",
    "                                                                                                   \n",
    "  y ~ bernoulli_logit(linpred);                                                                      \n",
    "}\n",
    "\"\"\"  "
   ]
  },
  {
   "cell_type": "code",
   "execution_count": 52,
   "id": "068db3e8",
   "metadata": {},
   "outputs": [],
   "source": [
    "data = {                                                                                             \n",
    "    'N': N1,\n",
    "    'K': K,                                                                                        \n",
    "    'y': y_train,                                                                                     \n",
    "    'X': x_train, \n",
    "}  "
   ]
  },
  {
   "cell_type": "code",
   "execution_count": 53,
   "id": "c685a7f2",
   "metadata": {},
   "outputs": [
    {
     "name": "stdout",
     "output_type": "stream",
     "text": [
      "\u001b[36mBuilding:\u001b[0m 0.3s\n",
      "\u001b[1A\u001b[0J\u001b[36mBuilding:\u001b[0m 0.4s\n",
      "\u001b[1A\u001b[0J\u001b[36mBuilding:\u001b[0m 0.5s\n",
      "\u001b[1A\u001b[0J\u001b[36mBuilding:\u001b[0m 0.6s\n",
      "\u001b[1A\u001b[0J\u001b[36mBuilding:\u001b[0m 0.7s\n",
      "\u001b[1A\u001b[0J\u001b[36mBuilding:\u001b[0m 0.9s\n",
      "\u001b[1A\u001b[0J\u001b[36mBuilding:\u001b[0m 1.0s\n",
      "\u001b[1A\u001b[0J\u001b[36mBuilding:\u001b[0m 1.1s\n",
      "\u001b[1A\u001b[0J\u001b[36mBuilding:\u001b[0m 1.2s\n",
      "\u001b[1A\u001b[0J\u001b[36mBuilding:\u001b[0m 1.3s\n",
      "\u001b[1A\u001b[0J\u001b[36mBuilding:\u001b[0m 1.4s\n",
      "\u001b[1A\u001b[0J\u001b[36mBuilding:\u001b[0m 1.5s\n",
      "\u001b[1A\u001b[0J\u001b[36mBuilding:\u001b[0m 1.6s\n",
      "\u001b[1A\u001b[0J\u001b[36mBuilding:\u001b[0m 1.7s\n",
      "\u001b[1A\u001b[0J\u001b[36mBuilding:\u001b[0m 1.8s\n",
      "\u001b[1A\u001b[0J\u001b[36mBuilding:\u001b[0m 1.9s\n",
      "\u001b[1A\u001b[0J\u001b[36mBuilding:\u001b[0m 2.0s\n",
      "\u001b[1A\u001b[0J\u001b[36mBuilding:\u001b[0m 2.2s\n",
      "\u001b[1A\u001b[0J\u001b[36mBuilding:\u001b[0m 2.3s\n",
      "\u001b[1A\u001b[0J\u001b[36mBuilding:\u001b[0m 2.4s\n",
      "\u001b[1A\u001b[0J\u001b[36mBuilding:\u001b[0m 2.5s\n",
      "\u001b[1A\u001b[0J\u001b[36mBuilding:\u001b[0m 2.6s\n",
      "\u001b[1A\u001b[0J\u001b[36mBuilding:\u001b[0m 2.7s\n",
      "\u001b[1A\u001b[0J\u001b[36mBuilding:\u001b[0m 2.8s\n",
      "\u001b[1A\u001b[0J\u001b[36mBuilding:\u001b[0m 2.9s\n",
      "\u001b[1A\u001b[0J\u001b[36mBuilding:\u001b[0m 3.0s\n",
      "\u001b[1A\u001b[0J\u001b[36mBuilding:\u001b[0m 3.1s\n",
      "\u001b[1A\u001b[0J\u001b[36mBuilding:\u001b[0m 3.3s\n",
      "\u001b[1A\u001b[0J\u001b[36mBuilding:\u001b[0m 3.4s\n",
      "\u001b[1A\u001b[0J\u001b[36mBuilding:\u001b[0m 3.5s\n",
      "\u001b[1A\u001b[0J\u001b[36mBuilding:\u001b[0m 3.6s\n",
      "\u001b[1A\u001b[0J\u001b[36mBuilding:\u001b[0m 3.7s\n",
      "\u001b[1A\u001b[0J\u001b[36mBuilding:\u001b[0m 3.8s\n",
      "\u001b[1A\u001b[0J\u001b[36mBuilding:\u001b[0m 3.9s\n",
      "\u001b[1A\u001b[0J\u001b[36mBuilding:\u001b[0m 4.0s\n",
      "\u001b[1A\u001b[0J\u001b[36mBuilding:\u001b[0m 4.1s\n",
      "\u001b[1A\u001b[0J\u001b[36mBuilding:\u001b[0m 4.2s\n",
      "\u001b[1A\u001b[0J\u001b[36mBuilding:\u001b[0m 4.3s\n",
      "\u001b[1A\u001b[0J\u001b[36mBuilding:\u001b[0m 4.4s\n",
      "\u001b[1A\u001b[0J\u001b[36mBuilding:\u001b[0m 4.6s\n",
      "\u001b[1A\u001b[0J\u001b[36mBuilding:\u001b[0m 4.7s\n",
      "\u001b[1A\u001b[0J\u001b[36mBuilding:\u001b[0m 4.8s\n",
      "\u001b[1A\u001b[0J\u001b[36mBuilding:\u001b[0m 4.9s\n",
      "\u001b[1A\u001b[0J\u001b[36mBuilding:\u001b[0m 5.0s\n",
      "\u001b[1A\u001b[0J\u001b[36mBuilding:\u001b[0m 5.1s\n",
      "\u001b[1A\u001b[0J\u001b[36mBuilding:\u001b[0m 5.2s\n",
      "\u001b[1A\u001b[0J\u001b[36mBuilding:\u001b[0m 5.3s\n",
      "\u001b[1A\u001b[0J\u001b[36mBuilding:\u001b[0m 5.4s\n",
      "\u001b[1A\u001b[0J\u001b[36mBuilding:\u001b[0m 5.5s\n",
      "\u001b[1A\u001b[0J\u001b[36mBuilding:\u001b[0m 5.6s\n",
      "\u001b[1A\u001b[0J\u001b[36mBuilding:\u001b[0m 5.7s\n",
      "\u001b[1A\u001b[0J\u001b[36mBuilding:\u001b[0m 5.8s\n",
      "\u001b[1A\u001b[0J\u001b[36mBuilding:\u001b[0m 6.0s\n",
      "\u001b[1A\u001b[0J\u001b[36mBuilding:\u001b[0m 6.1s\n",
      "\u001b[1A\u001b[0J\u001b[36mBuilding:\u001b[0m 6.2s\n",
      "\u001b[1A\u001b[0J\u001b[36mBuilding:\u001b[0m 6.3s\n",
      "\u001b[1A\u001b[0J\u001b[36mBuilding:\u001b[0m 6.4s\n",
      "\u001b[1A\u001b[0J\u001b[36mBuilding:\u001b[0m 6.5s\n",
      "\u001b[1A\u001b[0J\u001b[36mBuilding:\u001b[0m 6.6s\n",
      "\u001b[1A\u001b[0J\u001b[36mBuilding:\u001b[0m 6.7s\n",
      "\u001b[1A\u001b[0J\u001b[36mBuilding:\u001b[0m 6.8s\n",
      "\u001b[1A\u001b[0J\u001b[36mBuilding:\u001b[0m 6.9s\n",
      "\u001b[1A\u001b[0J\u001b[36mBuilding:\u001b[0m 7.0s\n"
     ]
    },
    {
     "name": "stderr",
     "output_type": "stream",
     "text": [
      "In file included from /Users/claudiahm/Library/Caches/httpstan/4.7.2/models/cukhrh7v/model_cukhrh7v.cpp:2:\n",
      "In file included from /usr/local/lib/python3.9/site-packages/httpstan/include/stan/model/model_header.hpp:4:\n",
      "In file included from /usr/local/lib/python3.9/site-packages/httpstan/include/stan/math.hpp:19:\n",
      "In file included from /usr/local/lib/python3.9/site-packages/httpstan/include/stan/math/rev.hpp:8:\n",
      "In file included from /usr/local/lib/python3.9/site-packages/httpstan/include/stan/math/rev/core.hpp:28:\n",
      "In file included from /usr/local/lib/python3.9/site-packages/httpstan/include/stan/math/rev/core/operator_addition.hpp:6:\n",
      "/usr/local/lib/python3.9/site-packages/httpstan/include/stan/math/prim/err/check_matching_dims.hpp:33:8: warning: unused variable 'error' [-Wunused-variable]\n",
      "  bool error = false;\n",
      "       ^\n",
      "/usr/local/lib/python3.9/site-packages/httpstan/include/stan/math/prim/err/check_matching_dims.hpp:57:23: warning: comparison of integers of different signs: 'int' and 'std::__1::vector<int>::size_type' (aka 'unsigned long') [-Wsign-compare]\n",
      "    for (int i = 0; i < y1_d.size(); i++) {\n",
      "                    ~ ^ ~~~~~~~~~~~\n"
     ]
    },
    {
     "name": "stdout",
     "output_type": "stream",
     "text": [
      "\u001b[1A\u001b[0J\u001b[36mBuilding:\u001b[0m 7.1s\n",
      "\u001b[1A\u001b[0J\u001b[36mBuilding:\u001b[0m 7.2s\n",
      "\u001b[1A\u001b[0J\u001b[36mBuilding:\u001b[0m 7.4s\n",
      "\u001b[1A\u001b[0J\u001b[36mBuilding:\u001b[0m 7.5s\n",
      "\u001b[1A\u001b[0J\u001b[36mBuilding:\u001b[0m 7.6s\n",
      "\u001b[1A\u001b[0J\u001b[36mBuilding:\u001b[0m 7.7s\n",
      "\u001b[1A\u001b[0J\u001b[36mBuilding:\u001b[0m 7.8s\n",
      "\u001b[1A\u001b[0J\u001b[36mBuilding:\u001b[0m 7.9s\n"
     ]
    },
    {
     "name": "stderr",
     "output_type": "stream",
     "text": [
      "In file included from /Users/claudiahm/Library/Caches/httpstan/4.7.2/models/cukhrh7v/model_cukhrh7v.cpp:2:\n",
      "In file included from /usr/local/lib/python3.9/site-packages/httpstan/include/stan/model/model_header.hpp:4:\n",
      "In file included from /usr/local/lib/python3.9/site-packages/httpstan/include/stan/math.hpp:19:\n",
      "In file included from /usr/local/lib/python3.9/site-packages/httpstan/include/stan/math/rev.hpp:8:\n",
      "In file included from /usr/local/lib/python3.9/site-packages/httpstan/include/stan/math/rev/core.hpp:53:\n",
      "In file included from /usr/local/lib/python3.9/site-packages/httpstan/include/stan/math/rev/core/profiling.hpp:9:\n",
      "In file included from /usr/local/lib/python3.9/site-packages/httpstan/include/stan/math/prim/err.hpp:50:\n",
      "/usr/local/lib/python3.9/site-packages/httpstan/include/stan/math/prim/err/hmm_check.hpp:33:7: warning: unused variable 'n_transitions' [-Wunused-variable]\n",
      "  int n_transitions = log_omegas.cols() - 1;\n",
      "      ^\n"
     ]
    },
    {
     "name": "stdout",
     "output_type": "stream",
     "text": [
      "\u001b[1A\u001b[0J\u001b[36mBuilding:\u001b[0m 8.0s\n",
      "\u001b[1A\u001b[0J\u001b[36mBuilding:\u001b[0m 8.1s\n",
      "\u001b[1A\u001b[0J\u001b[36mBuilding:\u001b[0m 8.2s\n",
      "\u001b[1A\u001b[0J\u001b[36mBuilding:\u001b[0m 8.3s\n",
      "\u001b[1A\u001b[0J\u001b[36mBuilding:\u001b[0m 8.4s\n",
      "\u001b[1A\u001b[0J\u001b[36mBuilding:\u001b[0m 8.6s\n",
      "\u001b[1A\u001b[0J\u001b[36mBuilding:\u001b[0m 8.7s\n",
      "\u001b[1A\u001b[0J\u001b[36mBuilding:\u001b[0m 8.8s\n",
      "\u001b[1A\u001b[0J\u001b[36mBuilding:\u001b[0m 8.9s\n",
      "\u001b[1A\u001b[0J\u001b[36mBuilding:\u001b[0m 9.0s\n",
      "\u001b[1A\u001b[0J\u001b[36mBuilding:\u001b[0m 9.1s\n",
      "\u001b[1A\u001b[0J\u001b[36mBuilding:\u001b[0m 9.2s\n",
      "\u001b[1A\u001b[0J\u001b[36mBuilding:\u001b[0m 9.3s\n",
      "\u001b[1A\u001b[0J\u001b[36mBuilding:\u001b[0m 9.4s\n",
      "\u001b[1A\u001b[0J\u001b[36mBuilding:\u001b[0m 9.5s\n",
      "\u001b[1A\u001b[0J\u001b[36mBuilding:\u001b[0m 9.6s\n",
      "\u001b[1A\u001b[0J\u001b[36mBuilding:\u001b[0m 9.8s\n",
      "\u001b[1A\u001b[0J\u001b[36mBuilding:\u001b[0m 9.9s\n",
      "\u001b[1A\u001b[0J\u001b[36mBuilding:\u001b[0m 10.0s\n",
      "\u001b[1A\u001b[0J\u001b[36mBuilding:\u001b[0m 10.1s\n"
     ]
    },
    {
     "name": "stderr",
     "output_type": "stream",
     "text": [
      "In file included from /Users/claudiahm/Library/Caches/httpstan/4.7.2/models/cukhrh7v/model_cukhrh7v.cpp:2:\n",
      "In file included from /usr/local/lib/python3.9/site-packages/httpstan/include/stan/model/model_header.hpp:4:\n",
      "In file included from /usr/local/lib/python3.9/site-packages/httpstan/include/stan/math.hpp:19:\n",
      "In file included from /usr/local/lib/python3.9/site-packages/httpstan/include/stan/math/rev.hpp:10:\n",
      "In file included from /usr/local/lib/python3.9/site-packages/httpstan/include/stan/math/rev/fun.hpp:26:\n",
      "/usr/local/lib/python3.9/site-packages/httpstan/include/stan/math/rev/fun/beta.hpp:70:32: warning: lambda capture 'b' is not used [-Wunused-lambda-capture]\n",
      "                           [a, b, digamma_ab](auto& vi) mutable {\n",
      "                             ~~^\n",
      "/usr/local/lib/python3.9/site-packages/httpstan/include/stan/math/rev/fun/beta.hpp:96:39: warning: lambda capture 'a' is not used [-Wunused-lambda-capture]\n",
      "  return make_callback_var(beta_val, [a, b, digamma_ab](auto& vi) mutable {\n",
      "                                      ^~\n"
     ]
    },
    {
     "name": "stdout",
     "output_type": "stream",
     "text": [
      "\u001b[1A\u001b[0J\u001b[36mBuilding:\u001b[0m 10.2s\n",
      "\u001b[1A\u001b[0J\u001b[36mBuilding:\u001b[0m 10.3s\n",
      "\u001b[1A\u001b[0J\u001b[36mBuilding:\u001b[0m 10.4s\n",
      "\u001b[1A\u001b[0J\u001b[36mBuilding:\u001b[0m 10.5s\n",
      "\u001b[1A\u001b[0J\u001b[36mBuilding:\u001b[0m 10.6s\n",
      "\u001b[1A\u001b[0J\u001b[36mBuilding:\u001b[0m 10.7s\n",
      "\u001b[1A\u001b[0J\u001b[36mBuilding:\u001b[0m 10.8s\n",
      "\u001b[1A\u001b[0J\u001b[36mBuilding:\u001b[0m 11.0s\n",
      "\u001b[1A\u001b[0J\u001b[36mBuilding:\u001b[0m 11.1s\n",
      "\u001b[1A\u001b[0J\u001b[36mBuilding:\u001b[0m 11.2s\n",
      "\u001b[1A\u001b[0J\u001b[36mBuilding:\u001b[0m 11.3s\n",
      "\u001b[1A\u001b[0J\u001b[36mBuilding:\u001b[0m 11.4s\n",
      "\u001b[1A\u001b[0J\u001b[36mBuilding:\u001b[0m 11.5s\n",
      "\u001b[1A\u001b[0J\u001b[36mBuilding:\u001b[0m 11.6s\n"
     ]
    },
    {
     "name": "stderr",
     "output_type": "stream",
     "text": [
      "In file included from /Users/claudiahm/Library/Caches/httpstan/4.7.2/models/cukhrh7v/model_cukhrh7v.cpp:2:\n",
      "In file included from /usr/local/lib/python3.9/site-packages/httpstan/include/stan/model/model_header.hpp:4:\n",
      "In file included from /usr/local/lib/python3.9/site-packages/httpstan/include/stan/math.hpp:19:\n",
      "In file included from /usr/local/lib/python3.9/site-packages/httpstan/include/stan/math/rev.hpp:10:\n",
      "In file included from /usr/local/lib/python3.9/site-packages/httpstan/include/stan/math/rev/fun.hpp:55:\n",
      "In file included from /usr/local/lib/python3.9/site-packages/httpstan/include/stan/math/rev/fun/elt_multiply.hpp:9:\n",
      "In file included from /usr/local/lib/python3.9/site-packages/httpstan/include/stan/math/rev/fun/multiply.hpp:7:\n",
      "In file included from /usr/local/lib/python3.9/site-packages/httpstan/include/stan/math/prim/fun.hpp:121:\n",
      "/usr/local/lib/python3.9/site-packages/httpstan/include/stan/math/prim/fun/gp_matern52_cov.hpp:304:10: warning: unused variable 'neg_root_5' [-Wunused-variable]\n",
      "  double neg_root_5 = -root_5;\n",
      "         ^\n"
     ]
    },
    {
     "name": "stdout",
     "output_type": "stream",
     "text": [
      "\u001b[1A\u001b[0J\u001b[36mBuilding:\u001b[0m 11.7s\n",
      "\u001b[1A\u001b[0J\u001b[36mBuilding:\u001b[0m 11.8s\n",
      "\u001b[1A\u001b[0J\u001b[36mBuilding:\u001b[0m 11.9s\n",
      "\u001b[1A\u001b[0J\u001b[36mBuilding:\u001b[0m 12.0s\n"
     ]
    },
    {
     "name": "stderr",
     "output_type": "stream",
     "text": [
      "In file included from /Users/claudiahm/Library/Caches/httpstan/4.7.2/models/cukhrh7v/model_cukhrh7v.cpp:2:\n",
      "In file included from /usr/local/lib/python3.9/site-packages/httpstan/include/stan/model/model_header.hpp:4:\n",
      "In file included from /usr/local/lib/python3.9/site-packages/httpstan/include/stan/math.hpp:19:\n",
      "In file included from /usr/local/lib/python3.9/site-packages/httpstan/include/stan/math/rev.hpp:10:\n",
      "In file included from /usr/local/lib/python3.9/site-packages/httpstan/include/stan/math/rev/fun.hpp:55:\n",
      "In file included from /usr/local/lib/python3.9/site-packages/httpstan/include/stan/math/rev/fun/elt_multiply.hpp:9:\n",
      "In file included from /usr/local/lib/python3.9/site-packages/httpstan/include/stan/math/rev/fun/multiply.hpp:7:\n",
      "In file included from /usr/local/lib/python3.9/site-packages/httpstan/include/stan/math/prim/fun.hpp:188:\n",
      "/usr/local/lib/python3.9/site-packages/httpstan/include/stan/math/prim/fun/log_mix.hpp:86:13: warning: unused variable 'N' [-Wunused-variable]\n",
      "  const int N = stan::math::size(theta);\n",
      "            ^\n"
     ]
    },
    {
     "name": "stdout",
     "output_type": "stream",
     "text": [
      "\u001b[1A\u001b[0J\u001b[36mBuilding:\u001b[0m 12.1s\n",
      "\u001b[1A\u001b[0J\u001b[36mBuilding:\u001b[0m 12.3s\n",
      "\u001b[1A\u001b[0J\u001b[36mBuilding:\u001b[0m 12.4s\n",
      "\u001b[1A\u001b[0J\u001b[36mBuilding:\u001b[0m 12.5s\n",
      "\u001b[1A\u001b[0J\u001b[36mBuilding:\u001b[0m 12.6s\n",
      "\u001b[1A\u001b[0J\u001b[36mBuilding:\u001b[0m 12.7s\n",
      "\u001b[1A\u001b[0J\u001b[36mBuilding:\u001b[0m 12.8s\n",
      "\u001b[1A\u001b[0J\u001b[36mBuilding:\u001b[0m 12.9s\n",
      "\u001b[1A\u001b[0J\u001b[36mBuilding:\u001b[0m 13.0s\n",
      "\u001b[1A\u001b[0J\u001b[36mBuilding:\u001b[0m 13.1s\n",
      "\u001b[1A\u001b[0J\u001b[36mBuilding:\u001b[0m 13.2s\n",
      "\u001b[1A\u001b[0J\u001b[36mBuilding:\u001b[0m 13.3s\n",
      "\u001b[1A\u001b[0J\u001b[36mBuilding:\u001b[0m 13.4s\n",
      "\u001b[1A\u001b[0J\u001b[36mBuilding:\u001b[0m 13.5s\n",
      "\u001b[1A\u001b[0J\u001b[36mBuilding:\u001b[0m 13.7s\n"
     ]
    },
    {
     "name": "stderr",
     "output_type": "stream",
     "text": [
      "In file included from /Users/claudiahm/Library/Caches/httpstan/4.7.2/models/cukhrh7v/model_cukhrh7v.cpp:2:\n",
      "In file included from /usr/local/lib/python3.9/site-packages/httpstan/include/stan/model/model_header.hpp:4:\n",
      "In file included from /usr/local/lib/python3.9/site-packages/httpstan/include/stan/math.hpp:19:\n",
      "In file included from /usr/local/lib/python3.9/site-packages/httpstan/include/stan/math/rev.hpp:10:\n",
      "In file included from /usr/local/lib/python3.9/site-packages/httpstan/include/stan/math/rev/fun.hpp:124:\n",
      "/usr/local/lib/python3.9/site-packages/httpstan/include/stan/math/rev/fun/matrix_power.hpp:52:24: warning: comparison of integers of different signs: 'size_t' (aka 'unsigned long') and 'const int' [-Wsign-compare]\n",
      "  for (size_t i = 2; i <= n; ++i) {\n",
      "                     ~ ^  ~\n",
      "In file included from /Users/claudiahm/Library/Caches/httpstan/4.7.2/models/cukhrh7v/model_cukhrh7v.cpp:2:\n",
      "In file included from /usr/local/lib/python3.9/site-packages/httpstan/include/stan/model/model_header.hpp:4:\n",
      "In file included from /usr/local/lib/python3.9/site-packages/httpstan/include/stan/math.hpp:19:\n",
      "In file included from /usr/local/lib/python3.9/site-packages/httpstan/include/stan/math/rev.hpp:10:\n",
      "In file included from /usr/local/lib/python3.9/site-packages/httpstan/include/stan/math/rev/fun.hpp:137:\n",
      "/usr/local/lib/python3.9/site-packages/httpstan/include/stan/math/rev/fun/ordered_constrain.hpp:40:30: warning: comparison of integers of different signs: 'Eigen::Index' (aka 'long') and 'size_t' (aka 'unsigned long') [-Wsign-compare]\n",
      "  for (Eigen::Index n = 1; n < N; ++n) {\n",
      "                           ~ ^ ~\n",
      "In file included from /Users/claudiahm/Library/Caches/httpstan/4.7.2/models/cukhrh7v/model_cukhrh7v.cpp:2:\n",
      "In file included from /usr/local/lib/python3.9/site-packages/httpstan/include/stan/model/model_header.hpp:4:\n",
      "In file included from /usr/local/lib/python3.9/site-packages/httpstan/include/stan/math.hpp:19:\n",
      "In file included from /usr/local/lib/python3.9/site-packages/httpstan/include/stan/math/rev.hpp:10:\n",
      "In file included from /usr/local/lib/python3.9/site-packages/httpstan/include/stan/math/rev/fun.hpp:140:\n",
      "/usr/local/lib/python3.9/site-packages/httpstan/include/stan/math/rev/fun/positive_ordered_constrain.hpp:40:21: warning: comparison of integers of different signs: 'int' and 'size_t' (aka 'unsigned long') [-Wsign-compare]\n",
      "  for (int n = 1; n < N; ++n) {\n",
      "                  ~ ^ ~\n"
     ]
    },
    {
     "name": "stdout",
     "output_type": "stream",
     "text": [
      "\u001b[1A\u001b[0J\u001b[36mBuilding:\u001b[0m 13.8s\n",
      "\u001b[1A\u001b[0J\u001b[36mBuilding:\u001b[0m 13.9s\n",
      "\u001b[1A\u001b[0J\u001b[36mBuilding:\u001b[0m 14.0s\n",
      "\u001b[1A\u001b[0J\u001b[36mBuilding:\u001b[0m 14.1s\n"
     ]
    },
    {
     "name": "stderr",
     "output_type": "stream",
     "text": [
      "In file included from /Users/claudiahm/Library/Caches/httpstan/4.7.2/models/cukhrh7v/model_cukhrh7v.cpp:2:\n",
      "In file included from /usr/local/lib/python3.9/site-packages/httpstan/include/stan/model/model_header.hpp:4:\n",
      "In file included from /usr/local/lib/python3.9/site-packages/httpstan/include/stan/math.hpp:19:\n",
      "In file included from /usr/local/lib/python3.9/site-packages/httpstan/include/stan/math/rev.hpp:10:\n",
      "In file included from /usr/local/lib/python3.9/site-packages/httpstan/include/stan/math/rev/fun.hpp:158:\n",
      "/usr/local/lib/python3.9/site-packages/httpstan/include/stan/math/rev/fun/simplex_constrain.hpp:40:30: warning: comparison of integers of different signs: 'Eigen::Index' (aka 'long') and 'size_t' (aka 'unsigned long') [-Wsign-compare]\n",
      "  for (Eigen::Index k = 0; k < N; ++k) {\n",
      "                           ~ ^ ~\n",
      "/usr/local/lib/python3.9/site-packages/httpstan/include/stan/math/rev/fun/simplex_constrain.hpp:94:30: warning: comparison of integers of different signs: 'Eigen::Index' (aka 'long') and 'size_t' (aka 'unsigned long') [-Wsign-compare]\n",
      "  for (Eigen::Index k = 0; k < N; ++k) {\n",
      "                           ~ ^ ~\n"
     ]
    },
    {
     "name": "stdout",
     "output_type": "stream",
     "text": [
      "\u001b[1A\u001b[0J\u001b[36mBuilding:\u001b[0m 14.2s\n",
      "\u001b[1A\u001b[0J\u001b[36mBuilding:\u001b[0m 14.3s\n",
      "\u001b[1A\u001b[0J\u001b[36mBuilding:\u001b[0m 14.4s\n",
      "\u001b[1A\u001b[0J\u001b[36mBuilding:\u001b[0m 14.5s\n",
      "\u001b[1A\u001b[0J\u001b[36mBuilding:\u001b[0m 14.6s\n",
      "\u001b[1A\u001b[0J\u001b[36mBuilding:\u001b[0m 14.7s\n",
      "\u001b[1A\u001b[0J\u001b[36mBuilding:\u001b[0m 14.8s\n",
      "\u001b[1A\u001b[0J\u001b[36mBuilding:\u001b[0m 14.9s\n",
      "\u001b[1A\u001b[0J\u001b[36mBuilding:\u001b[0m 15.1s\n",
      "\u001b[1A\u001b[0J\u001b[36mBuilding:\u001b[0m 15.2s\n",
      "\u001b[1A\u001b[0J\u001b[36mBuilding:\u001b[0m 15.3s\n",
      "\u001b[1A\u001b[0J\u001b[36mBuilding:\u001b[0m 15.4s\n",
      "\u001b[1A\u001b[0J\u001b[36mBuilding:\u001b[0m 15.5s\n",
      "\u001b[1A\u001b[0J\u001b[36mBuilding:\u001b[0m 15.6s\n",
      "\u001b[1A\u001b[0J\u001b[36mBuilding:\u001b[0m 15.7s\n",
      "\u001b[1A\u001b[0J\u001b[36mBuilding:\u001b[0m 15.8s\n",
      "\u001b[1A\u001b[0J\u001b[36mBuilding:\u001b[0m 15.9s\n",
      "\u001b[1A\u001b[0J\u001b[36mBuilding:\u001b[0m 16.0s\n",
      "\u001b[1A\u001b[0J\u001b[36mBuilding:\u001b[0m 16.1s\n",
      "\u001b[1A\u001b[0J\u001b[36mBuilding:\u001b[0m 16.2s\n",
      "\u001b[1A\u001b[0J\u001b[36mBuilding:\u001b[0m 16.3s\n",
      "\u001b[1A\u001b[0J\u001b[36mBuilding:\u001b[0m 16.4s\n",
      "\u001b[1A\u001b[0J\u001b[36mBuilding:\u001b[0m 16.6s\n",
      "\u001b[1A\u001b[0J\u001b[36mBuilding:\u001b[0m 16.7s\n",
      "\u001b[1A\u001b[0J\u001b[36mBuilding:\u001b[0m 16.8s\n",
      "\u001b[1A\u001b[0J\u001b[36mBuilding:\u001b[0m 16.9s\n",
      "\u001b[1A\u001b[0J\u001b[36mBuilding:\u001b[0m 17.0s\n",
      "\u001b[1A\u001b[0J\u001b[36mBuilding:\u001b[0m 17.1s\n",
      "\u001b[1A\u001b[0J\u001b[36mBuilding:\u001b[0m 17.2s\n",
      "\u001b[1A\u001b[0J\u001b[36mBuilding:\u001b[0m 17.3s\n",
      "\u001b[1A\u001b[0J\u001b[36mBuilding:\u001b[0m 17.4s\n",
      "\u001b[1A\u001b[0J\u001b[36mBuilding:\u001b[0m 17.5s\n",
      "\u001b[1A\u001b[0J\u001b[36mBuilding:\u001b[0m 17.6s\n",
      "\u001b[1A\u001b[0J\u001b[36mBuilding:\u001b[0m 17.7s\n",
      "\u001b[1A\u001b[0J\u001b[36mBuilding:\u001b[0m 17.9s\n",
      "\u001b[1A\u001b[0J\u001b[36mBuilding:\u001b[0m 18.0s\n",
      "\u001b[1A\u001b[0J\u001b[36mBuilding:\u001b[0m 18.1s\n",
      "\u001b[1A\u001b[0J\u001b[36mBuilding:\u001b[0m 18.2s\n",
      "\u001b[1A\u001b[0J\u001b[36mBuilding:\u001b[0m 18.3s\n",
      "\u001b[1A\u001b[0J\u001b[36mBuilding:\u001b[0m 18.4s\n",
      "\u001b[1A\u001b[0J\u001b[36mBuilding:\u001b[0m 18.5s\n",
      "\u001b[1A\u001b[0J\u001b[36mBuilding:\u001b[0m 18.6s\n",
      "\u001b[1A\u001b[0J\u001b[36mBuilding:\u001b[0m 18.7s\n",
      "\u001b[1A\u001b[0J\u001b[36mBuilding:\u001b[0m 18.8s\n",
      "\u001b[1A\u001b[0J\u001b[36mBuilding:\u001b[0m 18.9s\n",
      "\u001b[1A\u001b[0J\u001b[36mBuilding:\u001b[0m 19.0s\n",
      "\u001b[1A\u001b[0J\u001b[36mBuilding:\u001b[0m 19.1s\n",
      "\u001b[1A\u001b[0J\u001b[36mBuilding:\u001b[0m 19.3s\n",
      "\u001b[1A\u001b[0J\u001b[36mBuilding:\u001b[0m 19.4s\n",
      "\u001b[1A\u001b[0J\u001b[36mBuilding:\u001b[0m 19.5s\n",
      "\u001b[1A\u001b[0J\u001b[36mBuilding:\u001b[0m 19.6s\n",
      "\u001b[1A\u001b[0J\u001b[36mBuilding:\u001b[0m 19.7s\n",
      "\u001b[1A\u001b[0J\u001b[36mBuilding:\u001b[0m 19.8s\n",
      "\u001b[1A\u001b[0J\u001b[36mBuilding:\u001b[0m 19.9s\n",
      "\u001b[1A\u001b[0J\u001b[36mBuilding:\u001b[0m 20.0s\n",
      "\u001b[1A\u001b[0J\u001b[36mBuilding:\u001b[0m 20.1s\n"
     ]
    },
    {
     "name": "stderr",
     "output_type": "stream",
     "text": [
      "In file included from /Users/claudiahm/Library/Caches/httpstan/4.7.2/models/cukhrh7v/model_cukhrh7v.cpp:2:\n",
      "In file included from /usr/local/lib/python3.9/site-packages/httpstan/include/stan/model/model_header.hpp:4:\n",
      "In file included from /usr/local/lib/python3.9/site-packages/httpstan/include/stan/math.hpp:19:\n",
      "In file included from /usr/local/lib/python3.9/site-packages/httpstan/include/stan/math/rev.hpp:11:\n",
      "In file included from /usr/local/lib/python3.9/site-packages/httpstan/include/stan/math/rev/functor.hpp:16:\n",
      "In file included from /usr/local/lib/python3.9/site-packages/httpstan/include/stan/math/rev/functor/dae.hpp:5:\n",
      "In file included from /usr/local/lib/python3.9/site-packages/httpstan/include/stan/math/rev/functor/idas_integrator.hpp:5:\n",
      "/usr/local/lib/python3.9/site-packages/httpstan/include/stan/math/rev/functor/idas_service.hpp:93:28: warning: comparison of integers of different signs: 'size_t' (aka 'unsigned long') and 'int' [-Wsign-compare]\n",
      "    for (size_t is = 0; is < ns; ++is) {\n",
      "                        ~~ ^ ~~\n",
      "/usr/local/lib/python3.9/site-packages/httpstan/include/stan/math/rev/functor/idas_service.hpp:105:26: warning: comparison of integers of different signs: 'size_t' (aka 'unsigned long') and 'int' [-Wsign-compare]\n",
      "    for (size_t i = 0; i < n; ++i) {\n",
      "                       ~ ^ ~\n",
      "/usr/local/lib/python3.9/site-packages/httpstan/include/stan/math/rev/functor/idas_service.hpp:108:26: warning: comparison of integers of different signs: 'size_t' (aka 'unsigned long') and 'int' [-Wsign-compare]\n",
      "    for (size_t i = 0; i < n; ++i) {\n",
      "                       ~ ^ ~\n",
      "/usr/local/lib/python3.9/site-packages/httpstan/include/stan/math/rev/functor/idas_service.hpp:117:26: warning: comparison of integers of different signs: 'size_t' (aka 'unsigned long') and 'int' [-Wsign-compare]\n",
      "    for (size_t i = 0; i < n; ++i) {\n",
      "                       ~ ^ ~\n",
      "/usr/local/lib/python3.9/site-packages/httpstan/include/stan/math/rev/functor/idas_service.hpp:126:26: warning: comparison of integers of different signs: 'size_t' (aka 'unsigned long') and 'int' [-Wsign-compare]\n",
      "    for (size_t i = 0; i < n; ++i) {\n",
      "                       ~ ^ ~\n",
      "In file included from /Users/claudiahm/Library/Caches/httpstan/4.7.2/models/cukhrh7v/model_cukhrh7v.cpp:2:\n",
      "In file included from /usr/local/lib/python3.9/site-packages/httpstan/include/stan/model/model_header.hpp:4:\n",
      "In file included from /usr/local/lib/python3.9/site-packages/httpstan/include/stan/math.hpp:19:\n",
      "In file included from /usr/local/lib/python3.9/site-packages/httpstan/include/stan/math/rev.hpp:11:\n",
      "In file included from /usr/local/lib/python3.9/site-packages/httpstan/include/stan/math/rev/functor.hpp:16:\n",
      "In file included from /usr/local/lib/python3.9/site-packages/httpstan/include/stan/math/rev/functor/dae.hpp:5:\n",
      "/usr/local/lib/python3.9/site-packages/httpstan/include/stan/math/rev/functor/idas_integrator.hpp:67:18: warning: unused variable 'ns' [-Wunused-variable]\n",
      "    const size_t ns = dae.ns;\n",
      "                 ^\n",
      "In file included from /Users/claudiahm/Library/Caches/httpstan/4.7.2/models/cukhrh7v/model_cukhrh7v.cpp:2:\n",
      "In file included from /usr/local/lib/python3.9/site-packages/httpstan/include/stan/model/model_header.hpp:4:\n",
      "In file included from /usr/local/lib/python3.9/site-packages/httpstan/include/stan/math.hpp:19:\n",
      "In file included from /usr/local/lib/python3.9/site-packages/httpstan/include/stan/math/rev.hpp:11:\n",
      "In file included from /usr/local/lib/python3.9/site-packages/httpstan/include/stan/math/rev/functor.hpp:28:\n",
      "/usr/local/lib/python3.9/site-packages/httpstan/include/stan/math/rev/functor/operands_and_partials.hpp:29:1: warning: 'ops_partials_edge' defined as a class template here but previously declared as a struct template; this is valid, but may result in linker errors under the Microsoft C++ ABI [-Wmismatched-tags]\n",
      "class ops_partials_edge<double, var> {\n",
      "^\n",
      "/usr/local/lib/python3.9/site-packages/httpstan/include/stan/math/prim/functor/operands_and_partials.hpp:21:1: note: did you mean class here?\n",
      "struct ops_partials_edge;\n",
      "^~~~~~\n",
      "class\n",
      "In file included from /Users/claudiahm/Library/Caches/httpstan/4.7.2/models/cukhrh7v/model_cukhrh7v.cpp:2:\n",
      "In file included from /usr/local/lib/python3.9/site-packages/httpstan/include/stan/model/model_header.hpp:4:\n",
      "In file included from /usr/local/lib/python3.9/site-packages/httpstan/include/stan/math.hpp:19:\n",
      "In file included from /usr/local/lib/python3.9/site-packages/httpstan/include/stan/math/rev.hpp:11:\n",
      "In file included from /usr/local/lib/python3.9/site-packages/httpstan/include/stan/math/rev/functor.hpp:28:\n",
      "/usr/local/lib/python3.9/site-packages/httpstan/include/stan/math/rev/functor/operands_and_partials.hpp:177:1: warning: 'ops_partials_edge' defined as a class template here but previously declared as a struct template; this is valid, but may result in linker errors under the Microsoft C++ ABI [-Wmismatched-tags]\n",
      "class ops_partials_edge<double, std::vector<var>> {\n",
      "^\n",
      "/usr/local/lib/python3.9/site-packages/httpstan/include/stan/math/prim/functor/operands_and_partials.hpp:21:1: note: did you mean class here?\n",
      "struct ops_partials_edge;\n",
      "^~~~~~\n",
      "class\n",
      "In file included from /Users/claudiahm/Library/Caches/httpstan/4.7.2/models/cukhrh7v/model_cukhrh7v.cpp:2:\n",
      "In file included from /usr/local/lib/python3.9/site-packages/httpstan/include/stan/model/model_header.hpp:4:\n",
      "In file included from /usr/local/lib/python3.9/site-packages/httpstan/include/stan/math.hpp:19:\n",
      "In file included from /usr/local/lib/python3.9/site-packages/httpstan/include/stan/math/rev.hpp:11:\n",
      "In file included from /usr/local/lib/python3.9/site-packages/httpstan/include/stan/math/rev/functor.hpp:28:\n",
      "/usr/local/lib/python3.9/site-packages/httpstan/include/stan/math/rev/functor/operands_and_partials.hpp:199:1: warning: 'ops_partials_edge' defined as a class template here but previously declared as a struct template; this is valid, but may result in linker errors under the Microsoft C++ ABI [-Wmismatched-tags]\n",
      "class ops_partials_edge<double, Op, require_eigen_st<is_var, Op>> {\n",
      "^\n",
      "/usr/local/lib/python3.9/site-packages/httpstan/include/stan/math/prim/functor/operands_and_partials.hpp:21:1: note: did you mean class here?\n",
      "struct ops_partials_edge;\n",
      "^~~~~~\n",
      "class\n",
      "In file included from /Users/claudiahm/Library/Caches/httpstan/4.7.2/models/cukhrh7v/model_cukhrh7v.cpp:2:\n",
      "In file included from /usr/local/lib/python3.9/site-packages/httpstan/include/stan/model/model_header.hpp:4:\n",
      "In file included from /usr/local/lib/python3.9/site-packages/httpstan/include/stan/math.hpp:19:\n",
      "In file included from /usr/local/lib/python3.9/site-packages/httpstan/include/stan/math/rev.hpp:11:\n",
      "In file included from /usr/local/lib/python3.9/site-packages/httpstan/include/stan/math/rev/functor.hpp:28:\n",
      "/usr/local/lib/python3.9/site-packages/httpstan/include/stan/math/rev/functor/operands_and_partials.hpp:219:1: warning: 'ops_partials_edge' defined as a class template here but previously declared as a struct template; this is valid, but may result in linker errors under the Microsoft C++ ABI [-Wmismatched-tags]\n",
      "class ops_partials_edge<double, var_value<Op>, require_eigen_t<Op>> {\n",
      "^\n",
      "/usr/local/lib/python3.9/site-packages/httpstan/include/stan/math/prim/functor/operands_and_partials.hpp:21:1: note: did you mean class here?\n",
      "struct ops_partials_edge;\n",
      "^~~~~~\n",
      "class\n",
      "In file included from /Users/claudiahm/Library/Caches/httpstan/4.7.2/models/cukhrh7v/model_cukhrh7v.cpp:2:\n",
      "In file included from /usr/local/lib/python3.9/site-packages/httpstan/include/stan/model/model_header.hpp:4:\n",
      "In file included from /usr/local/lib/python3.9/site-packages/httpstan/include/stan/math.hpp:19:\n",
      "In file included from /usr/local/lib/python3.9/site-packages/httpstan/include/stan/math/rev.hpp:11:\n",
      "In file included from /usr/local/lib/python3.9/site-packages/httpstan/include/stan/math/rev/functor.hpp:28:\n",
      "/usr/local/lib/python3.9/site-packages/httpstan/include/stan/math/rev/functor/operands_and_partials.hpp:245:1: warning: 'ops_partials_edge' defined as a class template here but previously declared as a struct template; this is valid, but may result in linker errors under the Microsoft C++ ABI [-Wmismatched-tags]\n",
      "class ops_partials_edge<double, std::vector<Eigen::Matrix<var, R, C>>> {\n",
      "^\n",
      "/usr/local/lib/python3.9/site-packages/httpstan/include/stan/math/prim/functor/operands_and_partials.hpp:21:1: note: did you mean class here?\n",
      "struct ops_partials_edge;\n",
      "^~~~~~\n",
      "class\n",
      "In file included from /Users/claudiahm/Library/Caches/httpstan/4.7.2/models/cukhrh7v/model_cukhrh7v.cpp:2:\n",
      "In file included from /usr/local/lib/python3.9/site-packages/httpstan/include/stan/model/model_header.hpp:4:\n",
      "In file included from /usr/local/lib/python3.9/site-packages/httpstan/include/stan/math.hpp:19:\n",
      "In file included from /usr/local/lib/python3.9/site-packages/httpstan/include/stan/math/rev.hpp:11:\n",
      "In file included from /usr/local/lib/python3.9/site-packages/httpstan/include/stan/math/rev/functor.hpp:28:\n",
      "/usr/local/lib/python3.9/site-packages/httpstan/include/stan/math/rev/functor/operands_and_partials.hpp:274:1: warning: 'ops_partials_edge' defined as a class template here but previously declared as a struct template; this is valid, but may result in linker errors under the Microsoft C++ ABI [-Wmismatched-tags]\n",
      "class ops_partials_edge<double, std::vector<std::vector<var>>> {\n",
      "^\n",
      "/usr/local/lib/python3.9/site-packages/httpstan/include/stan/math/prim/functor/operands_and_partials.hpp:21:1: note: did you mean class here?\n",
      "struct ops_partials_edge;\n",
      "^~~~~~\n",
      "class\n",
      "In file included from /Users/claudiahm/Library/Caches/httpstan/4.7.2/models/cukhrh7v/model_cukhrh7v.cpp:2:\n",
      "In file included from /usr/local/lib/python3.9/site-packages/httpstan/include/stan/model/model_header.hpp:4:\n",
      "In file included from /usr/local/lib/python3.9/site-packages/httpstan/include/stan/math.hpp:19:\n",
      "In file included from /usr/local/lib/python3.9/site-packages/httpstan/include/stan/math/rev.hpp:11:\n",
      "In file included from /usr/local/lib/python3.9/site-packages/httpstan/include/stan/math/rev/functor.hpp:28:\n",
      "/usr/local/lib/python3.9/site-packages/httpstan/include/stan/math/rev/functor/operands_and_partials.hpp:300:1: warning: 'ops_partials_edge' defined as a class template here but previously declared as a struct template; this is valid, but may result in linker errors under the Microsoft C++ ABI [-Wmismatched-tags]\n",
      "class ops_partials_edge<double, std::vector<var_value<Op>>,\n",
      "^\n",
      "/usr/local/lib/python3.9/site-packages/httpstan/include/stan/math/prim/functor/operands_and_partials.hpp:21:1: note: did you mean class here?\n",
      "struct ops_partials_edge;\n",
      "^~~~~~\n",
      "class\n",
      "In file included from /Users/claudiahm/Library/Caches/httpstan/4.7.2/models/cukhrh7v/model_cukhrh7v.cpp:2:\n",
      "In file included from /usr/local/lib/python3.9/site-packages/httpstan/include/stan/model/model_header.hpp:4:\n",
      "In file included from /usr/local/lib/python3.9/site-packages/httpstan/include/stan/math.hpp:19:\n",
      "In file included from /usr/local/lib/python3.9/site-packages/httpstan/include/stan/math/rev.hpp:11:\n",
      "In file included from /usr/local/lib/python3.9/site-packages/httpstan/include/stan/math/rev/functor.hpp:30:\n",
      "/usr/local/lib/python3.9/site-packages/httpstan/include/stan/math/rev/functor/finite_diff_hessian_auto.hpp:61:24: warning: comparison of integers of different signs: 'size_t' (aka 'unsigned long') and 'int' [-Wsign-compare]\n",
      "  for (size_t i = 0; i < d; ++i) {\n",
      "                     ~ ^ ~\n",
      "/usr/local/lib/python3.9/site-packages/httpstan/include/stan/math/rev/functor/finite_diff_hessian_auto.hpp:69:24: warning: comparison of integers of different signs: 'size_t' (aka 'unsigned long') and 'int' [-Wsign-compare]\n",
      "  for (size_t i = 0; i < d; ++i) {\n",
      "                     ~ ^ ~\n"
     ]
    },
    {
     "name": "stdout",
     "output_type": "stream",
     "text": [
      "\u001b[1A\u001b[0J\u001b[36mBuilding:\u001b[0m 20.2s\n",
      "\u001b[1A\u001b[0J\u001b[36mBuilding:\u001b[0m 20.3s\n",
      "\u001b[1A\u001b[0J\u001b[36mBuilding:\u001b[0m 20.4s\n",
      "\u001b[1A\u001b[0J\u001b[36mBuilding:\u001b[0m 20.6s\n",
      "\u001b[1A\u001b[0J\u001b[36mBuilding:\u001b[0m 20.7s\n",
      "\u001b[1A\u001b[0J\u001b[36mBuilding:\u001b[0m 20.8s\n"
     ]
    },
    {
     "name": "stderr",
     "output_type": "stream",
     "text": [
      "In file included from /Users/claudiahm/Library/Caches/httpstan/4.7.2/models/cukhrh7v/model_cukhrh7v.cpp:2:\n",
      "In file included from /usr/local/lib/python3.9/site-packages/httpstan/include/stan/model/model_header.hpp:4:\n",
      "In file included from /usr/local/lib/python3.9/site-packages/httpstan/include/stan/math.hpp:19:\n",
      "In file included from /usr/local/lib/python3.9/site-packages/httpstan/include/stan/math/rev.hpp:13:\n",
      "In file included from /usr/local/lib/python3.9/site-packages/httpstan/include/stan/math/prim.hpp:16:\n",
      "In file included from /usr/local/lib/python3.9/site-packages/httpstan/include/stan/math/prim/prob.hpp:87:\n",
      "/usr/local/lib/python3.9/site-packages/httpstan/include/stan/math/prim/prob/double_exponential_cdf.hpp:77:10: warning: unused variable 'N' [-Wunused-variable]\n",
      "  size_t N = max_size(y, mu, sigma);\n",
      "         ^\n"
     ]
    },
    {
     "name": "stdout",
     "output_type": "stream",
     "text": [
      "\u001b[1A\u001b[0J\u001b[36mBuilding:\u001b[0m 20.9s\n",
      "\u001b[1A\u001b[0J\u001b[36mBuilding:\u001b[0m 21.0s\n"
     ]
    },
    {
     "name": "stderr",
     "output_type": "stream",
     "text": [
      "In file included from /Users/claudiahm/Library/Caches/httpstan/4.7.2/models/cukhrh7v/model_cukhrh7v.cpp:2:\n",
      "In file included from /usr/local/lib/python3.9/site-packages/httpstan/include/stan/model/model_header.hpp:4:\n",
      "In file included from /usr/local/lib/python3.9/site-packages/httpstan/include/stan/math.hpp:19:\n",
      "In file included from /usr/local/lib/python3.9/site-packages/httpstan/include/stan/math/rev.hpp:13:\n",
      "In file included from /usr/local/lib/python3.9/site-packages/httpstan/include/stan/math/prim.hpp:16:\n",
      "In file included from /usr/local/lib/python3.9/site-packages/httpstan/include/stan/math/prim/prob.hpp:128:\n",
      "/usr/local/lib/python3.9/site-packages/httpstan/include/stan/math/prim/prob/gaussian_dlm_obs_rng.hpp:41:21: warning: comparison of integers of different signs: 'int' and 'size_t' (aka 'unsigned long') [-Wsign-compare]\n",
      "  for (int i = 0; i < M; i++) {\n",
      "                  ~ ^ ~\n",
      "/usr/local/lib/python3.9/site-packages/httpstan/include/stan/math/prim/prob/gaussian_dlm_obs_rng.hpp:98:7: warning: unused variable 'n' [-Wunused-variable]\n",
      "  int n = G.rows();  // number of states\n",
      "      ^\n"
     ]
    },
    {
     "name": "stdout",
     "output_type": "stream",
     "text": [
      "\u001b[1A\u001b[0J\u001b[36mBuilding:\u001b[0m 21.1s\n",
      "\u001b[1A\u001b[0J\u001b[36mBuilding:\u001b[0m 21.2s\n",
      "\u001b[1A\u001b[0J\u001b[36mBuilding:\u001b[0m 21.3s\n",
      "\u001b[1A\u001b[0J\u001b[36mBuilding:\u001b[0m 21.4s\n",
      "\u001b[1A\u001b[0J\u001b[36mBuilding:\u001b[0m 21.5s\n"
     ]
    },
    {
     "name": "stderr",
     "output_type": "stream",
     "text": [
      "In file included from /Users/claudiahm/Library/Caches/httpstan/4.7.2/models/cukhrh7v/model_cukhrh7v.cpp:2:\n",
      "In file included from /usr/local/lib/python3.9/site-packages/httpstan/include/stan/model/model_header.hpp:4:\n",
      "In file included from /usr/local/lib/python3.9/site-packages/httpstan/include/stan/math.hpp:19:\n",
      "In file included from /usr/local/lib/python3.9/site-packages/httpstan/include/stan/math/rev.hpp:13:\n",
      "In file included from /usr/local/lib/python3.9/site-packages/httpstan/include/stan/math/prim.hpp:16:\n",
      "In file included from /usr/local/lib/python3.9/site-packages/httpstan/include/stan/math/prim/prob.hpp:139:\n",
      "/usr/local/lib/python3.9/site-packages/httpstan/include/stan/math/prim/prob/hmm_marginal.hpp:26:13: warning: unused variable 'n_states' [-Wunused-variable]\n",
      "  const int n_states = omegas.rows();\n",
      "            ^\n"
     ]
    },
    {
     "name": "stdout",
     "output_type": "stream",
     "text": [
      "\u001b[1A\u001b[0J\u001b[36mBuilding:\u001b[0m 21.6s\n",
      "\u001b[1A\u001b[0J\u001b[36mBuilding:\u001b[0m 21.7s\n",
      "\u001b[1A\u001b[0J\u001b[36mBuilding:\u001b[0m 21.8s\n",
      "\u001b[1A\u001b[0J\u001b[36mBuilding:\u001b[0m 22.0s\n",
      "\u001b[1A\u001b[0J\u001b[36mBuilding:\u001b[0m 22.1s\n",
      "\u001b[1A\u001b[0J\u001b[36mBuilding:\u001b[0m 22.2s\n",
      "\u001b[1A\u001b[0J\u001b[36mBuilding:\u001b[0m 22.3s\n",
      "\u001b[1A\u001b[0J\u001b[36mBuilding:\u001b[0m 22.4s\n",
      "\u001b[1A\u001b[0J\u001b[36mBuilding:\u001b[0m 22.5s\n",
      "\u001b[1A\u001b[0J\u001b[36mBuilding:\u001b[0m 22.6s\n",
      "\u001b[1A\u001b[0J\u001b[36mBuilding:\u001b[0m 22.7s\n",
      "\u001b[1A\u001b[0J\u001b[36mBuilding:\u001b[0m 22.8s\n",
      "\u001b[1A\u001b[0J\u001b[36mBuilding:\u001b[0m 22.9s\n"
     ]
    },
    {
     "name": "stderr",
     "output_type": "stream",
     "text": [
      "In file included from /Users/claudiahm/Library/Caches/httpstan/4.7.2/models/cukhrh7v/model_cukhrh7v.cpp:2:\n",
      "In file included from /usr/local/lib/python3.9/site-packages/httpstan/include/stan/model/model_header.hpp:4:\n",
      "In file included from /usr/local/lib/python3.9/site-packages/httpstan/include/stan/math.hpp:19:\n",
      "In file included from /usr/local/lib/python3.9/site-packages/httpstan/include/stan/math/rev.hpp:13:\n",
      "In file included from /usr/local/lib/python3.9/site-packages/httpstan/include/stan/math/prim.hpp:16:\n",
      "In file included from /usr/local/lib/python3.9/site-packages/httpstan/include/stan/math/prim/prob.hpp:308:\n",
      "In file included from /usr/local/lib/python3.9/site-packages/httpstan/include/stan/math/prim/prob/skew_double_exponential_ccdf_log.hpp:5:\n",
      "/usr/local/lib/python3.9/site-packages/httpstan/include/stan/math/prim/prob/skew_double_exponential_lccdf.hpp:78:13: warning: unused variable 'size_sigma' [-Wunused-variable]\n",
      "  const int size_sigma = stan::math::size(sigma);\n",
      "            ^\n",
      "In file included from /Users/claudiahm/Library/Caches/httpstan/4.7.2/models/cukhrh7v/model_cukhrh7v.cpp:2:\n",
      "In file included from /usr/local/lib/python3.9/site-packages/httpstan/include/stan/model/model_header.hpp:4:\n",
      "In file included from /usr/local/lib/python3.9/site-packages/httpstan/include/stan/math.hpp:19:\n",
      "In file included from /usr/local/lib/python3.9/site-packages/httpstan/include/stan/math/rev.hpp:13:\n",
      "In file included from /usr/local/lib/python3.9/site-packages/httpstan/include/stan/math/prim.hpp:16:\n",
      "In file included from /usr/local/lib/python3.9/site-packages/httpstan/include/stan/math/prim/prob.hpp:309:\n",
      "/usr/local/lib/python3.9/site-packages/httpstan/include/stan/math/prim/prob/skew_double_exponential_cdf.hpp:80:13: warning: unused variable 'size_sigma' [-Wunused-variable]\n",
      "  const int size_sigma = stan::math::size(sigma);\n",
      "            ^\n",
      "In file included from /Users/claudiahm/Library/Caches/httpstan/4.7.2/models/cukhrh7v/model_cukhrh7v.cpp:2:\n",
      "In file included from /usr/local/lib/python3.9/site-packages/httpstan/include/stan/model/model_header.hpp:4:\n",
      "In file included from /usr/local/lib/python3.9/site-packages/httpstan/include/stan/math.hpp:19:\n",
      "In file included from /usr/local/lib/python3.9/site-packages/httpstan/include/stan/math/rev.hpp:13:\n",
      "In file included from /usr/local/lib/python3.9/site-packages/httpstan/include/stan/math/prim.hpp:16:\n",
      "In file included from /usr/local/lib/python3.9/site-packages/httpstan/include/stan/math/prim/prob.hpp:310:\n",
      "In file included from /usr/local/lib/python3.9/site-packages/httpstan/include/stan/math/prim/prob/skew_double_exponential_cdf_log.hpp:5:\n",
      "/usr/local/lib/python3.9/site-packages/httpstan/include/stan/math/prim/prob/skew_double_exponential_lcdf.hpp:81:13: warning: unused variable 'size_sigma' [-Wunused-variable]\n",
      "  const int size_sigma = stan::math::size(sigma);\n",
      "            ^\n",
      "In file included from /Users/claudiahm/Library/Caches/httpstan/4.7.2/models/cukhrh7v/model_cukhrh7v.cpp:2:\n",
      "In file included from /usr/local/lib/python3.9/site-packages/httpstan/include/stan/model/model_header.hpp:4:\n",
      "In file included from /usr/local/lib/python3.9/site-packages/httpstan/include/stan/math.hpp:19:\n",
      "In file included from /usr/local/lib/python3.9/site-packages/httpstan/include/stan/math/rev.hpp:13:\n",
      "In file included from /usr/local/lib/python3.9/site-packages/httpstan/include/stan/math/prim.hpp:16:\n",
      "In file included from /usr/local/lib/python3.9/site-packages/httpstan/include/stan/math/prim/prob.hpp:331:\n",
      "/usr/local/lib/python3.9/site-packages/httpstan/include/stan/math/prim/prob/std_normal_rng.hpp:23:22: warning: unused variable 'function' [-Wunused-variable]\n",
      "  static const char* function = \"std_normal_rng\";\n",
      "                     ^\n",
      "In file included from /Users/claudiahm/Library/Caches/httpstan/4.7.2/models/cukhrh7v/model_cukhrh7v.cpp:2:\n",
      "In file included from /usr/local/lib/python3.9/site-packages/httpstan/include/stan/model/model_header.hpp:4:\n",
      "In file included from /usr/local/lib/python3.9/site-packages/httpstan/include/stan/math.hpp:19:\n",
      "In file included from /usr/local/lib/python3.9/site-packages/httpstan/include/stan/math/rev.hpp:13:\n",
      "In file included from /usr/local/lib/python3.9/site-packages/httpstan/include/stan/math/prim.hpp:16:\n",
      "In file included from /usr/local/lib/python3.9/site-packages/httpstan/include/stan/math/prim/prob.hpp:351:\n",
      "In file included from /usr/local/lib/python3.9/site-packages/httpstan/include/stan/math/prim/prob/von_mises_ccdf_log.hpp:4:\n",
      "In file included from /usr/local/lib/python3.9/site-packages/httpstan/include/stan/math/prim/prob/von_mises_lccdf.hpp:5:\n",
      "/usr/local/lib/python3.9/site-packages/httpstan/include/stan/math/prim/prob/von_mises_cdf.hpp:72:10: warning: unused variable 'ck' [-Wunused-variable]\n",
      "  double ck = 50;\n",
      "         ^\n"
     ]
    },
    {
     "name": "stdout",
     "output_type": "stream",
     "text": [
      "\u001b[1A\u001b[0J\u001b[36mBuilding:\u001b[0m 23.0s\n",
      "\u001b[1A\u001b[0J\u001b[36mBuilding:\u001b[0m 23.2s\n",
      "\u001b[1A\u001b[0J\u001b[36mBuilding:\u001b[0m 23.3s\n",
      "\u001b[1A\u001b[0J\u001b[36mBuilding:\u001b[0m 23.4s\n"
     ]
    },
    {
     "name": "stderr",
     "output_type": "stream",
     "text": [
      "In file included from /Users/claudiahm/Library/Caches/httpstan/4.7.2/models/cukhrh7v/model_cukhrh7v.cpp:2:\n",
      "In file included from /usr/local/lib/python3.9/site-packages/httpstan/include/stan/model/model_header.hpp:7:\n",
      "/usr/local/lib/python3.9/site-packages/httpstan/include/stan/io/dump.hpp:694:52: warning: comparison of integers of different signs: 'int' and 'std::__1::vector<double>::size_type' (aka 'unsigned long') [-Wsign-compare]\n",
      "      for (comp_iter = 0, real_iter = 0; real_iter < val_r->second.first.size();\n",
      "                                         ~~~~~~~~~ ^ ~~~~~~~~~~~~~~~~~~~~~~~~~~\n",
      "/usr/local/lib/python3.9/site-packages/httpstan/include/stan/io/dump.hpp:707:24: warning: comparison of integers of different signs: 'int' and 'std::__1::vector<int>::size_type' (aka 'unsigned long') [-Wsign-compare]\n",
      "             real_iter < val_i->second.first.size();\n",
      "             ~~~~~~~~~ ^ ~~~~~~~~~~~~~~~~~~~~~~~~~~\n",
      "In file included from /Users/claudiahm/Library/Caches/httpstan/4.7.2/models/cukhrh7v/model_cukhrh7v.cpp:2:\n",
      "In file included from /usr/local/lib/python3.9/site-packages/httpstan/include/stan/model/model_header.hpp:8:\n",
      "/usr/local/lib/python3.9/site-packages/httpstan/include/stan/io/deserializer.hpp:337:28: warning: comparison of integers of different signs: 'size_t' (aka 'unsigned long') and 'Eigen::Index' (aka 'long') [-Wsign-compare]\n",
      "      for (size_t i = 0; i < m; ++i) {\n",
      "                         ~ ^ ~\n"
     ]
    },
    {
     "name": "stdout",
     "output_type": "stream",
     "text": [
      "\u001b[1A\u001b[0J\u001b[36mBuilding:\u001b[0m 23.5s\n",
      "\u001b[1A\u001b[0J\u001b[36mBuilding:\u001b[0m 23.6s\n",
      "\u001b[1A\u001b[0J\u001b[36mBuilding:\u001b[0m 23.7s\n"
     ]
    },
    {
     "name": "stderr",
     "output_type": "stream",
     "text": [
      "In file included from /Users/claudiahm/Library/Caches/httpstan/4.7.2/models/cukhrh7v/model_cukhrh7v.cpp:2:\n",
      "In file included from /usr/local/lib/python3.9/site-packages/httpstan/include/stan/model/model_header.hpp:17:\n",
      "In file included from /usr/local/lib/python3.9/site-packages/httpstan/include/stan/model/indexing.hpp:6:\n",
      "/usr/local/lib/python3.9/site-packages/httpstan/include/stan/model/indexing/assign.hpp:274:21: warning: comparison of integers of different signs: 'int' and 'std::__1::vector<int>::size_type' (aka 'unsigned long') [-Wsign-compare]\n",
      "  for (int i = 0; i < idx.ns_.size(); ++i) {\n",
      "                  ~ ^ ~~~~~~~~~~~~~~\n",
      "/usr/local/lib/python3.9/site-packages/httpstan/include/stan/model/indexing/assign.hpp:528:21: warning: comparison of integers of different signs: 'int' and 'std::__1::vector<int>::size_type' (aka 'unsigned long') [-Wsign-compare]\n",
      "  for (int i = 0; i < col_idx.ns_.size(); ++i) {\n",
      "                  ~ ^ ~~~~~~~~~~~~~~~~~~\n",
      "/usr/local/lib/python3.9/site-packages/httpstan/include/stan/model/indexing/assign.hpp:627:21: warning: comparison of integers of different signs: 'int' and 'std::__1::vector<int>::size_type' (aka 'unsigned long') [-Wsign-compare]\n",
      "  for (int j = 0; j < col_idx.ns_.size(); ++j) {\n",
      "                  ~ ^ ~~~~~~~~~~~~~~~~~~\n",
      "In file included from /Users/claudiahm/Library/Caches/httpstan/4.7.2/models/cukhrh7v/model_cukhrh7v.cpp:2:\n",
      "In file included from /usr/local/lib/python3.9/site-packages/httpstan/include/stan/model/model_header.hpp:17:\n",
      "In file included from /usr/local/lib/python3.9/site-packages/httpstan/include/stan/model/indexing.hpp:9:\n",
      "In file included from /usr/local/lib/python3.9/site-packages/httpstan/include/stan/model/indexing/rvalue_varmat.hpp:7:\n",
      "/usr/local/lib/python3.9/site-packages/httpstan/include/stan/model/indexing/rvalue.hpp:268:21: warning: comparison of integers of different signs: 'int' and 'std::__1::vector<int>::size_type' (aka 'unsigned long') [-Wsign-compare]\n",
      "  for (int i = 0; i < idx.ns_.size(); ++i) {\n",
      "                  ~ ^ ~~~~~~~~~~~~~~\n",
      "/usr/local/lib/python3.9/site-packages/httpstan/include/stan/model/indexing/rvalue.hpp:558:13: warning: unused variable 'cols' [-Wunused-variable]\n",
      "  const int cols = rvalue_index_size(col_idx, x_ref.cols());\n",
      "            ^\n",
      "/usr/local/lib/python3.9/site-packages/httpstan/include/stan/model/indexing/rvalue.hpp:560:21: warning: comparison of integers of different signs: 'int' and 'std::__1::vector<int>::size_type' (aka 'unsigned long') [-Wsign-compare]\n",
      "  for (int j = 0; j < col_idx.ns_.size(); ++j) {\n",
      "                  ~ ^ ~~~~~~~~~~~~~~~~~~\n",
      "In file included from /Users/claudiahm/Library/Caches/httpstan/4.7.2/models/cukhrh7v/model_cukhrh7v.cpp:2:\n",
      "In file included from /usr/local/lib/python3.9/site-packages/httpstan/include/stan/model/model_header.hpp:17:\n",
      "In file included from /usr/local/lib/python3.9/site-packages/httpstan/include/stan/model/indexing.hpp:9:\n",
      "/usr/local/lib/python3.9/site-packages/httpstan/include/stan/model/indexing/rvalue_varmat.hpp:66:21: warning: comparison of integers of different signs: 'int' and 'const unsigned long' [-Wsign-compare]\n",
      "  for (int i = 0; i < ret_size; ++i) {\n",
      "                  ~ ^ ~~~~~~~~\n",
      "/usr/local/lib/python3.9/site-packages/httpstan/include/stan/model/indexing/rvalue_varmat.hpp:102:21: warning: comparison of integers of different signs: 'int' and 'const unsigned long' [-Wsign-compare]\n",
      "  for (int i = 0; i < ret_rows; ++i) {\n",
      "                  ~ ^ ~~~~~~~~\n",
      "/usr/local/lib/python3.9/site-packages/httpstan/include/stan/model/indexing/rvalue_varmat.hpp:142:21: warning: comparison of integers of different signs: 'int' and 'const unsigned long' [-Wsign-compare]\n",
      "  for (int j = 0; j < ret_size; ++j) {\n",
      "                  ~ ^ ~~~~~~~~\n",
      "/usr/local/lib/python3.9/site-packages/httpstan/include/stan/model/indexing/rvalue_varmat.hpp:183:21: warning: comparison of integers of different signs: 'int' and 'const unsigned long' [-Wsign-compare]\n",
      "  for (int i = 0; i < ret_size; ++i) {\n",
      "                  ~ ^ ~~~~~~~~\n",
      "/usr/local/lib/python3.9/site-packages/httpstan/include/stan/model/indexing/rvalue_varmat.hpp:222:22: warning: unused variable 'x_cols' [-Wunused-variable]\n",
      "  const Eigen::Index x_cols = x.cols();\n",
      "                     ^\n",
      "/usr/local/lib/python3.9/site-packages/httpstan/include/stan/model/indexing/rvalue_varmat.hpp:227:21: warning: comparison of integers of different signs: 'int' and 'const unsigned long' [-Wsign-compare]\n",
      "  for (int i = 0; i < ret_rows; ++i) {\n",
      "                  ~ ^ ~~~~~~~~\n",
      "/usr/local/lib/python3.9/site-packages/httpstan/include/stan/model/indexing/rvalue_varmat.hpp:231:21: warning: comparison of integers of different signs: 'int' and 'const unsigned long' [-Wsign-compare]\n",
      "  for (int j = 0; j < ret_cols; ++j) {\n",
      "                  ~ ^ ~~~~~~~~\n",
      "/usr/local/lib/python3.9/site-packages/httpstan/include/stan/model/indexing/rvalue_varmat.hpp:235:23: warning: comparison of integers of different signs: 'int' and 'const unsigned long' [-Wsign-compare]\n",
      "    for (int i = 0; i < ret_rows; ++i) {\n",
      "                    ~ ^ ~~~~~~~~\n",
      "/usr/local/lib/python3.9/site-packages/httpstan/include/stan/model/indexing/rvalue_varmat.hpp:278:21: warning: comparison of integers of different signs: 'int' and 'const unsigned long' [-Wsign-compare]\n",
      "  for (int j = 0; j < ret_cols; ++j) {\n",
      "                  ~ ^ ~~~~~~~~\n",
      "/Users/claudiahm/Library/Caches/httpstan/4.7.2/models/cukhrh7v/model_cukhrh7v.cpp:207:20: warning: unused variable 'jacobian__' [-Wunused-variable]\n",
      "    constexpr bool jacobian__ = false;\n",
      "                   ^\n"
     ]
    },
    {
     "name": "stdout",
     "output_type": "stream",
     "text": [
      "\u001b[1A\u001b[0J\u001b[36mBuilding:\u001b[0m 23.8s\n",
      "\u001b[1A\u001b[0J\u001b[36mBuilding:\u001b[0m 23.9s\n",
      "\u001b[1A\u001b[0J\u001b[36mBuilding:\u001b[0m 24.0s\n",
      "\u001b[1A\u001b[0J\u001b[36mBuilding:\u001b[0m 24.1s\n",
      "\u001b[1A\u001b[0J\u001b[36mBuilding:\u001b[0m 24.2s\n",
      "\u001b[1A\u001b[0J\u001b[36mBuilding:\u001b[0m 24.3s\n",
      "\u001b[1A\u001b[0J\u001b[36mBuilding:\u001b[0m 24.5s\n",
      "\u001b[1A\u001b[0J\u001b[36mBuilding:\u001b[0m 24.6s\n",
      "\u001b[1A\u001b[0J\u001b[36mBuilding:\u001b[0m 24.7s\n",
      "\u001b[1A\u001b[0J\u001b[36mBuilding:\u001b[0m 24.8s\n",
      "\u001b[1A\u001b[0J\u001b[36mBuilding:\u001b[0m 24.9s\n",
      "\u001b[1A\u001b[0J\u001b[36mBuilding:\u001b[0m 25.0s\n"
     ]
    },
    {
     "name": "stderr",
     "output_type": "stream",
     "text": [
      "In file included from /Users/claudiahm/Library/Caches/httpstan/4.7.2/models/cukhrh7v/model_cukhrh7v.cpp:2:\n",
      "In file included from /usr/local/lib/python3.9/site-packages/httpstan/include/stan/model/model_header.hpp:4:\n",
      "In file included from /usr/local/lib/python3.9/site-packages/httpstan/include/stan/math.hpp:19:\n",
      "In file included from /usr/local/lib/python3.9/site-packages/httpstan/include/stan/math/rev.hpp:8:\n",
      "In file included from /usr/local/lib/python3.9/site-packages/httpstan/include/stan/math/rev/core.hpp:29:\n",
      "In file included from /usr/local/lib/python3.9/site-packages/httpstan/include/stan/math/rev/core/operator_divide_equal.hpp:5:\n",
      "In file included from /usr/local/lib/python3.9/site-packages/httpstan/include/stan/math/rev/core/operator_division.hpp:14:\n",
      "/usr/local/lib/python3.9/site-packages/httpstan/include/stan/math/rev/core/operator_subtraction.hpp:84:21: warning: lambda capture 'b' is not used [-Wunused-lambda-capture]\n",
      "      [avi = a.vi_, b](const auto& vi) mutable { avi->adj_ += vi.adj_; });\n",
      "                    ^\n",
      "/usr/local/lib/python3.9/site-packages/httpstan/include/stan/math/rev/core/operator_minus_equal.hpp:24:16: note: in instantiation of function template specialization 'stan::math::operator-<double, nullptr>' requested here\n",
      "  vi_ = (*this - b).vi_;\n",
      "               ^\n",
      "/usr/local/lib/python3.9/site-packages/httpstan/include/stan/math/prim/core/complex_base.hpp:136:9: note: in instantiation of member function 'stan::math::var_value<double, void>::operator-=' requested here\n",
      "    re_ -= x;\n",
      "        ^\n",
      "/usr/local/lib/python3.9/site-packages/httpstan/include/stan/math/prim/core/operator_subtraction.hpp:24:5: note: in instantiation of function template specialization 'stan::math::complex_base<stan::math::var_value<double>>::operator-=<int>' requested here\n",
      "  y -= rhs;\n",
      "    ^\n",
      "/usr/local/lib/python3.9/site-packages/httpstan/include/stan/math/prim/core/operator_subtraction.hpp:55:20: note: in instantiation of function template specialization 'stan::math::internal::complex_subtract<std::__1::complex<stan::math::var>, int>' requested here\n",
      "  return internal::complex_subtract(x, y);\n",
      "                   ^\n",
      "/usr/local/lib/python3.9/site-packages/httpstan/include/stan/math/prim/fun/acosh.hpp:105:31: note: in instantiation of function template specialization 'stan::math::operator-<stan::math::var_value<double>, int>' requested here\n",
      "  auto y = log(z + sqrt(z * z - 1));\n",
      "                              ^\n",
      "/usr/local/lib/python3.9/site-packages/httpstan/include/stan/math/rev/fun/acosh.hpp:94:32: note: in instantiation of function template specialization 'stan::math::internal::complex_acosh<stan::math::var_value<double>>' requested here\n",
      "  return stan::math::internal::complex_acosh(z);\n",
      "                               ^\n"
     ]
    },
    {
     "name": "stdout",
     "output_type": "stream",
     "text": [
      "\u001b[1A\u001b[0J\u001b[36mBuilding:\u001b[0m 25.1s\n",
      "\u001b[1A\u001b[0J\u001b[36mBuilding:\u001b[0m 25.2s\n",
      "\u001b[1A\u001b[0J\u001b[36mBuilding:\u001b[0m 25.3s\n",
      "\u001b[1A\u001b[0J\u001b[36mBuilding:\u001b[0m 25.4s\n",
      "\u001b[1A\u001b[0J\u001b[36mBuilding:\u001b[0m 25.6s\n",
      "\u001b[1A\u001b[0J\u001b[36mBuilding:\u001b[0m 25.7s\n",
      "\u001b[1A\u001b[0J\u001b[36mBuilding:\u001b[0m 25.8s\n",
      "\u001b[1A\u001b[0J\u001b[36mBuilding:\u001b[0m 25.9s\n",
      "\u001b[1A\u001b[0J\u001b[36mBuilding:\u001b[0m 26.0s\n",
      "\u001b[1A\u001b[0J\u001b[36mBuilding:\u001b[0m 26.1s\n",
      "\u001b[1A\u001b[0J\u001b[36mBuilding:\u001b[0m 26.2s\n",
      "\u001b[1A\u001b[0J\u001b[36mBuilding:\u001b[0m 26.3s\n",
      "\u001b[1A\u001b[0J\u001b[36mBuilding:\u001b[0m 26.5s\n",
      "\u001b[1A\u001b[0J\u001b[36mBuilding:\u001b[0m 26.6s\n",
      "\u001b[1A\u001b[0J\u001b[36mBuilding:\u001b[0m 26.7s\n",
      "\u001b[1A\u001b[0J\u001b[36mBuilding:\u001b[0m 26.8s\n",
      "\u001b[1A\u001b[0J\u001b[36mBuilding:\u001b[0m 26.9s\n"
     ]
    },
    {
     "name": "stderr",
     "output_type": "stream",
     "text": [
      "In file included from /Users/claudiahm/Library/Caches/httpstan/4.7.2/models/cukhrh7v/model_cukhrh7v.cpp:2:\n",
      "In file included from /usr/local/lib/python3.9/site-packages/httpstan/include/stan/model/model_header.hpp:4:\n",
      "In file included from /usr/local/lib/python3.9/site-packages/httpstan/include/stan/math.hpp:19:\n",
      "In file included from /usr/local/lib/python3.9/site-packages/httpstan/include/stan/math/rev.hpp:8:\n",
      "In file included from /usr/local/lib/python3.9/site-packages/httpstan/include/stan/math/rev/core.hpp:28:\n",
      "/usr/local/lib/python3.9/site-packages/httpstan/include/stan/math/rev/core/operator_addition.hpp:80:21: warning: lambda capture 'b' is not used [-Wunused-lambda-capture]\n",
      "      [avi = a.vi_, b](const auto& vi) mutable { avi->adj_ += vi.adj_; });\n",
      "                    ^\n",
      "/usr/local/lib/python3.9/site-packages/httpstan/include/stan/math/rev/fun/grad_inc_beta.hpp:45:43: note: in instantiation of function template specialization 'stan::math::operator+<int, nullptr>' requested here\n",
      "    grad_2F1(dF1, dF2, a + b, var(1.0), a + 1, z);\n",
      "                                          ^\n"
     ]
    },
    {
     "name": "stdout",
     "output_type": "stream",
     "text": [
      "\u001b[1A\u001b[0J\u001b[36mBuilding:\u001b[0m 27.0s\n",
      "\u001b[1A\u001b[0J\u001b[36mBuilding:\u001b[0m 27.1s\n"
     ]
    },
    {
     "name": "stderr",
     "output_type": "stream",
     "text": [
      "In file included from /Users/claudiahm/Library/Caches/httpstan/4.7.2/models/cukhrh7v/model_cukhrh7v.cpp:2:\n",
      "In file included from /usr/local/lib/python3.9/site-packages/httpstan/include/stan/model/model_header.hpp:4:\n",
      "In file included from /usr/local/lib/python3.9/site-packages/httpstan/include/stan/math.hpp:19:\n",
      "In file included from /usr/local/lib/python3.9/site-packages/httpstan/include/stan/math/rev.hpp:8:\n",
      "In file included from /usr/local/lib/python3.9/site-packages/httpstan/include/stan/math/rev/core.hpp:28:\n",
      "/usr/local/lib/python3.9/site-packages/httpstan/include/stan/math/rev/core/operator_addition.hpp:80:21: warning: lambda capture 'b' is not used [-Wunused-lambda-capture]\n",
      "      [avi = a.vi_, b](const auto& vi) mutable { avi->adj_ += vi.adj_; });\n",
      "                    ^\n",
      "/usr/local/lib/python3.9/site-packages/httpstan/include/stan/math/prim/fun/trigamma.hpp:63:31: note: in instantiation of function template specialization 'stan::math::operator+<double, nullptr>' requested here\n",
      "    value = -trigamma_impl(-x + 1.0) + square(pi() / sin(-pi() * x));\n",
      "                              ^\n",
      "/usr/local/lib/python3.9/site-packages/httpstan/include/stan/math/rev/fun/trigamma.hpp:23:44: note: in instantiation of function template specialization 'stan::math::trigamma_impl<stan::math::var_value<double>>' requested here\n",
      "inline var trigamma(const var& u) { return trigamma_impl(u); }\n",
      "                                           ^\n"
     ]
    },
    {
     "name": "stdout",
     "output_type": "stream",
     "text": [
      "\u001b[1A\u001b[0J\u001b[36mBuilding:\u001b[0m 27.2s\n",
      "\u001b[1A\u001b[0J\u001b[36mBuilding:\u001b[0m 27.3s\n",
      "\u001b[1A\u001b[0J\u001b[36mBuilding:\u001b[0m 27.4s\n",
      "\u001b[1A\u001b[0J\u001b[36mBuilding:\u001b[0m 27.5s\n",
      "\u001b[1A\u001b[0J\u001b[36mBuilding:\u001b[0m 27.7s\n",
      "\u001b[1A\u001b[0J\u001b[36mBuilding:\u001b[0m 27.8s\n",
      "\u001b[1A\u001b[0J\u001b[36mBuilding:\u001b[0m 27.9s\n",
      "\u001b[1A\u001b[0J\u001b[36mBuilding:\u001b[0m 28.0s\n",
      "\u001b[1A\u001b[0J\u001b[36mBuilding:\u001b[0m 28.1s\n",
      "\u001b[1A\u001b[0J\u001b[36mBuilding:\u001b[0m 28.2s\n",
      "\u001b[1A\u001b[0J\u001b[36mBuilding:\u001b[0m 28.3s\n",
      "\u001b[1A\u001b[0J\u001b[36mBuilding:\u001b[0m 28.4s\n"
     ]
    },
    {
     "name": "stderr",
     "output_type": "stream",
     "text": [
      "In file included from /Users/claudiahm/Library/Caches/httpstan/4.7.2/models/cukhrh7v/model_cukhrh7v.cpp:2:\n",
      "In file included from /usr/local/lib/python3.9/site-packages/httpstan/include/stan/model/model_header.hpp:4:\n",
      "In file included from /usr/local/lib/python3.9/site-packages/httpstan/include/stan/math.hpp:19:\n",
      "In file included from /usr/local/lib/python3.9/site-packages/httpstan/include/stan/math/rev.hpp:8:\n",
      "In file included from /usr/local/lib/python3.9/site-packages/httpstan/include/stan/math/rev/core.hpp:53:\n",
      "In file included from /usr/local/lib/python3.9/site-packages/httpstan/include/stan/math/rev/core/profiling.hpp:9:\n",
      "In file included from /usr/local/lib/python3.9/site-packages/httpstan/include/stan/math/prim/err.hpp:4:\n",
      "In file included from /usr/local/lib/python3.9/site-packages/httpstan/include/stan/math/prim/err/check_2F1_converges.hpp:5:\n",
      "In file included from /usr/local/lib/python3.9/site-packages/httpstan/include/stan/math/prim/err/check_not_nan.hpp:5:\n",
      "/usr/local/lib/python3.9/site-packages/httpstan/include/stan/math/prim/err/elementwise_check.hpp:153:24: warning: comparison of integers of different signs: 'size_t' (aka 'unsigned long') and 'Eigen::EigenBase::Index' (aka 'long') [-Wsign-compare]\n",
      "  for (size_t i = 0; i < x.size(); i++) {\n",
      "                     ~ ^ ~~~~~~~~\n",
      "/usr/local/lib/python3.9/site-packages/httpstan/include/stan/math/prim/err/check_not_nan.hpp:28:3: note: in instantiation of function template specialization 'stan::math::elementwise_check<(lambda at /usr/local/lib/python3.9/site-packages/httpstan/include/stan/math/prim/err/check_not_nan.hpp:28:21), Eigen::ArrayWrapper<const Eigen::Matrix<double, -1, 1, 0>>, nullptr, nullptr>' requested here\n",
      "  elementwise_check([](double x) { return !std::isnan(x); }, function, name, y,\n",
      "  ^\n",
      "/usr/local/lib/python3.9/site-packages/httpstan/include/stan/math/prim/prob/bernoulli_logit_lpmf.hpp:54:3: note: in instantiation of function template specialization 'stan::math::check_not_nan<Eigen::ArrayWrapper<const Eigen::Matrix<double, -1, 1, 0>>>' requested here\n",
      "  check_not_nan(function, \"Logit transformed probability parameter\", theta_val);\n",
      "  ^\n",
      "/Users/claudiahm/Library/Caches/httpstan/4.7.2/models/cukhrh7v/model_cukhrh7v.cpp:179:36: note: in instantiation of function template specialization 'stan::math::bernoulli_logit_lpmf<false, std::__1::vector<int>, Eigen::Matrix<double, -1, 1, 0>, nullptr>' requested here\n",
      "        lp_accum__.add(stan::math::bernoulli_logit_lpmf<propto__>(y, linpred));\n",
      "                                   ^\n",
      "/Users/claudiahm/Library/Caches/httpstan/4.7.2/models/cukhrh7v/model_cukhrh7v.cpp:398:14: note: in instantiation of function template specialization 'model_cukhrh7v_namespace::model_cukhrh7v::log_prob_impl<false, false, Eigen::Matrix<double, -1, 1, 0>, Eigen::Matrix<int, -1, 1, 0>, nullptr, nullptr>' requested here\n",
      "      return log_prob_impl<propto__, jacobian__>(params_r, params_i, pstream);\n",
      "             ^\n",
      "/usr/local/lib/python3.9/site-packages/httpstan/include/stan/model/model_base_crtp.hpp:90:50: note: in instantiation of function template specialization 'model_cukhrh7v_namespace::model_cukhrh7v::log_prob<false, false, double>' requested here\n",
      "    return static_cast<const M*>(this)->template log_prob<false, false, double>(\n",
      "                                                 ^\n",
      "/Users/claudiahm/Library/Caches/httpstan/4.7.2/models/cukhrh7v/model_cukhrh7v.cpp:43:3: note: in instantiation of member function 'stan::model::model_base_crtp<model_cukhrh7v_namespace::model_cukhrh7v>::log_prob' requested here\n",
      "  ~model_cukhrh7v() { }\n",
      "  ^\n"
     ]
    },
    {
     "name": "stdout",
     "output_type": "stream",
     "text": [
      "\u001b[1A\u001b[0J\u001b[36mBuilding:\u001b[0m 28.5s\n",
      "\u001b[1A\u001b[0J\u001b[36mBuilding:\u001b[0m 28.6s\n",
      "\u001b[1A\u001b[0J\u001b[36mBuilding:\u001b[0m 28.7s\n",
      "\u001b[1A\u001b[0J\u001b[36mBuilding:\u001b[0m 28.8s\n",
      "\u001b[1A\u001b[0J\u001b[36mBuilding:\u001b[0m 29.0s\n",
      "\u001b[1A\u001b[0J\u001b[36mBuilding:\u001b[0m 29.1s\n",
      "\u001b[1A\u001b[0J\u001b[36mBuilding:\u001b[0m 29.2s\n",
      "\u001b[1A\u001b[0J\u001b[36mBuilding:\u001b[0m 29.3s\n",
      "\u001b[1A\u001b[0J\u001b[36mBuilding:\u001b[0m 29.4s\n",
      "\u001b[1A\u001b[0J\u001b[36mBuilding:\u001b[0m 29.5s\n"
     ]
    },
    {
     "name": "stderr",
     "output_type": "stream",
     "text": [
      "In file included from /Users/claudiahm/Library/Caches/httpstan/4.7.2/models/cukhrh7v/model_cukhrh7v.cpp:2:\n",
      "In file included from /usr/local/lib/python3.9/site-packages/httpstan/include/stan/model/model_header.hpp:4:\n",
      "In file included from /usr/local/lib/python3.9/site-packages/httpstan/include/stan/math.hpp:19:\n",
      "In file included from /usr/local/lib/python3.9/site-packages/httpstan/include/stan/math/rev.hpp:8:\n",
      "In file included from /usr/local/lib/python3.9/site-packages/httpstan/include/stan/math/rev/core.hpp:53:\n",
      "In file included from /usr/local/lib/python3.9/site-packages/httpstan/include/stan/math/rev/core/profiling.hpp:9:\n",
      "In file included from /usr/local/lib/python3.9/site-packages/httpstan/include/stan/math/prim/err.hpp:4:\n",
      "In file included from /usr/local/lib/python3.9/site-packages/httpstan/include/stan/math/prim/err/check_2F1_converges.hpp:5:\n",
      "In file included from /usr/local/lib/python3.9/site-packages/httpstan/include/stan/math/prim/err/check_not_nan.hpp:5:\n",
      "/usr/local/lib/python3.9/site-packages/httpstan/include/stan/math/prim/err/elementwise_check.hpp:153:24: warning: comparison of integers of different signs: 'size_t' (aka 'unsigned long') and 'Eigen::EigenBase::Index' (aka 'long') [-Wsign-compare]\n",
      "  for (size_t i = 0; i < x.size(); i++) {\n",
      "                     ~ ^ ~~~~~~~~\n",
      "/usr/local/lib/python3.9/site-packages/httpstan/include/stan/math/prim/err/check_not_nan.hpp:28:3: note: in instantiation of function template specialization 'stan::math::elementwise_check<(lambda at /usr/local/lib/python3.9/site-packages/httpstan/include/stan/math/prim/err/check_not_nan.hpp:28:21), Eigen::Array<double, -1, 1, 0>, nullptr, nullptr>' requested here\n",
      "  elementwise_check([](double x) { return !std::isnan(x); }, function, name, y,\n",
      "  ^\n",
      "/usr/local/lib/python3.9/site-packages/httpstan/include/stan/math/prim/prob/bernoulli_logit_lpmf.hpp:54:3: note: in instantiation of function template specialization 'stan::math::check_not_nan<Eigen::Array<double, -1, 1, 0>>' requested here\n",
      "  check_not_nan(function, \"Logit transformed probability parameter\", theta_val);\n",
      "  ^\n",
      "/Users/claudiahm/Library/Caches/httpstan/4.7.2/models/cukhrh7v/model_cukhrh7v.cpp:179:36: note: in instantiation of function template specialization 'stan::math::bernoulli_logit_lpmf<false, std::__1::vector<int>, Eigen::Matrix<stan::math::var_value<double>, -1, 1, 0>, nullptr>' requested here\n",
      "        lp_accum__.add(stan::math::bernoulli_logit_lpmf<propto__>(y, linpred));\n",
      "                                   ^\n",
      "/Users/claudiahm/Library/Caches/httpstan/4.7.2/models/cukhrh7v/model_cukhrh7v.cpp:398:14: note: in instantiation of function template specialization 'model_cukhrh7v_namespace::model_cukhrh7v::log_prob_impl<false, false, Eigen::Matrix<stan::math::var_value<double>, -1, 1, 0>, Eigen::Matrix<int, -1, 1, 0>, nullptr, nullptr>' requested here\n",
      "      return log_prob_impl<propto__, jacobian__>(params_r, params_i, pstream);\n",
      "             ^\n",
      "/usr/local/lib/python3.9/site-packages/httpstan/include/stan/model/model_base_crtp.hpp:95:50: note: in instantiation of function template specialization 'model_cukhrh7v_namespace::model_cukhrh7v::log_prob<false, false, stan::math::var_value<double>>' requested here\n",
      "    return static_cast<const M*>(this)->template log_prob<false, false>(theta,\n",
      "                                                 ^\n",
      "/Users/claudiahm/Library/Caches/httpstan/4.7.2/models/cukhrh7v/model_cukhrh7v.cpp:43:3: note: in instantiation of member function 'stan::model::model_base_crtp<model_cukhrh7v_namespace::model_cukhrh7v>::log_prob' requested here\n",
      "  ~model_cukhrh7v() { }\n",
      "  ^\n"
     ]
    },
    {
     "name": "stdout",
     "output_type": "stream",
     "text": [
      "\u001b[1A\u001b[0J\u001b[36mBuilding:\u001b[0m 29.6s\n",
      "\u001b[1A\u001b[0J\u001b[36mBuilding:\u001b[0m 29.7s\n"
     ]
    },
    {
     "name": "stderr",
     "output_type": "stream",
     "text": [
      "In file included from /Users/claudiahm/Library/Caches/httpstan/4.7.2/models/cukhrh7v/model_cukhrh7v.cpp:2:\n",
      "In file included from /usr/local/lib/python3.9/site-packages/httpstan/include/stan/model/model_header.hpp:4:\n",
      "In file included from /usr/local/lib/python3.9/site-packages/httpstan/include/stan/math.hpp:19:\n",
      "In file included from /usr/local/lib/python3.9/site-packages/httpstan/include/stan/math/rev.hpp:8:\n",
      "In file included from /usr/local/lib/python3.9/site-packages/httpstan/include/stan/math/rev/core.hpp:58:\n",
      "/usr/local/lib/python3.9/site-packages/httpstan/include/stan/math/rev/core/set_zero_all_adjoints.hpp:14:13: warning: 'static' function 'set_zero_all_adjoints' declared in header file should be declared 'static inline' [-Wunneeded-internal-declaration]\n",
      "static void set_zero_all_adjoints() {\n",
      "            ^\n",
      "In file included from /Users/claudiahm/Library/Caches/httpstan/4.7.2/models/cukhrh7v/model_cukhrh7v.cpp:2:\n",
      "In file included from /usr/local/lib/python3.9/site-packages/httpstan/include/stan/model/model_header.hpp:17:\n",
      "In file included from /usr/local/lib/python3.9/site-packages/httpstan/include/stan/model/indexing.hpp:5:\n",
      "/usr/local/lib/python3.9/site-packages/httpstan/include/stan/model/indexing/assign_varmat.hpp:401:9: warning: unused type alias 'pair_type' [-Wunused-local-typedef]\n",
      "  using pair_type = std::pair<int, arena_vec>;\n",
      "        ^\n"
     ]
    },
    {
     "name": "stdout",
     "output_type": "stream",
     "text": [
      "\u001b[1A\u001b[0J\u001b[36mBuilding:\u001b[0m 29.8s\n",
      "\u001b[1A\u001b[0J\u001b[36mBuilding:\u001b[0m 29.9s\n",
      "\u001b[1A\u001b[0J\u001b[36mBuilding:\u001b[0m 30.0s\n",
      "\u001b[1A\u001b[0J\u001b[36mBuilding:\u001b[0m 30.2s\n",
      "\u001b[1A\u001b[0J\u001b[36mBuilding:\u001b[0m 30.3s\n",
      "\u001b[1A\u001b[0J\u001b[36mBuilding:\u001b[0m 30.4s\n",
      "\u001b[1A\u001b[0J\u001b[36mBuilding:\u001b[0m 30.5s\n",
      "\u001b[1A\u001b[0J\u001b[36mBuilding:\u001b[0m 30.6s\n",
      "\u001b[1A\u001b[0J\u001b[36mBuilding:\u001b[0m 30.7s\n",
      "\u001b[1A\u001b[0J\u001b[36mBuilding:\u001b[0m 30.8s\n",
      "\u001b[1A\u001b[0J\u001b[36mBuilding:\u001b[0m 30.9s\n",
      "\u001b[1A\u001b[0J\u001b[36mBuilding:\u001b[0m 31.0s\n",
      "\u001b[1A\u001b[0J\u001b[36mBuilding:\u001b[0m 31.1s\n",
      "\u001b[1A\u001b[0J\u001b[36mBuilding:\u001b[0m 31.2s\n",
      "\u001b[1A\u001b[0J\u001b[36mBuilding:\u001b[0m 31.3s\n",
      "\u001b[1A\u001b[0J\u001b[36mBuilding:\u001b[0m 31.4s\n",
      "\u001b[1A\u001b[0J\u001b[36mBuilding:\u001b[0m 31.6s\n",
      "\u001b[1A\u001b[0J\u001b[36mBuilding:\u001b[0m 31.7s\n",
      "\u001b[1A\u001b[0J\u001b[36mBuilding:\u001b[0m 31.8s\n",
      "\u001b[1A\u001b[0J\u001b[36mBuilding:\u001b[0m 31.9s\n",
      "\u001b[1A\u001b[0J\u001b[36mBuilding:\u001b[0m 32.0s\n",
      "\u001b[1A\u001b[0J\u001b[36mBuilding:\u001b[0m 32.1s\n",
      "\u001b[1A\u001b[0J\u001b[36mBuilding:\u001b[0m 32.2s\n",
      "\u001b[1A\u001b[0J\u001b[36mBuilding:\u001b[0m 32.3s\n",
      "\u001b[1A\u001b[0J\u001b[36mBuilding:\u001b[0m 32.4s\n",
      "\u001b[1A\u001b[0J\u001b[36mBuilding:\u001b[0m 32.5s\n",
      "\u001b[1A\u001b[0J\u001b[36mBuilding:\u001b[0m 32.6s\n",
      "\u001b[1A\u001b[0J\u001b[36mBuilding:\u001b[0m 32.8s\n",
      "\u001b[1A\u001b[0J\u001b[36mBuilding:\u001b[0m 32.9s\n",
      "\u001b[1A\u001b[0J\u001b[36mBuilding:\u001b[0m 33.0s\n",
      "\u001b[1A\u001b[0J\u001b[36mBuilding:\u001b[0m 33.1s\n",
      "\u001b[1A\u001b[0J\u001b[36mBuilding:\u001b[0m 33.2s\n",
      "\u001b[1A\u001b[0J\u001b[36mBuilding:\u001b[0m 33.3s\n",
      "\u001b[1A\u001b[0J\u001b[36mBuilding:\u001b[0m 33.4s\n",
      "\u001b[1A\u001b[0J\u001b[36mBuilding:\u001b[0m 33.6s\n",
      "\u001b[1A\u001b[0J\u001b[36mBuilding:\u001b[0m 33.7s\n",
      "\u001b[1A\u001b[0J\u001b[36mBuilding:\u001b[0m 33.8s\n",
      "\u001b[1A\u001b[0J\u001b[36mBuilding:\u001b[0m 33.9s\n",
      "\u001b[1A\u001b[0J\u001b[36mBuilding:\u001b[0m 34.0s\n",
      "\u001b[1A\u001b[0J\u001b[36mBuilding:\u001b[0m 34.1s\n",
      "\u001b[1A\u001b[0J\u001b[36mBuilding:\u001b[0m 34.3s\n",
      "\u001b[1A\u001b[0J\u001b[36mBuilding:\u001b[0m 34.4s\n",
      "\u001b[1A\u001b[0J\u001b[36mBuilding:\u001b[0m 34.5s\n",
      "\u001b[1A\u001b[0J\u001b[36mBuilding:\u001b[0m 34.7s\n",
      "\u001b[1A\u001b[0J\u001b[36mBuilding:\u001b[0m 34.8s\n",
      "\u001b[1A\u001b[0J\u001b[36mBuilding:\u001b[0m 34.9s\n",
      "\u001b[1A\u001b[0J\u001b[36mBuilding:\u001b[0m 35.0s\n",
      "\u001b[1A\u001b[0J\u001b[36mBuilding:\u001b[0m 35.1s\n",
      "\u001b[1A\u001b[0J\u001b[36mBuilding:\u001b[0m 35.3s\n",
      "\u001b[1A\u001b[0J\u001b[36mBuilding:\u001b[0m 35.4s\n",
      "\u001b[1A\u001b[0J\u001b[36mBuilding:\u001b[0m 35.5s\n",
      "\u001b[1A\u001b[0J\u001b[36mBuilding:\u001b[0m 35.6s\n",
      "\u001b[1A\u001b[0J\u001b[36mBuilding:\u001b[0m 35.7s\n",
      "\u001b[1A\u001b[0J\u001b[36mBuilding:\u001b[0m 35.9s\n",
      "\u001b[1A\u001b[0J\u001b[36mBuilding:\u001b[0m 36.0s\n",
      "\u001b[1A\u001b[0J\u001b[36mBuilding:\u001b[0m 36.1s\n",
      "\u001b[1A\u001b[0J\u001b[36mBuilding:\u001b[0m 36.2s\n",
      "\u001b[1A\u001b[0J\u001b[36mBuilding:\u001b[0m 36.3s\n",
      "\u001b[1A\u001b[0J\u001b[36mBuilding:\u001b[0m 36.4s\n",
      "\u001b[1A\u001b[0J\u001b[36mBuilding:\u001b[0m 36.6s\n",
      "\u001b[1A\u001b[0J\u001b[36mBuilding:\u001b[0m 36.7s\n",
      "\u001b[1A\u001b[0J\u001b[36mBuilding:\u001b[0m 36.8s\n",
      "\u001b[1A\u001b[0J\u001b[36mBuilding:\u001b[0m 36.9s\n",
      "\u001b[1A\u001b[0J\u001b[36mBuilding:\u001b[0m 37.0s\n",
      "\u001b[1A\u001b[0J\u001b[36mBuilding:\u001b[0m 37.2s\n",
      "\u001b[1A\u001b[0J\u001b[36mBuilding:\u001b[0m 37.3s\n",
      "\u001b[1A\u001b[0J\u001b[36mBuilding:\u001b[0m 37.4s\n",
      "\u001b[1A\u001b[0J\u001b[36mBuilding:\u001b[0m 37.5s\n",
      "\u001b[1A\u001b[0J\u001b[36mBuilding:\u001b[0m 37.6s\n",
      "\u001b[1A\u001b[0J\u001b[36mBuilding:\u001b[0m 37.8s\n",
      "\u001b[1A\u001b[0J\u001b[36mBuilding:\u001b[0m 37.9s\n",
      "\u001b[1A\u001b[0J\u001b[36mBuilding:\u001b[0m 38.0s\n",
      "\u001b[1A\u001b[0J\u001b[36mBuilding:\u001b[0m 38.1s\n",
      "\u001b[1A\u001b[0J\u001b[36mBuilding:\u001b[0m 38.2s\n",
      "\u001b[1A\u001b[0J\u001b[36mBuilding:\u001b[0m 38.3s\n",
      "\u001b[1A\u001b[0J\u001b[36mBuilding:\u001b[0m 38.4s\n",
      "\u001b[1A\u001b[0J\u001b[36mBuilding:\u001b[0m 38.5s\n",
      "\u001b[1A\u001b[0J\u001b[36mBuilding:\u001b[0m 38.6s\n",
      "\u001b[1A\u001b[0J\u001b[36mBuilding:\u001b[0m 38.7s\n",
      "\u001b[1A\u001b[0J\u001b[36mBuilding:\u001b[0m 38.8s\n",
      "\u001b[1A\u001b[0J\u001b[36mBuilding:\u001b[0m 38.9s\n",
      "\u001b[1A\u001b[0J\u001b[36mBuilding:\u001b[0m 39.1s\n",
      "\u001b[1A\u001b[0J\u001b[36mBuilding:\u001b[0m 39.2s\n",
      "\u001b[1A\u001b[0J\u001b[36mBuilding:\u001b[0m 39.3s\n",
      "\u001b[1A\u001b[0J\u001b[36mBuilding:\u001b[0m 39.4s\n",
      "\u001b[1A\u001b[0J\u001b[36mBuilding:\u001b[0m 39.5s\n",
      "\u001b[1A\u001b[0J\u001b[36mBuilding:\u001b[0m 39.6s\n",
      "\u001b[1A\u001b[0J\u001b[36mBuilding:\u001b[0m 39.7s\n",
      "\u001b[1A\u001b[0J\u001b[36mBuilding:\u001b[0m 39.8s\n",
      "\u001b[1A\u001b[0J\u001b[36mBuilding:\u001b[0m 39.9s\n",
      "\u001b[1A\u001b[0J\u001b[36mBuilding:\u001b[0m 40.0s\n",
      "\u001b[1A\u001b[0J\u001b[36mBuilding:\u001b[0m 40.1s\n",
      "\u001b[1A\u001b[0J\u001b[36mBuilding:\u001b[0m 40.2s\n",
      "\u001b[1A\u001b[0J\u001b[36mBuilding:\u001b[0m 40.3s\n",
      "\u001b[1A\u001b[0J\u001b[36mBuilding:\u001b[0m 40.4s\n",
      "\u001b[1A\u001b[0J\u001b[36mBuilding:\u001b[0m 40.6s\n",
      "\u001b[1A\u001b[0J\u001b[36mBuilding:\u001b[0m 40.7s\n",
      "\u001b[1A\u001b[0J\u001b[36mBuilding:\u001b[0m 40.8s\n",
      "\u001b[1A\u001b[0J\u001b[36mBuilding:\u001b[0m 40.9s\n",
      "\u001b[1A\u001b[0J\u001b[36mBuilding:\u001b[0m 41.0s\n",
      "\u001b[1A\u001b[0J\u001b[36mBuilding:\u001b[0m 41.1s\n",
      "\u001b[1A\u001b[0J\u001b[36mBuilding:\u001b[0m 41.2s\n",
      "\u001b[1A\u001b[0J\u001b[36mBuilding:\u001b[0m 41.3s\n",
      "\u001b[1A\u001b[0J\u001b[36mBuilding:\u001b[0m 41.4s\n",
      "\u001b[1A\u001b[0J\u001b[36mBuilding:\u001b[0m 41.5s\n",
      "\u001b[1A\u001b[0J\u001b[36mBuilding:\u001b[0m 41.6s\n",
      "\u001b[1A\u001b[0J\u001b[36mBuilding:\u001b[0m 41.7s\n",
      "\u001b[1A\u001b[0J\u001b[36mBuilding:\u001b[0m 41.8s\n",
      "\u001b[1A\u001b[0J\u001b[36mBuilding:\u001b[0m 41.9s\n",
      "\u001b[1A\u001b[0J\u001b[36mBuilding:\u001b[0m 42.0s\n",
      "\u001b[1A\u001b[0J\u001b[36mBuilding:\u001b[0m 42.1s\n",
      "\u001b[1A\u001b[0J\u001b[36mBuilding:\u001b[0m 42.2s\n",
      "\u001b[1A\u001b[0J\u001b[36mBuilding:\u001b[0m 42.3s\n",
      "\u001b[1A\u001b[0J\u001b[36mBuilding:\u001b[0m 42.5s\n",
      "\u001b[1A\u001b[0J\u001b[36mBuilding:\u001b[0m 42.6s\n",
      "\u001b[1A\u001b[0J\u001b[36mBuilding:\u001b[0m 42.7s\n",
      "\u001b[1A\u001b[0J\u001b[36mBuilding:\u001b[0m 42.8s\n",
      "\u001b[1A\u001b[0J\u001b[36mBuilding:\u001b[0m 42.9s\n",
      "\u001b[1A\u001b[0J\u001b[36mBuilding:\u001b[0m 43.0s\n",
      "\u001b[1A\u001b[0J\u001b[36mBuilding:\u001b[0m 43.1s\n",
      "\u001b[1A\u001b[0J\u001b[36mBuilding:\u001b[0m 43.2s\n",
      "\u001b[1A\u001b[0J\u001b[36mBuilding:\u001b[0m 43.3s\n",
      "\u001b[1A\u001b[0J\u001b[36mBuilding:\u001b[0m 43.5s\n",
      "\u001b[1A\u001b[0J\u001b[36mBuilding:\u001b[0m 43.6s\n",
      "\u001b[1A\u001b[0J\u001b[36mBuilding:\u001b[0m 43.7s\n",
      "\u001b[1A\u001b[0J\u001b[36mBuilding:\u001b[0m 43.8s\n",
      "\u001b[1A\u001b[0J\u001b[36mBuilding:\u001b[0m 43.9s\n",
      "\u001b[1A\u001b[0J\u001b[36mBuilding:\u001b[0m 44.0s\n",
      "\u001b[1A\u001b[0J\u001b[36mBuilding:\u001b[0m 44.1s\n",
      "\u001b[1A\u001b[0J\u001b[36mBuilding:\u001b[0m 44.2s\n",
      "\u001b[1A\u001b[0J\u001b[36mBuilding:\u001b[0m 44.3s\n",
      "\u001b[1A\u001b[0J\u001b[36mBuilding:\u001b[0m 44.4s\n",
      "\u001b[1A\u001b[0J\u001b[36mBuilding:\u001b[0m 44.5s\n",
      "\u001b[1A\u001b[0J\u001b[36mBuilding:\u001b[0m 44.6s\n",
      "\u001b[1A\u001b[0J\u001b[36mBuilding:\u001b[0m 44.7s\n",
      "\u001b[1A\u001b[0J\u001b[36mBuilding:\u001b[0m 44.9s\n",
      "\u001b[1A\u001b[0J\u001b[36mBuilding:\u001b[0m 45.0s\n",
      "\u001b[1A\u001b[0J\u001b[36mBuilding:\u001b[0m 45.1s\n",
      "\u001b[1A\u001b[0J\u001b[36mBuilding:\u001b[0m 45.2s\n",
      "\u001b[1A\u001b[0J\u001b[36mBuilding:\u001b[0m 45.3s\n",
      "\u001b[1A\u001b[0J\u001b[36mBuilding:\u001b[0m 45.4s\n",
      "\u001b[1A\u001b[0J\u001b[36mBuilding:\u001b[0m 45.5s\n",
      "\u001b[1A\u001b[0J\u001b[36mBuilding:\u001b[0m 45.6s\n",
      "\u001b[1A\u001b[0J\u001b[36mBuilding:\u001b[0m 45.7s\n",
      "\u001b[1A\u001b[0J\u001b[36mBuilding:\u001b[0m 45.8s\n",
      "\u001b[1A\u001b[0J\u001b[36mBuilding:\u001b[0m 45.9s\n",
      "\u001b[1A\u001b[0J\u001b[36mBuilding:\u001b[0m 46.1s\n",
      "\u001b[1A\u001b[0J\u001b[36mBuilding:\u001b[0m 46.2s\n",
      "\u001b[1A\u001b[0J\u001b[36mBuilding:\u001b[0m 46.3s\n"
     ]
    },
    {
     "name": "stderr",
     "output_type": "stream",
     "text": [
      "62 warnings generated.\n"
     ]
    },
    {
     "name": "stdout",
     "output_type": "stream",
     "text": [
      "\u001b[1A\u001b[0J\u001b[36mBuilding:\u001b[0m 46.4s\n",
      "\u001b[1A\u001b[0J\u001b[36mBuilding:\u001b[0m 46.5s\n",
      "\u001b[1A\u001b[0J\u001b[36mBuilding:\u001b[0m 46.6s\n",
      "\u001b[1A\u001b[0J"
     ]
    },
    {
     "name": "stderr",
     "output_type": "stream",
     "text": [
      "ld: warning: direct access in function 'long double boost::math::detail::bessel_j0<long double>(long double)' from file '/usr/local/lib/python3.9/site-packages/httpstan/stan_services.o' to global weak symbol 'long double boost::math::detail::bessel_j0<long double>(long double)::Q2' from file 'build/temp.macosx-11-x86_64-3.9/Users/claudiahm/Library/Caches/httpstan/4.7.2/models/cukhrh7v/model_cukhrh7v.o' means the weak symbol cannot be overridden at runtime. This was likely caused by different translation units being compiled with different visibility settings.\n",
      "ld: warning: direct access in function 'long double boost::math::detail::bessel_j0<long double>(long double)' from file '/usr/local/lib/python3.9/site-packages/httpstan/stan_services.o' to global weak symbol 'long double boost::math::detail::bessel_j0<long double>(long double)::P2' from file 'build/temp.macosx-11-x86_64-3.9/Users/claudiahm/Library/Caches/httpstan/4.7.2/models/cukhrh7v/model_cukhrh7v.o' means the weak symbol cannot be overridden at runtime. This was likely caused by different translation units being compiled with different visibility settings.\n",
      "ld: warning: direct access in function 'long double boost::math::detail::bessel_j0<long double>(long double)' from file '/usr/local/lib/python3.9/site-packages/httpstan/stan_services.o' to global weak symbol 'long double boost::math::detail::bessel_j0<long double>(long double)::Q1' from file 'build/temp.macosx-11-x86_64-3.9/Users/claudiahm/Library/Caches/httpstan/4.7.2/models/cukhrh7v/model_cukhrh7v.o' means the weak symbol cannot be overridden at runtime. This was likely caused by different translation units being compiled with different visibility settings.\n",
      "ld: warning: direct access in function 'long double boost::math::detail::bessel_j0<long double>(long double)' from file '/usr/local/lib/python3.9/site-packages/httpstan/stan_services.o' to global weak symbol 'long double boost::math::detail::bessel_j0<long double>(long double)::P1' from file 'build/temp.macosx-11-x86_64-3.9/Users/claudiahm/Library/Caches/httpstan/4.7.2/models/cukhrh7v/model_cukhrh7v.o' means the weak symbol cannot be overridden at runtime. This was likely caused by different translation units being compiled with different visibility settings.\n",
      "ld: warning: direct access in function 'long double boost::math::detail::bessel_j1<long double>(long double)' from file '/usr/local/lib/python3.9/site-packages/httpstan/stan_services.o' to global weak symbol 'long double boost::math::detail::bessel_j1<long double>(long double)::Q2' from file 'build/temp.macosx-11-x86_64-3.9/Users/claudiahm/Library/Caches/httpstan/4.7.2/models/cukhrh7v/model_cukhrh7v.o' means the weak symbol cannot be overridden at runtime. This was likely caused by different translation units being compiled with different visibility settings.\n",
      "ld: warning: direct access in function 'long double boost::math::detail::bessel_j1<long double>(long double)' from file '/usr/local/lib/python3.9/site-packages/httpstan/stan_services.o' to global weak symbol 'long double boost::math::detail::bessel_j1<long double>(long double)::P2' from file 'build/temp.macosx-11-x86_64-3.9/Users/claudiahm/Library/Caches/httpstan/4.7.2/models/cukhrh7v/model_cukhrh7v.o' means the weak symbol cannot be overridden at runtime. This was likely caused by different translation units being compiled with different visibility settings.\n",
      "ld: warning: direct access in function 'long double boost::math::detail::bessel_j1<long double>(long double)' from file '/usr/local/lib/python3.9/site-packages/httpstan/stan_services.o' to global weak symbol 'long double boost::math::detail::bessel_j1<long double>(long double)::Q1' from file 'build/temp.macosx-11-x86_64-3.9/Users/claudiahm/Library/Caches/httpstan/4.7.2/models/cukhrh7v/model_cukhrh7v.o' means the weak symbol cannot be overridden at runtime. This was likely caused by different translation units being compiled with different visibility settings.\n",
      "ld: warning: direct access in function 'long double boost::math::detail::bessel_j1<long double>(long double)' from file '/usr/local/lib/python3.9/site-packages/httpstan/stan_services.o' to global weak symbol 'long double boost::math::detail::bessel_j1<long double>(long double)::P1' from file 'build/temp.macosx-11-x86_64-3.9/Users/claudiahm/Library/Caches/httpstan/4.7.2/models/cukhrh7v/model_cukhrh7v.o' means the weak symbol cannot be overridden at runtime. This was likely caused by different translation units being compiled with different visibility settings.\n",
      "ld: warning: direct access in function 'long double boost::math::detail::bessel_j1<long double>(long double)' from file '/usr/local/lib/python3.9/site-packages/httpstan/stan_services.o' to global weak symbol 'long double boost::math::detail::bessel_j1<long double>(long double)::QS' from file 'build/temp.macosx-11-x86_64-3.9/Users/claudiahm/Library/Caches/httpstan/4.7.2/models/cukhrh7v/model_cukhrh7v.o' means the weak symbol cannot be overridden at runtime. This was likely caused by different translation units being compiled with different visibility settings.\n",
      "ld: warning: direct access in function 'long double boost::math::detail::bessel_j1<long double>(long double)' from file '/usr/local/lib/python3.9/site-packages/httpstan/stan_services.o' to global weak symbol 'long double boost::math::detail::bessel_j1<long double>(long double)::PS' from file 'build/temp.macosx-11-x86_64-3.9/Users/claudiahm/Library/Caches/httpstan/4.7.2/models/cukhrh7v/model_cukhrh7v.o' means the weak symbol cannot be overridden at runtime. This was likely caused by different translation units being compiled with different visibility settings.\n",
      "ld: warning: direct access in function 'long double boost::math::detail::bessel_j1<long double>(long double)' from file '/usr/local/lib/python3.9/site-packages/httpstan/stan_services.o' to global weak symbol 'long double boost::math::detail::bessel_j1<long double>(long double)::QC' from file 'build/temp.macosx-11-x86_64-3.9/Users/claudiahm/Library/Caches/httpstan/4.7.2/models/cukhrh7v/model_cukhrh7v.o' means the weak symbol cannot be overridden at runtime. This was likely caused by different translation units being compiled with different visibility settings.\n",
      "ld: warning: direct access in function 'long double boost::math::detail::bessel_j1<long double>(long double)' from file '/usr/local/lib/python3.9/site-packages/httpstan/stan_services.o' to global weak symbol 'long double boost::math::detail::bessel_j1<long double>(long double)::PC' from file 'build/temp.macosx-11-x86_64-3.9/Users/claudiahm/Library/Caches/httpstan/4.7.2/models/cukhrh7v/model_cukhrh7v.o' means the weak symbol cannot be overridden at runtime. This was likely caused by different translation units being compiled with different visibility settings.\n",
      "ld: warning: direct access in function 'long double boost::math::detail::igamma_temme_large<long double, boost::math::policies::policy<boost::math::policies::promote_float<false>, boost::math::policies::promote_double<false>, boost::math::policies::default_policy, boost::math::policies::default_policy, boost::math::policies::default_policy, boost::math::policies::default_policy, boost::math::policies::default_policy, boost::math::policies::default_policy, boost::math::policies::default_policy, boost::math::policies::default_policy, boost::math::policies::default_policy, boost::math::policies::default_policy, boost::math::policies::default_policy> >(long double, long double, boost::math::policies::policy<boost::math::policies::promote_float<false>, boost::math::policies::promote_double<false>, boost::math::policies::default_policy, boost::math::policies::default_policy, boost::math::policies::default_policy, boost::math::policies::default_policy, boost::math::policies::default_policy, boost::math::policies::default_policy, boost::math::policies::default_policy, boost::math::policies::default_policy, boost::math::policies::default_policy, boost::math::policies::default_policy, boost::math::policies::default_policy> const&, boost::integral_constant<int, 64> const*)' from file '/usr/local/lib/python3.9/site-packages/httpstan/stan_services.o' to global weak symbol 'boost::math::tools::promote_args<long double, float, float, float, float, float>::type boost::math::log1pmx<long double, boost::math::policies::policy<boost::math::policies::promote_float<false>, boost::math::policies::promote_double<false>, boost::math::policies::default_policy, boost::math::policies::default_policy, boost::math::policies::default_policy, boost::math::policies::default_policy, boost::math::policies::default_policy, boost::math::policies::default_policy, boost::math::policies::default_policy, boost::math::policies::default_policy, boost::math::policies::default_policy, boost::math::policies::default_policy, boost::math::policies::default_policy> >(long double, boost::math::policies::policy<boost::math::policies::promote_float<false>, boost::math::policies::promote_double<false>, boost::math::policies::default_policy, boost::math::policies::default_policy, boost::math::policies::default_policy, boost::math::policies::default_policy, boost::math::policies::default_policy, boost::math::policies::default_policy, boost::math::policies::default_policy, boost::math::policies::default_policy, boost::math::policies::default_policy, boost::math::policies::default_policy, boost::math::policies::default_policy> const&)::function' from file 'build/temp.macosx-11-x86_64-3.9/Users/claudiahm/Library/Caches/httpstan/4.7.2/models/cukhrh7v/model_cukhrh7v.o' means the weak symbol cannot be overridden at runtime. This was likely caused by different translation units being compiled with different visibility settings.\n",
      "ld: warning: direct access in function 'long double boost::math::detail::igamma_temme_large<long double, boost::math::policies::policy<boost::math::policies::promote_float<false>, boost::math::policies::promote_double<false>, boost::math::policies::default_policy, boost::math::policies::default_policy, boost::math::policies::default_policy, boost::math::policies::default_policy, boost::math::policies::default_policy, boost::math::policies::default_policy, boost::math::policies::default_policy, boost::math::policies::default_policy, boost::math::policies::default_policy, boost::math::policies::default_policy, boost::math::policies::default_policy> >(long double, long double, boost::math::policies::policy<boost::math::policies::promote_float<false>, boost::math::policies::promote_double<false>, boost::math::policies::default_policy, boost::math::policies::default_policy, boost::math::policies::default_policy, boost::math::policies::default_policy, boost::math::policies::default_policy, boost::math::policies::default_policy, boost::math::policies::default_policy, boost::math::policies::default_policy, boost::math::policies::default_policy, boost::math::policies::default_policy, boost::math::policies::default_policy> const&, boost::integral_constant<int, 64> const*)' from file '/usr/local/lib/python3.9/site-packages/httpstan/stan_services.o' to global weak symbol 'boost::math::tools::promote_args<long double, float, float, float, float, float>::type boost::math::log1pmx<long double, boost::math::policies::policy<boost::math::policies::promote_float<false>, boost::math::policies::promote_double<false>, boost::math::policies::default_policy, boost::math::policies::default_policy, boost::math::policies::default_policy, boost::math::policies::default_policy, boost::math::policies::default_policy, boost::math::policies::default_policy, boost::math::policies::default_policy, boost::math::policies::default_policy, boost::math::policies::default_policy, boost::math::policies::default_policy, boost::math::policies::default_policy> >(long double, boost::math::policies::policy<boost::math::policies::promote_float<false>, boost::math::policies::promote_double<false>, boost::math::policies::default_policy, boost::math::policies::default_policy, boost::math::policies::default_policy, boost::math::policies::default_policy, boost::math::policies::default_policy, boost::math::policies::default_policy, boost::math::policies::default_policy, boost::math::policies::default_policy, boost::math::policies::default_policy, boost::math::policies::default_policy, boost::math::policies::default_policy> const&)::function' from file 'build/temp.macosx-11-x86_64-3.9/Users/claudiahm/Library/Caches/httpstan/4.7.2/models/cukhrh7v/model_cukhrh7v.o' means the weak symbol cannot be overridden at runtime. This was likely caused by different translation units being compiled with different visibility settings.\n",
      "ld: warning: direct access in function 'long double boost::math::detail::igamma_temme_large<long double, boost::math::policies::policy<boost::math::policies::promote_float<false>, boost::math::policies::promote_double<false>, boost::math::policies::default_policy, boost::math::policies::default_policy, boost::math::policies::default_policy, boost::math::policies::default_policy, boost::math::policies::default_policy, boost::math::policies::default_policy, boost::math::policies::default_policy, boost::math::policies::default_policy, boost::math::policies::default_policy, boost::math::policies::default_policy, boost::math::policies::default_policy> >(long double, long double, boost::math::policies::policy<boost::math::policies::promote_float<false>, boost::math::policies::promote_double<false>, boost::math::policies::default_policy, boost::math::policies::default_policy, boost::math::policies::default_policy, boost::math::policies::default_policy, boost::math::policies::default_policy, boost::math::policies::default_policy, boost::math::policies::default_policy, boost::math::policies::default_policy, boost::math::policies::default_policy, boost::math::policies::default_policy, boost::math::policies::default_policy> const&, boost::integral_constant<int, 64> const*)' from file '/usr/local/lib/python3.9/site-packages/httpstan/stan_services.o' to global weak symbol 'boost::math::tools::promote_args<long double, float, float, float, float, float>::type boost::math::log1pmx<long double, boost::math::policies::policy<boost::math::policies::promote_float<false>, boost::math::policies::promote_double<false>, boost::math::policies::default_policy, boost::math::policies::default_policy, boost::math::policies::default_policy, boost::math::policies::default_policy, boost::math::policies::default_policy, boost::math::policies::default_policy, boost::math::policies::default_policy, boost::math::policies::default_policy, boost::math::policies::default_policy, boost::math::policies::default_policy, boost::math::policies::default_policy> >(long double, boost::math::policies::policy<boost::math::policies::promote_float<false>, boost::math::policies::promote_double<false>, boost::math::policies::default_policy, boost::math::policies::default_policy, boost::math::policies::default_policy, boost::math::policies::default_policy, boost::math::policies::default_policy, boost::math::policies::default_policy, boost::math::policies::default_policy, boost::math::policies::default_policy, boost::math::policies::default_policy, boost::math::policies::default_policy, boost::math::policies::default_policy> const&)::function' from file 'build/temp.macosx-11-x86_64-3.9/Users/claudiahm/Library/Caches/httpstan/4.7.2/models/cukhrh7v/model_cukhrh7v.o' means the weak symbol cannot be overridden at runtime. This was likely caused by different translation units being compiled with different visibility settings.\n",
      "ld: warning: direct access in function 'void boost::throw_exception<boost::math::evaluation_error>(boost::math::evaluation_error const&)' from file '/usr/local/lib/python3.9/site-packages/httpstan/stan_services.o' to global weak symbol 'typeinfo for boost::wrapexcept<boost::math::evaluation_error>' from file 'build/temp.macosx-11-x86_64-3.9/Users/claudiahm/Library/Caches/httpstan/4.7.2/models/cukhrh7v/model_cukhrh7v.o' means the weak symbol cannot be overridden at runtime. This was likely caused by different translation units being compiled with different visibility settings.\n",
      "ld: warning: direct access in function 'boost::wrapexcept<boost::math::evaluation_error>::rethrow() const' from file '/usr/local/lib/python3.9/site-packages/httpstan/stan_services.o' to global weak symbol 'typeinfo for boost::wrapexcept<boost::math::evaluation_error>' from file 'build/temp.macosx-11-x86_64-3.9/Users/claudiahm/Library/Caches/httpstan/4.7.2/models/cukhrh7v/model_cukhrh7v.o' means the weak symbol cannot be overridden at runtime. This was likely caused by different translation units being compiled with different visibility settings.\n",
      "ld: warning: direct access in function 'boost::math::detail::erf_inv_initializer<long double, boost::math::policies::policy<boost::math::policies::promote_float<false>, boost::math::policies::promote_double<false>, boost::math::policies::default_policy, boost::math::policies::default_policy, boost::math::policies::default_policy, boost::math::policies::default_policy, boost::math::policies::default_policy, boost::math::policies::default_policy, boost::math::policies::default_policy, boost::math::policies::default_policy, boost::math::policies::default_policy, boost::math::policies::default_policy, boost::math::policies::default_policy> >::init::do_init()' from file '/usr/local/lib/python3.9/site-packages/httpstan/stan_services.o' to global weak symbol 'boost::math::tools::promote_args<long double, float, float, float, float, float>::type boost::math::erfc_inv<long double, boost::math::policies::policy<boost::math::policies::promote_float<false>, boost::math::policies::promote_double<false>, boost::math::policies::default_policy, boost::math::policies::default_policy, boost::math::policies::default_policy, boost::math::policies::default_policy, boost::math::policies::default_policy, boost::math::policies::default_policy, boost::math::policies::default_policy, boost::math::policies::default_policy, boost::math::policies::default_policy, boost::math::policies::default_policy, boost::math::policies::default_policy> >(long double, boost::math::policies::policy<boost::math::policies::promote_float<false>, boost::math::policies::promote_double<false>, boost::math::policies::default_policy, boost::math::policies::default_policy, boost::math::policies::default_policy, boost::math::policies::default_policy, boost::math::policies::default_policy, boost::math::policies::default_policy, boost::math::policies::default_policy, boost::math::policies::default_policy, boost::math::policies::default_policy, boost::math::policies::default_policy, boost::math::policies::default_policy> const&)::function' from file 'build/temp.macosx-11-x86_64-3.9/Users/claudiahm/Library/Caches/httpstan/4.7.2/models/cukhrh7v/model_cukhrh7v.o' means the weak symbol cannot be overridden at runtime. This was likely caused by different translation units being compiled with different visibility settings.\n",
      "ld: warning: direct access in function 'boost::math::detail::erf_inv_initializer<long double, boost::math::policies::policy<boost::math::policies::promote_float<false>, boost::math::policies::promote_double<false>, boost::math::policies::default_policy, boost::math::policies::default_policy, boost::math::policies::default_policy, boost::math::policies::default_policy, boost::math::policies::default_policy, boost::math::policies::default_policy, boost::math::policies::default_policy, boost::math::policies::default_policy, boost::math::policies::default_policy, boost::math::policies::default_policy, boost::math::policies::default_policy> >::init::do_init()' from file '/usr/local/lib/python3.9/site-packages/httpstan/stan_services.o' to global weak symbol 'boost::math::tools::promote_args<long double, float, float, float, float, float>::type boost::math::erfc_inv<long double, boost::math::policies::policy<boost::math::policies::promote_float<false>, boost::math::policies::promote_double<false>, boost::math::policies::default_policy, boost::math::policies::default_policy, boost::math::policies::default_policy, boost::math::policies::default_policy, boost::math::policies::default_policy, boost::math::policies::default_policy, boost::math::policies::default_policy, boost::math::policies::default_policy, boost::math::policies::default_policy, boost::math::policies::default_policy, boost::math::policies::default_policy> >(long double, boost::math::policies::policy<boost::math::policies::promote_float<false>, boost::math::policies::promote_double<false>, boost::math::policies::default_policy, boost::math::policies::default_policy, boost::math::policies::default_policy, boost::math::policies::default_policy, boost::math::policies::default_policy, boost::math::policies::default_policy, boost::math::policies::default_policy, boost::math::policies::default_policy, boost::math::policies::default_policy, boost::math::policies::default_policy, boost::math::policies::default_policy> const&)::function' from file 'build/temp.macosx-11-x86_64-3.9/Users/claudiahm/Library/Caches/httpstan/4.7.2/models/cukhrh7v/model_cukhrh7v.o' means the weak symbol cannot be overridden at runtime. This was likely caused by different translation units being compiled with different visibility settings.\n",
      "ld: warning: direct access in function 'boost::math::detail::erf_inv_initializer<long double, boost::math::policies::policy<boost::math::policies::promote_float<false>, boost::math::policies::promote_double<false>, boost::math::policies::default_policy, boost::math::policies::default_policy, boost::math::policies::default_policy, boost::math::policies::default_policy, boost::math::policies::default_policy, boost::math::policies::default_policy, boost::math::policies::default_policy, boost::math::policies::default_policy, boost::math::policies::default_policy, boost::math::policies::default_policy, boost::math::policies::default_policy> >::init::do_init()' from file '/usr/local/lib/python3.9/site-packages/httpstan/stan_services.o' to global weak symbol 'boost::math::tools::promote_args<long double, float, float, float, float, float>::type boost::math::erfc_inv<long double, boost::math::policies::policy<boost::math::policies::promote_float<false>, boost::math::policies::promote_double<false>, boost::math::policies::default_policy, boost::math::policies::default_policy, boost::math::policies::default_policy, boost::math::policies::default_policy, boost::math::policies::default_policy, boost::math::policies::default_policy, boost::math::policies::default_policy, boost::math::policies::default_policy, boost::math::policies::default_policy, boost::math::policies::default_policy, boost::math::policies::default_policy> >(long double, boost::math::policies::policy<boost::math::policies::promote_float<false>, boost::math::policies::promote_double<false>, boost::math::policies::default_policy, boost::math::policies::default_policy, boost::math::policies::default_policy, boost::math::policies::default_policy, boost::math::policies::default_policy, boost::math::policies::default_policy, boost::math::policies::default_policy, boost::math::policies::default_policy, boost::math::policies::default_policy, boost::math::policies::default_policy, boost::math::policies::default_policy> const&)::function' from file 'build/temp.macosx-11-x86_64-3.9/Users/claudiahm/Library/Caches/httpstan/4.7.2/models/cukhrh7v/model_cukhrh7v.o' means the weak symbol cannot be overridden at runtime. This was likely caused by different translation units being compiled with different visibility settings.\n",
      "ld: warning: direct access in function 'boost::math::detail::erf_inv_initializer<long double, boost::math::policies::policy<boost::math::policies::promote_float<false>, boost::math::policies::promote_double<false>, boost::math::policies::default_policy, boost::math::policies::default_policy, boost::math::policies::default_policy, boost::math::policies::default_policy, boost::math::policies::default_policy, boost::math::policies::default_policy, boost::math::policies::default_policy, boost::math::policies::default_policy, boost::math::policies::default_policy, boost::math::policies::default_policy, boost::math::policies::default_policy> >::init::do_init()' from file '/usr/local/lib/python3.9/site-packages/httpstan/stan_services.o' to global weak symbol 'boost::math::tools::promote_args<long double, float, float, float, float, float>::type boost::math::erfc_inv<long double, boost::math::policies::policy<boost::math::policies::promote_float<false>, boost::math::policies::promote_double<false>, boost::math::policies::default_policy, boost::math::policies::default_policy, boost::math::policies::default_policy, boost::math::policies::default_policy, boost::math::policies::default_policy, boost::math::policies::default_policy, boost::math::policies::default_policy, boost::math::policies::default_policy, boost::math::policies::default_policy, boost::math::policies::default_policy, boost::math::policies::default_policy> >(long double, boost::math::policies::policy<boost::math::policies::promote_float<false>, boost::math::policies::promote_double<false>, boost::math::policies::default_policy, boost::math::policies::default_policy, boost::math::policies::default_policy, boost::math::policies::default_policy, boost::math::policies::default_policy, boost::math::policies::default_policy, boost::math::policies::default_policy, boost::math::policies::default_policy, boost::math::policies::default_policy, boost::math::policies::default_policy, boost::math::policies::default_policy> const&)::function' from file 'build/temp.macosx-11-x86_64-3.9/Users/claudiahm/Library/Caches/httpstan/4.7.2/models/cukhrh7v/model_cukhrh7v.o' means the weak symbol cannot be overridden at runtime. This was likely caused by different translation units being compiled with different visibility settings.\n",
      "ld: warning: direct access in function 'boost::math::detail::erf_inv_initializer<long double, boost::math::policies::policy<boost::math::policies::promote_float<false>, boost::math::policies::promote_double<false>, boost::math::policies::default_policy, boost::math::policies::default_policy, boost::math::policies::default_policy, boost::math::policies::default_policy, boost::math::policies::default_policy, boost::math::policies::default_policy, boost::math::policies::default_policy, boost::math::policies::default_policy, boost::math::policies::default_policy, boost::math::policies::default_policy, boost::math::policies::default_policy> >::init::do_init()' from file '/usr/local/lib/python3.9/site-packages/httpstan/stan_services.o' to global weak symbol 'boost::math::tools::promote_args<long double, float, float, float, float, float>::type boost::math::erf_inv<long double, boost::math::policies::policy<boost::math::policies::promote_float<false>, boost::math::policies::promote_double<false>, boost::math::policies::default_policy, boost::math::policies::default_policy, boost::math::policies::default_policy, boost::math::policies::default_policy, boost::math::policies::default_policy, boost::math::policies::default_policy, boost::math::policies::default_policy, boost::math::policies::default_policy, boost::math::policies::default_policy, boost::math::policies::default_policy, boost::math::policies::default_policy> >(long double, boost::math::policies::policy<boost::math::policies::promote_float<false>, boost::math::policies::promote_double<false>, boost::math::policies::default_policy, boost::math::policies::default_policy, boost::math::policies::default_policy, boost::math::policies::default_policy, boost::math::policies::default_policy, boost::math::policies::default_policy, boost::math::policies::default_policy, boost::math::policies::default_policy, boost::math::policies::default_policy, boost::math::policies::default_policy, boost::math::policies::default_policy> const&)::function' from file 'build/temp.macosx-11-x86_64-3.9/Users/claudiahm/Library/Caches/httpstan/4.7.2/models/cukhrh7v/model_cukhrh7v.o' means the weak symbol cannot be overridden at runtime. This was likely caused by different translation units being compiled with different visibility settings.\n",
      "ld: warning: direct access in function 'boost::math::detail::erf_inv_initializer<long double, boost::math::policies::policy<boost::math::policies::promote_float<false>, boost::math::policies::promote_double<false>, boost::math::policies::default_policy, boost::math::policies::default_policy, boost::math::policies::default_policy, boost::math::policies::default_policy, boost::math::policies::default_policy, boost::math::policies::default_policy, boost::math::policies::default_policy, boost::math::policies::default_policy, boost::math::policies::default_policy, boost::math::policies::default_policy, boost::math::policies::default_policy> >::init::do_init()' from file '/usr/local/lib/python3.9/site-packages/httpstan/stan_services.o' to global weak symbol 'boost::math::tools::promote_args<long double, float, float, float, float, float>::type boost::math::erf_inv<long double, boost::math::policies::policy<boost::math::policies::promote_float<false>, boost::math::policies::promote_double<false>, boost::math::policies::default_policy, boost::math::policies::default_policy, boost::math::policies::default_policy, boost::math::policies::default_policy, boost::math::policies::default_policy, boost::math::policies::default_policy, boost::math::policies::default_policy, boost::math::policies::default_policy, boost::math::policies::default_policy, boost::math::policies::default_policy, boost::math::policies::default_policy> >(long double, boost::math::policies::policy<boost::math::policies::promote_float<false>, boost::math::policies::promote_double<false>, boost::math::policies::default_policy, boost::math::policies::default_policy, boost::math::policies::default_policy, boost::math::policies::default_policy, boost::math::policies::default_policy, boost::math::policies::default_policy, boost::math::policies::default_policy, boost::math::policies::default_policy, boost::math::policies::default_policy, boost::math::policies::default_policy, boost::math::policies::default_policy> const&)::function' from file 'build/temp.macosx-11-x86_64-3.9/Users/claudiahm/Library/Caches/httpstan/4.7.2/models/cukhrh7v/model_cukhrh7v.o' means the weak symbol cannot be overridden at runtime. This was likely caused by different translation units being compiled with different visibility settings.\n",
      "ld: warning: direct access in function 'boost::math::detail::erf_inv_initializer<long double, boost::math::policies::policy<boost::math::policies::promote_float<false>, boost::math::policies::promote_double<false>, boost::math::policies::default_policy, boost::math::policies::default_policy, boost::math::policies::default_policy, boost::math::policies::default_policy, boost::math::policies::default_policy, boost::math::policies::default_policy, boost::math::policies::default_policy, boost::math::policies::default_policy, boost::math::policies::default_policy, boost::math::policies::default_policy, boost::math::policies::default_policy> >::init::do_init()' from file '/usr/local/lib/python3.9/site-packages/httpstan/stan_services.o' to global weak symbol 'boost::math::tools::promote_args<long double, float, float, float, float, float>::type boost::math::erf_inv<long double, boost::math::policies::policy<boost::math::policies::promote_float<false>, boost::math::policies::promote_double<false>, boost::math::policies::default_policy, boost::math::policies::default_policy, boost::math::policies::default_policy, boost::math::policies::default_policy, boost::math::policies::default_policy, boost::math::policies::default_policy, boost::math::policies::default_policy, boost::math::policies::default_policy, boost::math::policies::default_policy, boost::math::policies::default_policy, boost::math::policies::default_policy> >(long double, boost::math::policies::policy<boost::math::policies::promote_float<false>, boost::math::policies::promote_double<false>, boost::math::policies::default_policy, boost::math::policies::default_policy, boost::math::policies::default_policy, boost::math::policies::default_policy, boost::math::policies::default_policy, boost::math::policies::default_policy, boost::math::policies::default_policy, boost::math::policies::default_policy, boost::math::policies::default_policy, boost::math::policies::default_policy, boost::math::policies::default_policy> const&)::function' from file 'build/temp.macosx-11-x86_64-3.9/Users/claudiahm/Library/Caches/httpstan/4.7.2/models/cukhrh7v/model_cukhrh7v.o' means the weak symbol cannot be overridden at runtime. This was likely caused by different translation units being compiled with different visibility settings.\n",
      "ld: warning: direct access in function 'long double boost::math::detail::bessel_k0_imp<long double>(long double const&, boost::integral_constant<int, 64> const&)' from file '/usr/local/lib/python3.9/site-packages/httpstan/stan_services.o' to global weak symbol 'long double boost::math::detail::bessel_k0_imp<long double>(long double const&, boost::integral_constant<int, 64> const&)::Q' from file 'build/temp.macosx-11-x86_64-3.9/Users/claudiahm/Library/Caches/httpstan/4.7.2/models/cukhrh7v/model_cukhrh7v.o' means the weak symbol cannot be overridden at runtime. This was likely caused by different translation units being compiled with different visibility settings.\n",
      "ld: warning: direct access in function 'long double boost::math::detail::bessel_k0_imp<long double>(long double const&, boost::integral_constant<int, 64> const&)' from file '/usr/local/lib/python3.9/site-packages/httpstan/stan_services.o' to global weak symbol 'long double boost::math::detail::bessel_k0_imp<long double>(long double const&, boost::integral_constant<int, 64> const&)::P' from file 'build/temp.macosx-11-x86_64-3.9/Users/claudiahm/Library/Caches/httpstan/4.7.2/models/cukhrh7v/model_cukhrh7v.o' means the weak symbol cannot be overridden at runtime. This was likely caused by different translation units being compiled with different visibility settings.\n",
      "ld: warning: direct access in function 'long double boost::math::detail::bessel_k0_imp<long double>(long double const&, boost::integral_constant<int, 64> const&)' from file '/usr/local/lib/python3.9/site-packages/httpstan/stan_services.o' to global weak symbol 'long double boost::math::detail::bessel_k0_imp<long double>(long double const&, boost::integral_constant<int, 64> const&)::Q' from file 'build/temp.macosx-11-x86_64-3.9/Users/claudiahm/Library/Caches/httpstan/4.7.2/models/cukhrh7v/model_cukhrh7v.o' means the weak symbol cannot be overridden at runtime. This was likely caused by different translation units being compiled with different visibility settings.\n",
      "ld: warning: direct access in function 'long double boost::math::detail::bessel_k0_imp<long double>(long double const&, boost::integral_constant<int, 64> const&)' from file '/usr/local/lib/python3.9/site-packages/httpstan/stan_services.o' to global weak symbol 'long double boost::math::detail::bessel_k0_imp<long double>(long double const&, boost::integral_constant<int, 64> const&)::P' from file 'build/temp.macosx-11-x86_64-3.9/Users/claudiahm/Library/Caches/httpstan/4.7.2/models/cukhrh7v/model_cukhrh7v.o' means the weak symbol cannot be overridden at runtime. This was likely caused by different translation units being compiled with different visibility settings.\n",
      "ld: warning: direct access in function '___cxx_global_var_init.26' from file '/usr/local/lib/python3.9/site-packages/httpstan/stan_services.o' to global weak symbol 'guard variable for boost::math::detail::bessel_j0_initializer<long double>::initializer' from file 'build/temp.macosx-11-x86_64-3.9/Users/claudiahm/Library/Caches/httpstan/4.7.2/models/cukhrh7v/model_cukhrh7v.o' means the weak symbol cannot be overridden at runtime. This was likely caused by different translation units being compiled with different visibility settings.\n",
      "ld: warning: direct access in function '___cxx_global_var_init.26' from file '/usr/local/lib/python3.9/site-packages/httpstan/stan_services.o' to global weak symbol 'guard variable for boost::math::detail::bessel_j0_initializer<long double>::initializer' from file 'build/temp.macosx-11-x86_64-3.9/Users/claudiahm/Library/Caches/httpstan/4.7.2/models/cukhrh7v/model_cukhrh7v.o' means the weak symbol cannot be overridden at runtime. This was likely caused by different translation units being compiled with different visibility settings.\n",
      "ld: warning: direct access in function '___cxx_global_var_init.27' from file '/usr/local/lib/python3.9/site-packages/httpstan/stan_services.o' to global weak symbol 'guard variable for boost::math::detail::bessel_j1_initializer<long double>::initializer' from file 'build/temp.macosx-11-x86_64-3.9/Users/claudiahm/Library/Caches/httpstan/4.7.2/models/cukhrh7v/model_cukhrh7v.o' means the weak symbol cannot be overridden at runtime. This was likely caused by different translation units being compiled with different visibility settings.\n",
      "ld: warning: direct access in function '___cxx_global_var_init.27' from file '/usr/local/lib/python3.9/site-packages/httpstan/stan_services.o' to global weak symbol 'guard variable for boost::math::detail::bessel_j1_initializer<long double>::initializer' from file 'build/temp.macosx-11-x86_64-3.9/Users/claudiahm/Library/Caches/httpstan/4.7.2/models/cukhrh7v/model_cukhrh7v.o' means the weak symbol cannot be overridden at runtime. This was likely caused by different translation units being compiled with different visibility settings.\n",
      "ld: warning: direct access in function '___cxx_global_var_init.28' from file '/usr/local/lib/python3.9/site-packages/httpstan/stan_services.o' to global weak symbol 'guard variable for boost::math::lanczos::lanczos_initializer<boost::math::lanczos::lanczos17m64, long double>::initializer' from file 'build/temp.macosx-11-x86_64-3.9/Users/claudiahm/Library/Caches/httpstan/4.7.2/models/cukhrh7v/model_cukhrh7v.o' means the weak symbol cannot be overridden at runtime. This was likely caused by different translation units being compiled with different visibility settings.\n",
      "ld: warning: direct access in function '___cxx_global_var_init.28' from file '/usr/local/lib/python3.9/site-packages/httpstan/stan_services.o' to global weak symbol 'long double boost::math::lanczos::lanczos17m64::lanczos_sum_expG_scaled<long double>(long double const&)::denom' from file 'build/temp.macosx-11-x86_64-3.9/Users/claudiahm/Library/Caches/httpstan/4.7.2/models/cukhrh7v/model_cukhrh7v.o' means the weak symbol cannot be overridden at runtime. This was likely caused by different translation units being compiled with different visibility settings.\n",
      "ld: warning: direct access in function '___cxx_global_var_init.28' from file '/usr/local/lib/python3.9/site-packages/httpstan/stan_services.o' to global weak symbol 'long double boost::math::lanczos::lanczos17m64::lanczos_sum_expG_scaled<long double>(long double const&)::num' from file 'build/temp.macosx-11-x86_64-3.9/Users/claudiahm/Library/Caches/httpstan/4.7.2/models/cukhrh7v/model_cukhrh7v.o' means the weak symbol cannot be overridden at runtime. This was likely caused by different translation units being compiled with different visibility settings.\n",
      "ld: warning: direct access in function '___cxx_global_var_init.28' from file '/usr/local/lib/python3.9/site-packages/httpstan/stan_services.o' to global weak symbol 'long double boost::math::lanczos::lanczos17m64::lanczos_sum<long double>(long double const&)::denom' from file 'build/temp.macosx-11-x86_64-3.9/Users/claudiahm/Library/Caches/httpstan/4.7.2/models/cukhrh7v/model_cukhrh7v.o' means the weak symbol cannot be overridden at runtime. This was likely caused by different translation units being compiled with different visibility settings.\n",
      "ld: warning: direct access in function '___cxx_global_var_init.28' from file '/usr/local/lib/python3.9/site-packages/httpstan/stan_services.o' to global weak symbol 'long double boost::math::lanczos::lanczos17m64::lanczos_sum<long double>(long double const&)::num' from file 'build/temp.macosx-11-x86_64-3.9/Users/claudiahm/Library/Caches/httpstan/4.7.2/models/cukhrh7v/model_cukhrh7v.o' means the weak symbol cannot be overridden at runtime. This was likely caused by different translation units being compiled with different visibility settings.\n",
      "ld: warning: direct access in function '___cxx_global_var_init.28' from file '/usr/local/lib/python3.9/site-packages/httpstan/stan_services.o' to global weak symbol 'guard variable for boost::math::lanczos::lanczos_initializer<boost::math::lanczos::lanczos17m64, long double>::initializer' from file 'build/temp.macosx-11-x86_64-3.9/Users/claudiahm/Library/Caches/httpstan/4.7.2/models/cukhrh7v/model_cukhrh7v.o' means the weak symbol cannot be overridden at runtime. This was likely caused by different translation units being compiled with different visibility settings.\n",
      "ld: warning: direct access in function '___cxx_global_var_init.29' from file '/usr/local/lib/python3.9/site-packages/httpstan/stan_services.o' to global weak symbol 'guard variable for boost::math::detail::lgamma_initializer<long double, boost::math::policies::policy<boost::math::policies::promote_float<false>, boost::math::policies::promote_double<false>, boost::math::policies::default_policy, boost::math::policies::default_policy, boost::math::policies::default_policy, boost::math::policies::default_policy, boost::math::policies::default_policy, boost::math::policies::default_policy, boost::math::policies::default_policy, boost::math::policies::default_policy, boost::math::policies::default_policy, boost::math::policies::default_policy, boost::math::policies::default_policy> >::initializer' from file 'build/temp.macosx-11-x86_64-3.9/Users/claudiahm/Library/Caches/httpstan/4.7.2/models/cukhrh7v/model_cukhrh7v.o' means the weak symbol cannot be overridden at runtime. This was likely caused by different translation units being compiled with different visibility settings.\n",
      "ld: warning: direct access in function '___cxx_global_var_init.29' from file '/usr/local/lib/python3.9/site-packages/httpstan/stan_services.o' to global weak symbol 'guard variable for boost::math::detail::lgamma_initializer<long double, boost::math::policies::policy<boost::math::policies::promote_float<false>, boost::math::policies::promote_double<false>, boost::math::policies::default_policy, boost::math::policies::default_policy, boost::math::policies::default_policy, boost::math::policies::default_policy, boost::math::policies::default_policy, boost::math::policies::default_policy, boost::math::policies::default_policy, boost::math::policies::default_policy, boost::math::policies::default_policy, boost::math::policies::default_policy, boost::math::policies::default_policy> >::initializer' from file 'build/temp.macosx-11-x86_64-3.9/Users/claudiahm/Library/Caches/httpstan/4.7.2/models/cukhrh7v/model_cukhrh7v.o' means the weak symbol cannot be overridden at runtime. This was likely caused by different translation units being compiled with different visibility settings.\n",
      "ld: warning: direct access in function '___cxx_global_var_init.30' from file '/usr/local/lib/python3.9/site-packages/httpstan/stan_services.o' to global weak symbol 'guard variable for boost::math::detail::bessel_y0_initializer<long double, boost::math::policies::policy<boost::math::policies::promote_float<false>, boost::math::policies::promote_double<false>, boost::math::policies::default_policy, boost::math::policies::default_policy, boost::math::policies::default_policy, boost::math::policies::default_policy, boost::math::policies::default_policy, boost::math::policies::default_policy, boost::math::policies::default_policy, boost::math::policies::default_policy, boost::math::policies::default_policy, boost::math::policies::default_policy, boost::math::policies::default_policy> >::initializer' from file 'build/temp.macosx-11-x86_64-3.9/Users/claudiahm/Library/Caches/httpstan/4.7.2/models/cukhrh7v/model_cukhrh7v.o' means the weak symbol cannot be overridden at runtime. This was likely caused by different translation units being compiled with different visibility settings.\n",
      "ld: warning: direct access in function '___cxx_global_var_init.30' from file '/usr/local/lib/python3.9/site-packages/httpstan/stan_services.o' to global weak symbol 'guard variable for boost::math::detail::bessel_y0_initializer<long double, boost::math::policies::policy<boost::math::policies::promote_float<false>, boost::math::policies::promote_double<false>, boost::math::policies::default_policy, boost::math::policies::default_policy, boost::math::policies::default_policy, boost::math::policies::default_policy, boost::math::policies::default_policy, boost::math::policies::default_policy, boost::math::policies::default_policy, boost::math::policies::default_policy, boost::math::policies::default_policy, boost::math::policies::default_policy, boost::math::policies::default_policy> >::initializer' from file 'build/temp.macosx-11-x86_64-3.9/Users/claudiahm/Library/Caches/httpstan/4.7.2/models/cukhrh7v/model_cukhrh7v.o' means the weak symbol cannot be overridden at runtime. This was likely caused by different translation units being compiled with different visibility settings.\n",
      "ld: warning: direct access in function '___cxx_global_var_init.31' from file '/usr/local/lib/python3.9/site-packages/httpstan/stan_services.o' to global weak symbol 'guard variable for boost::math::detail::bessel_y1_initializer<long double, boost::math::policies::policy<boost::math::policies::promote_float<false>, boost::math::policies::promote_double<false>, boost::math::policies::default_policy, boost::math::policies::default_policy, boost::math::policies::default_policy, boost::math::policies::default_policy, boost::math::policies::default_policy, boost::math::policies::default_policy, boost::math::policies::default_policy, boost::math::policies::default_policy, boost::math::policies::default_policy, boost::math::policies::default_policy, boost::math::policies::default_policy> >::initializer' from file 'build/temp.macosx-11-x86_64-3.9/Users/claudiahm/Library/Caches/httpstan/4.7.2/models/cukhrh7v/model_cukhrh7v.o' means the weak symbol cannot be overridden at runtime. This was likely caused by different translation units being compiled with different visibility settings.\n",
      "ld: warning: direct access in function '___cxx_global_var_init.31' from file '/usr/local/lib/python3.9/site-packages/httpstan/stan_services.o' to global weak symbol 'long double boost::math::detail::bessel_y1<long double, boost::math::policies::policy<boost::math::policies::promote_float<false>, boost::math::policies::promote_double<false>, boost::math::policies::default_policy, boost::math::policies::default_policy, boost::math::policies::default_policy, boost::math::policies::default_policy, boost::math::policies::default_policy, boost::math::policies::default_policy, boost::math::policies::default_policy, boost::math::policies::default_policy, boost::math::policies::default_policy, boost::math::policies::default_policy, boost::math::policies::default_policy> >(long double, boost::math::policies::policy<boost::math::policies::promote_float<false>, boost::math::policies::promote_double<false>, boost::math::policies::default_policy, boost::math::policies::default_policy, boost::math::policies::default_policy, boost::math::policies::default_policy, boost::math::policies::default_policy, boost::math::policies::default_policy, boost::math::policies::default_policy, boost::math::policies::default_policy, boost::math::policies::default_policy, boost::math::policies::default_policy, boost::math::policies::default_policy> const&)::Q1' from file 'build/temp.macosx-11-x86_64-3.9/Users/claudiahm/Library/Caches/httpstan/4.7.2/models/cukhrh7v/model_cukhrh7v.o' means the weak symbol cannot be overridden at runtime. This was likely caused by different translation units being compiled with different visibility settings.\n",
      "ld: warning: direct access in function '___cxx_global_var_init.31' from file '/usr/local/lib/python3.9/site-packages/httpstan/stan_services.o' to global weak symbol 'long double boost::math::detail::bessel_y1<long double, boost::math::policies::policy<boost::math::policies::promote_float<false>, boost::math::policies::promote_double<false>, boost::math::policies::default_policy, boost::math::policies::default_policy, boost::math::policies::default_policy, boost::math::policies::default_policy, boost::math::policies::default_policy, boost::math::policies::default_policy, boost::math::policies::default_policy, boost::math::policies::default_policy, boost::math::policies::default_policy, boost::math::policies::default_policy, boost::math::policies::default_policy> >(long double, boost::math::policies::policy<boost::math::policies::promote_float<false>, boost::math::policies::promote_double<false>, boost::math::policies::default_policy, boost::math::policies::default_policy, boost::math::policies::default_policy, boost::math::policies::default_policy, boost::math::policies::default_policy, boost::math::policies::default_policy, boost::math::policies::default_policy, boost::math::policies::default_policy, boost::math::policies::default_policy, boost::math::policies::default_policy, boost::math::policies::default_policy> const&)::P1' from file 'build/temp.macosx-11-x86_64-3.9/Users/claudiahm/Library/Caches/httpstan/4.7.2/models/cukhrh7v/model_cukhrh7v.o' means the weak symbol cannot be overridden at runtime. This was likely caused by different translation units being compiled with different visibility settings.\n",
      "ld: warning: direct access in function '___cxx_global_var_init.31' from file '/usr/local/lib/python3.9/site-packages/httpstan/stan_services.o' to global weak symbol 'guard variable for boost::math::detail::bessel_y1_initializer<long double, boost::math::policies::policy<boost::math::policies::promote_float<false>, boost::math::policies::promote_double<false>, boost::math::policies::default_policy, boost::math::policies::default_policy, boost::math::policies::default_policy, boost::math::policies::default_policy, boost::math::policies::default_policy, boost::math::policies::default_policy, boost::math::policies::default_policy, boost::math::policies::default_policy, boost::math::policies::default_policy, boost::math::policies::default_policy, boost::math::policies::default_policy> >::initializer' from file 'build/temp.macosx-11-x86_64-3.9/Users/claudiahm/Library/Caches/httpstan/4.7.2/models/cukhrh7v/model_cukhrh7v.o' means the weak symbol cannot be overridden at runtime. This was likely caused by different translation units being compiled with different visibility settings.\n",
      "ld: warning: direct access in function '___cxx_global_var_init.32' from file '/usr/local/lib/python3.9/site-packages/httpstan/stan_services.o' to global weak symbol 'guard variable for boost::math::detail::digamma_initializer<double, boost::math::policies::policy<boost::math::policies::pole_error<(boost::math::policies::error_policy_type)1>, boost::math::policies::overflow_error<(boost::math::policies::error_policy_type)1>, boost::math::policies::promote_float<false>, boost::math::policies::promote_double<false>, boost::math::policies::default_policy, boost::math::policies::default_policy, boost::math::policies::default_policy, boost::math::policies::default_policy, boost::math::policies::default_policy, boost::math::policies::default_policy, boost::math::policies::default_policy, boost::math::policies::default_policy, boost::math::policies::default_policy> >::initializer' from file 'build/temp.macosx-11-x86_64-3.9/Users/claudiahm/Library/Caches/httpstan/4.7.2/models/cukhrh7v/model_cukhrh7v.o' means the weak symbol cannot be overridden at runtime. This was likely caused by different translation units being compiled with different visibility settings.\n",
      "ld: warning: direct access in function '___cxx_global_var_init.32' from file '/usr/local/lib/python3.9/site-packages/httpstan/stan_services.o' to global weak symbol 'guard variable for boost::math::detail::digamma_initializer<double, boost::math::policies::policy<boost::math::policies::pole_error<(boost::math::policies::error_policy_type)1>, boost::math::policies::overflow_error<(boost::math::policies::error_policy_type)1>, boost::math::policies::promote_float<false>, boost::math::policies::promote_double<false>, boost::math::policies::default_policy, boost::math::policies::default_policy, boost::math::policies::default_policy, boost::math::policies::default_policy, boost::math::policies::default_policy, boost::math::policies::default_policy, boost::math::policies::default_policy, boost::math::policies::default_policy, boost::math::policies::default_policy> >::initializer' from file 'build/temp.macosx-11-x86_64-3.9/Users/claudiahm/Library/Caches/httpstan/4.7.2/models/cukhrh7v/model_cukhrh7v.o' means the weak symbol cannot be overridden at runtime. This was likely caused by different translation units being compiled with different visibility settings.\n",
      "ld: warning: direct access in function '___cxx_global_var_init.33' from file '/usr/local/lib/python3.9/site-packages/httpstan/stan_services.o' to global weak symbol 'guard variable for boost::math::detail::igamma_initializer<double, boost::math::policies::policy<boost::math::policies::pole_error<(boost::math::policies::error_policy_type)1>, boost::math::policies::overflow_error<(boost::math::policies::error_policy_type)1>, boost::math::policies::promote_float<false>, boost::math::policies::promote_double<false>, boost::math::policies::default_policy, boost::math::policies::default_policy, boost::math::policies::default_policy, boost::math::policies::default_policy, boost::math::policies::default_policy, boost::math::policies::default_policy, boost::math::policies::default_policy, boost::math::policies::default_policy, boost::math::policies::default_policy> >::initializer' from file 'build/temp.macosx-11-x86_64-3.9/Users/claudiahm/Library/Caches/httpstan/4.7.2/models/cukhrh7v/model_cukhrh7v.o' means the weak symbol cannot be overridden at runtime. This was likely caused by different translation units being compiled with different visibility settings.\n",
      "ld: warning: direct access in function '___cxx_global_var_init.33' from file '/usr/local/lib/python3.9/site-packages/httpstan/stan_services.o' to global weak symbol 'guard variable for boost::math::detail::igamma_initializer<double, boost::math::policies::policy<boost::math::policies::pole_error<(boost::math::policies::error_policy_type)1>, boost::math::policies::overflow_error<(boost::math::policies::error_policy_type)1>, boost::math::policies::promote_float<false>, boost::math::policies::promote_double<false>, boost::math::policies::default_policy, boost::math::policies::default_policy, boost::math::policies::default_policy, boost::math::policies::default_policy, boost::math::policies::default_policy, boost::math::policies::default_policy, boost::math::policies::default_policy, boost::math::policies::default_policy, boost::math::policies::default_policy> >::initializer' from file 'build/temp.macosx-11-x86_64-3.9/Users/claudiahm/Library/Caches/httpstan/4.7.2/models/cukhrh7v/model_cukhrh7v.o' means the weak symbol cannot be overridden at runtime. This was likely caused by different translation units being compiled with different visibility settings.\n",
      "ld: warning: direct access in function '___cxx_global_var_init.34' from file '/usr/local/lib/python3.9/site-packages/httpstan/stan_services.o' to global weak symbol 'guard variable for boost::math::detail::lgamma_initializer<double, boost::math::policies::policy<boost::math::policies::pole_error<(boost::math::policies::error_policy_type)1>, boost::math::policies::overflow_error<(boost::math::policies::error_policy_type)1>, boost::math::policies::promote_float<false>, boost::math::policies::promote_double<false>, boost::math::policies::default_policy, boost::math::policies::default_policy, boost::math::policies::default_policy, boost::math::policies::default_policy, boost::math::policies::default_policy, boost::math::policies::default_policy, boost::math::policies::default_policy, boost::math::policies::default_policy, boost::math::policies::default_policy> >::initializer' from file 'build/temp.macosx-11-x86_64-3.9/Users/claudiahm/Library/Caches/httpstan/4.7.2/models/cukhrh7v/model_cukhrh7v.o' means the weak symbol cannot be overridden at runtime. This was likely caused by different translation units being compiled with different visibility settings.\n",
      "ld: warning: direct access in function '___cxx_global_var_init.34' from file '/usr/local/lib/python3.9/site-packages/httpstan/stan_services.o' to global weak symbol 'guard variable for boost::math::detail::lgamma_initializer<double, boost::math::policies::policy<boost::math::policies::pole_error<(boost::math::policies::error_policy_type)1>, boost::math::policies::overflow_error<(boost::math::policies::error_policy_type)1>, boost::math::policies::promote_float<false>, boost::math::policies::promote_double<false>, boost::math::policies::default_policy, boost::math::policies::default_policy, boost::math::policies::default_policy, boost::math::policies::default_policy, boost::math::policies::default_policy, boost::math::policies::default_policy, boost::math::policies::default_policy, boost::math::policies::default_policy, boost::math::policies::default_policy> >::initializer' from file 'build/temp.macosx-11-x86_64-3.9/Users/claudiahm/Library/Caches/httpstan/4.7.2/models/cukhrh7v/model_cukhrh7v.o' means the weak symbol cannot be overridden at runtime. This was likely caused by different translation units being compiled with different visibility settings.\n",
      "ld: warning: direct access in function '___cxx_global_var_init.35' from file '/usr/local/lib/python3.9/site-packages/httpstan/stan_services.o' to global weak symbol 'guard variable for boost::math::detail::erf_initializer<double, boost::math::policies::policy<boost::math::policies::pole_error<(boost::math::policies::error_policy_type)1>, boost::math::policies::overflow_error<(boost::math::policies::error_policy_type)1>, boost::math::policies::promote_float<false>, boost::math::policies::promote_double<false>, boost::math::policies::default_policy, boost::math::policies::default_policy, boost::math::policies::default_policy, boost::math::policies::default_policy, boost::math::policies::default_policy, boost::math::policies::default_policy, boost::math::policies::default_policy, boost::math::policies::default_policy, boost::math::policies::default_policy>, boost::integral_constant<int, 53> >::initializer' from file 'build/temp.macosx-11-x86_64-3.9/Users/claudiahm/Library/Caches/httpstan/4.7.2/models/cukhrh7v/model_cukhrh7v.o' means the weak symbol cannot be overridden at runtime. This was likely caused by different translation units being compiled with different visibility settings.\n",
      "ld: warning: direct access in function '___cxx_global_var_init.35' from file '/usr/local/lib/python3.9/site-packages/httpstan/stan_services.o' to global weak symbol 'guard variable for boost::math::detail::erf_initializer<double, boost::math::policies::policy<boost::math::policies::pole_error<(boost::math::policies::error_policy_type)1>, boost::math::policies::overflow_error<(boost::math::policies::error_policy_type)1>, boost::math::policies::promote_float<false>, boost::math::policies::promote_double<false>, boost::math::policies::default_policy, boost::math::policies::default_policy, boost::math::policies::default_policy, boost::math::policies::default_policy, boost::math::policies::default_policy, boost::math::policies::default_policy, boost::math::policies::default_policy, boost::math::policies::default_policy, boost::math::policies::default_policy>, boost::integral_constant<int, 53> >::initializer' from file 'build/temp.macosx-11-x86_64-3.9/Users/claudiahm/Library/Caches/httpstan/4.7.2/models/cukhrh7v/model_cukhrh7v.o' means the weak symbol cannot be overridden at runtime. This was likely caused by different translation units being compiled with different visibility settings.\n",
      "ld: warning: direct access in function '___cxx_global_var_init.36' from file '/usr/local/lib/python3.9/site-packages/httpstan/stan_services.o' to global weak symbol 'guard variable for boost::math::detail::expm1_initializer<double, boost::math::policies::policy<boost::math::policies::pole_error<(boost::math::policies::error_policy_type)1>, boost::math::policies::overflow_error<(boost::math::policies::error_policy_type)1>, boost::math::policies::promote_float<false>, boost::math::policies::promote_double<false>, boost::math::policies::default_policy, boost::math::policies::default_policy, boost::math::policies::default_policy, boost::math::policies::default_policy, boost::math::policies::default_policy, boost::math::policies::default_policy, boost::math::policies::default_policy, boost::math::policies::default_policy, boost::math::policies::default_policy>, boost::integral_constant<int, 53> >::initializer' from file 'build/temp.macosx-11-x86_64-3.9/Users/claudiahm/Library/Caches/httpstan/4.7.2/models/cukhrh7v/model_cukhrh7v.o' means the weak symbol cannot be overridden at runtime. This was likely caused by different translation units being compiled with different visibility settings.\n",
      "ld: warning: direct access in function '___cxx_global_var_init.36' from file '/usr/local/lib/python3.9/site-packages/httpstan/stan_services.o' to global weak symbol 'guard variable for boost::math::detail::expm1_initializer<double, boost::math::policies::policy<boost::math::policies::pole_error<(boost::math::policies::error_policy_type)1>, boost::math::policies::overflow_error<(boost::math::policies::error_policy_type)1>, boost::math::policies::promote_float<false>, boost::math::policies::promote_double<false>, boost::math::policies::default_policy, boost::math::policies::default_policy, boost::math::policies::default_policy, boost::math::policies::default_policy, boost::math::policies::default_policy, boost::math::policies::default_policy, boost::math::policies::default_policy, boost::math::policies::default_policy, boost::math::policies::default_policy>, boost::integral_constant<int, 53> >::initializer' from file 'build/temp.macosx-11-x86_64-3.9/Users/claudiahm/Library/Caches/httpstan/4.7.2/models/cukhrh7v/model_cukhrh7v.o' means the weak symbol cannot be overridden at runtime. This was likely caused by different translation units being compiled with different visibility settings.\n",
      "ld: warning: direct access in function '___cxx_global_var_init.37' from file '/usr/local/lib/python3.9/site-packages/httpstan/stan_services.o' to global weak symbol 'guard variable for boost::math::detail::igamma_initializer<long double, boost::math::policies::policy<boost::math::policies::promote_float<false>, boost::math::policies::promote_double<false>, boost::math::policies::default_policy, boost::math::policies::default_policy, boost::math::policies::default_policy, boost::math::policies::default_policy, boost::math::policies::default_policy, boost::math::policies::default_policy, boost::math::policies::default_policy, boost::math::policies::default_policy, boost::math::policies::default_policy, boost::math::policies::default_policy, boost::math::policies::default_policy> >::initializer' from file 'build/temp.macosx-11-x86_64-3.9/Users/claudiahm/Library/Caches/httpstan/4.7.2/models/cukhrh7v/model_cukhrh7v.o' means the weak symbol cannot be overridden at runtime. This was likely caused by different translation units being compiled with different visibility settings.\n",
      "ld: warning: direct access in function '___cxx_global_var_init.37' from file '/usr/local/lib/python3.9/site-packages/httpstan/stan_services.o' to global weak symbol 'guard variable for boost::math::detail::igamma_initializer<long double, boost::math::policies::policy<boost::math::policies::promote_float<false>, boost::math::policies::promote_double<false>, boost::math::policies::default_policy, boost::math::policies::default_policy, boost::math::policies::default_policy, boost::math::policies::default_policy, boost::math::policies::default_policy, boost::math::policies::default_policy, boost::math::policies::default_policy, boost::math::policies::default_policy, boost::math::policies::default_policy, boost::math::policies::default_policy, boost::math::policies::default_policy> >::initializer' from file 'build/temp.macosx-11-x86_64-3.9/Users/claudiahm/Library/Caches/httpstan/4.7.2/models/cukhrh7v/model_cukhrh7v.o' means the weak symbol cannot be overridden at runtime. This was likely caused by different translation units being compiled with different visibility settings.\n",
      "ld: warning: direct access in function '___cxx_global_var_init.38' from file '/usr/local/lib/python3.9/site-packages/httpstan/stan_services.o' to global weak symbol 'guard variable for boost::math::detail::erf_initializer<long double, boost::math::policies::policy<boost::math::policies::promote_float<false>, boost::math::policies::promote_double<false>, boost::math::policies::default_policy, boost::math::policies::default_policy, boost::math::policies::default_policy, boost::math::policies::default_policy, boost::math::policies::default_policy, boost::math::policies::default_policy, boost::math::policies::default_policy, boost::math::policies::default_policy, boost::math::policies::default_policy, boost::math::policies::default_policy, boost::math::policies::default_policy>, boost::integral_constant<int, 64> >::initializer' from file 'build/temp.macosx-11-x86_64-3.9/Users/claudiahm/Library/Caches/httpstan/4.7.2/models/cukhrh7v/model_cukhrh7v.o' means the weak symbol cannot be overridden at runtime. This was likely caused by different translation units being compiled with different visibility settings.\n",
      "ld: warning: direct access in function '___cxx_global_var_init.38' from file '/usr/local/lib/python3.9/site-packages/httpstan/stan_services.o' to global weak symbol 'guard variable for boost::math::detail::erf_initializer<long double, boost::math::policies::policy<boost::math::policies::promote_float<false>, boost::math::policies::promote_double<false>, boost::math::policies::default_policy, boost::math::policies::default_policy, boost::math::policies::default_policy, boost::math::policies::default_policy, boost::math::policies::default_policy, boost::math::policies::default_policy, boost::math::policies::default_policy, boost::math::policies::default_policy, boost::math::policies::default_policy, boost::math::policies::default_policy, boost::math::policies::default_policy>, boost::integral_constant<int, 64> >::initializer' from file 'build/temp.macosx-11-x86_64-3.9/Users/claudiahm/Library/Caches/httpstan/4.7.2/models/cukhrh7v/model_cukhrh7v.o' means the weak symbol cannot be overridden at runtime. This was likely caused by different translation units being compiled with different visibility settings.\n",
      "ld: warning: direct access in function '___cxx_global_var_init.39' from file '/usr/local/lib/python3.9/site-packages/httpstan/stan_services.o' to global weak symbol 'guard variable for boost::math::detail::expm1_initializer<long double, boost::math::policies::policy<boost::math::policies::promote_float<false>, boost::math::policies::promote_double<false>, boost::math::policies::default_policy, boost::math::policies::default_policy, boost::math::policies::default_policy, boost::math::policies::default_policy, boost::math::policies::default_policy, boost::math::policies::default_policy, boost::math::policies::default_policy, boost::math::policies::default_policy, boost::math::policies::default_policy, boost::math::policies::default_policy, boost::math::policies::default_policy>, boost::integral_constant<int, 64> >::initializer' from file 'build/temp.macosx-11-x86_64-3.9/Users/claudiahm/Library/Caches/httpstan/4.7.2/models/cukhrh7v/model_cukhrh7v.o' means the weak symbol cannot be overridden at runtime. This was likely caused by different translation units being compiled with different visibility settings.\n",
      "ld: warning: direct access in function '___cxx_global_var_init.39' from file '/usr/local/lib/python3.9/site-packages/httpstan/stan_services.o' to global weak symbol 'guard variable for boost::math::detail::expm1_initializer<long double, boost::math::policies::policy<boost::math::policies::promote_float<false>, boost::math::policies::promote_double<false>, boost::math::policies::default_policy, boost::math::policies::default_policy, boost::math::policies::default_policy, boost::math::policies::default_policy, boost::math::policies::default_policy, boost::math::policies::default_policy, boost::math::policies::default_policy, boost::math::policies::default_policy, boost::math::policies::default_policy, boost::math::policies::default_policy, boost::math::policies::default_policy>, boost::integral_constant<int, 64> >::initializer' from file 'build/temp.macosx-11-x86_64-3.9/Users/claudiahm/Library/Caches/httpstan/4.7.2/models/cukhrh7v/model_cukhrh7v.o' means the weak symbol cannot be overridden at runtime. This was likely caused by different translation units being compiled with different visibility settings.\n",
      "ld: warning: direct access in function '___cxx_global_var_init.40' from file '/usr/local/lib/python3.9/site-packages/httpstan/stan_services.o' to global weak symbol 'guard variable for boost::math::detail::bessel_i0_initializer<long double, boost::integral_constant<int, 64> >::initializer' from file 'build/temp.macosx-11-x86_64-3.9/Users/claudiahm/Library/Caches/httpstan/4.7.2/models/cukhrh7v/model_cukhrh7v.o' means the weak symbol cannot be overridden at runtime. This was likely caused by different translation units being compiled with different visibility settings.\n",
      "ld: warning: direct access in function '___cxx_global_var_init.40' from file '/usr/local/lib/python3.9/site-packages/httpstan/stan_services.o' to global weak symbol 'guard variable for boost::math::detail::bessel_i0_initializer<long double, boost::integral_constant<int, 64> >::initializer' from file 'build/temp.macosx-11-x86_64-3.9/Users/claudiahm/Library/Caches/httpstan/4.7.2/models/cukhrh7v/model_cukhrh7v.o' means the weak symbol cannot be overridden at runtime. This was likely caused by different translation units being compiled with different visibility settings.\n",
      "ld: warning: direct access in function '___cxx_global_var_init.41' from file '/usr/local/lib/python3.9/site-packages/httpstan/stan_services.o' to global weak symbol 'guard variable for boost::math::detail::bessel_i1_initializer<long double, boost::integral_constant<int, 64> >::initializer' from file 'build/temp.macosx-11-x86_64-3.9/Users/claudiahm/Library/Caches/httpstan/4.7.2/models/cukhrh7v/model_cukhrh7v.o' means the weak symbol cannot be overridden at runtime. This was likely caused by different translation units being compiled with different visibility settings.\n",
      "ld: warning: direct access in function '___cxx_global_var_init.41' from file '/usr/local/lib/python3.9/site-packages/httpstan/stan_services.o' to global weak symbol 'guard variable for boost::math::detail::bessel_i1_initializer<long double, boost::integral_constant<int, 64> >::initializer' from file 'build/temp.macosx-11-x86_64-3.9/Users/claudiahm/Library/Caches/httpstan/4.7.2/models/cukhrh7v/model_cukhrh7v.o' means the weak symbol cannot be overridden at runtime. This was likely caused by different translation units being compiled with different visibility settings.\n",
      "ld: warning: direct access in function '___cxx_global_var_init.42' from file '/usr/local/lib/python3.9/site-packages/httpstan/stan_services.o' to global weak symbol 'guard variable for boost::math::detail::owens_t_initializer<double, boost::math::policies::policy<boost::math::policies::default_policy, boost::math::policies::default_policy, boost::math::policies::default_policy, boost::math::policies::default_policy, boost::math::policies::default_policy, boost::math::policies::default_policy, boost::math::policies::default_policy, boost::math::policies::default_policy, boost::math::policies::default_policy, boost::math::policies::default_policy, boost::math::policies::default_policy, boost::math::policies::default_policy, boost::math::policies::default_policy>, boost::integral_constant<int, 64> >::initializer' from file 'build/temp.macosx-11-x86_64-3.9/Users/claudiahm/Library/Caches/httpstan/4.7.2/models/cukhrh7v/model_cukhrh7v.o' means the weak symbol cannot be overridden at runtime. This was likely caused by different translation units being compiled with different visibility settings.\n",
      "ld: warning: direct access in function '___cxx_global_var_init.42' from file '/usr/local/lib/python3.9/site-packages/httpstan/stan_services.o' to global weak symbol 'guard variable for boost::math::detail::owens_t_initializer<double, boost::math::policies::policy<boost::math::policies::default_policy, boost::math::policies::default_policy, boost::math::policies::default_policy, boost::math::policies::default_policy, boost::math::policies::default_policy, boost::math::policies::default_policy, boost::math::policies::default_policy, boost::math::policies::default_policy, boost::math::policies::default_policy, boost::math::policies::default_policy, boost::math::policies::default_policy, boost::math::policies::default_policy, boost::math::policies::default_policy>, boost::integral_constant<int, 64> >::initializer' from file 'build/temp.macosx-11-x86_64-3.9/Users/claudiahm/Library/Caches/httpstan/4.7.2/models/cukhrh7v/model_cukhrh7v.o' means the weak symbol cannot be overridden at runtime. This was likely caused by different translation units being compiled with different visibility settings.\n",
      "ld: warning: direct access in function '___cxx_global_var_init.43' from file '/usr/local/lib/python3.9/site-packages/httpstan/stan_services.o' to global weak symbol 'guard variable for boost::math::detail::erf_inv_initializer<long double, boost::math::policies::policy<boost::math::policies::promote_float<false>, boost::math::policies::promote_double<false>, boost::math::policies::default_policy, boost::math::policies::default_policy, boost::math::policies::default_policy, boost::math::policies::default_policy, boost::math::policies::default_policy, boost::math::policies::default_policy, boost::math::policies::default_policy, boost::math::policies::default_policy, boost::math::policies::default_policy, boost::math::policies::default_policy, boost::math::policies::default_policy> >::initializer' from file 'build/temp.macosx-11-x86_64-3.9/Users/claudiahm/Library/Caches/httpstan/4.7.2/models/cukhrh7v/model_cukhrh7v.o' means the weak symbol cannot be overridden at runtime. This was likely caused by different translation units being compiled with different visibility settings.\n",
      "ld: warning: direct access in function '___cxx_global_var_init.43' from file '/usr/local/lib/python3.9/site-packages/httpstan/stan_services.o' to global weak symbol 'guard variable for boost::math::detail::erf_inv_initializer<long double, boost::math::policies::policy<boost::math::policies::promote_float<false>, boost::math::policies::promote_double<false>, boost::math::policies::default_policy, boost::math::policies::default_policy, boost::math::policies::default_policy, boost::math::policies::default_policy, boost::math::policies::default_policy, boost::math::policies::default_policy, boost::math::policies::default_policy, boost::math::policies::default_policy, boost::math::policies::default_policy, boost::math::policies::default_policy, boost::math::policies::default_policy> >::initializer' from file 'build/temp.macosx-11-x86_64-3.9/Users/claudiahm/Library/Caches/httpstan/4.7.2/models/cukhrh7v/model_cukhrh7v.o' means the weak symbol cannot be overridden at runtime. This was likely caused by different translation units being compiled with different visibility settings.\n",
      "ld: warning: direct access in function '___cxx_global_var_init.44' from file '/usr/local/lib/python3.9/site-packages/httpstan/stan_services.o' to global weak symbol 'guard variable for boost::math::detail::bessel_k0_initializer<long double, boost::integral_constant<int, 64> >::initializer' from file 'build/temp.macosx-11-x86_64-3.9/Users/claudiahm/Library/Caches/httpstan/4.7.2/models/cukhrh7v/model_cukhrh7v.o' means the weak symbol cannot be overridden at runtime. This was likely caused by different translation units being compiled with different visibility settings.\n",
      "ld: warning: direct access in function '___cxx_global_var_init.44' from file '/usr/local/lib/python3.9/site-packages/httpstan/stan_services.o' to global weak symbol 'guard variable for boost::math::detail::bessel_k0_initializer<long double, boost::integral_constant<int, 64> >::initializer' from file 'build/temp.macosx-11-x86_64-3.9/Users/claudiahm/Library/Caches/httpstan/4.7.2/models/cukhrh7v/model_cukhrh7v.o' means the weak symbol cannot be overridden at runtime. This was likely caused by different translation units being compiled with different visibility settings.\n",
      "ld: warning: direct access in function '___cxx_global_var_init.45' from file '/usr/local/lib/python3.9/site-packages/httpstan/stan_services.o' to global weak symbol 'guard variable for boost::math::detail::bessel_k1_initializer<long double, boost::integral_constant<int, 64> >::initializer' from file 'build/temp.macosx-11-x86_64-3.9/Users/claudiahm/Library/Caches/httpstan/4.7.2/models/cukhrh7v/model_cukhrh7v.o' means the weak symbol cannot be overridden at runtime. This was likely caused by different translation units being compiled with different visibility settings.\n",
      "ld: warning: direct access in function '___cxx_global_var_init.45' from file '/usr/local/lib/python3.9/site-packages/httpstan/stan_services.o' to global weak symbol 'guard variable for boost::math::detail::bessel_k1_initializer<long double, boost::integral_constant<int, 64> >::initializer' from file 'build/temp.macosx-11-x86_64-3.9/Users/claudiahm/Library/Caches/httpstan/4.7.2/models/cukhrh7v/model_cukhrh7v.o' means the weak symbol cannot be overridden at runtime. This was likely caused by different translation units being compiled with different visibility settings.\n",
      "\u001b[32mBuilding:\u001b[0m 46.7s, done.\n"
     ]
    },
    {
     "name": "stderr",
     "output_type": "stream",
     "text": [
      "\u001b[36mMessages from \u001b[0m\u001b[36;1mstanc\u001b[0m\u001b[36m:\u001b[0m\n",
      "Warning in '/var/folders/79/lndg0b5n2q3b40m_ty2kxlm40000gn/T/httpstan_q7mo9amm/model_cukhrh7v.stan', line 5, column 2: Declaration\n",
      "    of arrays by placing brackets after a variable name is deprecated and\n",
      "    will be removed in Stan 2.32.0. Instead use the array keyword before the\n",
      "    type. This can be changed automatically using the auto-format flag to\n",
      "    stanc\n",
      "Warning in '/var/folders/79/lndg0b5n2q3b40m_ty2kxlm40000gn/T/httpstan_q7mo9amm/model_cukhrh7v.stan', line 15, column 2: Comments\n",
      "    beginning with # are deprecated and this syntax will be removed in Stan\n",
      "    2.32.0. Use // to begin line comments; this can be done automatically\n",
      "    using the auto-format flag to stanc\n",
      "Warning in '/var/folders/79/lndg0b5n2q3b40m_ty2kxlm40000gn/T/httpstan_q7mo9amm/model_cukhrh7v.stan', line 16, column 2: Comments\n",
      "    beginning with # are deprecated and this syntax will be removed in Stan\n",
      "    2.32.0. Use // to begin line comments; this can be done automatically\n",
      "    using the auto-format flag to stanc\n"
     ]
    }
   ],
   "source": [
    "posterior = stan.build(code, data=data, random_seed=1)"
   ]
  },
  {
   "cell_type": "code",
   "execution_count": 54,
   "id": "3be8765d",
   "metadata": {},
   "outputs": [
    {
     "name": "stderr",
     "output_type": "stream",
     "text": [
      "\u001b[36mSampling:\u001b[0m   0%\n",
      "\u001b[1A\u001b[0J\u001b[36mSampling:\u001b[0m   0% (1/4000)\n",
      "\u001b[1A\u001b[0J\u001b[36mSampling:\u001b[0m   0% (2/4000)\n",
      "\u001b[1A\u001b[0J\u001b[36mSampling:\u001b[0m   3% (101/4000)\n",
      "\u001b[1A\u001b[0J\u001b[36mSampling:\u001b[0m   5% (200/4000)\n",
      "\u001b[1A\u001b[0J\u001b[36mSampling:\u001b[0m  12% (500/4000)\n",
      "\u001b[1A\u001b[0J\u001b[36mSampling:\u001b[0m  15% (600/4000)\n",
      "\u001b[1A\u001b[0J\u001b[36mSampling:\u001b[0m  18% (700/4000)\n",
      "\u001b[1A\u001b[0J\u001b[36mSampling:\u001b[0m  22% (900/4000)\n",
      "\u001b[1A\u001b[0J\u001b[36mSampling:\u001b[0m  28% (1100/4000)\n",
      "\u001b[1A\u001b[0J\u001b[36mSampling:\u001b[0m  35% (1400/4000)\n",
      "\u001b[1A\u001b[0J\u001b[36mSampling:\u001b[0m  68% (2700/4000)\n",
      "\u001b[1A\u001b[0J\u001b[36mSampling:\u001b[0m 100% (4000/4000)\n",
      "\u001b[1A\u001b[0J\u001b[32mSampling:\u001b[0m 100% (4000/4000), done.\n",
      "\u001b[36mMessages received during sampling:\u001b[0m\n",
      "  Gradient evaluation took 0.000146 seconds\n",
      "  1000 transitions using 10 leapfrog steps per transition would take 1.46 seconds.\n",
      "  Adjust your expectations accordingly!\n",
      "  Gradient evaluation took 0.000293 seconds\n",
      "  1000 transitions using 10 leapfrog steps per transition would take 2.93 seconds.\n",
      "  Adjust your expectations accordingly!\n"
     ]
    },
    {
     "name": "stdout",
     "output_type": "stream",
     "text": [
      "PyStan execution time: 4.207807779312134\n"
     ]
    }
   ],
   "source": [
    "start_time = time.time()\n",
    "fit = posterior.sample(num_chains=2, num_samples=1000)\n",
    "tot_time = time.time() - start_time\n",
    "print(\"PyStan execution time: {}\".format(tot_time))"
   ]
  },
  {
   "cell_type": "code",
   "execution_count": 55,
   "id": "64f382e6",
   "metadata": {},
   "outputs": [
    {
     "data": {
      "image/png": "[encoded data removed]",
      "text/plain": [
       "<Figure size 864x288 with 4 Axes>"
      ]
     },
     "metadata": {
      "needs_background": "light"
     },
     "output_type": "display_data"
    }
   ],
   "source": [
    "varnames = ['alpha', 'beta']\n",
    "az.plot_trace(fit, varnames)\n",
    "plt.tight_layout()\n",
    "plt.show()"
   ]
  },
  {
   "cell_type": "code",
   "execution_count": 56,
   "id": "dbcecb43",
   "metadata": {},
   "outputs": [
    {
     "data": {
      "text/plain": [
       "(23.736711536642996, -0.11934282783618227)"
      ]
     },
     "execution_count": 56,
     "metadata": {},
     "output_type": "execute_result"
    }
   ],
   "source": [
    "alpha_pystan = np.mean(fit['alpha'])\n",
    "beta_pystan = np.mean(fit['beta'])\n",
    "alpha_pystan, beta_pystan"
   ]
  },
  {
   "cell_type": "code",
   "execution_count": 57,
   "id": "9a0975dd",
   "metadata": {},
   "outputs": [],
   "source": [
    "probs, y_hat_pystan = classify(x_test, alpha_pystan, beta_pystan, 0.5)\n",
    "probs, y_hat_pystan_out = classify(x_train, alpha_pystan, beta_pystan, 0.5)"
   ]
  },
  {
   "cell_type": "code",
   "execution_count": 58,
   "id": "bab74297",
   "metadata": {},
   "outputs": [
    {
     "name": "stdout",
     "output_type": "stream",
     "text": [
      "Accuracy in train set: 0.7375\n",
      "Accuracy in test set: 0.711864406779661\n"
     ]
    }
   ],
   "source": [
    "print(\"Accuracy in train set: {}\".format(accuracy_score(y_hat_pystan_out, y_train)))\n",
    "print(\"Accuracy in test set: {}\".format(accuracy_score(y_hat_pystan, y_test)))"
   ]
  },
  {
   "cell_type": "code",
   "execution_count": null,
   "id": "67955ae9",
   "metadata": {},
   "outputs": [],
   "source": []
  }
 ],
 "metadata": {
  "kernelspec": {
   "display_name": "Python 3 (ipykernel)",
   "language": "python",
   "name": "python3"
  },
  "language_info": {
   "codemirror_mode": {
    "name": "ipython",
    "version": 3
   },
   "file_extension": ".py",
   "mimetype": "text/x-python",
   "name": "python",
   "nbconvert_exporter": "python",
   "pygments_lexer": "ipython3",
   "version": "3.9.6"
  }
 },
 "nbformat": 4,
 "nbformat_minor": 5
}
