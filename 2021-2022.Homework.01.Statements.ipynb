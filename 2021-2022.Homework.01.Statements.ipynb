{
 "cells": [
  {
   "cell_type": "markdown",
   "id": "indoor-catalyst",
   "metadata": {
    "tags": []
   },
   "source": [
    "<h1 style=\"color:blue\"> Bayesian Statistics and Probabilistic Programming</h1>\n",
    "\n",
    "<h1 style=\"color:blue\"> Spring 2022 - Homework 01</h1>\n",
    "\n",
    "<h3 style=\"color:blue\">2022-04-04</h3>"
   ]
  },
  {
   "cell_type": "markdown",
   "id": "occasional-trigger",
   "metadata": {
    "tags": []
   },
   "source": [
    "***\n",
    "###### LaTeX macros\n",
    "$\\def\\prob{P}$\n",
    "$\\def\\argmax{\\operatorname{arg\\,max}}$\n",
    "$\\def\\argmin{\\operatorname{arg\\,min}}$\n",
    "$\\def\\borel{\\operatorname{Borel}}$\n",
    "$\\def\\cE{\\cal E}$\n",
    "$\\def\\cP{\\cal P}$\n",
    "$\\def\\R{\\mathbb{R}}$ \n",
    "$\\def\\N{\\mathbb{N}}$\n",
    "$\\def\\Z{\\mathbb{Z}}$\n",
    "$\\def\\Ee{\\operatorname{E}}$\n",
    "$\\def\\va{\\text{v.a.}}$\n",
    "$\\def\\var{\\operatorname{var}}$\n",
    "$\\def\\cov{\\operatorname{cov}}$\n",
    "$\\def\\cor{\\operatorname{cor}}$\n",
    "$\\def\\binomdist{\\operatorname{Binom}}$\n",
    "$\\def\\berndist{\\operatorname{Ber}}$\n",
    "$\\def\\betabinomdist{\\operatorname{Beta-Binom}}$\n",
    "$\\def\\betadist{\\operatorname{Beta}}$\n",
    "$\\def\\expdist{\\operatorname{Exponential}}$\n",
    "$\\def\\gammadist{\\operatorname{Gamma}}$\n",
    "$\\def\\hyperdist{\\operatorname{Hypergeom}}$\n",
    "$\\def\\hypergeomdist{\\operatorname{Hypergeom}}$\n",
    "$\\DeclareMathOperator{\\multinomialdist}{Multinomial}$\n",
    "$\\DeclareMathOperator{\\multinomdist}{Multinom}$\n",
    "$\\def\\poissondist{\\operatorname{Poisson}}$\n",
    "$\\def\\geomdist{\\operatorname{Geom}}$\n",
    "$\\def\\normaldist{\\operatorname{N}}$\n",
    "$\\def\\unifdist{\\operatorname{Unif}}$\n",
    "$\\DeclareMathOperator{\\indica}{\\mathbb{1}}$\n",
    "$\\def\\CondTo{\\mathbin{|\\mskip0.5mu}}$\n",
    "***"
   ]
  },
  {
   "cell_type": "markdown",
   "id": "floppy-carbon",
   "metadata": {},
   "source": [
    "<h1 style=\"color:blue\">Instructions</h1>"
   ]
  },
  {
   "cell_type": "markdown",
   "id": "70c9392f-68be-443f-869f-3d11500d23d8",
   "metadata": {},
   "source": [
    "### Submissions: \n",
    "\n",
    "By **groups** of _about_ three students (meaning: two is OK, four is not advisable but possible. Individual homeworks \n",
    "will also be accepted but collaborative work is preferable). \n",
    "\n",
    "Please send me an **email** with the team members names as soon as you have formed it.\n",
    "\n",
    "Only **one copy** of each group's work must be uploaded (by any member)"
   ]
  },
  {
   "cell_type": "markdown",
   "id": "205b1149-7745-4070-af12-b16374a0b741",
   "metadata": {},
   "source": [
    "### Format: \n",
    "\n",
    "A Jupyter or R Markdown **notebook,** with a **header** clearly stating the names of all contributors. "
   ]
  },
  {
   "cell_type": "markdown",
   "id": "c7ffc8d7-72ad-4915-a21b-863c669d439d",
   "metadata": {
    "tags": []
   },
   "source": [
    "### Documentation: \n",
    "\n",
    "Comments **in code cells** (e.g., meaning of variables, parameters, purpose of functions) are necessary but not sufficient.\n",
    "\n",
    "You are expected to give full explanations of steps taken in your solution (in **Markdown cells**), as well as discussion of results and their meaning.\n",
    "\n",
    "Do not drear being too verbose or too elementary."
   ]
  },
  {
   "cell_type": "markdown",
   "id": "de26c667-4256-4b2a-bfb8-cc11bc9a10bb",
   "metadata": {},
   "source": [
    "### External sources\n",
    "\n",
    "Getting inspiration from any book, document, blog, wep page, even mimicking solutions given in there, is **allowed and encouraged,** provided you give a **proper reference,**\n",
    "understand every such material, and explain it in you own words, even more exhaustively.\n",
    "\n",
    "Dare not **copy/paste literally.** I do detect it, believe me, even with a missing source reference. Bleak consequences."
   ]
  },
  {
   "cell_type": "markdown",
   "id": "52ca45a3-4eab-4ff4-94d1-0fac33d6e15a",
   "metadata": {},
   "source": [
    "### Deadline:\n",
    "\n",
    "Completed assignments are due on Tuesday, April 19. They are to be uploaded to the Virtual Campus."
   ]
  },
  {
   "cell_type": "markdown",
   "id": "acceptable-lender",
   "metadata": {},
   "source": [
    "<h1 style=\"color:blue\">01 - Stan version of a conjugate prior problem</h1>\n",
    "\n",
    "<h2 style=\"color:blue\">Modelling Earthquake Waiting Times</h2>"
   ]
  },
  {
   "cell_type": "markdown",
   "id": "exceptional-marina",
   "metadata": {},
   "source": [
    "Consider the problem in `Exponential.02.Earthquake` (notebook in 2022-03-28 folder), where the goal is to study earthquake waiting times.\n",
    "\n",
    "Likelihood is modelled as an $\\expdist(\\lambda)$ and $\\lambda$ is given a conjugate prior, $\\lambda\\sim\\gammadist(\\alpha,\\beta)$.\n",
    "\n",
    "In this notebook some simulations are performed for:\n",
    "\n",
    "01. Prior pdf for $\\lambda$.\n",
    "02. Prior predictive pdf for the waiting time.\n",
    "03. Posterior pdf for $\\lambda$.\n",
    "04. Posterior predictive for new waiting time.\n",
    "\n",
    "In `Exponential.02.Earthquake` we use known theoretical (analytical) descriptions of these distributions.\n",
    "\n",
    "Your task is to redo these simulations using Stan, disregarding analytical conjugate prior formulas, and then comparing your results to the analytical ones. Use this comparison to tune up adjustable parameters in Stan sampling, such as chain length. "
   ]
  },
  {
   "cell_type": "code",
   "execution_count": 2,
   "id": "2b3e52c0",
   "metadata": {},
   "outputs": [
    {
     "data": {
      "text/html": [
       "4"
      ],
      "text/latex": [
       "4"
      ],
      "text/markdown": [
       "4"
      ],
      "text/plain": [
       "[1] 4"
      ]
     },
     "metadata": {},
     "output_type": "display_data"
    }
   ],
   "source": [
    "require(rstan)\n",
    "parallel::detectCores()\n",
    "options(mc.cores = parallel::detectCores())\n",
    "rstan_options(auto_write = TRUE)"
   ]
  },
  {
   "cell_type": "code",
   "execution_count": 5,
   "id": "e60a73be",
   "metadata": {},
   "outputs": [],
   "source": [
    "#Stan code to generate samples from the prior, \n",
    "#a gamma distribution of given alpha and beta\n",
    "GammaPrior_String <- \"\n",
    "    //functions {}\n",
    "    data{\n",
    "        real<lower=0> alpha;\n",
    "        real<lower=0> beta;\n",
    "        }\n",
    "    transformed data {}\n",
    "    parameters{}\n",
    "    transformed parameters {}\n",
    "    model{ }\n",
    "    generated quantities{\n",
    "        real y=gamma_rng(alpha,beta);\n",
    "        }\n",
    "\"\n",
    "GammaPrior_stanDso <- stan_model( model_code=GammaPrior_String ) # Compile to DSO\n"
   ]
  },
  {
   "cell_type": "code",
   "execution_count": 6,
   "id": "055c0803",
   "metadata": {},
   "outputs": [
    {
     "name": "stdout",
     "output_type": "stream",
     "text": [
      "\n",
      "SAMPLING FOR MODEL 'e11e1fbb6b41f774e2f43c589a4748ed' NOW (CHAIN 1).\n",
      "Chain 1: Iteration:    1 / 10000 [  0%]  (Sampling)\n",
      "Chain 1: Iteration: 1000 / 10000 [ 10%]  (Sampling)\n",
      "Chain 1: Iteration: 2000 / 10000 [ 20%]  (Sampling)\n",
      "Chain 1: Iteration: 3000 / 10000 [ 30%]  (Sampling)\n",
      "Chain 1: Iteration: 4000 / 10000 [ 40%]  (Sampling)\n",
      "Chain 1: Iteration: 5000 / 10000 [ 50%]  (Sampling)\n",
      "Chain 1: Iteration: 6000 / 10000 [ 60%]  (Sampling)\n",
      "Chain 1: Iteration: 7000 / 10000 [ 70%]  (Sampling)\n",
      "Chain 1: Iteration: 8000 / 10000 [ 80%]  (Sampling)\n",
      "Chain 1: Iteration: 9000 / 10000 [ 90%]  (Sampling)\n",
      "Chain 1: Iteration: 10000 / 10000 [100%]  (Sampling)\n",
      "Chain 1: \n",
      "Chain 1:  Elapsed Time: 0 seconds (Warm-up)\n",
      "Chain 1:                0.012164 seconds (Sampling)\n",
      "Chain 1:                0.012164 seconds (Total)\n",
      "Chain 1: \n"
     ]
    }
   ],
   "source": [
    "#Specify runtime quantities and execute the code\n",
    "prior.a<-1\n",
    "prior.b<-30\n",
    "Gamma_dataList <- list(\"alpha\" = prior.a, \"beta\" = prior.b)\n",
    "\n",
    "# Generate prior sample:\n",
    "Gamma_stanFit <- sampling( object=GammaPrior_stanDso, \n",
    "                     data = Gamma_dataList, algorithm=\"Fixed_param\",\n",
    "                     chains = 1, seed = 24056, iter = 10000, warmup = 0, thin = 1)"
   ]
  },
  {
   "cell_type": "code",
   "execution_count": 9,
   "id": "cd7d3605",
   "metadata": {},
   "outputs": [
    {
     "data": {
      "image/png": "[encoded data removed]",
      "text/plain": [
       "Plot with title “Histogram of Gamma(1.0,30.0) random numbers\n",
       "    \n",
       " with the superimposed theoretical pdf”"
      ]
     },
     "metadata": {
      "image/png": {
       "height": 420,
       "width": 420
      }
     },
     "output_type": "display_data"
    }
   ],
   "source": [
    "# extract sample and visualize it \n",
    "y<-extract(Gamma_stanFit,par=\"y\")$y\n",
    "y.max<-max(y)\n",
    "u<-seq(0,y.max,length=1000)\n",
    "\n",
    "#theoretical prior\n",
    "df.theor<-dgamma(u,shape=prior.a,rate=prior.b)\n",
    "f.max<-max(df.theor)\n",
    "hist(y,freq=FALSE,col=\"LightSkyBlue\",ylim=c(0,f.max*1.1),\n",
    "     main=sprintf(\"Histogram of Gamma(%2.1f,%2.1f) random numbers\n",
    "    \\n with the superimposed theoretical pdf\",prior.a,prior.b),nclass=60,cex.main=1.6)\n",
    "lines(u,df.theor,lwd=2.5,col=\"blue\")"
   ]
  },
  {
   "cell_type": "markdown",
   "id": "upper-radio",
   "metadata": {},
   "source": [
    "<h1 style=\"color:blue\">02 - A more elaborate mixture prior for the spinning coin</h1>"
   ]
  },
  {
   "cell_type": "markdown",
   "id": "disturbed-friendship",
   "metadata": {},
   "source": [
    "(continued from Diaconis experiment)"
   ]
  },
  {
   "cell_type": "markdown",
   "id": "operational-roommate",
   "metadata": {},
   "source": [
    "On reflection, it was decided that tails had come up more often than heads in the past; further some coins seemed likely to be symmetric. \n",
    "\n",
    "Thus, a final approximation to the prior was taken as:\n",
    "\n",
    "$$\n",
    "   \\mskip-800mu 0.50\\cdot\\betadist(10,20) + 0.20\\cdot\\betadist(15,15) + 0.30\\cdot\\betadist(20,10).\n",
    "$$\n",
    "\n",
    "Same observed data as in the previous model."
   ]
  },
  {
   "cell_type": "code",
   "execution_count": 1,
   "id": "continental-diesel",
   "metadata": {},
   "outputs": [],
   "source": [
    "# Number of trials\n",
    "n<-10\n",
    "# Observed x\n",
    "x.obs<-3"
   ]
  },
  {
   "cell_type": "markdown",
   "id": "fluid-moderator",
   "metadata": {},
   "source": [
    "Perform a complete Bayesian analysis of this model, in close parallel to the first example.\n",
    "\n",
    "(1) Using the theoretical formulas (prior predictive pmf, posterior pdf, posterior predictive pmf)\n",
    "\n",
    "(2) Using independent random numbers (`rbeta()` functions, etc.)\n",
    "\n",
    "(3) JAGS version\n",
    "\n",
    "(4)$ {}^{\\star}$ Stan version. "
   ]
  },
  {
   "cell_type": "markdown",
   "id": "pursuant-martin",
   "metadata": {},
   "source": [
    ">$ (\\star)$ Hint: this one **is difficult** due to intrinsic limitations in Stan. There are several known workarounds; you can try to find one but do not despair if you fail to develop a workable version.\n",
    "\n",
    ">As a matter of fact even a Stan version of the two-components prior mixture in `Mixture.priors.02.ipynb` \n",
    "is rather tricky: Stan does not allow integer parameters thus the JAGS code cannot be translated literally."
   ]
  },
  {
   "cell_type": "markdown",
   "id": "intelligent-triangle",
   "metadata": {},
   "source": [
    "Diaconis and Ylvisaker (1985) compare both mixture conjugate priors with a $ \\operatorname{Unif}(0,1)$ prior with the data above. \n",
    "\n",
    "Comparing the MAP estimators, they observe that in a first approximation, they coincide, but spreads do depend on the prior."
   ]
  },
  {
   "cell_type": "markdown",
   "id": "d1614226-83b4-4724-a7bb-dc324d8365b1",
   "metadata": {},
   "source": [
    "They repeat the computations above with a larger sample. "
   ]
  },
  {
   "cell_type": "code",
   "execution_count": 2,
   "id": "closing-vancouver",
   "metadata": {},
   "outputs": [],
   "source": [
    "n1<-50\n",
    "x1.obs<-14"
   ]
  },
  {
   "cell_type": "markdown",
   "id": "9de8949b-1cdd-4ac7-8a8c-8a1c1da310de",
   "metadata": {},
   "source": [
    "Their conclusion is that with small data, prior matters, but with larger samples, a finely tuned choice of prior is less important."
   ]
  }
 ],
 "metadata": {
  "kernelspec": {
   "display_name": "R",
   "language": "R",
   "name": "ir"
  },
  "language_info": {
   "codemirror_mode": "r",
   "file_extension": ".r",
   "mimetype": "text/x-r-source",
   "name": "R",
   "pygments_lexer": "r",
   "version": "4.1.3"
  }
 },
 "nbformat": 4,
 "nbformat_minor": 5
}
