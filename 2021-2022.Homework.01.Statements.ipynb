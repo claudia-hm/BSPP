{
 "cells": [
  {
   "cell_type": "markdown",
   "id": "indoor-catalyst",
   "metadata": {
    "tags": []
   },
   "source": [
    "<h1 style=\"color:blue\"> Bayesian Statistics and Probabilistic Programming</h1>\n",
    "\n",
    "<h1 style=\"color:blue\"> Spring 2022 - Homework 01</h1>\n",
    "\n",
    "<h2 style=\"color:blue\"> Núria Camí, Ana de Garay and Claudia Herron Mulet</h2>\n",
    "\n",
    "<h3 style=\"color:blue\">2022-04-28</h3>"
   ]
  },
  {
   "cell_type": "markdown",
   "id": "occasional-trigger",
   "metadata": {
    "tags": []
   },
   "source": [
    "***\n",
    "###### LaTeX macros\n",
    "$\\def\\prob{P}$\n",
    "$\\def\\argmax{\\operatorname{arg\\,max}}$\n",
    "$\\def\\argmin{\\operatorname{arg\\,min}}$\n",
    "$\\def\\borel{\\operatorname{Borel}}$\n",
    "$\\def\\cE{\\cal E}$\n",
    "$\\def\\cP{\\cal P}$\n",
    "$\\def\\R{\\mathbb{R}}$ \n",
    "$\\def\\N{\\mathbb{N}}$\n",
    "$\\def\\Z{\\mathbb{Z}}$\n",
    "$\\def\\Ee{\\operatorname{E}}$\n",
    "$\\def\\va{\\text{v.a.}}$\n",
    "$\\def\\var{\\operatorname{var}}$\n",
    "$\\def\\cov{\\operatorname{cov}}$\n",
    "$\\def\\cor{\\operatorname{cor}}$\n",
    "$\\def\\binomdist{\\operatorname{Binom}}$\n",
    "$\\def\\berndist{\\operatorname{Ber}}$\n",
    "$\\def\\betabinomdist{\\operatorname{Beta-Binom}}$\n",
    "$\\def\\betadist{\\operatorname{Beta}}$\n",
    "$\\def\\expdist{\\operatorname{Exponential}}$\n",
    "$\\def\\gammadist{\\operatorname{Gamma}}$\n",
    "$\\def\\hyperdist{\\operatorname{Hypergeom}}$\n",
    "$\\def\\hypergeomdist{\\operatorname{Hypergeom}}$\n",
    "$\\DeclareMathOperator{\\multinomialdist}{Multinomial}$\n",
    "$\\DeclareMathOperator{\\multinomdist}{Multinom}$\n",
    "$\\def\\poissondist{\\operatorname{Poisson}}$\n",
    "$\\def\\geomdist{\\operatorname{Geom}}$\n",
    "$\\def\\normaldist{\\operatorname{N}}$\n",
    "$\\def\\unifdist{\\operatorname{Unif}}$\n",
    "$\\DeclareMathOperator{\\indica}{\\mathbb{1}}$\n",
    "$\\def\\CondTo{\\mathbin{|\\mskip0.5mu}}$\n",
    "***"
   ]
  },
  {
   "cell_type": "markdown",
   "id": "floppy-carbon",
   "metadata": {},
   "source": [
    "<h1 style=\"color:blue\">Instructions</h1>"
   ]
  },
  {
   "cell_type": "markdown",
   "id": "70c9392f-68be-443f-869f-3d11500d23d8",
   "metadata": {},
   "source": [
    "### Submissions: \n",
    "\n",
    "By **groups** of _about_ three students (meaning: two is OK, four is not advisable but possible. Individual homeworks \n",
    "will also be accepted but collaborative work is preferable). \n",
    "\n",
    "Please send me an **email** with the team members names as soon as you have formed it.\n",
    "\n",
    "Only **one copy** of each group's work must be uploaded (by any member)"
   ]
  },
  {
   "cell_type": "markdown",
   "id": "205b1149-7745-4070-af12-b16374a0b741",
   "metadata": {},
   "source": [
    "### Format: \n",
    "\n",
    "A Jupyter or R Markdown **notebook,** with a **header** clearly stating the names of all contributors. "
   ]
  },
  {
   "cell_type": "markdown",
   "id": "c7ffc8d7-72ad-4915-a21b-863c669d439d",
   "metadata": {
    "tags": []
   },
   "source": [
    "### Documentation: \n",
    "\n",
    "Comments **in code cells** (e.g., meaning of variables, parameters, purpose of functions) are necessary but not sufficient.\n",
    "\n",
    "You are expected to give full explanations of steps taken in your solution (in **Markdown cells**), as well as discussion of results and their meaning.\n",
    "\n",
    "Do not drear being too verbose or too elementary."
   ]
  },
  {
   "cell_type": "markdown",
   "id": "de26c667-4256-4b2a-bfb8-cc11bc9a10bb",
   "metadata": {},
   "source": [
    "### External sources\n",
    "\n",
    "Getting inspiration from any book, document, blog, wep page, even mimicking solutions given in there, is **allowed and encouraged,** provided you give a **proper reference,**\n",
    "understand every such material, and explain it in you own words, even more exhaustively.\n",
    "\n",
    "Dare not **copy/paste literally.** I do detect it, believe me, even with a missing source reference. Bleak consequences."
   ]
  },
  {
   "cell_type": "markdown",
   "id": "52ca45a3-4eab-4ff4-94d1-0fac33d6e15a",
   "metadata": {},
   "source": [
    "### Deadline:\n",
    "\n",
    "Completed assignments are due on Tuesday, April 19. They are to be uploaded to the Virtual Campus."
   ]
  },
  {
   "cell_type": "markdown",
   "id": "acceptable-lender",
   "metadata": {},
   "source": [
    "<h1 style=\"color:blue\">01 - Stan version of a conjugate prior problem</h1>\n",
    "\n",
    "<h2 style=\"color:blue\">Modelling Earthquake Waiting Times</h2>"
   ]
  },
  {
   "cell_type": "markdown",
   "id": "exceptional-marina",
   "metadata": {},
   "source": [
    "Consider the problem in `Exponential.02.Earthquake` (notebook in 2022-03-28 folder), where the goal is to study earthquake waiting times.\n",
    "\n",
    "Likelihood is modelled as an $\\expdist(\\lambda)$ and $\\lambda$ is given a conjugate prior, $\\lambda\\sim\\gammadist(\\alpha,\\beta)$.\n",
    "\n",
    "In this notebook some simulations are performed for:\n",
    "\n",
    "01. Prior pdf for $\\lambda$.\n",
    "02. Prior predictive pdf for the waiting time.\n",
    "03. Posterior pdf for $\\lambda$.\n",
    "04. Posterior predictive for new waiting time.\n",
    "\n",
    "In `Exponential.02.Earthquake` we use known theoretical (analytical) descriptions of these distributions.\n",
    "\n",
    "Your task is to redo these simulations using Stan, disregarding analytical conjugate prior formulas, and then comparing your results to the analytical ones. Use this comparison to tune up adjustable parameters in Stan sampling, such as chain length. "
   ]
  },
  {
   "cell_type": "markdown",
   "id": "4c6ae263",
   "metadata": {},
   "source": [
    "<h2 style=\"color:blue\">Solution:</h2>"
   ]
  },
  {
   "cell_type": "markdown",
   "id": "1f7c1eea",
   "metadata": {},
   "source": [
    "First, we **load rstan** (the R interface to use Stan language) and set the recommended options."
   ]
  },
  {
   "cell_type": "code",
   "execution_count": 43,
   "id": "2b3e52c0",
   "metadata": {
    "vscode": {
     "languageId": "r"
    }
   },
   "outputs": [
    {
     "data": {
      "text/html": [
       "8"
      ],
      "text/latex": [
       "8"
      ],
      "text/markdown": [
       "8"
      ],
      "text/plain": [
       "[1] 8"
      ]
     },
     "metadata": {},
     "output_type": "display_data"
    }
   ],
   "source": [
    "require(rstan)\n",
    "parallel::detectCores()\n",
    "options(mc.cores = parallel::detectCores())\n",
    "rstan_options(auto_write = TRUE)"
   ]
  },
  {
   "cell_type": "markdown",
   "id": "d69fcaab",
   "metadata": {},
   "source": [
    "Now we can start doing the required simulations with its corresponding analysis."
   ]
  },
  {
   "cell_type": "markdown",
   "id": "2dfdc70d",
   "metadata": {},
   "source": [
    "<h2 style=\"color:blue\">1. Prior pdf for $\\lambda$.</h2>"
   ]
  },
  {
   "cell_type": "markdown",
   "id": "f3bd6bb1",
   "metadata": {},
   "source": [
    "We know from the statement that $\\lambda$ is given a conjugate prior, $\\lambda\\sim\\gammadist(\\alpha,\\beta)$, where $\\alpha > 0$ and $\\beta > 0$ are unknown shape and scale parameters, respectively. Following the guidelines in ```S7.3.03.Exponential.02.Earthquake```, we see that $\\alpha=1$ and $\\beta=30$. This is due as a consecuence of setting the effective sample size to 1 and applying the formula for the expectation of a gamma distribution, given that E($\\lambda$) is 1/30.\n",
    "\n",
    "The Stan code simply draws samples from a gamma distribution, and we specify the parameters at runtime."
   ]
  },
  {
   "cell_type": "code",
   "execution_count": 44,
   "id": "e60a73be",
   "metadata": {
    "vscode": {
     "languageId": "r"
    }
   },
   "outputs": [],
   "source": [
    "# Stan model to generate samples of a gamma distribution\n",
    "Gamma_String <- \"\n",
    "    //functions {}\n",
    "    data{\n",
    "        real<lower=0> alpha;\n",
    "        real<lower=0> beta;\n",
    "        }\n",
    "    transformed data {}\n",
    "    parameters{}\n",
    "    transformed parameters {}\n",
    "    model{ }\n",
    "    generated quantities{\n",
    "        real y=gamma_rng(alpha,beta);\n",
    "        }\n",
    "\"\n",
    "\n",
    "# Translate the model to C++ and compile to DSO (Dynamic Shared Object)\n",
    "Gamma_stanDso <- stan_model( model_code=Gamma_String ) "
   ]
  },
  {
   "cell_type": "markdown",
   "id": "e0314d3b",
   "metadata": {},
   "source": [
    "Once that we have the DSO, we have to input the selected distribution parameters and Stan configuration to perform the simulation. Let's first take a look to the meaning of each parameter:\n",
    "* **chains**\t: A positive integer specifying the number of Markov chains. The default is 4.\n",
    "* **algorithm**\t: One of sampling algorithms that are implemented in Stan. No parameters in this scenario so we use \"Fixed_param\".\n",
    "* **seed**\t: The seed for random number generation.\n",
    "* **iter**: A positive integer specifying the number of iterations for each chain (including warmup)\n",
    "* **warmup**: A positive integer specifying the number of warmup (aka burnin) iterations per chain.\n",
    "* **thin**: A positive integer specifying the period for saving samples. The default is 1, which is usually the recommended value."
   ]
  },
  {
   "cell_type": "code",
   "execution_count": 45,
   "id": "055c0803",
   "metadata": {
    "vscode": {
     "languageId": "r"
    }
   },
   "outputs": [],
   "source": [
    "# Specify data\n",
    "prior.a<-1\n",
    "prior.b<-30\n",
    "Gamma_dataList <- list(\"alpha\" = prior.a, \"beta\" = prior.b)\n",
    "\n",
    "# Generate prior sample\n",
    "GammaPrior_stanFit <- sampling( object=Gamma_stanDso, \n",
    "                     data = Gamma_dataList, algorithm=\"Fixed_param\",\n",
    "                     chains = 4, seed = 24056, iter = 10000, warmup = 0, thin = 1)"
   ]
  },
  {
   "cell_type": "markdown",
   "id": "a9848c5f",
   "metadata": {},
   "source": [
    "Finally,  we extract the prior sample and plot its histogram together with the theoretical gamma distribution."
   ]
  },
  {
   "cell_type": "code",
   "execution_count": 46,
   "id": "cd7d3605",
   "metadata": {
    "vscode": {
     "languageId": "r"
    }
   },
   "outputs": [
    {
     "data": {
      "image/png": "[encoded data removed]",
      "text/plain": [
       "Plot with title \"Histogram of Gamma(1.0,30.0) random numbers\n",
       "    \n",
       " with the superimposed theoretical pdf\""
      ]
     },
     "metadata": {
      "image/png": {
       "height": 420,
       "width": 360
      }
     },
     "output_type": "display_data"
    }
   ],
   "source": [
    "# Extract sample from the prior\n",
    "y<-extract(GammaPrior_stanFit,par=\"y\")$y\n",
    "y.max<-max(y)\n",
    "u<-seq(0,y.max,length=1000)\n",
    "\n",
    "# Define the theoretical gamma distribution \n",
    "df.theor<-dgamma(u,shape=prior.a,rate=prior.b)\n",
    "f.max<-max(df.theor)\n",
    "\n",
    "# Histogram\n",
    "hist(y,freq=FALSE,col=\"LightSkyBlue\",ylim=c(0,f.max*1.1),xlab=expression(lambda),\n",
    "     main=sprintf(\"Histogram of Gamma(%2.1f,%2.1f) random numbers\n",
    "    \\n with the superimposed theoretical pdf\",prior.a,prior.b),nclass=60,cex.main=1.6)\n",
    "lines(u,df.theor,lwd=2.5,col=\"blue\")"
   ]
  },
  {
   "cell_type": "markdown",
   "id": "ad477dd1",
   "metadata": {},
   "source": [
    "<h2 style=\"color:blue\">2. Prior predictive pdf for the waiting time.</h2> "
   ]
  },
  {
   "cell_type": "markdown",
   "id": "a69a58b9",
   "metadata": {},
   "source": [
    "The random variable that measures the waiting time (in days) between the 𝑖-th earthquake and the following one follows an Exponential distribution. That is:\n",
    "\n",
    "$$\n",
    "    Y_{i}\\mskip8mu\\text{i.i.d.}\\sim\\mskip8mu\\operatorname{Exponential}(\\lambda),\n",
    "$$\n",
    "\n",
    "where $\\lambda$ is the conjugate prior described in the previous section. We also know that the expected waiting time between earthquakes will be $\\operatorname{E}(Y)=1/\\lambda$ days. \n",
    "\n",
    "Note that we can assume $Y_i$ as an independent and identically distributed random variable alluding at the premises taken at the beginning of the notebook ```S7.3.03.Exponential.02.Earthquake```.\n",
    "\n",
    "The following cell shows the Stan model for the prior predictive pdf described here."
   ]
  },
  {
   "cell_type": "code",
   "execution_count": 47,
   "id": "226e8a4e",
   "metadata": {
    "vscode": {
     "languageId": "r"
    }
   },
   "outputs": [],
   "source": [
    "# Stan model to generate samples of an exponential distribution\n",
    "model_PriorPred <-\"\n",
    "    data{\n",
    "        real<lower=0> alpha;\n",
    "        real<lower=0> beta;\n",
    "        }\n",
    "    parameters {\n",
    "        real lambda;   // parameter is an unbounded real (mean of observed xbar)\n",
    "    }\n",
    "    model {\n",
    "        lambda ~ gamma(alpha,beta);   // prior\n",
    "    }\n",
    "    generated quantities {\n",
    "        real y;\n",
    "        y = exponential_rng(lambda);   // prior prediction\n",
    "    }\n",
    "\"\n",
    "\n",
    "# Translate the model to C++ and compile to DSO\n",
    "model_PriorPred_stanDso <- stan_model( model_code=model_PriorPred ) "
   ]
  },
  {
   "cell_type": "markdown",
   "id": "2fd72b08",
   "metadata": {},
   "source": [
    "Once that we specify the model, we proceed with the simulation."
   ]
  },
  {
   "cell_type": "code",
   "execution_count": 48,
   "id": "10465624",
   "metadata": {
    "vscode": {
     "languageId": "r"
    }
   },
   "outputs": [
    {
     "name": "stdout",
     "output_type": "stream",
     "text": [
      "\n",
      "SAMPLING FOR MODEL 'anon_model' NOW (CHAIN 1).\n",
      "Chain 1: \n",
      "Chain 1: Gradient evaluation took 1.3e-05 seconds\n",
      "Chain 1: 1000 transitions using 10 leapfrog steps per transition would take 0.13 seconds.\n",
      "Chain 1: Adjust your expectations accordingly!\n",
      "Chain 1: \n",
      "Chain 1: \n",
      "Chain 1: Iteration:    1 / 10000 [  0%]  (Warmup)\n",
      "Chain 1: Iteration:  601 / 10000 [  6%]  (Sampling)\n",
      "Chain 1: Iteration: 1600 / 10000 [ 16%]  (Sampling)\n",
      "Chain 1: Iteration: 2600 / 10000 [ 26%]  (Sampling)\n",
      "Chain 1: Iteration: 3600 / 10000 [ 36%]  (Sampling)\n",
      "Chain 1: Iteration: 4600 / 10000 [ 46%]  (Sampling)\n",
      "Chain 1: Iteration: 5600 / 10000 [ 56%]  (Sampling)\n",
      "Chain 1: Iteration: 6600 / 10000 [ 66%]  (Sampling)\n",
      "Chain 1: Iteration: 7600 / 10000 [ 76%]  (Sampling)\n",
      "Chain 1: Iteration: 8600 / 10000 [ 86%]  (Sampling)\n",
      "Chain 1: Iteration: 9600 / 10000 [ 96%]  (Sampling)\n",
      "Chain 1: Iteration: 10000 / 10000 [100%]  (Sampling)\n",
      "Chain 1: \n",
      "Chain 1:  Elapsed Time: 0.022 seconds (Warm-up)\n",
      "Chain 1:                0.205 seconds (Sampling)\n",
      "Chain 1:                0.227 seconds (Total)\n",
      "Chain 1: \n"
     ]
    },
    {
     "name": "stderr",
     "output_type": "stream",
     "text": [
      "Warning message:\n",
      "\"There were 4714 divergent transitions after warmup. See\n",
      "https://mc-stan.org/misc/warnings.html#divergent-transitions-after-warmup\n",
      "to find out why this is a problem and how to eliminate them.\"\n",
      "Warning message:\n",
      "\"Examine the pairs() plot to diagnose sampling problems\n",
      "\"\n"
     ]
    }
   ],
   "source": [
    "# Specify data\n",
    "prior.a<-1\n",
    "prior.b<-30\n",
    "pppdf_dataList <- list(\"alpha\" = prior.a, \"beta\" = prior.b)\n",
    "\n",
    "# Generate prior sample\n",
    "model_PriorPred_stanFit <- sampling( object=model_PriorPred_stanDso, \n",
    "                         data = pppdf_dataList,\n",
    "                         chains = 1, \n",
    "                         seed = 24025, \n",
    "                         iter = 10000, \n",
    "                         warmup = 600, \n",
    "                         thin = 1)"
   ]
  },
  {
   "cell_type": "code",
   "execution_count": 49,
   "id": "9b9afa6d",
   "metadata": {
    "vscode": {
     "languageId": "r"
    }
   },
   "outputs": [
    {
     "data": {
      "text/html": [
       "<style>\n",
       ".dl-inline {width: auto; margin:0; padding: 0}\n",
       ".dl-inline>dt, .dl-inline>dd {float: none; width: auto; display: inline-block}\n",
       ".dl-inline>dt::after {content: \":\\0020\"; padding-right: .5ex}\n",
       ".dl-inline>dt:not(:first-of-type) {padding-left: .5ex}\n",
       "</style><dl class=dl-inline><dt>5%</dt><dd>1.57</dd><dt>10%</dt><dd>3.34</dd><dt>20%</dt><dd>7.39</dd><dt>30%</dt><dd>12.86</dd><dt>40%</dt><dd>20.24</dd><dt>50%</dt><dd>30.11</dd><dt>60%</dt><dd>44.5</dd><dt>70%</dt><dd>68.78</dd><dt>80%</dt><dd>116.91</dd><dt>90%</dt><dd>282.79</dd></dl>\n"
      ],
      "text/latex": [
       "\\begin{description*}\n",
       "\\item[5\\textbackslash{}\\%] 1.57\n",
       "\\item[10\\textbackslash{}\\%] 3.34\n",
       "\\item[20\\textbackslash{}\\%] 7.39\n",
       "\\item[30\\textbackslash{}\\%] 12.86\n",
       "\\item[40\\textbackslash{}\\%] 20.24\n",
       "\\item[50\\textbackslash{}\\%] 30.11\n",
       "\\item[60\\textbackslash{}\\%] 44.5\n",
       "\\item[70\\textbackslash{}\\%] 68.78\n",
       "\\item[80\\textbackslash{}\\%] 116.91\n",
       "\\item[90\\textbackslash{}\\%] 282.79\n",
       "\\end{description*}\n"
      ],
      "text/markdown": [
       "5%\n",
       ":   1.5710%\n",
       ":   3.3420%\n",
       ":   7.3930%\n",
       ":   12.8640%\n",
       ":   20.2450%\n",
       ":   30.1160%\n",
       ":   44.570%\n",
       ":   68.7880%\n",
       ":   116.9190%\n",
       ":   282.79\n",
       "\n"
      ],
      "text/plain": [
       "    5%    10%    20%    30%    40%    50%    60%    70%    80%    90% \n",
       "  1.57   3.34   7.39  12.86  20.24  30.11  44.50  68.78 116.91 282.79 "
      ]
     },
     "metadata": {},
     "output_type": "display_data"
    },
    {
     "data": {
      "text/html": [
       "282.79"
      ],
      "text/latex": [
       "282.79"
      ],
      "text/markdown": [
       "282.79"
      ],
      "text/plain": [
       "[1] 282.79"
      ]
     },
     "metadata": {},
     "output_type": "display_data"
    }
   ],
   "source": [
    "# Extract sample from the prior predictive\n",
    "y<-extract(model_PriorPred_stanFit,par=\"y\")$y\n",
    "\n",
    "# Quantiles\n",
    "q.y<-quantile(y,c(0.05,0.1,0.2,0.3,0.4,0.5,0.6,0.7,0.8,0.9))\n",
    "round(q.y,2)\n",
    "\n",
    "# Maximum\n",
    "ymax<-max(q.y)\n",
    "round(ymax,2)\n",
    "\n",
    "# Truncate in order to be able to plot the histogram\n",
    "y.trunc<-y[y<ymax]  "
   ]
  },
  {
   "cell_type": "markdown",
   "id": "3d1adb0a",
   "metadata": {},
   "source": [
    "Finally, we define the theoretical destribution and we plot it together with our sample of the prior predictive pdf."
   ]
  },
  {
   "cell_type": "code",
   "execution_count": 50,
   "id": "3d4bccbe",
   "metadata": {
    "vscode": {
     "languageId": "r"
    }
   },
   "outputs": [
    {
     "data": {
      "image/png": "[encoded data removed]",
      "text/plain": [
       "Plot with title \"Histogram of Exponential(lambda) random numbers\n",
       "    \n",
       " with the superimposed theoretical pdf\""
      ]
     },
     "metadata": {
      "image/png": {
       "height": 300,
       "width": 360
      }
     },
     "output_type": "display_data"
    }
   ],
   "source": [
    "# Define the theoretical distribution \n",
    "options(repr.plot.width=6,repr.plot.height=5)\n",
    "Theor.pred.pdf<-function(y,a,b){return(ifelse(y>0,a*b^{a}/(y+b)^(a+1),0))}\n",
    "ymax<-max(q.y)\n",
    "u<-seq(0,ymax,length=1000)\n",
    "yu<-Theor.pred.pdf(u,a=prior.a,b=prior.b)\n",
    "\n",
    "# Histogram\n",
    "hist(y.trunc,freq=FALSE,col=\"LightGreen\", main=sprintf(\"Histogram of Exponential(lambda) random numbers\n",
    "    \\n with the superimposed theoretical pdf\"), breaks=c(min(y.trunc),q.y,max(y.trunc)),ylim=c(0,0.040))\n",
    "lines(u,yu,lwd=2.5,col=\"DarkGreen\")"
   ]
  },
  {
   "cell_type": "markdown",
   "id": "efa0334b",
   "metadata": {},
   "source": [
    "We observe that the distribution is exponential, as expected."
   ]
  },
  {
   "cell_type": "markdown",
   "id": "124fe60a",
   "metadata": {},
   "source": [
    "<h2 style=\"color:blue\">3. Posterior pdf for $\\lambda$.</h2> "
   ]
  },
  {
   "cell_type": "markdown",
   "id": "3b11a45e",
   "metadata": {},
   "source": [
    "Once taking $n$ independent exponential observations of the experiment performed with the prior pdf described in section 2, then are able to define the posterior pdf for $\\lambda$. At the end, the posterior distribution of $\\lambda$ will be also a Gamma but with parameters $\\alpha$ and $\\beta$ updated. If we consider as $y=(y_{1},\\dots,y_{n})$ the $n$ observations performed with average $\\overline{y}$, then:\n",
    "\n",
    "$$\n",
    "    \\left\\{\n",
    "    \\begin{array}{lcl}\n",
    "    \\alpha'&=&\\alpha+n,\\\\\n",
    "    \\beta'&=&\\beta+n\\,\\overline{y},\n",
    "    \\end{array}\\right.\n",
    "$$\n",
    "\n",
    "are the parameters for the Gamma distribution of the posterior pdf for $\\lambda$. This is the analytical posterior distribution.\n",
    "\n",
    "In this exercise, we will perform the MCMC simulation to obtain the posterior.\n",
    "\n",
    "Recall that in our example, we observed a total of 9 earthquake occurances. Thus, the number of time periods between earthquakes is $n=8$ and the data vector observed is $y=(16, 8, 114, 60, 4, 23, 30, 105)$, with $\\overline{y}=45$. "
   ]
  },
  {
   "cell_type": "code",
   "execution_count": 51,
   "id": "3530948b",
   "metadata": {
    "vscode": {
     "languageId": "r"
    }
   },
   "outputs": [
    {
     "data": {
      "text/html": [
       "45"
      ],
      "text/latex": [
       "45"
      ],
      "text/markdown": [
       "45"
      ],
      "text/plain": [
       "[1] 45"
      ]
     },
     "metadata": {},
     "output_type": "display_data"
    }
   ],
   "source": [
    "# Data vector y observed\n",
    "y<-c(16, 8, 114, 60, 4, 23, 30, 105)\n",
    "n<-length(y)\n",
    "\n",
    "# Mean of y\n",
    "ybar<-mean(y)\n",
    "round(ybar,2)"
   ]
  },
  {
   "cell_type": "markdown",
   "id": "74a9d9ac",
   "metadata": {},
   "source": [
    "Then we define our posterior model and specify our data."
   ]
  },
  {
   "cell_type": "code",
   "execution_count": 52,
   "id": "9c782b20",
   "metadata": {
    "vscode": {
     "languageId": "r"
    }
   },
   "outputs": [],
   "source": [
    "modelString = \"\n",
    "  data{\n",
    "    int<lower=0> n ;\n",
    "    real y[n] ; \n",
    "    real<lower=0> a ;\n",
    "    real<lower=0> b ;\n",
    "    }\n",
    "  parameters{\n",
    "    real<lower=0> lambda ;\n",
    "    }\n",
    "  model{\n",
    "    lambda ~ gamma(a,b) ;\n",
    "    y ~ exponential(lambda) ; \n",
    "    }\"\n",
    "# Translate model to C++ and compile to DSO:\n",
    "stanDso <- stan_model( model_code=modelString ) \n",
    "    "
   ]
  },
  {
   "cell_type": "code",
   "execution_count": 53,
   "id": "d64a5638",
   "metadata": {
    "vscode": {
     "languageId": "r"
    }
   },
   "outputs": [],
   "source": [
    "# Specify data:\n",
    "dataList = list(y=y,n=n,a=prior.a,b=prior.b)"
   ]
  },
  {
   "cell_type": "code",
   "execution_count": 54,
   "id": "3973f22d",
   "metadata": {
    "vscode": {
     "languageId": "r"
    }
   },
   "outputs": [],
   "source": [
    "# Generate posterior sample:\n",
    "stanFit <- sampling( object=stanDso, \n",
    "                     data = dataList, \n",
    "                     chains = 3,\n",
    "                     iter = 1000, \n",
    "                     warmup = 200, \n",
    "                     thin = 1)"
   ]
  },
  {
   "cell_type": "markdown",
   "id": "6123f366",
   "metadata": {},
   "source": [
    "Finally, we plot the MCMC posterior."
   ]
  },
  {
   "cell_type": "code",
   "execution_count": 55,
   "id": "c0e38d17",
   "metadata": {
    "vscode": {
     "languageId": "r"
    }
   },
   "outputs": [
    {
     "data": {
      "image/png": "[encoded data removed]",
      "text/plain": [
       "plot without title"
      ]
     },
     "metadata": {
      "image/png": {
       "height": 420,
       "width": 420
      }
     },
     "output_type": "display_data"
    }
   ],
   "source": [
    "require(\"bayesplot\")\n",
    "color_scheme_set(\"teal\")\n",
    "options(repr.plot.width=7,repr.plot.height=7)\n",
    "\n",
    "\n",
    "# Histogram\n",
    "a = mcmc_hist(stanFit, pars = c(\"lambda\"),binwidth=0.0025)\n",
    "a"
   ]
  },
  {
   "cell_type": "markdown",
   "id": "549e330f",
   "metadata": {},
   "source": [
    "For the theoretical posterior, the updated parameters for the posterior pdf of $\\lambda$ are:"
   ]
  },
  {
   "cell_type": "code",
   "execution_count": 56,
   "id": "0c0a2672",
   "metadata": {
    "vscode": {
     "languageId": "r"
    }
   },
   "outputs": [
    {
     "data": {
      "text/html": [
       "9"
      ],
      "text/latex": [
       "9"
      ],
      "text/markdown": [
       "9"
      ],
      "text/plain": [
       "[1] 9"
      ]
     },
     "metadata": {},
     "output_type": "display_data"
    },
    {
     "data": {
      "text/html": [
       "390"
      ],
      "text/latex": [
       "390"
      ],
      "text/markdown": [
       "390"
      ],
      "text/plain": [
       "[1] 390"
      ]
     },
     "metadata": {},
     "output_type": "display_data"
    }
   ],
   "source": [
    "# parameters of posterior pdf of lambda: alpha' and beta'\n",
    "nybar<-sum(y)\n",
    "post.a<-prior.a+n\n",
    "post.b<-prior.b+nybar\n",
    "post.a\n",
    "post.b"
   ]
  },
  {
   "cell_type": "code",
   "execution_count": 57,
   "id": "3ae1390a",
   "metadata": {
    "vscode": {
     "languageId": "r"
    }
   },
   "outputs": [
    {
     "data": {
      "text/html": [
       "0.0231"
      ],
      "text/latex": [
       "0.0231"
      ],
      "text/markdown": [
       "0.0231"
      ],
      "text/plain": [
       "[1] 0.0231"
      ]
     },
     "metadata": {},
     "output_type": "display_data"
    },
    {
     "data": {
      "text/html": [
       "0.0205"
      ],
      "text/latex": [
       "0.0205"
      ],
      "text/markdown": [
       "0.0205"
      ],
      "text/plain": [
       "[1] 0.0205"
      ]
     },
     "metadata": {},
     "output_type": "display_data"
    },
    {
     "data": {
      "text/html": [
       "5.9e-05"
      ],
      "text/latex": [
       "5.9e-05"
      ],
      "text/markdown": [
       "5.9e-05"
      ],
      "text/plain": [
       "[1] 5.9e-05"
      ]
     },
     "metadata": {},
     "output_type": "display_data"
    },
    {
     "data": {
      "text/html": [
       "0.0077"
      ],
      "text/latex": [
       "0.0077"
      ],
      "text/markdown": [
       "0.0077"
      ],
      "text/plain": [
       "[1] 0.0077"
      ]
     },
     "metadata": {},
     "output_type": "display_data"
    }
   ],
   "source": [
    "# Measures of the posterior gamma distribution \n",
    "\n",
    "# mean \n",
    "Theor.lambda.post.mean<-post.a/post.b\n",
    "round(Theor.lambda.post.mean,4)\n",
    "\n",
    "# mode\n",
    "Theor.lambda.post.mode<-(post.a-1)/post.b  # For alpha>1, 0 for alpha=1.\n",
    "round(Theor.lambda.post.mode,4)\n",
    "\n",
    "# variance\n",
    "Theor.lambda.post.var<-post.a/post.b^2\n",
    "round(Theor.lambda.post.var,6)\n",
    "\n",
    "# std\n",
    "Theor.lambda.post.sd<-sqrt(Theor.lambda.post.var)\n",
    "round(Theor.lambda.post.sd,4)"
   ]
  },
  {
   "cell_type": "markdown",
   "id": "93666ffe",
   "metadata": {},
   "source": [
    "Also, we can generate a sample from the distribution that we know that is the posterior."
   ]
  },
  {
   "cell_type": "code",
   "execution_count": 58,
   "id": "a42977c1",
   "metadata": {
    "vscode": {
     "languageId": "r"
    }
   },
   "outputs": [],
   "source": [
    "# Specify data\n",
    "Gamma_dataList <- list(\"alpha\" = post.a, \"beta\" = post.b)\n",
    "\n",
    "# Generate posterior sample\n",
    "GammaPosterior_stanFit <- sampling( object=Gamma_stanDso, \n",
    "                     data = Gamma_dataList, algorithm=\"Fixed_param\",\n",
    "                     chains = 4, seed = 24056, iter = 10000, warmup = 0, thin = 1)"
   ]
  },
  {
   "cell_type": "code",
   "execution_count": 59,
   "id": "bde94f4d",
   "metadata": {
    "vscode": {
     "languageId": "r"
    }
   },
   "outputs": [
    {
     "data": {
      "image/png": "[encoded data removed]",
      "text/plain": [
       "Plot with title \"Histogram of Gamma(1.0,30.0) random numbers\n",
       "    \n",
       " with the superimposed theoretical pdf\""
      ]
     },
     "metadata": {
      "image/png": {
       "height": 360,
       "width": 360
      }
     },
     "output_type": "display_data"
    }
   ],
   "source": [
    "# Extract sample from the posterior\n",
    "y<-extract(GammaPosterior_stanFit,par=\"y\")$y\n",
    "y.max<-max(y)\n",
    "u<-seq(0,y.max,length=1000)\n",
    "\n",
    "# Define the theoretical gamma distribution \n",
    "options(repr.plot.width=6,repr.plot.height=6)\n",
    "v<-seq(0,max(y),length=1000)\n",
    "yv<-dgamma(v,shape=post.a,rate=post.b)\n",
    "max.yv<-max(yv)\n",
    "\n",
    "# Histogram\n",
    "hist(y,freq=FALSE,col=\"LightGreen\", main=sprintf(\"Histogram of Gamma(%2.1f,%2.1f) random numbers\n",
    "    \\n with the superimposed theoretical pdf\",prior.a,prior.b), xlab=expression(lambda),ylim=c(0,max.yv*1.1),breaks=25)\n",
    "lines(v,yv,lwd=2.5,col=\"blue\")"
   ]
  },
  {
   "cell_type": "markdown",
   "id": "30ee8fcf",
   "metadata": {},
   "source": [
    "Finally, in this plot we observe the theoretical posterior and the sample obtained from the posterior gamma discovered analytically. We observe that it conincides with the MCMC simulation. "
   ]
  },
  {
   "cell_type": "markdown",
   "id": "4138267c",
   "metadata": {},
   "source": [
    "<h2 style=\"color:blue\">4. Posterior predictive pdf for the waiting time.</h2> "
   ]
  },
  {
   "cell_type": "markdown",
   "id": "d80234ac",
   "metadata": {},
   "source": [
    "Finally, the posterior predictive pdf for the waiting time will behave like an Exp($\\lambda$), where $\\lambda$ is distributed as the posterior pdf described in the previous section."
   ]
  },
  {
   "cell_type": "code",
   "execution_count": 60,
   "id": "2dbc32e5",
   "metadata": {
    "vscode": {
     "languageId": "r"
    }
   },
   "outputs": [],
   "source": [
    "# Stan model to generate samples of an exponential distribution\n",
    "Exp_Stancode <-\"\n",
    "    data{\n",
    "        real<lower=0> alpha;\n",
    "        real<lower=0> beta;\n",
    "        }\n",
    "    parameters {\n",
    "        real lambda;   // parameter is an unbounded real (mean of observed xbar)\n",
    "    }\n",
    "    model {\n",
    "        lambda ~ gamma(alpha,beta);   // prior\n",
    "    }\n",
    "    generated quantities {\n",
    "        real y;\n",
    "        y = exponential_rng(lambda);   // prior prediction\n",
    "    }\n",
    "\"\n",
    "\n",
    "# Translate the model to C++ and compile to DSO\n",
    "Exp_stanDso <- stan_model( model_code=Exp_Stancode )"
   ]
  },
  {
   "cell_type": "code",
   "execution_count": 61,
   "id": "879e5266",
   "metadata": {
    "vscode": {
     "languageId": "r"
    }
   },
   "outputs": [
    {
     "name": "stdout",
     "output_type": "stream",
     "text": [
      "\n",
      "SAMPLING FOR MODEL 'anon_model' NOW (CHAIN 1).\n",
      "Chain 1: \n",
      "Chain 1: Gradient evaluation took 4e-06 seconds\n",
      "Chain 1: 1000 transitions using 10 leapfrog steps per transition would take 0.04 seconds.\n",
      "Chain 1: Adjust your expectations accordingly!\n",
      "Chain 1: \n",
      "Chain 1: \n",
      "Chain 1: Iteration:    1 / 10000 [  0%]  (Warmup)\n",
      "Chain 1: Iteration:  601 / 10000 [  6%]  (Sampling)\n",
      "Chain 1: Iteration: 1600 / 10000 [ 16%]  (Sampling)\n",
      "Chain 1: Iteration: 2600 / 10000 [ 26%]  (Sampling)\n",
      "Chain 1: Iteration: 3600 / 10000 [ 36%]  (Sampling)\n",
      "Chain 1: Iteration: 4600 / 10000 [ 46%]  (Sampling)\n",
      "Chain 1: Iteration: 5600 / 10000 [ 56%]  (Sampling)\n",
      "Chain 1: Iteration: 6600 / 10000 [ 66%]  (Sampling)\n",
      "Chain 1: Iteration: 7600 / 10000 [ 76%]  (Sampling)\n",
      "Chain 1: Iteration: 8600 / 10000 [ 86%]  (Sampling)\n",
      "Chain 1: Iteration: 9600 / 10000 [ 96%]  (Sampling)\n",
      "Chain 1: Iteration: 10000 / 10000 [100%]  (Sampling)\n",
      "Chain 1: \n",
      "Chain 1:  Elapsed Time: 0.009 seconds (Warm-up)\n",
      "Chain 1:                0.104 seconds (Sampling)\n",
      "Chain 1:                0.113 seconds (Total)\n",
      "Chain 1: \n"
     ]
    },
    {
     "name": "stderr",
     "output_type": "stream",
     "text": [
      "Warning message:\n",
      "\"There were 16 divergent transitions after warmup. See\n",
      "https://mc-stan.org/misc/warnings.html#divergent-transitions-after-warmup\n",
      "to find out why this is a problem and how to eliminate them.\"\n",
      "Warning message:\n",
      "\"Examine the pairs() plot to diagnose sampling problems\n",
      "\"\n"
     ]
    }
   ],
   "source": [
    "# Specify data:\n",
    "pppdf_dataList <- list(\"alpha\" = post.a, \"beta\" = post.b)\n",
    "\n",
    "# Generate posterior sample\n",
    "Exp_stanFit <- sampling( object=Exp_stanDso, \n",
    "                         data = pppdf_dataList,\n",
    "                         chains = 1, \n",
    "                         seed = 24025, \n",
    "                         iter = 10000, \n",
    "                         warmup = 600, \n",
    "                         thin = 1)"
   ]
  },
  {
   "cell_type": "code",
   "execution_count": 62,
   "id": "d3432a91",
   "metadata": {
    "vscode": {
     "languageId": "r"
    }
   },
   "outputs": [
    {
     "data": {
      "text/html": [
       "<style>\n",
       ".dl-inline {width: auto; margin:0; padding: 0}\n",
       ".dl-inline>dt, .dl-inline>dd {float: none; width: auto; display: inline-block}\n",
       ".dl-inline>dt::after {content: \":\\0020\"; padding-right: .5ex}\n",
       ".dl-inline>dt:not(:first-of-type) {padding-left: .5ex}\n",
       "</style><dl class=dl-inline><dt>5%</dt><dd>2.08</dd><dt>10%</dt><dd>4.5</dd><dt>20%</dt><dd>9.91</dd><dt>30%</dt><dd>15.63</dd><dt>40%</dt><dd>22.58</dd><dt>50%</dt><dd>30.89</dd><dt>60%</dt><dd>41.28</dd><dt>70%</dt><dd>55.74</dd><dt>80%</dt><dd>75.81</dd><dt>90%</dt><dd>112.06</dd></dl>\n"
      ],
      "text/latex": [
       "\\begin{description*}\n",
       "\\item[5\\textbackslash{}\\%] 2.08\n",
       "\\item[10\\textbackslash{}\\%] 4.5\n",
       "\\item[20\\textbackslash{}\\%] 9.91\n",
       "\\item[30\\textbackslash{}\\%] 15.63\n",
       "\\item[40\\textbackslash{}\\%] 22.58\n",
       "\\item[50\\textbackslash{}\\%] 30.89\n",
       "\\item[60\\textbackslash{}\\%] 41.28\n",
       "\\item[70\\textbackslash{}\\%] 55.74\n",
       "\\item[80\\textbackslash{}\\%] 75.81\n",
       "\\item[90\\textbackslash{}\\%] 112.06\n",
       "\\end{description*}\n"
      ],
      "text/markdown": [
       "5%\n",
       ":   2.0810%\n",
       ":   4.520%\n",
       ":   9.9130%\n",
       ":   15.6340%\n",
       ":   22.5850%\n",
       ":   30.8960%\n",
       ":   41.2870%\n",
       ":   55.7480%\n",
       ":   75.8190%\n",
       ":   112.06\n",
       "\n"
      ],
      "text/plain": [
       "    5%    10%    20%    30%    40%    50%    60%    70%    80%    90% \n",
       "  2.08   4.50   9.91  15.63  22.58  30.89  41.28  55.74  75.81 112.06 "
      ]
     },
     "metadata": {},
     "output_type": "display_data"
    },
    {
     "data": {
      "text/html": [
       "112.06"
      ],
      "text/latex": [
       "112.06"
      ],
      "text/markdown": [
       "112.06"
      ],
      "text/plain": [
       "[1] 112.06"
      ]
     },
     "metadata": {},
     "output_type": "display_data"
    }
   ],
   "source": [
    "# Extract sample from the prior\n",
    "y<-extract(Exp_stanFit,par=\"y\")$y\n",
    "\n",
    "# Quantiles\n",
    "q.y<-quantile(y,c(0.05,0.1,0.2,0.3,0.4,0.5,0.6,0.7,0.8,0.9))\n",
    "round(q.y,2)\n",
    "\n",
    "# Maximum\n",
    "ymax<-max(q.y)\n",
    "round(ymax,2)\n",
    "\n",
    "# Truncate in order to be able to plot the histogram\n",
    "y.trunc<-y[y<ymax] "
   ]
  },
  {
   "cell_type": "code",
   "execution_count": 63,
   "id": "e45e6b87",
   "metadata": {
    "vscode": {
     "languageId": "r"
    }
   },
   "outputs": [
    {
     "data": {
      "image/png": "[encoded data removed]",
      "text/plain": [
       "Plot with title \"Histogram of Exponential(lambda) random numbers\n",
       "    \n",
       " with the superimposed theoretical pdf\""
      ]
     },
     "metadata": {
      "image/png": {
       "height": 300,
       "width": 360
      }
     },
     "output_type": "display_data"
    }
   ],
   "source": [
    "# Define the theoretical exponential distribution \n",
    "options(repr.plot.width=6,repr.plot.height=5)\n",
    "Theor.pred.pdf<-function(y,a,b){return(ifelse(y>0,a*b^{a}/(y+b)^(a+1),0))}\n",
    "ymax<-max(q.y)\n",
    "u<-seq(0,ymax,length=1000)\n",
    "yu<-Theor.pred.pdf(u,a=prior.a,b=prior.b)\n",
    "\n",
    "# Histogram\n",
    "hist(y.trunc,freq=FALSE,col=\"LightGreen\", main=sprintf(\"Histogram of Exponential(lambda) random numbers\n",
    "    \\n with the superimposed theoretical pdf\"), breaks=c(min(y.trunc),q.y,max(y.trunc)),ylim=c(0,0.040))\n",
    "lines(u,yu,lwd=2.5,col=\"DarkGreen\")"
   ]
  },
  {
   "cell_type": "markdown",
   "id": "upper-radio",
   "metadata": {},
   "source": [
    "<h1 style=\"color:blue\">02 - A more elaborate mixture prior for the spinning coin</h1>"
   ]
  },
  {
   "cell_type": "markdown",
   "id": "disturbed-friendship",
   "metadata": {},
   "source": [
    "(continued from Diaconis experiment)"
   ]
  },
  {
   "cell_type": "markdown",
   "id": "operational-roommate",
   "metadata": {},
   "source": [
    "On reflection, it was decided that tails had come up more often than heads in the past; further some coins seemed likely to be symmetric. \n",
    "\n",
    "Thus, a final approximation to the prior was taken as:\n",
    "\n",
    "$$\n",
    "   0.50\\cdot\\betadist(10,20) + 0.20\\cdot\\betadist(15,15) + 0.30\\cdot\\betadist(20,10).\n",
    "$$\n",
    "\n",
    "Same observed data as in the previous model."
   ]
  },
  {
   "cell_type": "code",
   "execution_count": 64,
   "id": "continental-diesel",
   "metadata": {
    "vscode": {
     "languageId": "r"
    }
   },
   "outputs": [],
   "source": [
    "# Number of trials\n",
    "n<-10\n",
    "# Observed x\n",
    "x.obs<-3"
   ]
  },
  {
   "cell_type": "markdown",
   "id": "fluid-moderator",
   "metadata": {},
   "source": [
    "Perform a complete Bayesian analysis of this model, in close parallel to the first example.\n",
    "\n",
    "(1) Using the theoretical formulas (prior predictive pmf, posterior pdf, posterior predictive pmf)\n",
    "\n",
    "(2) Using independent random numbers (`rbeta()` functions, etc.)\n",
    "\n",
    "(3) JAGS version\n",
    "\n",
    "(4)$ {}^{\\star}$ Stan version. "
   ]
  },
  {
   "cell_type": "markdown",
   "id": "pursuant-martin",
   "metadata": {},
   "source": [
    ">$ (\\star)$ Hint: this one **is difficult** due to intrinsic limitations in Stan. There are several known workarounds; you can try to find one but do not despair if you fail to develop a workable version.\n",
    "\n",
    ">As a matter of fact even a Stan version of the two-components prior mixture in `Mixture.priors.02.ipynb` \n",
    "is rather tricky: Stan does not allow integer parameters thus the JAGS code cannot be translated literally."
   ]
  },
  {
   "cell_type": "markdown",
   "id": "intelligent-triangle",
   "metadata": {},
   "source": [
    "Diaconis and Ylvisaker (1985) compare both mixture conjugate priors with a $ \\operatorname{Unif}(0,1)$ prior with the data above. \n",
    "\n",
    "Comparing the MAP estimators, they observe that in a first approximation, they coincide, but spreads do depend on the prior."
   ]
  },
  {
   "cell_type": "markdown",
   "id": "d1614226-83b4-4724-a7bb-dc324d8365b1",
   "metadata": {},
   "source": [
    "They repeat the computations above with a larger sample. "
   ]
  },
  {
   "cell_type": "code",
   "execution_count": 65,
   "id": "closing-vancouver",
   "metadata": {
    "vscode": {
     "languageId": "r"
    }
   },
   "outputs": [],
   "source": [
    "n1<-50\n",
    "x1.obs<-14"
   ]
  },
  {
   "cell_type": "markdown",
   "id": "9de8949b-1cdd-4ac7-8a8c-8a1c1da310de",
   "metadata": {},
   "source": [
    "Their conclusion is that with small data, prior matters, but with larger samples, a finely tuned choice of prior is less important."
   ]
  },
  {
   "cell_type": "markdown",
   "id": "cc29e3ee",
   "metadata": {},
   "source": [
    "<h2 style=\"color:blue\">Solution</h2> "
   ]
  },
  {
   "cell_type": "markdown",
   "id": "087da657",
   "metadata": {},
   "source": [
    "<h2 style=\"color:blue\">1. Using the theoretical formulas (prior predictive pmf, posterior pdf, posterior predictive pmf)</h2> "
   ]
  },
  {
   "cell_type": "markdown",
   "id": "27e07882",
   "metadata": {},
   "source": [
    "The number of heads that we get in $n$ tosses of a spinning coin (likelihood function) behaves like a Binomial distribution:\n",
    "\n",
    "$$\n",
    "    x\\mskip8mu\\sim\\mskip8mu\\operatorname{B}(n,\\theta),\n",
    "$$\n",
    "\n",
    "where $\\theta$ is given a conjugate prior consisting of a mixture of three Beta distributions:\n",
    "\n",
    "$$\n",
    "   \\theta\\mskip8mu\\sim\\mskip8mu0.50\\cdot\\betadist(10,20) + 0.20\\cdot\\betadist(15,15) + 0.30\\cdot\\betadist(20,10).\n",
    "$$\n",
    "\n",
    "Note that since the conjugate prior of $\\theta$ is in itself a bimodal function, it exhibits two local maxima. Recap that Beta distribution has two positive parameters $\\alpha$ and $\\beta$ that appear as exponents of the random variable and control the shape of the distribution."
   ]
  },
  {
   "cell_type": "markdown",
   "id": "98acad74",
   "metadata": {},
   "source": [
    "First, let's see how this three Beta distributions look separately."
   ]
  },
  {
   "cell_type": "code",
   "execution_count": 66,
   "id": "ab32b6b2",
   "metadata": {
    "vscode": {
     "languageId": "r"
    }
   },
   "outputs": [],
   "source": [
    "# set parameters\n",
    "prior.a1<-10\n",
    "prior.b1<-20\n",
    "prior.a2<-15\n",
    "prior.b2<-15\n",
    "prior.a3<-20\n",
    "prior.b3<-10\n",
    "prior.gamma1<-0.5\n",
    "prior.gamma2<-0.2"
   ]
  },
  {
   "cell_type": "code",
   "execution_count": 67,
   "id": "e574fc68",
   "metadata": {
    "vscode": {
     "languageId": "r"
    }
   },
   "outputs": [
    {
     "data": {
      "image/png": "[encoded data removed]",
      "text/plain": [
       "Plot with title \"Third pdf\""
      ]
     },
     "metadata": {
      "image/png": {
       "height": 300,
       "width": 900
      }
     },
     "output_type": "display_data"
    }
   ],
   "source": [
    "# do the three Beta distribution plots\n",
    "options(repr.plot.width=15,repr.plot.height=5)\n",
    "v<-seq(0,1,length=500)\n",
    "old.par<-par(mfrow=c(1,3))\n",
    "plot(v,dbeta(v,prior.a1,prior.b1),type=\"l\",lwd=3.5,col=\"cyan4\",xlab=\"x\",ylab=\"Density\",main=\"First pdf\")\n",
    "plot(v,dbeta(v,prior.a2,prior.b2),type=\"l\",lwd=3.5,col=\"cyan4\",xlab=\"x\",ylab=\"Density\",main=\"Second pdf\")\n",
    "plot(v,dbeta(v,prior.a3,prior.b3),type=\"l\",lwd=3.5,col=\"cyan4\",xlab=\"x\",ylab=\"Density\",main=\"Third pdf\")\n",
    "par(old.par)"
   ]
  },
  {
   "cell_type": "markdown",
   "id": "a0bb71ea",
   "metadata": {},
   "source": [
    "And the mixture prior for $\\theta$:"
   ]
  },
  {
   "cell_type": "code",
   "execution_count": 68,
   "id": "0a95e5b3",
   "metadata": {
    "vscode": {
     "languageId": "r"
    }
   },
   "outputs": [
    {
     "data": {
      "image/png": "[encoded data removed]",
      "text/plain": [
       "Plot with title \"Mixture prior\""
      ]
     },
     "metadata": {
      "image/png": {
       "height": 420,
       "width": 420
      }
     },
     "output_type": "display_data"
    }
   ],
   "source": [
    "# mixture prior plot\n",
    "mixture.prior.pdf<-function(theta){\n",
    "    return(prior.gamma1*dbeta(theta,prior.a1,prior.b1)+prior.gamma2*dbeta(theta,prior.a2,prior.b2)+(1-(prior.gamma1 + prior.gamma2))*dbeta(theta,prior.a3,prior.b3))\n",
    "    }\n",
    "\n",
    "options(repr.plot.width=7,repr.plot.height=7)\n",
    "v<-seq(0,1,length=500)\n",
    "plot(v,mixture.prior.pdf(v),type=\"l\",lwd=3.5,col=\"cyan4\",xlab=\"x\",ylab=\"Density\",main=\"Mixture prior\")"
   ]
  },
  {
   "cell_type": "markdown",
   "id": "31315467",
   "metadata": {},
   "source": [
    "We'll begin considering the same data as in the previous approach seen in class:"
   ]
  },
  {
   "cell_type": "code",
   "execution_count": 69,
   "id": "4a41d0b2",
   "metadata": {
    "vscode": {
     "languageId": "r"
    }
   },
   "outputs": [],
   "source": [
    "# Number of trials\n",
    "n<-10\n",
    "# Observed x\n",
    "x.obs<-3"
   ]
  },
  {
   "cell_type": "markdown",
   "id": "003607f1",
   "metadata": {},
   "source": [
    "The **prior pdf for $\\theta$ $(h(\\theta))$** is obtained as a mixture of three random variables following a Beta($\\alpha, \\beta$) distribution and its corresponding coefficients: \n",
    "\n",
    "$$\n",
    "\th(\\theta)=\\gamma_1\\cdot h_{1}(\\theta)+ \\gamma_2\\cdot h_{2}(\\theta)+(1-(\\gamma_1 + \\gamma_2))\\cdot h_{3}(\\theta),\n",
    "$$\n",
    "\n",
    "where $h_{1}(\\theta)$, $h_{2}(\\theta)$ and $h_{3}(\\theta)$ are the pdf of this three r.v. and $(\\gamma_1, \\gamma_2, 1-(\\gamma_1, \\gamma_2))$ is the vector of coefficients with $\\gamma_1, \\gamma_2\\in(0,1)$. In our example, the vector of coefficients is (0.50, 0.20, 0.30).\n",
    "\n",
    "The **likelihood** (or conditional pdf), $f(x\\,|\\,\\theta)$, follows a $\\binomdist(n,\\theta)$ distribution:\n",
    "\n",
    "$$\n",
    "        f(x\\,|\\,\\theta)=\\binom{n}{x}\\, \\theta^{x}\\cdot(1-\\theta)^{n-x},\\mskip40mu x=0,1,\\dots,n.\n",
    "$$\n",
    "\n",
    "By assuming that $h_{1}(\\theta)$, $h_{2}(\\theta)$ and $h_{3}(\\theta)$ belong to the conjugate family of the likelihood, we can build the **joint pdf** $(f(x,\\theta))$ as the product of the likelihood and the prior:\n",
    "\n",
    "$$\n",
    "        f(x,\\theta)=f(x\\mid \\theta)\\cdot h(\\theta)=\\gamma_1\\cdot f_{1}(x,\\theta)+ \\gamma_2\\cdot f_{2}(x,\\theta)+(1-(\\gamma_1 + \\gamma_2))\\cdot f_{3}(x,\\theta),\n",
    "$$\n",
    "\n",
    "where $f_{i}(x,\\theta)=f(x\\,|\\,\\theta)\\cdot h_{i}(\\theta)\\,\\,$ for $i=1,2,3$. Note that in our example this $f_{i}(x,\\theta)$ are:\n",
    "\n",
    "$$\n",
    "\\begin{align*}\n",
    "\tf_{1}\\sim\\operatorname{Beta-Binom}(n,\\alpha_{1},\\beta_{1})&=\\operatorname{Beta-Binom}(10,10,20),\\\\\n",
    "\tf_{2}\\sim\\operatorname{Beta-Binom}(n,\\alpha_{2},\\beta_{2})&=\\operatorname{Beta-Binom}(10,15,15),\\\\\n",
    "    f_{3}\\sim\\operatorname{Beta-Binom}(n,\\alpha_{3},\\beta_{3})&=\\operatorname{Beta-Binom}(10,20,10)\n",
    "\\end{align*}\n",
    "$$\n",
    "\n",
    "Now, by definition, the **marginal pdf of $x$** $(f(x))$ is obtained by integrating the previous expression out $\\theta$:\n",
    "\n",
    "$$\n",
    "        \\int f(x,\\theta) \\,d\\theta = \\int f(x\\mid \\theta)\\cdot h(\\theta) \\,d\\theta = \\int \\gamma_1\\cdot f_{1}(x,\\theta)+ \\gamma_2\\cdot f_{2}(x,\\theta)+(1-(\\gamma_1 + \\gamma_2))\\cdot f_{3}(x,\\theta) \\,d\\theta,\n",
    "$$\n",
    "\n",
    "Then, we can express $f(x)$ as:\n",
    "\n",
    "$$\n",
    "\tf(x)=\\gamma_1\\cdot f_{1}(x)+\\gamma_2\\cdot f_{2}(x)+(1-(\\gamma_1 + \\gamma_2))\\cdot f_{3}(x),\n",
    "$$\t\n",
    "\n",
    "where: $f_{i}(x)={\\displaystyle\\int} f(x\\,|\\,\\theta)\\cdot h_{i}(\\theta)\\,d\\theta\\,\\,$ for $i=1,2,3$.\n",
    "\n",
    "Note that the above expression given by $f(x)$ means that the **prior predictive pdf for $x$** ($h(x)$), is a mixture of three partial prior predictive pdf's ($f_{1}$, $f_{2}$ and $f_{3}$) with the same coefficients ($\\gamma_1, \\gamma_2,$ and $1-(\\gamma_1 + \\gamma_2)$) as the **prior pdf for $\\theta$** described at the beginning. Note also that $f_{1}$, $f_{2}$ and $f_{3}$ follow from the general formulas of the conjugate pair. \n",
    "\n",
    "Since we are dealing with discrete r.v., we can plot the **theoretical prior predictive pmf for $x$**:"
   ]
  },
  {
   "cell_type": "code",
   "execution_count": 70,
   "id": "601026ff",
   "metadata": {},
   "outputs": [],
   "source": [
    "#install.packages(\"extraDistr\", dependencies=TRUE, repos= \"https://cloud.r-project.org\")\n",
    "require(extraDistr) # needed for the Beta-binomial predictive prior"
   ]
  },
  {
   "cell_type": "code",
   "execution_count": 76,
   "id": "843d6fd7",
   "metadata": {},
   "outputs": [
    {
     "data": {
      "image/png": "[encoded data removed]",
      "text/plain": [
       "Plot with title \"Theoretical prior predictive pmf for x\""
      ]
     },
     "metadata": {
      "image/png": {
       "height": 420,
       "width": 360
      }
     },
     "output_type": "display_data"
    }
   ],
   "source": [
    "# define f1, f2, f3\n",
    "f1<-function(x){dbbinom(x,size=n,alpha=prior.a1,beta=prior.b1)}\n",
    "f2<-function(x){dbbinom(x,size=n,alpha=prior.a2,beta=prior.b2)}\n",
    "f3<-function(x){dbbinom(x,size=n,alpha=prior.a3,beta=prior.b3)}\n",
    "\n",
    "# theoretical prior predictive pmf\n",
    "Theor.prior.predictive.pmf<-function(x){return(prior.gamma1*f1(x)+\n",
    "                                               prior.gamma2*f2(x)+\n",
    "                                               (1-(prior.gamma1+prior.gamma2))*f3(x))\n",
    "}\n",
    "\n",
    "# plot\n",
    "options(repr.plot.width=6,repr.plot.height=7)\n",
    "w<-0:n\n",
    "matplot(x=w,y=Theor.prior.predictive.pmf(w),type=\"h\", lwd=7, lty=1, \n",
    "        col=c(\"Orange\"),xlab=\"x\",ylab=\"Rel. Freqs.\",\n",
    "        main=\"Theoretical prior predictive pmf for x\")"
   ]
  },
  {
   "cell_type": "markdown",
   "id": "71b8cd91",
   "metadata": {},
   "source": [
    "At this point, given the observed data $x=3$, we are able to deduce the **posterior pdf for $\\theta$**, $h(\\theta\\,|\\,x)$. By applying the _Bayes' rule_, we get:\n",
    "\n",
    "$$\n",
    "    h(\\theta\\,|\\,x)=\\dfrac{f(x\\,|\\,\\theta)\\cdot h(\\theta)}{f(x)}\n",
    "        =\\dfrac{f(x,\\theta)}{f(x)}\n",
    "        =\\dfrac{\\gamma_1\\cdot f_{1}(x,\\theta)+ \\gamma_2\\cdot f_{2}(x,\\theta)+(1-(\\gamma_1 + \\gamma_2))\\cdot f_{3}(x,\\theta)}\n",
    "            {\\gamma_1\\cdot f_{1}(x)+\\gamma_2\\cdot f_{2}(x)+(1-(\\gamma_1 + \\gamma_2))\\cdot f_{3}(x)}.\n",
    "$$\n",
    "\n",
    "Since we can write the named _partial posterior pdf's_ as $h_{i}(\\theta\\,|\\,x)=\\dfrac{f_{i}(x,\\theta)}{f_{i}(x)}\\,\\,$ for $i=1,2,3$, the resultant expression for $h(\\theta\\,|\\,x)$ can be reformulated as a mixture of _posterior mixture weights_ ($\\widehat{\\gamma}_1(x), \\widehat{\\gamma}_2(x),$ and $1 - (\\widehat{\\gamma}_1(x)+ \\widehat{\\gamma}_2(x))$):\n",
    "\n",
    "$$\n",
    "\th(\\theta\\,|\\,x)=\\widehat{\\gamma}_1(x)\\cdot h_{1}(\\theta\\,|\\,x) +\\widehat{\\gamma}_2(x)\\cdot h_{2}(\\theta\\,|\\,x)\n",
    "\t\t+(1-(\\widehat{\\gamma}_1(x)+ \\widehat{\\gamma}_2(x)))\\cdot h_{3}(\\theta\\,|\\,x),\n",
    "$$\n",
    "\n",
    "where \n",
    "\n",
    "$$\n",
    "\t\\widehat{\\gamma}_i(x)=\\dfrac{\\gamma\\cdot f_{i}(x)}{\\gamma_1\\cdot f_{1}(x)+\\gamma_2\\cdot f_{2}(x)+(1-(\\gamma_1 + \\gamma_2))\\cdot f_{3}(x)} \\mskip40mu i=1,2.\n",
    "$$\n",
    "\n",
    "The expressions of $h(\\theta\\,|\\,x)$ and $h(\\theta)$ may look similar due to its linear structure. However, the main difference is that $h(\\theta\\,|\\,x)$ depends on the observed data $x$ and $h(\\theta)$ does not. Hence, the coefficients (or weights) and the corresponding partial functions that form both expressions are obviously not the same.\n",
    "\n",
    "Let's now compute these posterior weights $\\widehat{\\gamma}_i(x)$ given the observation $x=3$."
   ]
  },
  {
   "cell_type": "code",
   "execution_count": 84,
   "id": "f2293163",
   "metadata": {},
   "outputs": [
    {
     "name": "stdout",
     "output_type": "stream",
     "text": [
      "[1] 0.7742354\n",
      "[1] 0.1692117\n",
      "[1] 0.05655285\n"
     ]
    }
   ],
   "source": [
    "# let's consider also \"posterior gamma3\" to reduce notation\n",
    "posterior.gamma1<-prior.gamma1*f1(x.obs)/(prior.gamma1*f1(x.obs)+prior.gamma2*f2(x.obs)+(1-(prior.gamma1+prior.gamma2))*f3(x.obs))\n",
    "posterior.gamma2<-prior.gamma2*f2(x.obs)/(prior.gamma1*f1(x.obs)+prior.gamma2*f2(x.obs)+(1-(prior.gamma1+prior.gamma2))*f3(x.obs))\n",
    "posterior.gamma3<-(1-(prior.gamma1+prior.gamma2))*f3(x.obs)/(prior.gamma1*f1(x.obs)+prior.gamma2*f2(x.obs)+(1-(prior.gamma1+prior.gamma2))*f3(x.obs))\n",
    "\n",
    "print(posterior.gamma1)\n",
    "print(posterior.gamma2)\n",
    "print(posterior.gamma3)"
   ]
  },
  {
   "cell_type": "markdown",
   "id": "83053ceb",
   "metadata": {},
   "source": [
    "Also , the corresponding partial posterior $\\theta$ pdf's from the conjugate pair formulas are:\n",
    "\n",
    "$$\n",
    "\\begin{array}{l}\n",
    "\th_{1}\\sim\\operatorname{Beta}(\\alpha_{1}+x,\\beta_{1}+n-x)=\\operatorname{Beta}(10+3,20+10-3)\n",
    "        =\\operatorname{Beta}(13,27),\\\\\n",
    "\th_{2}\\sim\\operatorname{Beta}(\\alpha_{2}+x,\\beta_{2}+n-x)=\\operatorname{Beta}(15+3,15+10-3)\n",
    "        =\\operatorname{Beta}(18,22),\\\\\n",
    "    h_{3}\\sim\\operatorname{Beta}(\\alpha_{3}+x,\\beta_{3}+n-x)=\\operatorname{Beta}(20+3,10+10-3)\n",
    "        =\\operatorname{Beta}(23,17).    \n",
    "\\end{array}\n",
    "$$\n",
    "\n",
    "Thus, the **theoretical posterior pdf for $\\theta$** is:\n",
    "\n",
    "$$\n",
    "    0.7742\\,\\operatorname{Beta}(13,27)+0.1692\\,\\operatorname{Beta}(18,22)+0.0566\\,\\operatorname{Beta}(23,17),\n",
    "$$\n",
    "\n",
    "which looks like:"
   ]
  },
  {
   "cell_type": "code",
   "execution_count": 87,
   "id": "2d05ac99",
   "metadata": {},
   "outputs": [
    {
     "data": {
      "image/png": "[encoded data removed]",
      "text/plain": [
       "Plot with title \"Mixture posterior\""
      ]
     },
     "metadata": {
      "image/png": {
       "height": 420,
       "width": 360
      }
     },
     "output_type": "display_data"
    }
   ],
   "source": [
    "# posterior parameters for beta distributions\n",
    "posterior.a1<-prior.a1+x.obs\n",
    "posterior.b1<-prior.b1+n-x.obs\n",
    "posterior.a2<-prior.a2+x.obs\n",
    "posterior.b2<-prior.b2+n-x.obs\n",
    "posterior.a3<-prior.a3+x.obs\n",
    "posterior.b3<-prior.b3+n-x.obs\n",
    "\n",
    "# thoretical posterior pdf \n",
    "mixture.posterior.pdf<-function(x){\n",
    "    return(posterior.gamma1*dbeta(x,posterior.a1,posterior.b1)+\n",
    "           posterior.gamma2*dbeta(x,posterior.a2,posterior.b2)+\n",
    "           posterior.gamma3*dbeta(x,posterior.a3,posterior.b3))\n",
    "}\n",
    "\n",
    "# Plot \n",
    "options(repr.plot.width=6,repr.plot.height=7)\n",
    "v<-seq(0,1,length=500)\n",
    "plot(v,mixture.posterior.pdf(v),\"l\",lwd=2.5,col=\"Orange\",xlab=\"\",ylab=\"\",main=\"Mixture posterior\")"
   ]
  },
  {
   "cell_type": "markdown",
   "id": "831bbecd",
   "metadata": {},
   "source": [
    "Finally, the **theoretical posterior predictive pmf of x** is computed the same way as the prior one but updating it with the posterior parameters. "
   ]
  },
  {
   "cell_type": "code",
   "execution_count": 88,
   "id": "a96dd123",
   "metadata": {},
   "outputs": [
    {
     "data": {
      "image/png": "[encoded data removed]",
      "text/plain": [
       "Plot with title \"Theoretical posterior predictive pmf for x\""
      ]
     },
     "metadata": {
      "image/png": {
       "height": 420,
       "width": 360
      }
     },
     "output_type": "display_data"
    }
   ],
   "source": [
    "# define f1, f2, f3\n",
    "posterior.f1<-function(x){dbbinom(x,size=n,alpha=posterior.a1,beta=posterior.b1)}\n",
    "posterior.f2<-function(x){dbbinom(x,size=n,alpha=posterior.a2,beta=posterior.b2)}\n",
    "posterior.f3<-function(x){dbbinom(x,size=n,alpha=posterior.a3,beta=posterior.b3)}\n",
    "\n",
    "# theoretical posterior predictive pmf\n",
    "Theor.posterior.predictive.pmf<-function(x){\n",
    "    return(posterior.gamma1*posterior.f1(x)+\n",
    "           posterior.gamma2*posterior.f2(x)+\n",
    "           posterior.gamma3*posterior.f3(x))\n",
    "}\n",
    "\n",
    "# plot\n",
    "options(repr.plot.width=6,repr.plot.height=7)\n",
    "w<-0:n\n",
    "matplot(x=w,y=Theor.posterior.predictive.pmf(w),type=\"h\", lwd=7, lty=1, \n",
    "        col=c(\"Orange\"),xlab=\"x\",ylab=\"Rel. Freqs.\",\n",
    "        main=\"Theoretical posterior predictive pmf for x\")"
   ]
  },
  {
   "cell_type": "markdown",
   "id": "85e72719",
   "metadata": {},
   "source": [
    "<h2 style=\"color:blue\">2. Using independent random numbers (rbeta() functions, etc.)</h2> "
   ]
  },
  {
   "cell_type": "markdown",
   "id": "245738b6",
   "metadata": {},
   "source": [
    "R programming language allows us to generate random distributed numbers with a set of built-in functions, such as ``runif(), rnorm(), rbinom()``, etc. Therefore, thanks to them we can reformulate our $\\theta$ parameter distribution by means of combining three ``rbeta(n, a, b)`` functions, where parameters $a$ and $b$ correspond to those giving shape to the distribution of each beta $\\betadist(\\alpha, \\beta)$, and $n$ is just the number of beta random numbers to generate, i.e., the size of the sample."
   ]
  },
  {
   "cell_type": "markdown",
   "id": "637f0c35",
   "metadata": {},
   "source": [
    "We stablish the nº of experiments to perform:"
   ]
  },
  {
   "cell_type": "code",
   "execution_count": null,
   "id": "d6a28e5f",
   "metadata": {
    "vscode": {
     "languageId": "r"
    }
   },
   "outputs": [],
   "source": [
    "N<-20000"
   ]
  },
  {
   "cell_type": "markdown",
   "id": "b7d4a280",
   "metadata": {},
   "source": [
    "Next we generate a sample array in order to indicate from which beta distribution must we take the samples, where the probability of first beta is $0.5$, the probability of second distribution is $0.2$ and finally $0.3$ for the third beta distribution, as stated above in the definition of the mixture of betas distribution:"
   ]
  },
  {
   "cell_type": "code",
   "execution_count": null,
   "id": "8bba39c7",
   "metadata": {
    "vscode": {
     "languageId": "r"
    }
   },
   "outputs": [],
   "source": [
    "beta_sampling <- sample(c(1,2,3), #vector with elements from which to choose (indexes of our beta distributions)\n",
    "                        replace = TRUE, #sampling with replacement\n",
    "                        size = N, #sample size\n",
    "                        prob=c(0.5, 0.2, 0.3) #vector of probability weights for obtaining the elements of the vector being sampled\n",
    "                        )"
   ]
  },
  {
   "cell_type": "markdown",
   "id": "05f18b54",
   "metadata": {},
   "source": [
    "Now we can reproduce a sample $\\theta$'s array by random sampling from our three beta distributions according to the previously defined vector:"
   ]
  },
  {
   "cell_type": "code",
   "execution_count": null,
   "id": "0dde7ac7",
   "metadata": {
    "vscode": {
     "languageId": "r"
    }
   },
   "outputs": [],
   "source": [
    "\n",
    "theta <- c(rbeta(N, prior.a1, prior.b1)[beta_sampling == 1], \n",
    "           rbeta(N, prior.a2, prior.b2)[beta_sampling == 2], \n",
    "           rbeta(N, prior.a3, prior.b3)[beta_sampling == 3])"
   ]
  },
  {
   "cell_type": "markdown",
   "id": "4db16119",
   "metadata": {},
   "source": [
    "And therefore the histogram of our simulated prior will be:"
   ]
  },
  {
   "cell_type": "code",
   "execution_count": null,
   "id": "2c988161",
   "metadata": {
    "vscode": {
     "languageId": "r"
    }
   },
   "outputs": [],
   "source": [
    "hist(theta, breaks=100, main=\"Simulated mixture prior for theta\")"
   ]
  },
  {
   "cell_type": "markdown",
   "id": "582b609e",
   "metadata": {},
   "source": [
    "That is in fact consistent with our previous mixture prior plot. "
   ]
  },
  {
   "cell_type": "code",
   "execution_count": null,
   "id": "2dd1d05d",
   "metadata": {
    "vscode": {
     "languageId": "r"
    }
   },
   "outputs": [],
   "source": [
    "plot(v,mixture.prior.pdf(v),type=\"l\",lwd=3.5,col=\"cyan4\",xlab=\"x\",ylab=\"Density\",main=\"Mixture prior\")"
   ]
  },
  {
   "cell_type": "markdown",
   "id": "b30cdf86",
   "metadata": {},
   "source": [
    "Once we have our $\\theta$ sample we are able to reproduce the binomial behaviour of the flipping coin by means of the rbinom(n, size, prob) function, whichs models the number of heads in N experiments (n parameter); the size parameter is the number of distinct attempts, and prob is the probability of success (i.e., of head) on each trial, which in our case comes given by the previously extracted theta sampling vector."
   ]
  },
  {
   "cell_type": "code",
   "execution_count": null,
   "id": "4d8d7635",
   "metadata": {
    "vscode": {
     "languageId": "r"
    }
   },
   "outputs": [],
   "source": [
    "heads <- rbinom(n = N, size = n , prob = theta)"
   ]
  },
  {
   "cell_type": "markdown",
   "id": "0fc0252a",
   "metadata": {},
   "source": [
    "The relative frequencies obtained for each possible number of heads in our 10 trials are then"
   ]
  },
  {
   "cell_type": "code",
   "execution_count": null,
   "id": "7ea08589",
   "metadata": {
    "vscode": {
     "languageId": "r"
    }
   },
   "outputs": [],
   "source": [
    "pmf <- table(heads)/sum(table(heads))\n",
    "pmf"
   ]
  },
  {
   "cell_type": "markdown",
   "id": "0c7e0b27",
   "metadata": {},
   "source": [
    "And therefore we can represent its prior predictive probability mass function as "
   ]
  },
  {
   "cell_type": "code",
   "execution_count": null,
   "id": "e76942be",
   "metadata": {
    "vscode": {
     "languageId": "r"
    }
   },
   "outputs": [],
   "source": [
    "matplot(x=names(pmf),y=pmf, type ='h', lwd=10, \n",
    "        xlab=\"Heads\",ylab=\"Relative Frequencies\", main=\"Simulated prior predictive pmf\")\n"
   ]
  },
  {
   "cell_type": "markdown",
   "id": "23a1143b",
   "metadata": {},
   "source": [
    "So the probability of obtaining x=3 heads would be:"
   ]
  },
  {
   "cell_type": "code",
   "execution_count": null,
   "id": "c3cda8c1",
   "metadata": {
    "vscode": {
     "languageId": "r"
    }
   },
   "outputs": [],
   "source": [
    "pmf[x.obs + 1]"
   ]
  },
  {
   "cell_type": "markdown",
   "id": "e1339803",
   "metadata": {},
   "source": [
    "Therefore we can seletect those thetas that produce x=3, i.e.,"
   ]
  },
  {
   "cell_type": "code",
   "execution_count": null,
   "id": "03a8eee9",
   "metadata": {
    "vscode": {
     "languageId": "r"
    }
   },
   "outputs": [],
   "source": [
    "t_3heads <- theta[heads == 3]"
   ]
  },
  {
   "cell_type": "markdown",
   "id": "152f319b",
   "metadata": {},
   "source": [
    "Whose histogram would be:"
   ]
  },
  {
   "cell_type": "code",
   "execution_count": null,
   "id": "db8720dd",
   "metadata": {
    "vscode": {
     "languageId": "r"
    }
   },
   "outputs": [],
   "source": [
    "hist(t_3heads, breaks=30)"
   ]
  },
  {
   "cell_type": "markdown",
   "id": "a388f886",
   "metadata": {},
   "source": [
    "Now we can simulate the partial posteriors probability density function for each of the three beta distributions modeling the behaviour of the theta parameter, considering x=3:"
   ]
  },
  {
   "cell_type": "code",
   "execution_count": null,
   "id": "a7c51820",
   "metadata": {
    "vscode": {
     "languageId": "r"
    }
   },
   "outputs": [],
   "source": [
    "posterior.a1<-prior.a1+x.obs\n",
    "posterior.b1<-prior.b1+n-x.obs\n",
    "posterior.a2<-prior.a2+x.obs\n",
    "posterior.b2<-prior.b2+n-x.obs\n",
    "posterior.a3<-prior.a3+x.obs\n",
    "posterior.b3<-prior.b3+n-x.obs"
   ]
  },
  {
   "cell_type": "code",
   "execution_count": null,
   "id": "476fcaa9",
   "metadata": {
    "vscode": {
     "languageId": "r"
    }
   },
   "outputs": [],
   "source": [
    "sprintf(\"Posterior parameters for the first component: (%2.0d,%2.0d)\",posterior.a1,posterior.b1)\n",
    "sprintf(\"Posterior parameters for the second component: (%2.0d,%2.0d)\",posterior.a2,posterior.b2)\n",
    "sprintf(\"Posterior parameters for the third component: (%2.0d,%2.0d)\",posterior.a3,posterior.b3)"
   ]
  },
  {
   "cell_type": "markdown",
   "id": "cc3d7657",
   "metadata": {},
   "source": [
    "And following the same reasoning as above, we can obtain the simulated posterior for $\\theta$:"
   ]
  },
  {
   "cell_type": "code",
   "execution_count": null,
   "id": "fa60510f",
   "metadata": {
    "vscode": {
     "languageId": "r"
    }
   },
   "outputs": [],
   "source": [
    "theta.pos <- c(rbeta(N, posterior.a1, posterior.b1)[beta_sampling == 1], \n",
    "               rbeta(N, posterior.a2, posterior.b2)[beta_sampling == 2], \n",
    "               rbeta(N, posterior.a3, posterior.b3)[beta_sampling == 3])"
   ]
  },
  {
   "cell_type": "code",
   "execution_count": null,
   "id": "8f1d7c82",
   "metadata": {
    "vscode": {
     "languageId": "r"
    }
   },
   "outputs": [],
   "source": [
    "hist(theta.pos, breaks=100, main=\"Simulated posterior for theta\")"
   ]
  },
  {
   "cell_type": "markdown",
   "id": "63398d29",
   "metadata": {},
   "source": [
    "And therefore the simulated posterior of the experiment would be:"
   ]
  },
  {
   "cell_type": "code",
   "execution_count": null,
   "id": "58dc0229",
   "metadata": {
    "vscode": {
     "languageId": "r"
    }
   },
   "outputs": [],
   "source": [
    "heads <- rbinom(n = N, size = n , prob = theta.pos)\n",
    "\n",
    "pmf <- table(heads)/sum(table(heads))\n",
    "\n",
    "matplot(x=names(pmf),y=pmf, type ='h', lwd=10,\n",
    "        xlab=\"Heads\",ylab=\"Relative Frequencies\", main=\"Simulated Posterior Predictive pmf\")\n"
   ]
  },
  {
   "cell_type": "markdown",
   "id": "a6168b0e",
   "metadata": {},
   "source": [
    "<h2 style=\"color:blue\">3. JAGS version</h2> "
   ]
  },
  {
   "cell_type": "markdown",
   "id": "ad60469e",
   "metadata": {},
   "source": [
    "First we load the packages needed to interact with JAGS."
   ]
  },
  {
   "cell_type": "code",
   "execution_count": null,
   "id": "eef03035",
   "metadata": {
    "vscode": {
     "languageId": "r"
    }
   },
   "outputs": [],
   "source": [
    "require(R2jags)"
   ]
  },
  {
   "cell_type": "markdown",
   "id": "e1f43b9a",
   "metadata": {},
   "source": [
    "Secondly, we define the parameters that we'll use in our JAGS model, defined below. JAGS takes as input a Bayesian model description — prior plus likelihood — and data and returns an MCMC sample from the posterior distribution. (https://bookdown.org/kevin_davisross/bayesian-reasoning-and-methods/introduction-to-jags.html) The jags function takes data and starting values as input. It automatically writes a JAGS script, calls the model, and saves the simulations for easy access in R. (https://rdrr.io/cran/R2jags/man/jags.html)"
   ]
  },
  {
   "cell_type": "code",
   "execution_count": null,
   "id": "5fc9423a",
   "metadata": {
    "vscode": {
     "languageId": "r"
    }
   },
   "outputs": [],
   "source": [
    "# Parameters\n",
    "prior.a1<-10\n",
    "prior.b1<-20\n",
    "prior.a2<-15\n",
    "prior.b2<-15\n",
    "prior.a3<-20\n",
    "prior.b3<-10\n",
    "prior.gamma1<-0.5\n",
    "prior.gamma2<-0.2\n",
    "\n",
    "# Number of trials\n",
    "n<-10\n",
    "# Observed x\n",
    "x.obs<-3\n",
    "\n",
    "# list\n",
    "Mix.2.3.dat<-list(a1=prior.a1,b1=prior.b1,\n",
    "                 a2=prior.a2,b2=prior.b2,\n",
    "                 a3=prior.a3,b3=prior.b3,\n",
    "                 gamma1=prior.gamma1,\n",
    "                 gamma2=prior.gamma2,\n",
    "                 n=n,x=x.obs)"
   ]
  },
  {
   "cell_type": "markdown",
   "id": "157af1a7",
   "metadata": {},
   "source": [
    "Then, we are ready to build the JAGS model. We'll also store it in an external file ``Mix.2.3.jag``."
   ]
  },
  {
   "cell_type": "code",
   "execution_count": null,
   "id": "6ca85c23",
   "metadata": {
    "vscode": {
     "languageId": "r"
    }
   },
   "outputs": [],
   "source": [
    "cat(\n",
    "\"model\n",
    "    {\n",
    "    x~dbin(p,n)             # Binomial likelihood\n",
    "    \n",
    "    p<-theta[r]             # Prior (mixture of three beta r.v defined below)\n",
    "\n",
    "    r~dcat(g[])             # Categorical distribution of a 3-vector g[]\n",
    "\n",
    "    theta[1]~dbeta(a1,b1)   # The three beta r.v\n",
    "    theta[2]~dbeta(a2,b2)\n",
    "    theta[3]~dbeta(a3,b3)\n",
    "\n",
    "    g[1]<-gamma1            # Definition of g[] containing the mixed probabilities\n",
    "    g[2]<-gamma2\n",
    "    g[3]<-1-(gamma1 + gamma2)\n",
    "    }\"\n",
    "    ,file=\"Mix.2.3.jag\")    # Saving model"
   ]
  },
  {
   "cell_type": "markdown",
   "id": "ea5b4a84",
   "metadata": {},
   "source": [
    "We next compile our JAGS model. The interface function ``jags()`` has several parameters. For example, the default value n.thin=50 it means we are keeping one term in 50 from each sequence and throwing out the other 49. We keep the default number of Markov chains to generate (3) https://cran.r-project.org/web/packages/R2jags/R2jags.pdf. "
   ]
  },
  {
   "cell_type": "code",
   "execution_count": null,
   "id": "ee9ad279",
   "metadata": {
    "vscode": {
     "languageId": "r"
    }
   },
   "outputs": [],
   "source": [
    "Mix.2.3.m1<-jags(data=Mix.2.3.dat, n.chains=3,n.iter=5000,n.burnin=500, \n",
    "        parameters.to.save=c(\"theta\",\"p\"), model.file=\"Mix.2.3.jag\")"
   ]
  },
  {
   "cell_type": "markdown",
   "id": "a5017515",
   "metadata": {},
   "source": [
    "Here we generate a summary of our simulated samples"
   ]
  },
  {
   "cell_type": "code",
   "execution_count": null,
   "id": "3b01d298",
   "metadata": {
    "vscode": {
     "languageId": "r"
    }
   },
   "outputs": [],
   "source": [
    "print(Mix.2.3.m1)"
   ]
  },
  {
   "cell_type": "markdown",
   "id": "6241681d",
   "metadata": {},
   "source": [
    "We can do a Traceplot to assess stationarity of the chains (https://rdrr.io/cran/R2jags/man/traceplot.html, https://mc-stan.org/rstan/reference/stanfit-method-traceplot.html). It displays a plot of iterations vs. sampled values for each variable in the chain, with a separate plot per variable."
   ]
  },
  {
   "cell_type": "code",
   "execution_count": null,
   "id": "d52b2e78",
   "metadata": {
    "vscode": {
     "languageId": "r"
    }
   },
   "outputs": [],
   "source": [
    "options(repr.plot.width=10,repr.plot.height=5)\n",
    "traceplot(Mix.2.3.m1)"
   ]
  },
  {
   "cell_type": "markdown",
   "id": "533c3e83",
   "metadata": {},
   "source": [
    "The following density plot shows an estimation of the posterior $\\theta$ distribution from the sample generated by JAGS."
   ]
  },
  {
   "cell_type": "code",
   "execution_count": null,
   "id": "55277c87",
   "metadata": {
    "vscode": {
     "languageId": "r"
    }
   },
   "outputs": [],
   "source": [
    "# Generate the sample\n",
    "p.sample<-Mix.2.3.m1$BUGSoutput$sims.list$p\n",
    "\n",
    "# Do the density plot\n",
    "p.sample.density<-density(p.sample)\n",
    "options(repr.plot.width=7,repr.plot.height=7)\n",
    "plot(p.sample.density,lwd=2.5,col=\"blue\",main=expression(paste(\"Estimated posterior pdf of \", theta)),cex.main=1.6)"
   ]
  },
  {
   "cell_type": "markdown",
   "id": "ab61db9f",
   "metadata": {
    "vscode": {
     "languageId": "r"
    }
   },
   "source": [
    "Now let's compute the posterior expectation and variance."
   ]
  },
  {
   "cell_type": "code",
   "execution_count": null,
   "id": "720f7903",
   "metadata": {
    "vscode": {
     "languageId": "r"
    }
   },
   "outputs": [],
   "source": [
    "Post.Expectation<-mean(p.sample)\n",
    "Post.Variance<-var(p.sample)\n",
    "\n",
    "cat(sprintf(\"\\nPosterior expectation = %6.3f.\", round(Post.Expectation,4)))\n",
    "cat(sprintf(\"\\nPosterior variance    = %6.3f.\", round(Post.Variance,4)))"
   ]
  },
  {
   "cell_type": "markdown",
   "id": "c021df87",
   "metadata": {},
   "source": [
    "Finally, let's compute the Maximum A Posteriori (MAP) estimate of  𝜃 ."
   ]
  },
  {
   "cell_type": "code",
   "execution_count": null,
   "id": "e408e282",
   "metadata": {
    "vscode": {
     "languageId": "r"
    }
   },
   "outputs": [],
   "source": [
    "Theta.MAP<-p.sample.density$x[which.max(p.sample.density$y)]\n",
    "cat(sprintf(\"\\nMAP estimate = %6.3f\", round(Theta.MAP,4)))"
   ]
  },
  {
   "cell_type": "markdown",
   "id": "4e94c515",
   "metadata": {},
   "source": [
    "<h2 style=\"color:blue\">4. Stan version</h2> "
   ]
  },
  {
   "cell_type": "markdown",
   "id": "ea5b7968",
   "metadata": {},
   "source": [
    "Stan is unable to simulate discrete parameters as we have in our example ($\\gamma_{1}, \\gamma_{2}, \\gamma_{3}$). One possible workaround is to generate on the spot the unnamed index selecting which of three components in the mixture is chosen, via an uniform distribution $u\\sim\\unifdist(0,1)$. To do so, we divide this interval $[0,1]$ in three subintervals $[0, \\gamma_{1}]$, $[\\gamma_{1}, \\gamma_{1} + \\gamma_{2}]$ and $[\\gamma_{1} + \\gamma_{2}, 1]$, and build a three-dimensional vector $\\gamma$ by evaluating in which subinterval does the uniform distribution fall. Therefore we finally obtain our discrete parameters $\\gamma_{1}, \\gamma_{2}, \\gamma_{3}$, thanks to the uniformity of the chosen distribution."
   ]
  },
  {
   "cell_type": "code",
   "execution_count": null,
   "id": "90ee50d2",
   "metadata": {
    "vscode": {
     "languageId": "r"
    }
   },
   "outputs": [],
   "source": [
    "modelString = \"\n",
    "    data{\n",
    "        int<lower=0> n ;\n",
    "        int<lower=0> x ; \n",
    "        real<lower=0> a1 ;\n",
    "        real<lower=0> b1 ;\n",
    "        real<lower=0> a2 ;\n",
    "        real<lower=0> b2 ;\n",
    "        real<lower=0> a3 ;\n",
    "        real<lower=0> b3 ;\n",
    "        real<lower=0,upper=1>  gamma1 ;\n",
    "        real<lower=0,upper=1 - gamma1>  gamma2 ;\n",
    "        }\n",
    "    parameters{\n",
    "        real<lower=0,upper=1>  u ;\n",
    "        vector<lower=0,upper=1>[3] gamma ;\n",
    "        }\n",
    "    transformed parameters{                         \n",
    "        real<lower=0,upper=1> theta ;                   \n",
    "                                                    // Here the trick:\n",
    "                                                    // Generate on the spot the unnamed index selecting \n",
    "                                                    // which of the 3 components in the mixture is chosen\n",
    "\n",
    "        theta=gamma[max(max(u<gamma1?1:0, u<(gamma1+gamma2) && u>gamma1?2:0), u>(gamma1+gamma2)?3:0)] ;\n",
    "        }\n",
    "    model{\n",
    "        x ~ binomial(n,theta) ;\n",
    "        gamma[1]~beta(a1,b1) ;\n",
    "        gamma[2]~beta(a2,b2) ;\n",
    "        gamma[3]~beta(a3,b3) ;\n",
    "        u ~ uniform(0,1) ; \n",
    "        }\n",
    "    generated quantities{                           // Sampling from the posterior theta\n",
    "        int<lower=0, upper=10> y ;\n",
    "        y = binomial_rng(n, theta) ;\n",
    "}\n",
    "\n",
    "\""
   ]
  },
  {
   "cell_type": "code",
   "execution_count": null,
   "id": "a7be9a3b",
   "metadata": {
    "vscode": {
     "languageId": "r"
    }
   },
   "outputs": [],
   "source": [
    "# Translate model to C++ and compile to DSO:\n",
    "stanDso <- stan_model( model_code=modelString ) \n",
    "Mix.01.Standat<-list(a1=prior.a1,b1=prior.b1,a2=prior.a2,b2=prior.b2,a3=prior.a3,b3=prior.b3,gamma1=prior.gamma1, gamma2=prior.gamma2,n=n,x=x.obs)"
   ]
  },
  {
   "cell_type": "code",
   "execution_count": null,
   "id": "448e941c",
   "metadata": {
    "vscode": {
     "languageId": "r"
    }
   },
   "outputs": [],
   "source": [
    "# Generate posterior sample:\n",
    "stanFit <- sampling( object=stanDso, data = Mix.01.Standat, chains = 3, iter = 10000, warmup = 200, thin = 1)"
   ]
  },
  {
   "cell_type": "markdown",
   "id": "d68921e3",
   "metadata": {},
   "source": [
    "Here we have a summary of our posterior sample:"
   ]
  },
  {
   "cell_type": "code",
   "execution_count": null,
   "id": "89f1b6dc",
   "metadata": {
    "vscode": {
     "languageId": "r"
    }
   },
   "outputs": [],
   "source": [
    "S<-summary(stanFit)\n",
    "round(S$summary,5)"
   ]
  },
  {
   "cell_type": "markdown",
   "id": "f38b869f",
   "metadata": {},
   "source": [
    "And we can plot the histogram of our simulated posterior of the $\\theta$ parameter:"
   ]
  },
  {
   "cell_type": "code",
   "execution_count": null,
   "id": "743a64c5",
   "metadata": {
    "vscode": {
     "languageId": "r"
    }
   },
   "outputs": [],
   "source": [
    "#Extract theta parameter of the binomial distribution:\n",
    "theta <- unlist(extract(stanFit, 'theta'))\n",
    "\n",
    "#Histogram of the simulated distribution via Stan:\n",
    "hist(theta, freq=FALSE, main='Posterior of theta')"
   ]
  },
  {
   "cell_type": "markdown",
   "id": "3640b356",
   "metadata": {},
   "source": [
    "And finally the simulated prosterior predictive probability mass function of our mixture distribution:"
   ]
  },
  {
   "cell_type": "code",
   "execution_count": null,
   "id": "3d8357a5",
   "metadata": {
    "vscode": {
     "languageId": "r"
    }
   },
   "outputs": [],
   "source": [
    "y <- unlist(extract(stanFit, 'y'))\n",
    "\n",
    "#Calculate as before counts and frequencies of the simulated distribution:\n",
    "pmf.y <- table(y)/N\n",
    "\n",
    "matplot(pmf.y,type=\"h\",lwd=10,xlab=\"x\",ylab=\"Relative Freqs.\",\n",
    "        main=\"Simulated Posterior Predictive pmf\")"
   ]
  },
  {
   "cell_type": "markdown",
   "id": "de836700",
   "metadata": {},
   "source": [
    "<h2 style=\"color:blue\">Bibliography</h2> "
   ]
  },
  {
   "cell_type": "markdown",
   "id": "a47d160d",
   "metadata": {},
   "source": [
    "http://www.scielo.org.co/pdf/rce/v36n2/v36n2a09.pdf\n",
    "\n",
    "https://news.stanford.edu/pr/2004/diaconis-69.html\n",
    "\n",
    "\"Dynamical Bias in the Coin Toss\"\n",
    "\n",
    "https://chrispiech.github.io/probabilityForComputerScientists/en/part4/beta/"
   ]
  }
 ],
 "metadata": {
  "kernelspec": {
   "display_name": "R",
   "language": "R",
   "name": "ir"
  },
  "language_info": {
   "codemirror_mode": "r",
   "file_extension": ".r",
   "mimetype": "text/x-r-source",
   "name": "R",
   "pygments_lexer": "r",
   "version": "4.2.0"
  }
 },
 "nbformat": 4,
 "nbformat_minor": 5
}
